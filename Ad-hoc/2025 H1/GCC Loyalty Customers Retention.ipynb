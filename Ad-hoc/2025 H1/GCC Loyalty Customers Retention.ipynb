{
 "cells": [
  {
   "cell_type": "markdown",
   "metadata": {
    "application/vnd.databricks.v1+cell": {
     "cellMetadata": {
      "byteLimit": 2048000,
      "rowLimit": 10000
     },
     "inputWidgets": {},
     "nuid": "3403655f-5e0a-4c3d-aff3-b495abaea191",
     "showTitle": false,
     "tableResultSettingsMap": {},
     "title": ""
    }
   },
   "source": [
    "#Create Date Ranges"
   ]
  },
  {
   "cell_type": "code",
   "execution_count": 0,
   "metadata": {
    "application/vnd.databricks.v1+cell": {
     "cellMetadata": {
      "byteLimit": 2048000,
      "rowLimit": 10000
     },
     "inputWidgets": {},
     "nuid": "f74660cf-ee88-4f4b-9224-6ab5951bc570",
     "showTitle": false,
     "tableResultSettingsMap": {},
     "title": ""
    }
   },
   "outputs": [],
   "source": [
    "from datetime import datetime\n",
    "from dateutil.relativedelta import relativedelta\n",
    "import pandas as pd\n",
    "\n",
    "# Function to generate date ranges for rolling 3-month windows\n",
    "def generate_date_ranges(start_date, end_date):\n",
    "    current = datetime.strptime(end_date, \"%Y-%m-%d\")\n",
    "    start = datetime.strptime(start_date, \"%Y-%m-%d\")\n",
    "    date_ranges = []\n",
    "\n",
    "    while current >= start:\n",
    "        end_window = current.replace(day=1) + relativedelta(months=1) - relativedelta(days=1)  # Last day of the current month\n",
    "        start_window = (current - relativedelta(months=2)).replace(day=1)  # First day of the 3rd month back\n",
    "        next_month_start = (current + relativedelta(months=1)).replace(day=1)  # First day of the next month\n",
    "        next_month_end = next_month_start + relativedelta(months=1) - relativedelta(days=1)  # Last day of the next month\n",
    "\n",
    "        retention_month = next_month_start.strftime(\"%Y%m\")  # Format retention month as YYYYMM\n",
    "        time_window_start = start_window.strftime(\"%Y%m\")  # Format start month of time window as YYYYMM\n",
    "        time_window_end = end_window.strftime(\"%Y%m\")  # Format end month of time window as YYYYMM\n",
    "\n",
    "        date_ranges.append({\n",
    "            \"start_window\": start_window.strftime(\"%Y-%m-%d\"),\n",
    "            \"end_window\": end_window.strftime(\"%Y-%m-%d\"),\n",
    "            \"next_month_start\": next_month_start.strftime(\"%Y-%m-%d\"),\n",
    "            \"next_month_end\": next_month_end.strftime(\"%Y-%m-%d\"),\n",
    "            \"retention_month\": retention_month,\n",
    "            \"time_window_start\": time_window_start,\n",
    "            \"time_window_end\": time_window_end\n",
    "        })\n",
    "        current -= relativedelta(months=1)  # Move back by 1 month\n",
    "\n",
    "    return date_ranges[::-1]  # Reverse to get chronological order\n",
    "\n",
    "# Generate rolling 3-month windows for the last 24 months\n",
    "date_ranges = generate_date_ranges(\"2022-12-01\", \"2024-12-31\")"
   ]
  },
  {
   "cell_type": "markdown",
   "metadata": {
    "application/vnd.databricks.v1+cell": {
     "cellMetadata": {},
     "inputWidgets": {},
     "nuid": "bb77b112-aca4-4263-bf4d-98e55d2b0050",
     "showTitle": false,
     "tableResultSettingsMap": {},
     "title": ""
    }
   },
   "source": [
    "#UAE Regions"
   ]
  },
  {
   "cell_type": "code",
   "execution_count": 0,
   "metadata": {
    "application/vnd.databricks.v1+cell": {
     "cellMetadata": {
      "byteLimit": 2048000,
      "rowLimit": 10000
     },
     "inputWidgets": {},
     "nuid": "c42f6e7c-f145-4ee3-ae08-d6c2cf4584de",
     "showTitle": false,
     "tableResultSettingsMap": {},
     "title": ""
    }
   },
   "outputs": [],
   "source": [
    "regions = ['ABU DHABI', 'AL AIN', 'DUBAI', 'SHARJAH']\n",
    "for region in regions:\n",
    "    results = []\n",
    "    for dr in date_ranges:\n",
    "        sql_query = f\"\"\"\n",
    "        WITH all_customers AS (\n",
    "            SELECT\n",
    "                t1.customer_id\n",
    "            FROM gold.transaction.uae_pos_transactions AS t1\n",
    "            JOIN gold.customer.vynamic_customer_profile AS t2 ON t1.customer_id = t2.maxxing_account_key\n",
    "            JOIN gold.store.store_master AS t3 ON t1.store_id = t3.store_id\n",
    "            WHERE\n",
    "                t1.business_day BETWEEN '{dr['start_window']}' AND '{dr['end_window']}'\n",
    "                AND t2.LHRDate_utc IS NOT NULL\n",
    "                AND t2.lhrdate IS NOT NULL\n",
    "                AND t2.loyalty_program_id = 1\n",
    "                AND t3.tayeb_flag = 0\n",
    "                AND t3.region_name = \"{region}\"\n",
    "                AND t1.transaction_type_id NOT IN (\"RR\", \"RT\")\n",
    "                AND t1.amount > 0\n",
    "                AND t1.quantity > 0\n",
    "            GROUP BY 1\n",
    "        ),\n",
    "\n",
    "        recent_customers AS (\n",
    "            SELECT\n",
    "                COUNT(DISTINCT t1.customer_id) AS recent_customers\n",
    "            FROM gold.transaction.uae_pos_transactions AS t1\n",
    "            JOIN all_customers AS t2 ON t1.customer_id = t2.customer_id\n",
    "            JOIN gold.store.store_master AS t3 ON t1.store_id = t3.store_id\n",
    "            WHERE\n",
    "                t1.business_day BETWEEN '{dr['next_month_start']}' AND '{dr['next_month_end']}'\n",
    "                AND t1.transaction_type_id NOT IN (\"RR\", \"RT\")\n",
    "                AND t3.tayeb_flag = 0\n",
    "                AND t3.region_name = \"{region}\"\n",
    "                AND t1.amount > 0\n",
    "                AND t1.quantity > 0\n",
    "        )\n",
    "\n",
    "        SELECT\n",
    "            \"{region}\" AS region_name,\n",
    "            COUNT(DISTINCT t1.customer_id) AS total_customers,\n",
    "            t2.recent_customers,\n",
    "            ROUND(t2.recent_customers / total_customers * 100, 1) AS retention_perc\n",
    "        FROM all_customers AS t1, recent_customers AS t2\n",
    "        GROUP BY t2.recent_customers\n",
    "        \"\"\"\n",
    "        \n",
    "        # Execute the query using Spark or Databricks\n",
    "        result = spark.sql(sql_query).toPandas()\n",
    "        result['time_window_year_month'] = dr['time_window_start'] + ' to ' + dr['time_window_end']\n",
    "        result['retention_year_month'] = dr['retention_month']\n",
    "        results.append(result)\n",
    "\n",
    "    # Combine all results into a single DataFrame\n",
    "    final_results = pd.concat(results, ignore_index=True)\n",
    "\n",
    "    final_results = spark.createDataFrame(final_results)\n",
    "    final_results.write.option(\"overwriteSchema\", \"true\").mode(\"append\").saveAsTable(\"dev.sandbox.pj_uae_loyalty_customers_retention\")"
   ]
  },
  {
   "cell_type": "markdown",
   "metadata": {
    "application/vnd.databricks.v1+cell": {
     "cellMetadata": {},
     "inputWidgets": {},
     "nuid": "373e21fb-53d9-4624-847e-95c26510053d",
     "showTitle": false,
     "tableResultSettingsMap": {},
     "title": ""
    }
   },
   "source": [
    "#UAE"
   ]
  },
  {
   "cell_type": "code",
   "execution_count": 0,
   "metadata": {
    "application/vnd.databricks.v1+cell": {
     "cellMetadata": {
      "byteLimit": 2048000,
      "rowLimit": 10000
     },
     "inputWidgets": {},
     "nuid": "cb4d5a49-c7b3-4834-855f-8851bb635a22",
     "showTitle": false,
     "tableResultSettingsMap": {},
     "title": ""
    }
   },
   "outputs": [],
   "source": [
    "results = []\n",
    "for dr in date_ranges:\n",
    "    sql_query = f\"\"\"\n",
    "    WITH all_customers AS (\n",
    "        SELECT t1.customer_id\n",
    "        FROM gold.transaction.uae_pos_transactions AS t1\n",
    "        JOIN gold.customer.vynamic_customer_profile AS t2 ON t1.customer_id = t2.maxxing_account_key\n",
    "        WHERE\n",
    "            t1.business_day BETWEEN '{dr['start_window']}' AND '{dr['end_window']}'\n",
    "            AND t2.LHRDate_utc IS NOT NULL\n",
    "            AND t2.lhrdate IS NOT NULL\n",
    "            AND t2.loyalty_program_id = 1\n",
    "            AND t1.transaction_type_id NOT IN (\"RR\", \"RT\")\n",
    "            AND t1.amount > 0\n",
    "            AND t1.quantity > 0\n",
    "        GROUP BY 1\n",
    "    ),\n",
    "\n",
    "    recent_customers AS (\n",
    "        SELECT COUNT(DISTINCT t1.customer_id) AS recent_customers\n",
    "        FROM gold.transaction.uae_pos_transactions AS t1\n",
    "        JOIN all_customers AS t2 ON t1.customer_id = t2.customer_id\n",
    "        WHERE\n",
    "            t1.business_day BETWEEN '{dr['next_month_start']}' AND '{dr['next_month_end']}'\n",
    "            AND t1.transaction_type_id NOT IN (\"RR\", \"RT\")\n",
    "            AND t1.amount > 0\n",
    "            AND t1.quantity > 0\n",
    "    )\n",
    "\n",
    "    SELECT\n",
    "        \"UAE\" AS country,\n",
    "        COUNT(DISTINCT t1.customer_id) AS total_customers,\n",
    "        t2.recent_customers,\n",
    "        ROUND(t2.recent_customers / total_customers * 100, 1) AS retention_perc\n",
    "    FROM all_customers AS t1, recent_customers AS t2\n",
    "    GROUP BY t2.recent_customers\n",
    "    \"\"\"\n",
    "    \n",
    "    # Execute the query using Spark or Databricks\n",
    "    result = spark.sql(sql_query).toPandas()\n",
    "    result['time_window_year_month'] = dr['time_window_start'] + ' to ' + dr['time_window_end']\n",
    "    result['retention_year_month'] = dr['retention_month']\n",
    "    results.append(result)\n",
    "\n",
    "# Combine all results into a single DataFrame\n",
    "final_results = pd.concat(results, ignore_index=True)\n",
    "\n",
    "final_results = spark.createDataFrame(final_results)\n",
    "final_results.write.option(\"overwriteSchema\", \"true\").mode(\"append\").saveAsTable(\"dev.sandbox.pj_gcc_loyalty_customers_retention\")"
   ]
  },
  {
   "cell_type": "code",
   "execution_count": 0,
   "metadata": {
    "application/vnd.databricks.v1+cell": {
     "cellMetadata": {
      "byteLimit": 2048000,
      "implicitDf": true,
      "rowLimit": 10000
     },
     "inputWidgets": {},
     "nuid": "79e2363c-c42b-49ae-8806-a2bce2aff4c0",
     "showTitle": false,
     "tableResultSettingsMap": {},
     "title": ""
    }
   },
   "outputs": [],
   "source": [
    "%sql\n",
    "WITH all_customers AS (\n",
    "    SELECT t1.customer_id\n",
    "    FROM gold.transaction.uae_pos_transactions AS t1\n",
    "    JOIN gold.customer.vynamic_customer_profile AS t2 ON t1.customer_id = t2.maxxing_account_key\n",
    "    WHERE\n",
    "        t1.business_day BETWEEN '2024-01-01' AND '2024-03-31'\n",
    "        AND t2.LHRDate_utc IS NOT NULL\n",
    "        AND t2.lhrdate IS NOT NULL\n",
    "        AND t2.loyalty_program_id = 1\n",
    "        AND t1.transaction_type_id NOT IN (\"RR\", \"RT\")\n",
    "        AND t1.amount > 0\n",
    "        AND t1.quantity > 0\n",
    "    GROUP BY 1\n",
    "),\n",
    "\n",
    "recent_customers AS (\n",
    "    SELECT COUNT(DISTINCT t1.customer_id) AS recent_customers\n",
    "    FROM gold.transaction.uae_pos_transactions AS t1\n",
    "    JOIN all_customers AS t2 ON t1.customer_id = t2.customer_id\n",
    "    WHERE\n",
    "        t1.business_day BETWEEN '2024-04-01' AND '2024-04-10'\n",
    "        AND t1.transaction_type_id NOT IN (\"RR\", \"RT\")\n",
    "        AND t1.amount > 0\n",
    "        AND t1.quantity > 0\n",
    ")\n",
    "\n",
    "SELECT\n",
    "    \"UAE\" AS country,\n",
    "    COUNT(DISTINCT t1.customer_id) AS total_customers,\n",
    "    t2.recent_customers,\n",
    "    ROUND(t2.recent_customers / total_customers * 100, 1) AS retention_perc\n",
    "FROM all_customers AS t1, recent_customers AS t2\n",
    "GROUP BY t2.recent_customers"
   ]
  },
  {
   "cell_type": "code",
   "execution_count": 0,
   "metadata": {
    "application/vnd.databricks.v1+cell": {
     "cellMetadata": {
      "byteLimit": 2048000,
      "implicitDf": true,
      "rowLimit": 10000
     },
     "inputWidgets": {},
     "nuid": "8e4e0204-c14f-4a34-8556-cbf6c16b91d2",
     "showTitle": false,
     "tableResultSettingsMap": {},
     "title": ""
    }
   },
   "outputs": [],
   "source": [
    "%sql\n",
    "SELECT\n",
    "    t3.department_name,\n",
    "    ROUND(SUM(CASE WHEN t1.business_day <= '2024-03-31' THEN amount END) / 3) AS q1_sales,\n",
    "    ROUND(SUM(CASE WHEN t1.business_day > '2024-03-31' THEN amount END)) AS april_sales,\n",
    "    ROUND((april_sales - q1_sales) / q1_sales * 100, 2) AS growth\n",
    "FROM gold.transaction.uae_pos_transactions AS t1\n",
    "JOIN gold.customer.vynamic_customer_profile AS t2 ON t1.customer_id = t2.maxxing_account_key\n",
    "JOIN gold.material.material_master AS t3 ON t1.product_id = t3.material_id\n",
    "WHERE\n",
    "    t1.business_day BETWEEN '2024-01-01' AND '2024-04-30'\n",
    "    AND t2.LHRDate_utc IS NOT NULL\n",
    "    AND t2.lhrdate IS NOT NULL\n",
    "    AND t2.loyalty_program_id = 1\n",
    "    AND t1.transaction_type_id NOT IN (\"RR\", \"RT\")\n",
    "    AND t1.amount > 0\n",
    "    AND t1.quantity > 0\n",
    "GROUP BY 1\n",
    "ORDER BY growth DESC"
   ]
  },
  {
   "cell_type": "code",
   "execution_count": 0,
   "metadata": {
    "application/vnd.databricks.v1+cell": {
     "cellMetadata": {
      "byteLimit": 2048000,
      "implicitDf": true,
      "rowLimit": 10000
     },
     "inputWidgets": {},
     "nuid": "5fac2c87-82e3-49cb-9bf2-daff05d1f927",
     "showTitle": false,
     "tableResultSettingsMap": {},
     "title": ""
    }
   },
   "outputs": [],
   "source": [
    "%sql\n",
    "SELECT\n",
    "    t3.department_name,\n",
    "    ROUND(SUM(CASE WHEN t1.business_day <= '2024-06-30' THEN amount END) / 3) AS q1_sales,\n",
    "    ROUND(SUM(CASE WHEN t1.business_day > '2024-06-30' THEN amount END)) AS april_sales,\n",
    "    ROUND((april_sales - q1_sales) / q1_sales * 100, 2) AS growth\n",
    "FROM gold.transaction.uae_pos_transactions AS t1\n",
    "JOIN gold.customer.vynamic_customer_profile AS t2 ON t1.customer_id = t2.maxxing_account_key\n",
    "JOIN gold.material.material_master AS t3 ON t1.product_id = t3.material_id\n",
    "WHERE\n",
    "    t1.business_day BETWEEN '2024-04-01' AND '2024-07-31'\n",
    "    AND t2.LHRDate_utc IS NOT NULL\n",
    "    AND t2.lhrdate IS NOT NULL\n",
    "    AND t2.loyalty_program_id = 1\n",
    "    AND t1.transaction_type_id NOT IN (\"RR\", \"RT\")\n",
    "    AND t1.amount > 0\n",
    "    AND t1.quantity > 0\n",
    "GROUP BY 1\n",
    "ORDER BY growth DESC"
   ]
  },
  {
   "cell_type": "markdown",
   "metadata": {
    "application/vnd.databricks.v1+cell": {
     "cellMetadata": {},
     "inputWidgets": {},
     "nuid": "e1220117-564d-4b31-ae5d-0fa3db5112b2",
     "showTitle": false,
     "tableResultSettingsMap": {},
     "title": ""
    }
   },
   "source": [
    "#Qatar"
   ]
  },
  {
   "cell_type": "code",
   "execution_count": 0,
   "metadata": {
    "application/vnd.databricks.v1+cell": {
     "cellMetadata": {
      "byteLimit": 2048000,
      "rowLimit": 10000
     },
     "inputWidgets": {},
     "nuid": "1d9fbfbc-88b5-472f-ad56-a30b3f646344",
     "showTitle": false,
     "tableResultSettingsMap": {},
     "title": ""
    }
   },
   "outputs": [],
   "source": [
    "results = []\n",
    "for dr in date_ranges:\n",
    "    sql_query = f\"\"\"\n",
    "    WITH all_customers AS (\n",
    "        SELECT t1.customer_key\n",
    "        FROM gold.transaction.qatar_pos_transactions AS t1\n",
    "        JOIN gold.customer.vynamic_customer_profile AS t2 ON t1.customer_key = t2.customer_key\n",
    "        WHERE\n",
    "            t1.business_day BETWEEN '{dr['start_window']}' AND '{dr['end_window']}'\n",
    "            AND t2.LHRDate_utc IS NOT NULL\n",
    "            AND t2.lhrdate IS NOT NULL\n",
    "            AND t2.loyalty_program_id = 2\n",
    "            AND t1.transaction_type_id NOT IN (\"RR\", \"RT\")\n",
    "            AND t1.amount > 0\n",
    "            AND t1.quantity > 0\n",
    "        GROUP BY 1\n",
    "    ),\n",
    "\n",
    "    recent_customers AS (\n",
    "        SELECT COUNT(DISTINCT t1.customer_key) AS recent_customers\n",
    "        FROM gold.transaction.qatar_pos_transactions AS t1\n",
    "        JOIN all_customers AS t2 ON t1.customer_key = t2.customer_key\n",
    "        WHERE\n",
    "            t1.business_day BETWEEN '{dr['next_month_start']}' AND '{dr['next_month_end']}'\n",
    "            AND t1.transaction_type_id NOT IN (\"RR\", \"RT\")\n",
    "            AND t1.amount > 0\n",
    "            AND t1.quantity > 0\n",
    "    )\n",
    "\n",
    "    SELECT\n",
    "        \"Qatar\" AS country,\n",
    "        COUNT(DISTINCT t1.customer_key) AS total_customers,\n",
    "        t2.recent_customers,\n",
    "        ROUND(t2.recent_customers / total_customers * 100, 1) AS retention_perc\n",
    "    FROM all_customers AS t1, recent_customers AS t2\n",
    "    GROUP BY t2.recent_customers\n",
    "    \"\"\"\n",
    "    \n",
    "    # Execute the query using Spark or Databricks\n",
    "    result = spark.sql(sql_query).toPandas()\n",
    "    result['time_window_year_month'] = dr['time_window_start'] + ' to ' + dr['time_window_end']\n",
    "    result['retention_year_month'] = dr['retention_month']\n",
    "    results.append(result)\n",
    "\n",
    "# Combine all results into a single DataFrame\n",
    "final_results = pd.concat(results, ignore_index=True)\n",
    "\n",
    "final_results = spark.createDataFrame(final_results)\n",
    "final_results.write.option(\"overwriteSchema\", \"true\").mode(\"append\").saveAsTable(\"dev.sandbox.pj_gcc_loyalty_customers_retention\")"
   ]
  },
  {
   "cell_type": "markdown",
   "metadata": {
    "application/vnd.databricks.v1+cell": {
     "cellMetadata": {},
     "inputWidgets": {},
     "nuid": "9e028272-cd61-404c-b61d-b4273bfc59af",
     "showTitle": false,
     "tableResultSettingsMap": {},
     "title": ""
    }
   },
   "source": [
    "#Saudi Arabia"
   ]
  },
  {
   "cell_type": "code",
   "execution_count": 0,
   "metadata": {
    "application/vnd.databricks.v1+cell": {
     "cellMetadata": {
      "byteLimit": 2048000,
      "rowLimit": 10000
     },
     "inputWidgets": {},
     "nuid": "6bc58ce2-71ff-4ca1-8b71-b8e7eeba192b",
     "showTitle": false,
     "tableResultSettingsMap": {},
     "title": ""
    }
   },
   "outputs": [],
   "source": [
    "results = []\n",
    "for dr in date_ranges:\n",
    "    sql_query = f\"\"\"\n",
    "    WITH all_customers AS (\n",
    "        SELECT t1.customer_key\n",
    "        FROM gold.transaction.saudi_pos_transactions AS t1\n",
    "        JOIN gold.customer.vynamic_customer_profile AS t2 ON t1.customer_key = t2.customer_key\n",
    "        WHERE\n",
    "            t1.business_day BETWEEN '{dr['start_window']}' AND '{dr['end_window']}'\n",
    "            AND t2.LHRDate_utc IS NOT NULL\n",
    "            AND t2.lhrdate IS NOT NULL\n",
    "            AND t2.loyalty_program_id = 3\n",
    "            AND t1.transaction_type_id NOT IN (\"RR\", \"RT\")\n",
    "            AND t1.amount > 0\n",
    "            AND t1.quantity > 0\n",
    "        GROUP BY 1\n",
    "    ),\n",
    "\n",
    "    recent_customers AS (\n",
    "        SELECT COUNT(DISTINCT t1.customer_key) AS recent_customers\n",
    "        FROM gold.transaction.saudi_pos_transactions AS t1\n",
    "        JOIN all_customers AS t2 ON t1.customer_key = t2.customer_key\n",
    "        WHERE\n",
    "            t1.business_day BETWEEN '{dr['next_month_start']}' AND '{dr['next_month_end']}'\n",
    "            AND t1.transaction_type_id NOT IN (\"RR\", \"RT\")\n",
    "            AND t1.amount > 0\n",
    "            AND t1.quantity > 0\n",
    "    )\n",
    "\n",
    "    SELECT\n",
    "        \"Saudi Arabia\" AS country,\n",
    "        COUNT(DISTINCT t1.customer_key) AS total_customers,\n",
    "        t2.recent_customers,\n",
    "        ROUND(t2.recent_customers / total_customers * 100, 1) AS retention_perc\n",
    "    FROM all_customers AS t1, recent_customers AS t2\n",
    "    GROUP BY t2.recent_customers\n",
    "    \"\"\"\n",
    "    \n",
    "    # Execute the query using Spark or Databricks\n",
    "    result = spark.sql(sql_query).toPandas()\n",
    "    result['time_window_year_month'] = dr['time_window_start'] + ' to ' + dr['time_window_end']\n",
    "    result['retention_year_month'] = dr['retention_month']\n",
    "    results.append(result)\n",
    "\n",
    "# Combine all results into a single DataFrame\n",
    "final_results = pd.concat(results, ignore_index=True)\n",
    "\n",
    "final_results = spark.createDataFrame(final_results)\n",
    "final_results.write.option(\"overwriteSchema\", \"true\").mode(\"append\").saveAsTable(\"dev.sandbox.pj_gcc_loyalty_customers_retention\")"
   ]
  },
  {
   "cell_type": "markdown",
   "metadata": {
    "application/vnd.databricks.v1+cell": {
     "cellMetadata": {},
     "inputWidgets": {},
     "nuid": "8fda8ee0-a2dc-43df-a147-95908f9bea2f",
     "showTitle": false,
     "tableResultSettingsMap": {},
     "title": ""
    }
   },
   "source": [
    "#Bahrain"
   ]
  },
  {
   "cell_type": "code",
   "execution_count": 0,
   "metadata": {
    "application/vnd.databricks.v1+cell": {
     "cellMetadata": {
      "byteLimit": 2048000,
      "rowLimit": 10000
     },
     "inputWidgets": {},
     "nuid": "0468f76f-dada-44c6-8a00-b3358ac1890e",
     "showTitle": false,
     "tableResultSettingsMap": {},
     "title": ""
    }
   },
   "outputs": [],
   "source": [
    "results = []\n",
    "for dr in date_ranges:\n",
    "    sql_query = f\"\"\"\n",
    "    WITH all_customers AS (\n",
    "        SELECT t1.customer_key\n",
    "        FROM gold.transaction.bahrain_pos_transactions AS t1\n",
    "        JOIN gold.customer.vynamic_customer_profile AS t2 ON t1.customer_key = t2.customer_key\n",
    "        WHERE\n",
    "            t1.business_day BETWEEN '{dr['start_window']}' AND '{dr['end_window']}'\n",
    "            AND t2.LHRDate_utc IS NOT NULL\n",
    "            AND t2.lhrdate IS NOT NULL\n",
    "            AND t2.loyalty_program_id = 4\n",
    "            AND t1.transaction_type_id NOT IN (\"RR\", \"RT\")\n",
    "            AND t1.amount > 0\n",
    "            AND t1.quantity > 0\n",
    "        GROUP BY 1\n",
    "    ),\n",
    "\n",
    "    recent_customers AS (\n",
    "        SELECT COUNT(DISTINCT t1.customer_key) AS recent_customers\n",
    "        FROM gold.transaction.bahrain_pos_transactions AS t1\n",
    "        JOIN all_customers AS t2 ON t1.customer_key = t2.customer_key\n",
    "        WHERE\n",
    "            t1.business_day BETWEEN '{dr['next_month_start']}' AND '{dr['next_month_end']}'\n",
    "            AND t1.transaction_type_id NOT IN (\"RR\", \"RT\")\n",
    "            AND t1.amount > 0\n",
    "            AND t1.quantity > 0\n",
    "    )\n",
    "\n",
    "    SELECT\n",
    "        \"Bahrain\" AS country,\n",
    "        COUNT(DISTINCT t1.customer_key) AS total_customers,\n",
    "        t2.recent_customers,\n",
    "        ROUND(t2.recent_customers / total_customers * 100, 1) AS retention_perc\n",
    "    FROM all_customers AS t1, recent_customers AS t2\n",
    "    GROUP BY t2.recent_customers\n",
    "    \"\"\"\n",
    "    \n",
    "    # Execute the query using Spark or Databricks\n",
    "    result = spark.sql(sql_query).toPandas()\n",
    "    result['time_window_year_month'] = dr['time_window_start'] + ' to ' + dr['time_window_end']\n",
    "    result['retention_year_month'] = dr['retention_month']\n",
    "    results.append(result)\n",
    "\n",
    "# Combine all results into a single DataFrame\n",
    "final_results = pd.concat(results, ignore_index=True)\n",
    "\n",
    "final_results = spark.createDataFrame(final_results)\n",
    "final_results.write.option(\"overwriteSchema\", \"true\").mode(\"append\").saveAsTable(\"dev.sandbox.pj_gcc_loyalty_customers_retention\")"
   ]
  },
  {
   "cell_type": "markdown",
   "metadata": {
    "application/vnd.databricks.v1+cell": {
     "cellMetadata": {},
     "inputWidgets": {},
     "nuid": "678dc4d9-8437-4555-9bd1-9a1d56d3cdca",
     "showTitle": false,
     "tableResultSettingsMap": {},
     "title": ""
    }
   },
   "source": [
    "#Oman"
   ]
  },
  {
   "cell_type": "code",
   "execution_count": 0,
   "metadata": {
    "application/vnd.databricks.v1+cell": {
     "cellMetadata": {
      "byteLimit": 2048000,
      "rowLimit": 10000
     },
     "inputWidgets": {},
     "nuid": "3a694b0d-12aa-43bf-badc-005e0793293e",
     "showTitle": false,
     "tableResultSettingsMap": {},
     "title": ""
    }
   },
   "outputs": [],
   "source": [
    "results = []\n",
    "for dr in date_ranges:\n",
    "    sql_query = f\"\"\"\n",
    "    WITH all_customers AS (\n",
    "        SELECT t1.customer_key\n",
    "        FROM gold.transaction.oman_pos_transactions AS t1\n",
    "        JOIN gold.customer.vynamic_customer_profile AS t2 ON t1.customer_key = t2.customer_key\n",
    "        WHERE\n",
    "            t1.business_day BETWEEN '{dr['start_window']}' AND '{dr['end_window']}'\n",
    "            AND t2.LHRDate_utc IS NOT NULL\n",
    "            AND t2.lhrdate IS NOT NULL\n",
    "            AND t2.loyalty_program_id = 5\n",
    "            AND t1.transaction_type_id NOT IN (\"RR\", \"RT\")\n",
    "            AND t1.amount > 0\n",
    "            AND t1.quantity > 0\n",
    "        GROUP BY 1\n",
    "    ),\n",
    "\n",
    "    recent_customers AS (\n",
    "        SELECT COUNT(DISTINCT t1.customer_key) AS recent_customers\n",
    "        FROM gold.transaction.oman_pos_transactions AS t1\n",
    "        JOIN all_customers AS t2 ON t1.customer_key = t2.customer_key\n",
    "        WHERE\n",
    "            t1.business_day BETWEEN '{dr['next_month_start']}' AND '{dr['next_month_end']}'\n",
    "            AND t1.transaction_type_id NOT IN (\"RR\", \"RT\")\n",
    "            AND t1.amount > 0\n",
    "            AND t1.quantity > 0\n",
    "    )\n",
    "\n",
    "    SELECT\n",
    "        \"Oman\" AS country,\n",
    "        COUNT(DISTINCT t1.customer_key) AS total_customers,\n",
    "        t2.recent_customers,\n",
    "        ROUND(t2.recent_customers / total_customers * 100, 1) AS retention_perc\n",
    "    FROM all_customers AS t1, recent_customers AS t2\n",
    "    GROUP BY t2.recent_customers\n",
    "    \"\"\"\n",
    "    \n",
    "    # Execute the query using Spark or Databricks\n",
    "    result = spark.sql(sql_query).toPandas()\n",
    "    result['time_window_year_month'] = dr['time_window_start'] + ' to ' + dr['time_window_end']\n",
    "    result['retention_year_month'] = dr['retention_month']\n",
    "    results.append(result)\n",
    "\n",
    "# Combine all results into a single DataFrame\n",
    "final_results = pd.concat(results, ignore_index=True)\n",
    "\n",
    "final_results = spark.createDataFrame(final_results)\n",
    "final_results.write.option(\"overwriteSchema\", \"true\").mode(\"append\").saveAsTable(\"dev.sandbox.pj_gcc_loyalty_customers_retention\")"
   ]
  },
  {
   "cell_type": "markdown",
   "metadata": {
    "application/vnd.databricks.v1+cell": {
     "cellMetadata": {},
     "inputWidgets": {},
     "nuid": "1412b23e-a41a-4cb5-8642-9b83bf598acb",
     "showTitle": false,
     "tableResultSettingsMap": {},
     "title": ""
    }
   },
   "source": [
    "#Kuwait"
   ]
  },
  {
   "cell_type": "code",
   "execution_count": 0,
   "metadata": {
    "application/vnd.databricks.v1+cell": {
     "cellMetadata": {
      "byteLimit": 2048000,
      "rowLimit": 10000
     },
     "inputWidgets": {},
     "nuid": "109d3dbd-167c-4bc5-b203-aff510bc0f8e",
     "showTitle": false,
     "tableResultSettingsMap": {},
     "title": ""
    }
   },
   "outputs": [],
   "source": [
    "results = []\n",
    "for dr in date_ranges:\n",
    "    sql_query = f\"\"\"\n",
    "    WITH all_customers AS (\n",
    "        SELECT t1.customer_key\n",
    "        FROM gold.transaction.kuwait_pos_transactions AS t1\n",
    "        JOIN gold.customer.vynamic_customer_profile AS t2 ON t1.customer_key = t2.customer_key\n",
    "        WHERE\n",
    "            t1.business_day BETWEEN '{dr['start_window']}' AND '{dr['end_window']}'\n",
    "            AND t2.LHRDate_utc IS NOT NULL\n",
    "            AND t2.lhrdate IS NOT NULL\n",
    "            AND t2.loyalty_program_id = 6\n",
    "            AND t1.transaction_type_id NOT IN (\"RR\", \"RT\")\n",
    "            AND t1.amount > 0\n",
    "            AND t1.quantity > 0\n",
    "        GROUP BY 1\n",
    "    ),\n",
    "\n",
    "    recent_customers AS (\n",
    "        SELECT COUNT(DISTINCT t1.customer_key) AS recent_customers\n",
    "        FROM gold.transaction.kuwait_pos_transactions AS t1\n",
    "        JOIN all_customers AS t2 ON t1.customer_key = t2.customer_key\n",
    "        WHERE\n",
    "            t1.business_day BETWEEN '{dr['next_month_start']}' AND '{dr['next_month_end']}'\n",
    "            AND t1.transaction_type_id NOT IN (\"RR\", \"RT\")\n",
    "            AND t1.amount > 0\n",
    "            AND t1.quantity > 0\n",
    "    )\n",
    "\n",
    "    SELECT\n",
    "        \"Kuwait\" AS country,\n",
    "        COUNT(DISTINCT t1.customer_key) AS total_customers,\n",
    "        t2.recent_customers,\n",
    "        ROUND(t2.recent_customers / total_customers * 100, 1) AS retention_perc\n",
    "    FROM all_customers AS t1, recent_customers AS t2\n",
    "    GROUP BY t2.recent_customers\n",
    "    \"\"\"\n",
    "    \n",
    "    # Execute the query using Spark or Databricks\n",
    "    result = spark.sql(sql_query).toPandas()\n",
    "    result['time_window_year_month'] = dr['time_window_start'] + ' to ' + dr['time_window_end']\n",
    "    result['retention_year_month'] = dr['retention_month']\n",
    "    results.append(result)\n",
    "\n",
    "# Combine all results into a single DataFrame\n",
    "final_results = pd.concat(results, ignore_index=True)\n",
    "\n",
    "final_results = spark.createDataFrame(final_results)\n",
    "final_results.write.option(\"overwriteSchema\", \"true\").mode(\"append\").saveAsTable(\"dev.sandbox.pj_gcc_loyalty_customers_retention\")"
   ]
  },
  {
   "cell_type": "markdown",
   "metadata": {
    "application/vnd.databricks.v1+cell": {
     "cellMetadata": {},
     "inputWidgets": {},
     "nuid": "befee36c-134d-4a02-9c57-4b196c955c03",
     "showTitle": false,
     "tableResultSettingsMap": {},
     "title": ""
    }
   },
   "source": [
    "#Export CSV"
   ]
  },
  {
   "cell_type": "code",
   "execution_count": 0,
   "metadata": {
    "application/vnd.databricks.v1+cell": {
     "cellMetadata": {
      "byteLimit": 2048000,
      "rowLimit": 10000
     },
     "inputWidgets": {},
     "nuid": "5afd7d2f-04bb-411f-a688-20c75515d996",
     "showTitle": false,
     "tableResultSettingsMap": {},
     "title": ""
    }
   },
   "outputs": [],
   "source": [
    "df = spark.sql(\"SELECT * FROM dev.sandbox.pj_gcc_loyalty_customers_retention\").toPandas()\n",
    "df.to_csv(\"/Workspace/Users/prem@loyalytics.in/Ad-hoc/gcc_loyalty_customers_retention.csv\", index = False)"
   ]
  },
  {
   "cell_type": "code",
   "execution_count": 0,
   "metadata": {
    "application/vnd.databricks.v1+cell": {
     "cellMetadata": {
      "byteLimit": 2048000,
      "rowLimit": 10000
     },
     "inputWidgets": {},
     "nuid": "dbf5c8ba-3024-4415-81f3-1720931c1076",
     "showTitle": false,
     "tableResultSettingsMap": {},
     "title": ""
    }
   },
   "outputs": [],
   "source": [
    "df = spark.sql(\"SELECT * FROM dev.sandbox.pj_uae_loyalty_customers_retention\").toPandas()\n",
    "df.to_csv(\"/Workspace/Users/prem@loyalytics.in/Ad-hoc/uae_loyalty_customers_retention.csv\", index = False)"
   ]
  }
 ],
 "metadata": {
  "application/vnd.databricks.v1+notebook": {
   "computePreferences": null,
   "dashboards": [],
   "environmentMetadata": {
    "base_environment": "",
    "environment_version": "1"
   },
   "language": "python",
   "notebookMetadata": {
    "mostRecentlyExecutedCommandWithImplicitDF": {
     "commandId": -1,
     "dataframes": [
      "_sqldf"
     ]
    },
    "pythonIndentUnit": 4
   },
   "notebookName": "GCC Loyalty Customers Retention",
   "widgets": {}
  },
  "language_info": {
   "name": "python"
  }
 },
 "nbformat": 4,
 "nbformat_minor": 0
}
