{
 "cells": [
  {
   "cell_type": "markdown",
   "metadata": {
    "application/vnd.databricks.v1+cell": {
     "cellMetadata": {},
     "inputWidgets": {},
     "nuid": "a814ccf8-af0b-4a8b-997a-6f816dcd08e2",
     "showTitle": false,
     "tableResultSettingsMap": {},
     "title": ""
    }
   },
   "source": [
    "#Function Initializations"
   ]
  },
  {
   "cell_type": "code",
   "execution_count": 0,
   "metadata": {
    "application/vnd.databricks.v1+cell": {
     "cellMetadata": {
      "byteLimit": 2048000,
      "rowLimit": 10000
     },
     "inputWidgets": {},
     "nuid": "7b4a2992-40f1-47a5-9330-e701597bc6cf",
     "showTitle": false,
     "tableResultSettingsMap": {},
     "title": ""
    }
   },
   "outputs": [],
   "source": [
    "import numpy as np\n",
    "import pandas as pd\n",
    "from bs4 import BeautifulSoup\n",
    "import requests\n",
    "import re"
   ]
  },
  {
   "cell_type": "code",
   "execution_count": 0,
   "metadata": {
    "application/vnd.databricks.v1+cell": {
     "cellMetadata": {
      "byteLimit": 2048000,
      "rowLimit": 10000
     },
     "inputWidgets": {},
     "nuid": "c967a03b-3e6a-498f-9e01-2efe6e194f28",
     "showTitle": false,
     "tableResultSettingsMap": {},
     "title": ""
    }
   },
   "outputs": [],
   "source": [
    "def run(start_date, end_date, category, material_group):\n",
    "    query = f\"\"\"\n",
    "    SELECT\n",
    "        t2.material_id,\n",
    "        t2.material_name,\n",
    "        t2.brand,\n",
    "        t2.material_group_name,\n",
    "        t2.category_name,\n",
    "        ROUND(SUM(t1.amount)) AS sales\n",
    "    FROM gold.transaction.uae_pos_transactions AS t1\n",
    "    JOIN gold.material.material_master AS t2 ON t1.product_id = t2.material_id\n",
    "    JOIN gold.store.store_master AS t3 ON t1.store_id = t3.store_id\n",
    "    WHERE\n",
    "        t1.business_day BETWEEN \"{start_date}\" AND \"{end_date}\"\n",
    "        AND t2.category_name = \"{category}\"\n",
    "        AND t2.material_group_name = \"{material_group}\"\n",
    "        AND t3.tayeb_flag = 0\n",
    "        AND t1.transaction_type IN (\"SALE\", \"SELL_MEDIA\")\n",
    "        AND t1.amount > 0\n",
    "        AND t1.quantity > 0\n",
    "    GROUP BY 1, 2, 3, 4, 5\n",
    "    ORDER BY 1\n",
    "    \"\"\"\n",
    "    return spark.sql(query).toPandas()"
   ]
  },
  {
   "cell_type": "code",
   "execution_count": 0,
   "metadata": {
    "application/vnd.databricks.v1+cell": {
     "cellMetadata": {
      "byteLimit": 2048000,
      "rowLimit": 10000
     },
     "inputWidgets": {},
     "nuid": "dd083851-fa5d-4104-aeee-622bb8898340",
     "showTitle": false,
     "tableResultSettingsMap": {},
     "title": ""
    }
   },
   "outputs": [],
   "source": [
    "def web_scrape_www(df, country):\n",
    "    material_ids = df['material_id'].astype(str).tolist()\n",
    "    dct = {'material_id': material_ids, 'material_name_long': [], 'link': []}\n",
    "\n",
    "    for i in material_ids:\n",
    "        url = f'https://www.luluhypermarket.com/en-{country}//p/{i}'\n",
    "        headers = {'User-Agent': 'Mozilla/5.0 (Windows NT 10.0; Win64; x64) AppleWebKit/537.36 (KHTML, like Gecko) Chrome/91.0.4472.124 Safari/537.36'}\n",
    "        response = requests.get(url, headers=headers)\n",
    "        bsObj = BeautifulSoup(response.content, 'html.parser')\n",
    "\n",
    "        try:\n",
    "            material_name = bsObj.find('h1', class_='product-name').text.strip()\n",
    "        except AttributeError:\n",
    "            material_name = None\n",
    "            url = None\n",
    "        \n",
    "        dct['material_name_long'].append(material_name)\n",
    "        dct['link'].append(url)\n",
    "\n",
    "    df2 = pd.DataFrame(dct)\n",
    "    df2['material_id'] = df2['material_id'].astype('int64')\n",
    "    df2 = pd.merge(df2, df[['material_id', 'material_name', 'brand']], on='material_id', how = 'inner')\n",
    "    df2['material_name_long'] = df2['material_name_long'].fillna(df2['material_name'])\n",
    "    df2 = df2.drop(columns = 'material_name')\n",
    "    df2.rename(columns = {'material_name_long': 'material_name'}, inplace = True)\n",
    "\n",
    "    return df2"
   ]
  },
  {
   "cell_type": "code",
   "execution_count": 0,
   "metadata": {
    "application/vnd.databricks.v1+cell": {
     "cellMetadata": {
      "byteLimit": 2048000,
      "rowLimit": 10000
     },
     "inputWidgets": {},
     "nuid": "c74ccadc-e6d2-4547-a344-f57feef99c2f",
     "showTitle": false,
     "tableResultSettingsMap": {},
     "title": ""
    }
   },
   "outputs": [],
   "source": [
    "def web_scrape_gcc(df, country):\n",
    "    material_ids = df['material_id'].astype(str).tolist()\n",
    "    dct = {'material_id': material_ids, 'material_name_long': [], 'link': []}\n",
    "    for material_id in material_ids:\n",
    "        url = f'https://gcc.luluhypermarket.com/en-{country}/list/?search_text={material_id}'\n",
    "        headers = {'User-Agent': 'Mozilla/5.0 (Windows NT 10.0; Win64; x64) AppleWebKit/537.36 (KHTML, like Gecko) Chrome/131.0.0.0 Safari/537.36'}\n",
    "\n",
    "        response = requests.get(url, headers = headers)\n",
    "        bsObj = BeautifulSoup(response.content, 'html.parser')\n",
    "\n",
    "        material_name = bsObj.find('body', class_ = \"overflow-x-hidden scheduled\")\n",
    "\n",
    "        main_string = str(material_name)\n",
    "        substring = f'\\\\\",\\\\\"sku\\\\\":\\\\\"{material_id}\\\\\"'\n",
    "        index = main_string.find(substring)\n",
    "\n",
    "        if main_string[index] == '>':\n",
    "            material_name = None\n",
    "            link = None\n",
    "        else:\n",
    "            main_string = main_string[index - 200: index]\n",
    "            substring = '\"name\\\\\":\\\\\"'\n",
    "            index = main_string.find(substring)\n",
    "            material_name = main_string[index + len(substring):]\n",
    "            material_name = material_name.replace(\"\\\\u0026\", \"&\")\n",
    "\n",
    "            link_material_name = material_name.lower().replace(\" & \", \"-\").replace(\"%\", \"\")\n",
    "            link_material_name = re.sub(r'[^a-zA-Z0-9]', '-', link_material_name)\n",
    "            link = f'https://gcc.luluhypermarket.com/en-{country}/{link_material_name}/p/{material_id}/'\n",
    "        \n",
    "        dct['material_name_long'].append(material_name)\n",
    "        dct['link'].append(link)\n",
    "\n",
    "    df2 = pd.DataFrame(dct)\n",
    "    df2['material_id'] = df2['material_id'].astype('int64')\n",
    "    df2 = pd.merge(df2, df[['material_id', 'material_name', 'brand']], on='material_id', how = 'inner')\n",
    "    df2['material_name_long'] = df2['material_name_long'].fillna(df2['material_name'])\n",
    "    df2 = df2.drop(columns = 'material_name')\n",
    "    df2.rename(columns = {'material_name_long': 'material_name'}, inplace = True)\n",
    "\n",
    "    return df2"
   ]
  },
  {
   "cell_type": "markdown",
   "metadata": {
    "application/vnd.databricks.v1+cell": {
     "cellMetadata": {},
     "inputWidgets": {},
     "nuid": "b2ceebd0-e6d6-4232-9f10-e5529ed78689",
     "showTitle": false,
     "tableResultSettingsMap": {},
     "title": ""
    }
   },
   "source": [
    "#UAE"
   ]
  },
  {
   "cell_type": "code",
   "execution_count": 0,
   "metadata": {
    "application/vnd.databricks.v1+cell": {
     "cellMetadata": {
      "byteLimit": 2048000,
      "rowLimit": 10000
     },
     "inputWidgets": {},
     "nuid": "8f799fa2-8f85-46ed-9fd2-774cc000b9e7",
     "showTitle": false,
     "tableResultSettingsMap": {},
     "title": ""
    }
   },
   "outputs": [],
   "source": [
    "df = run('2024-01-01', '2024-12-29', 'BISCUITS & CAKES', 'RICE & OAT CAKE')\n",
    "df2 = web_scrape_gcc(df, 'ae')\n",
    "df2.display()"
   ]
  },
  {
   "cell_type": "code",
   "execution_count": 0,
   "metadata": {
    "application/vnd.databricks.v1+cell": {
     "cellMetadata": {
      "byteLimit": 2048000,
      "rowLimit": 10000
     },
     "inputWidgets": {},
     "nuid": "b2415a3f-14a2-4dec-8805-da53518ac6e5",
     "showTitle": false,
     "tableResultSettingsMap": {},
     "title": ""
    }
   },
   "outputs": [],
   "source": [
    "df2.info()"
   ]
  },
  {
   "cell_type": "markdown",
   "metadata": {
    "application/vnd.databricks.v1+cell": {
     "cellMetadata": {},
     "inputWidgets": {},
     "nuid": "6440b502-15f9-4cf6-be1c-b515b1431913",
     "showTitle": false,
     "tableResultSettingsMap": {},
     "title": ""
    }
   },
   "source": [
    "#Kuwait"
   ]
  },
  {
   "cell_type": "code",
   "execution_count": 0,
   "metadata": {
    "application/vnd.databricks.v1+cell": {
     "cellMetadata": {},
     "inputWidgets": {},
     "nuid": "d6507fa4-21a9-4f65-9e94-4fb499b0a24b",
     "showTitle": false,
     "tableResultSettingsMap": {},
     "title": ""
    }
   },
   "outputs": [],
   "source": [
    "# <a data-testid = \"Deluxe & Bla Bla Gluten Free Rice Cakes Coated With Strawberry Yoghurt 115 g-0\">"
   ]
  },
  {
   "cell_type": "code",
   "execution_count": 0,
   "metadata": {
    "application/vnd.databricks.v1+cell": {
     "cellMetadata": {
      "byteLimit": 2048000,
      "rowLimit": 10000
     },
     "inputWidgets": {},
     "nuid": "8d352666-a42b-4db4-90bf-4e28fa14c0d8",
     "showTitle": false,
     "tableResultSettingsMap": {},
     "title": ""
    }
   },
   "outputs": [],
   "source": [
    "df2 = web_scrape_gcc(df, 'kw')\n",
    "df2.display()"
   ]
  },
  {
   "cell_type": "code",
   "execution_count": 0,
   "metadata": {
    "application/vnd.databricks.v1+cell": {
     "cellMetadata": {
      "byteLimit": 2048000,
      "rowLimit": 10000
     },
     "inputWidgets": {},
     "nuid": "3247cd72-f779-4857-8e80-4d21bb304ae6",
     "showTitle": false,
     "tableResultSettingsMap": {},
     "title": ""
    }
   },
   "outputs": [],
   "source": [
    "df2.info()"
   ]
  },
  {
   "cell_type": "markdown",
   "metadata": {
    "application/vnd.databricks.v1+cell": {
     "cellMetadata": {},
     "inputWidgets": {},
     "nuid": "4ccfbe71-f192-4eeb-84f7-78425b6f2c72",
     "showTitle": false,
     "tableResultSettingsMap": {},
     "title": ""
    }
   },
   "source": [
    "#Saudi Arabia"
   ]
  },
  {
   "cell_type": "code",
   "execution_count": 0,
   "metadata": {
    "application/vnd.databricks.v1+cell": {
     "cellMetadata": {
      "byteLimit": 2048000,
      "rowLimit": 10000
     },
     "inputWidgets": {},
     "nuid": "edccce3b-59a7-4cd8-91f0-aa0016f71d03",
     "showTitle": false,
     "tableResultSettingsMap": {},
     "title": ""
    }
   },
   "outputs": [],
   "source": [
    "df2 = web_scrape_gcc(df, 'sa')\n",
    "df2.display()"
   ]
  },
  {
   "cell_type": "code",
   "execution_count": 0,
   "metadata": {
    "application/vnd.databricks.v1+cell": {
     "cellMetadata": {
      "byteLimit": 2048000,
      "rowLimit": 10000
     },
     "inputWidgets": {},
     "nuid": "1692e590-28c5-41b8-bde4-465899e33f86",
     "showTitle": false,
     "tableResultSettingsMap": {},
     "title": ""
    }
   },
   "outputs": [],
   "source": [
    "df2.info()"
   ]
  },
  {
   "cell_type": "markdown",
   "metadata": {
    "application/vnd.databricks.v1+cell": {
     "cellMetadata": {},
     "inputWidgets": {},
     "nuid": "380a1744-65fb-43fe-8117-e1b33aa0fd13",
     "showTitle": false,
     "tableResultSettingsMap": {},
     "title": ""
    }
   },
   "source": [
    "#Qatar"
   ]
  },
  {
   "cell_type": "code",
   "execution_count": 0,
   "metadata": {
    "application/vnd.databricks.v1+cell": {
     "cellMetadata": {},
     "inputWidgets": {},
     "nuid": "0f61db39-1b68-4416-a8a7-21527ac01e43",
     "showTitle": false,
     "tableResultSettingsMap": {},
     "title": ""
    }
   },
   "outputs": [],
   "source": [
    "df2 = web_scrape_www(df, 'qa')\n",
    "df2.display()"
   ]
  },
  {
   "cell_type": "code",
   "execution_count": 0,
   "metadata": {
    "application/vnd.databricks.v1+cell": {
     "cellMetadata": {},
     "inputWidgets": {},
     "nuid": "05f11ba1-9a6e-49c8-9075-b7e1a7caf0cc",
     "showTitle": false,
     "tableResultSettingsMap": {},
     "title": ""
    }
   },
   "outputs": [],
   "source": [
    "df2.info()"
   ]
  },
  {
   "cell_type": "markdown",
   "metadata": {
    "application/vnd.databricks.v1+cell": {
     "cellMetadata": {},
     "inputWidgets": {},
     "nuid": "396da8c2-02f3-4436-b48c-1b1d7fc410a3",
     "showTitle": false,
     "tableResultSettingsMap": {},
     "title": ""
    }
   },
   "source": [
    "#Oman"
   ]
  },
  {
   "cell_type": "code",
   "execution_count": 0,
   "metadata": {
    "application/vnd.databricks.v1+cell": {
     "cellMetadata": {},
     "inputWidgets": {},
     "nuid": "3f37d5fe-1659-4be0-83eb-93f8f196350a",
     "showTitle": false,
     "tableResultSettingsMap": {},
     "title": ""
    }
   },
   "outputs": [],
   "source": [
    "df2 = web_scrape_www(df, 'om')\n",
    "df2.display()"
   ]
  },
  {
   "cell_type": "code",
   "execution_count": 0,
   "metadata": {
    "application/vnd.databricks.v1+cell": {
     "cellMetadata": {},
     "inputWidgets": {},
     "nuid": "fde750f0-7641-4c1c-a043-0901a1ab4099",
     "showTitle": false,
     "tableResultSettingsMap": {},
     "title": ""
    }
   },
   "outputs": [],
   "source": [
    "df2.info()"
   ]
  },
  {
   "cell_type": "markdown",
   "metadata": {
    "application/vnd.databricks.v1+cell": {
     "cellMetadata": {},
     "inputWidgets": {},
     "nuid": "e2f44ab7-a0bf-44b2-ba1c-e6042cdd8584",
     "showTitle": false,
     "tableResultSettingsMap": {},
     "title": ""
    }
   },
   "source": [
    "#Bahrain"
   ]
  },
  {
   "cell_type": "code",
   "execution_count": 0,
   "metadata": {
    "application/vnd.databricks.v1+cell": {
     "cellMetadata": {},
     "inputWidgets": {},
     "nuid": "1063af93-9994-4227-b293-a1f8693df2cf",
     "showTitle": false,
     "tableResultSettingsMap": {},
     "title": ""
    }
   },
   "outputs": [],
   "source": [
    "df2 = web_scrape_www(df, 'bh')\n",
    "df2.display()"
   ]
  },
  {
   "cell_type": "code",
   "execution_count": 0,
   "metadata": {
    "application/vnd.databricks.v1+cell": {
     "cellMetadata": {},
     "inputWidgets": {},
     "nuid": "108f8a25-a2bf-43ca-8b81-bd15fb50b19f",
     "showTitle": false,
     "tableResultSettingsMap": {},
     "title": ""
    }
   },
   "outputs": [],
   "source": [
    "df2.info()"
   ]
  }
 ],
 "metadata": {
  "application/vnd.databricks.v1+notebook": {
   "computePreferences": null,
   "dashboards": [],
   "environmentMetadata": {
    "base_environment": "",
    "environment_version": "2"
   },
   "language": "python",
   "notebookMetadata": {
    "pythonIndentUnit": 4
   },
   "notebookName": "Attribute Extraction Testing",
   "widgets": {}
  },
  "language_info": {
   "name": "python"
  }
 },
 "nbformat": 4,
 "nbformat_minor": 0
}
