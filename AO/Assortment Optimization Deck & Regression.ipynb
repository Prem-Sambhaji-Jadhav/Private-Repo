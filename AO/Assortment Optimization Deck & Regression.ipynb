{
 "cells": [
  {
   "cell_type": "code",
   "execution_count": 0,
   "metadata": {
    "application/vnd.databricks.v1+cell": {
     "cellMetadata": {
      "byteLimit": 2048000,
      "implicitDf": true,
      "rowLimit": 10000
     },
     "inputWidgets": {},
     "nuid": "dd8f69ce-b72d-4cc3-affc-4cefde33999e",
     "showTitle": false,
     "title": ""
    }
   },
   "outputs": [],
   "source": [
    "# YoY Sales\n",
    "\n",
    "# %sql\n",
    "# SELECT YEAR(business_day) AS year_info,\n",
    "#         ROUND(SUM(amount),0) AS sales\n",
    "# FROM gold.pos_transactions AS t1\n",
    "# JOIN gold.material_master AS t2\n",
    "# ON t1.product_id = t2.material_id\n",
    "# WHERE business_day BETWEEN '2022-01-01' AND '2023-12-31'\n",
    "# AND category_name = 'WATER'\n",
    "# GROUP BY year_info"
   ]
  },
  {
   "cell_type": "code",
   "execution_count": 0,
   "metadata": {
    "application/vnd.databricks.v1+cell": {
     "cellMetadata": {
      "byteLimit": 2048000,
      "implicitDf": true,
      "rowLimit": 10000
     },
     "inputWidgets": {},
     "nuid": "23f4ad4e-e45a-47da-8526-39c2c6e7839e",
     "showTitle": false,
     "title": ""
    }
   },
   "outputs": [],
   "source": [
    "# Brand-wise Sales Contribution\n",
    "\n",
    "# %sql\n",
    "# SELECT brand,\n",
    "#         ROUND(SUM(amount),0) AS sales,\n",
    "#         SUM(ROUND(SUM(amount), 0)) OVER () AS total_sales,\n",
    "#         (sales/total_sales) AS sales_contri\n",
    "# FROM gold.pos_transactions AS t1\n",
    "# JOIN gold.material_master AS t2\n",
    "# ON t1.product_id = t2.material_id\n",
    "# WHERE business_day BETWEEN '2023-01-01' AND '2023-12-31'\n",
    "# AND category_name = 'WATER'\n",
    "# GROUP BY brand"
   ]
  },
  {
   "cell_type": "markdown",
   "metadata": {
    "application/vnd.databricks.v1+cell": {
     "cellMetadata": {
      "byteLimit": 2048000,
      "rowLimit": 10000
     },
     "inputWidgets": {},
     "nuid": "63e7f9a0-db81-4aeb-8fc2-da05ce7115c9",
     "showTitle": false,
     "title": ""
    }
   },
   "source": [
    "##Import Statements"
   ]
  },
  {
   "cell_type": "code",
   "execution_count": 0,
   "metadata": {
    "application/vnd.databricks.v1+cell": {
     "cellMetadata": {
      "byteLimit": 2048000,
      "rowLimit": 10000
     },
     "inputWidgets": {},
     "nuid": "acc7943e-0147-4967-9a4c-7aa24a9a908a",
     "showTitle": false,
     "title": ""
    }
   },
   "outputs": [],
   "source": [
    "import pandas as pd\n",
    "import numpy as np\n",
    "import plotly.express as px\n",
    "import matplotlib.pyplot as plt"
   ]
  },
  {
   "cell_type": "markdown",
   "metadata": {
    "application/vnd.databricks.v1+cell": {
     "cellMetadata": {
      "byteLimit": 2048000,
      "rowLimit": 10000
     },
     "inputWidgets": {},
     "nuid": "601833d7-0e58-4beb-a323-c883a3ed8da5",
     "showTitle": false,
     "title": ""
    }
   },
   "source": [
    "## Functions"
   ]
  },
  {
   "cell_type": "code",
   "execution_count": 0,
   "metadata": {
    "application/vnd.databricks.v1+cell": {
     "cellMetadata": {
      "byteLimit": 2048000,
      "rowLimit": 10000
     },
     "inputWidgets": {},
     "nuid": "811e942b-91d9-437a-8f80-2f57cbe88498",
     "showTitle": false,
     "title": ""
    }
   },
   "outputs": [],
   "source": [
    "# Function to handle division and replace with 0 in case of errors\n",
    "\n",
    "def safe_division(x, y):\n",
    "    try:\n",
    "        result = x / y\n",
    "    except ZeroDivisionError:\n",
    "        result = 0\n",
    "    except FloatingPointError:\n",
    "        result = 0\n",
    "    return result"
   ]
  },
  {
   "cell_type": "markdown",
   "metadata": {
    "application/vnd.databricks.v1+cell": {
     "cellMetadata": {
      "byteLimit": 2048000,
      "rowLimit": 10000
     },
     "inputWidgets": {},
     "nuid": "fad54dcd-62bd-40b7-865e-607fa2830f7e",
     "showTitle": false,
     "title": ""
    }
   },
   "source": [
    "##Reading Data"
   ]
  },
  {
   "cell_type": "code",
   "execution_count": 0,
   "metadata": {
    "application/vnd.databricks.v1+cell": {
     "cellMetadata": {
      "byteLimit": 2048000,
      "rowLimit": 10000
     },
     "inputWidgets": {},
     "nuid": "22430576-ba99-4405-b9b0-099286bcfd95",
     "showTitle": false,
     "title": ""
    }
   },
   "outputs": [],
   "source": [
    "cust=pd.read_csv(\"/dbfs/FileStore/shared_uploads/prem@loyalytics.in/ao_cust.csv\")\n",
    "attr=pd.read_csv(\"/dbfs/FileStore/shared_uploads/prem@loyalytics.in/ao_attributes.csv\")\n",
    "gp=pd.read_csv(\"/dbfs/FileStore/shared_uploads/prem@loyalytics.in/ao_gp.csv\")"
   ]
  },
  {
   "cell_type": "code",
   "execution_count": 0,
   "metadata": {
    "application/vnd.databricks.v1+cell": {
     "cellMetadata": {
      "byteLimit": 2048000,
      "rowLimit": 10000
     },
     "inputWidgets": {},
     "nuid": "f2e90c12-22b6-41fb-9e6e-ea353af5ce31",
     "showTitle": false,
     "title": ""
    }
   },
   "outputs": [],
   "source": [
    "df = pd.read_csv(\"/dbfs/FileStore/shared_uploads/prem@loyalytics.in/ao_products_weekly_data.csv\")\n",
    "df = pd.merge(df, gp[['material_id', 'new_buckets']], on='material_id', how='inner')"
   ]
  },
  {
   "cell_type": "markdown",
   "metadata": {
    "application/vnd.databricks.v1+cell": {
     "cellMetadata": {
      "byteLimit": 2048000,
      "rowLimit": 10000
     },
     "inputWidgets": {},
     "nuid": "0ecaead7-c6b2-4c7e-b214-3394c38109e9",
     "showTitle": false,
     "title": ""
    }
   },
   "source": [
    "##Data Prep"
   ]
  },
  {
   "cell_type": "markdown",
   "metadata": {
    "application/vnd.databricks.v1+cell": {
     "cellMetadata": {
      "byteLimit": 2048000,
      "rowLimit": 10000
     },
     "inputWidgets": {},
     "nuid": "b3cd3ebc-8e9d-4327-87e9-0700778a1d39",
     "showTitle": false,
     "title": ""
    }
   },
   "source": [
    "###SKU AVG weekly sales"
   ]
  },
  {
   "cell_type": "code",
   "execution_count": 0,
   "metadata": {
    "application/vnd.databricks.v1+cell": {
     "cellMetadata": {
      "byteLimit": 2048000,
      "rowLimit": 10000
     },
     "inputWidgets": {},
     "nuid": "3c859557-cd45-41b9-8136-611dfb082def",
     "showTitle": false,
     "title": ""
    }
   },
   "outputs": [],
   "source": [
    "# Calculate total sales for each material and their sales contribution\n",
    "\n",
    "material_total_sales = df.groupby('material_id')['sale'].sum().reset_index()\n",
    "df = pd.merge(df, material_total_sales, on='material_id', how='left', suffixes=('', '2'))\n",
    "df.rename(columns={'sale2': 'material_total_sales'}, inplace=True)\n",
    "\n",
    "total_sales = df['sale'].sum()\n",
    "df['sales_contri'] = (df['material_total_sales'] / total_sales)"
   ]
  },
  {
   "cell_type": "code",
   "execution_count": 0,
   "metadata": {
    "application/vnd.databricks.v1+cell": {
     "cellMetadata": {
      "byteLimit": 2048000,
      "rowLimit": 10000
     },
     "inputWidgets": {},
     "nuid": "33f74151-433a-4c5d-8f40-a1c69fab0e4f",
     "showTitle": false,
     "title": ""
    }
   },
   "outputs": [],
   "source": [
    "# Calculate average weekly sales\n",
    "\n",
    "df['num_weeks'] = df.groupby('material_id')['week_number'].transform('nunique')\n",
    "df['avg_weekly_sales'] = (df['material_total_sales'] / df['num_weeks']).round()\n",
    "avg_weekly_sales_df = df[['material_id', 'sales_contri', 'avg_weekly_sales']].drop_duplicates().reset_index(drop = True)"
   ]
  },
  {
   "cell_type": "markdown",
   "metadata": {
    "application/vnd.databricks.v1+cell": {
     "cellMetadata": {
      "byteLimit": 2048000,
      "rowLimit": 10000
     },
     "inputWidgets": {},
     "nuid": "609d5f15-216f-4216-89b1-2977693f430a",
     "showTitle": false,
     "title": ""
    }
   },
   "source": [
    "###Store Listings"
   ]
  },
  {
   "cell_type": "code",
   "execution_count": 0,
   "metadata": {
    "application/vnd.databricks.v1+cell": {
     "cellMetadata": {
      "byteLimit": 2048000,
      "rowLimit": 10000
     },
     "inputWidgets": {},
     "nuid": "1d02eed5-d633-4434-9ea0-7b277aa41ec4",
     "showTitle": false,
     "title": ""
    }
   },
   "outputs": [],
   "source": [
    "query = \"\"\"\n",
    "SELECT store_id, store_name\n",
    "FROM gold.store_master\n",
    "\"\"\"\n",
    "\n",
    "store_names = spark.sql(query).toPandas()"
   ]
  },
  {
   "cell_type": "code",
   "execution_count": 0,
   "metadata": {
    "application/vnd.databricks.v1+cell": {
     "cellMetadata": {
      "byteLimit": 2048000,
      "rowLimit": 10000
     },
     "inputWidgets": {},
     "nuid": "ba4cc4b2-e792-4979-b786-152b76a14587",
     "showTitle": false,
     "title": ""
    }
   },
   "outputs": [],
   "source": [
    "material_store_df = pd.read_csv(\"/dbfs/FileStore/shared_uploads/prem@loyalytics.in/ao_material_store_data.csv\")\n",
    "material_store_df = material_store_df.groupby(['material_id', 'store_id'])['total_sales'].sum().reset_index()"
   ]
  },
  {
   "cell_type": "code",
   "execution_count": 0,
   "metadata": {
    "application/vnd.databricks.v1+cell": {
     "cellMetadata": {
      "byteLimit": 2048000,
      "rowLimit": 10000
     },
     "inputWidgets": {},
     "nuid": "88e23421-c062-407e-b7c9-6744d41b03ba",
     "showTitle": false,
     "title": ""
    }
   },
   "outputs": [],
   "source": [
    "material_store_df['num_materials'] = material_store_df.groupby('store_id')['material_id'].transform('nunique')\n",
    "material_store_df = material_store_df.groupby('store_id').agg({'total_sales': 'sum', 'num_materials': 'mean'}).reset_index()\n",
    "\n",
    "material_store_df = material_store_df.merge(store_names, on='store_id', how='left')\n",
    "material_store_df = material_store_df.sort_values(by = 'num_materials', ascending = False)\n",
    "\n",
    "z = spark.createDataFrame(material_store_df)\n",
    "z.createOrReplaceTempView('store_wise_material_listings')"
   ]
  },
  {
   "cell_type": "code",
   "execution_count": 0,
   "metadata": {
    "application/vnd.databricks.v1+cell": {
     "cellMetadata": {
      "byteLimit": 2048000,
      "rowLimit": 10000
     },
     "inputWidgets": {},
     "nuid": "d6b4b490-7cdc-466c-858d-5c05a8b9390b",
     "showTitle": false,
     "title": ""
    }
   },
   "outputs": [],
   "source": [
    "# %sql\n",
    "# SELECT * FROM store_wise_material_listings"
   ]
  },
  {
   "cell_type": "markdown",
   "metadata": {
    "application/vnd.databricks.v1+cell": {
     "cellMetadata": {
      "byteLimit": 2048000,
      "rowLimit": 10000
     },
     "inputWidgets": {},
     "nuid": "a3926319-07f9-413e-8226-b1bfabe936c3",
     "showTitle": false,
     "title": ""
    }
   },
   "source": [
    "###Store pnt by Sales Deciles"
   ]
  },
  {
   "cell_type": "code",
   "execution_count": 0,
   "metadata": {
    "application/vnd.databricks.v1+cell": {
     "cellMetadata": {
      "byteLimit": 2048000,
      "rowLimit": 10000
     },
     "inputWidgets": {},
     "nuid": "09894ff9-514d-4766-bb3b-0fa724bcbd35",
     "showTitle": false,
     "title": ""
    }
   },
   "outputs": [],
   "source": [
    "material_store_df.sort_values(by = 'total_sales', ascending = False, inplace = True)\n",
    "\n",
    "total_sales = material_store_df['total_sales'].sum()\n",
    "material_store_df['sales_contri'] = (material_store_df['total_sales'] / total_sales)\n",
    "\n",
    "material_wise_contri = material_store_df[['store_id', 'sales_contri']]\n",
    "material_wise_contri = material_wise_contri.sort_values(by = 'sales_contri', ascending = False).reset_index(drop = True)\n",
    "material_wise_contri['cumulative_contri'] = material_wise_contri['sales_contri'].cumsum()\n",
    "\n",
    "material_store_df = pd.merge(material_store_df, material_wise_contri, on = 'store_id', how = 'left', suffixes=('', '2'))\n",
    "material_store_df = material_store_df.drop(columns = ['sales_contri2'])"
   ]
  },
  {
   "cell_type": "code",
   "execution_count": 0,
   "metadata": {
    "application/vnd.databricks.v1+cell": {
     "cellMetadata": {
      "byteLimit": 2048000,
      "rowLimit": 10000
     },
     "inputWidgets": {},
     "nuid": "a22e365a-1f70-4234-b095-00408ebcc92e",
     "showTitle": false,
     "title": ""
    }
   },
   "outputs": [],
   "source": [
    "bins = [0, 0.1, 0.2, 0.3, 0.4, 0.5, 0.6, 0.7, 0.8, 0.9, 1]\n",
    "labels = [1, 2, 3, 4, 5, 6, 7, 8, 9, 10]\n",
    "material_store_df['Deciles'] = pd.cut(material_store_df['cumulative_contri'], bins=bins, labels=labels, include_lowest=True)\n",
    "\n",
    "material_store_df['decile_store_count'] = material_store_df.groupby('Deciles')['store_id'].transform('count')"
   ]
  },
  {
   "cell_type": "code",
   "execution_count": 0,
   "metadata": {
    "application/vnd.databricks.v1+cell": {
     "cellMetadata": {
      "byteLimit": 2048000,
      "rowLimit": 10000
     },
     "inputWidgets": {},
     "nuid": "58029ebc-8e0b-491e-978a-461789d0dfb4",
     "showTitle": false,
     "title": ""
    }
   },
   "outputs": [],
   "source": [
    "ref = pd.read_csv(\"/dbfs/FileStore/shared_uploads/prem@loyalytics.in/ao_material_store_data.csv\")\n",
    "\n",
    "num_materials = []\n",
    "for i in material_store_df['Deciles'].values:\n",
    "    stores = material_store_df[material_store_df['Deciles'] == i]['store_id'].values\n",
    "    materials = ref[ref['store_id'].isin(stores)]['material_id'].nunique()\n",
    "    num_materials.append(materials)\n",
    "\n",
    "material_store_df['Decile_num_materials'] = num_materials"
   ]
  },
  {
   "cell_type": "code",
   "execution_count": 0,
   "metadata": {
    "application/vnd.databricks.v1+cell": {
     "cellMetadata": {
      "byteLimit": 2048000,
      "rowLimit": 10000
     },
     "inputWidgets": {},
     "nuid": "00c26de8-3220-46b2-8b47-d3db7639454d",
     "showTitle": false,
     "title": ""
    }
   },
   "outputs": [],
   "source": [
    "# material_store_df.sort_index(inplace = True)\n",
    "\n",
    "# min_total_sales = material_store_df['total_sales'].min()\n",
    "# max_total_sales = material_store_df['total_sales'].max()\n",
    "# ranges = (max_total_sales - min_total_sales)//10\n",
    "\n",
    "# bin_edges = [min_total_sales + ranges*i for i in range(10)]\n",
    "# bin_edges.append(float('inf'))\n",
    "# bin_labels = ['1', '2', '3', '4', '5', '6', '7', '8', '9', '10']\n",
    "\n",
    "# material_store_df['sales_decile'] = pd.cut(material_store_df['total_sales'],\n",
    "#                                            bins=bin_edges, labels=bin_labels, include_lowest=True)"
   ]
  },
  {
   "cell_type": "markdown",
   "metadata": {
    "application/vnd.databricks.v1+cell": {
     "cellMetadata": {
      "byteLimit": 2048000,
      "rowLimit": 10000
     },
     "inputWidgets": {},
     "nuid": "521d6f36-dba8-46b0-938c-f9a49ece999c",
     "showTitle": false,
     "title": ""
    }
   },
   "source": [
    "###SKU AVG weekly GP"
   ]
  },
  {
   "cell_type": "code",
   "execution_count": 0,
   "metadata": {
    "application/vnd.databricks.v1+cell": {
     "cellMetadata": {
      "byteLimit": 2048000,
      "rowLimit": 10000
     },
     "inputWidgets": {},
     "nuid": "4f6dc628-526e-4e31-b591-d80ef552f808",
     "showTitle": false,
     "title": ""
    }
   },
   "outputs": [],
   "source": [
    "gp = pd.merge(gp, df[['material_id', 'num_weeks']].drop_duplicates(), on='material_id', how='inner')\n",
    "gp['avg_weekly_gp'] = gp['GP'] / gp['num_weeks']\n",
    "gp = pd.merge(gp, avg_weekly_sales_df, on='material_id', how='inner')\n",
    "gp = pd.merge(gp, attr[['material_id', 'material_name', 'Brand']], on='material_id', how='left')\n",
    "\n",
    "y = spark.createDataFrame(gp)\n",
    "y.createOrReplaceTempView('avg_weekly_sales_gp')"
   ]
  },
  {
   "cell_type": "code",
   "execution_count": 0,
   "metadata": {
    "application/vnd.databricks.v1+cell": {
     "cellMetadata": {
      "byteLimit": 2048000,
      "rowLimit": 10000
     },
     "inputWidgets": {},
     "nuid": "c8c90544-a859-424e-a5c5-a085698fdf00",
     "showTitle": false,
     "title": ""
    }
   },
   "outputs": [],
   "source": [
    "# %sql\n",
    "# SELECT * FROM avg_weekly_sales_gp"
   ]
  },
  {
   "cell_type": "markdown",
   "metadata": {
    "application/vnd.databricks.v1+cell": {
     "cellMetadata": {
      "byteLimit": 2048000,
      "rowLimit": 10000
     },
     "inputWidgets": {},
     "nuid": "8c237b68-d1f7-4adc-88b8-dec2fdb9dc99",
     "showTitle": false,
     "title": ""
    }
   },
   "source": [
    "###Brand AVG weekly sales & GP"
   ]
  },
  {
   "cell_type": "code",
   "execution_count": 0,
   "metadata": {
    "application/vnd.databricks.v1+cell": {
     "cellMetadata": {
      "byteLimit": 2048000,
      "rowLimit": 10000
     },
     "inputWidgets": {},
     "nuid": "47bac4c7-52f8-4510-9884-82d77c8ad1a6",
     "showTitle": false,
     "title": ""
    }
   },
   "outputs": [],
   "source": [
    "df = pd.merge(df, attr[['material_id', 'material_name', 'Brand']], on='material_id', how='left')"
   ]
  },
  {
   "cell_type": "code",
   "execution_count": 0,
   "metadata": {
    "application/vnd.databricks.v1+cell": {
     "cellMetadata": {
      "byteLimit": 2048000,
      "rowLimit": 10000
     },
     "inputWidgets": {},
     "nuid": "c7c2ef00-d2da-4aeb-9ded-81772ca7b700",
     "showTitle": false,
     "title": ""
    }
   },
   "outputs": [],
   "source": [
    "brand_df = df.groupby(['Brand', 'week_number'])['sale'].sum().reset_index()\n",
    "\n",
    "brand_total_sales = brand_df.groupby('Brand')['sale'].sum().reset_index()\n",
    "brand_df = pd.merge(brand_df, brand_total_sales, on='Brand', how='left', suffixes=('', '2'))\n",
    "brand_df.rename(columns={'sale2': 'brand_total_sales'}, inplace=True)\n",
    "\n",
    "brand_df['num_weeks'] = brand_df.groupby('Brand')['week_number'].transform('nunique')\n",
    "brand_df['avg_weekly_sales'] = (brand_df['brand_total_sales'] / brand_df['num_weeks']).round()\n",
    "brand_avg_weekly_df = brand_df[['Brand', 'avg_weekly_sales']].drop_duplicates().reset_index(drop = True)"
   ]
  },
  {
   "cell_type": "code",
   "execution_count": 0,
   "metadata": {
    "application/vnd.databricks.v1+cell": {
     "cellMetadata": {
      "byteLimit": 2048000,
      "rowLimit": 10000
     },
     "inputWidgets": {},
     "nuid": "0bb9e41d-3705-4033-9d54-82e174c425e3",
     "showTitle": false,
     "title": ""
    }
   },
   "outputs": [],
   "source": [
    "brand_gp_df = gp[['Brand', 'GP']].groupby('Brand')['GP'].sum().reset_index()\n",
    "\n",
    "brand_gp_df = pd.merge(brand_gp_df, brand_df[['Brand', 'num_weeks']].drop_duplicates(), on='Brand', how='inner')\n",
    "brand_gp_df['avg_weekly_gp'] = brand_gp_df['GP'] / brand_gp_df['num_weeks']\n",
    "brand_gp_df = pd.merge(brand_gp_df, brand_avg_weekly_df, on='Brand', how='inner')\n",
    "\n",
    "x = spark.createDataFrame(brand_gp_df)\n",
    "x.createOrReplaceTempView('brand_avg_weekly_sales_gp')"
   ]
  },
  {
   "cell_type": "code",
   "execution_count": 0,
   "metadata": {
    "application/vnd.databricks.v1+cell": {
     "cellMetadata": {
      "byteLimit": 2048000,
      "rowLimit": 10000
     },
     "inputWidgets": {},
     "nuid": "fbf63ef9-8c2e-424e-96fe-173cb2e01516",
     "showTitle": false,
     "title": ""
    }
   },
   "outputs": [],
   "source": [
    "# %sql\n",
    "# SELECT * FROM brand_avg_weekly_sales_gp"
   ]
  },
  {
   "cell_type": "markdown",
   "metadata": {
    "application/vnd.databricks.v1+cell": {
     "cellMetadata": {
      "byteLimit": 2048000,
      "rowLimit": 10000
     },
     "inputWidgets": {},
     "nuid": "67d85679-7384-4284-bb13-0b829e01682e",
     "showTitle": false,
     "title": ""
    }
   },
   "source": [
    "###(Misc) Weekly data horizontal format"
   ]
  },
  {
   "cell_type": "code",
   "execution_count": 0,
   "metadata": {
    "application/vnd.databricks.v1+cell": {
     "cellMetadata": {
      "byteLimit": 2048000,
      "rowLimit": 10000
     },
     "inputWidgets": {},
     "nuid": "d4de16fb-340e-4003-9567-c96ffcabc24f",
     "showTitle": false,
     "title": ""
    }
   },
   "outputs": [],
   "source": [
    "cust['vip+freq_perc'] = (cust['vip_cust'] + cust['freq_cust']) / (cust['tot_vip'] + cust['tot_freq'])"
   ]
  },
  {
   "cell_type": "code",
   "execution_count": 0,
   "metadata": {
    "application/vnd.databricks.v1+cell": {
     "cellMetadata": {
      "byteLimit": 2048000,
      "rowLimit": 10000
     },
     "inputWidgets": {},
     "nuid": "ffb981d4-c945-42f8-812a-c2cf0bdc107a",
     "showTitle": false,
     "title": ""
    }
   },
   "outputs": [],
   "source": [
    "data = pd.merge(df, cust[['material_id', 'vip+freq_perc', 'vip_cust_perc', 'freq_cust_perc']], on='material_id', how='left')\n",
    "data['vip+freq_perc'] = data['vip+freq_perc'].fillna(0)\n",
    "data['vip_cust_perc'] = data['vip_cust_perc'].fillna(0)\n",
    "data['freq_cust_perc'] = data['freq_cust_perc'].fillna(0)\n",
    "data = pd.merge(data, gp[['material_id', 'GP']], on='material_id', how='left')\n",
    "data = pd.merge(data, attr[['material_id', 'material_group']], on='material_id', how='left')\n",
    "data = data.drop(columns=['material_store_count', 'material_total_sales', 'sales_contri', 'num_weeks', 'avg_weekly_sales', 'Brand'])"
   ]
  },
  {
   "cell_type": "code",
   "execution_count": 0,
   "metadata": {
    "application/vnd.databricks.v1+cell": {
     "cellMetadata": {
      "byteLimit": 2048000,
      "rowLimit": 10000
     },
     "inputWidgets": {},
     "nuid": "f4d73469-ec33-4b50-b3ad-1c07e44d5a9d",
     "showTitle": false,
     "title": ""
    }
   },
   "outputs": [],
   "source": [
    "dct = {'Wk' + str(i): [] for i in range(1, 53)}\n",
    "\n",
    "materials = data['material_id'].unique()\n",
    "for material in materials:\n",
    "    weeks = data[data['material_id'] == material]['week_number'].values\n",
    "    sales = data[data['material_id'] == material]['sale'].values\n",
    "    vol = data[data['material_id'] == material]['vol'].values\n",
    "    GP = data[data['material_id'] == material]['GP'].values\n",
    "    store = data[data['material_id'] == material]['material_weekly_store_count'].values\n",
    "    cwd = data[data['material_id'] == material]['cwd'].values\n",
    "\n",
    "    for i, week in enumerate(weeks):\n",
    "        key = 'Wk' + str(week)\n",
    "        dct[key].extend([sales[i], vol[i], GP[i], store[i], cwd[i]])\n",
    "    \n",
    "    for key in dct.keys():\n",
    "        if int(key[2:]) not in weeks:\n",
    "            dct[key].extend([0, 0, 0, 0, 0])\n",
    "\n",
    "converted_df = pd.DataFrame(dct)\n",
    "\n",
    "materials = [item for item in materials for _ in range(5)]\n",
    "measures = ['Sales', 'Quantity', 'GP', 'Store Count', 'cwd']*df['material_id'].nunique()\n",
    "converted_df['material_id'] = materials\n",
    "converted_df['measures'] = measures"
   ]
  },
  {
   "cell_type": "code",
   "execution_count": 0,
   "metadata": {
    "application/vnd.databricks.v1+cell": {
     "cellMetadata": {
      "byteLimit": 2048000,
      "rowLimit": 10000
     },
     "inputWidgets": {},
     "nuid": "77a15df6-2fdb-46bc-8d07-af0bfe254e6f",
     "showTitle": false,
     "title": ""
    }
   },
   "outputs": [],
   "source": [
    "a = data.drop(columns=['week_number', 'sale', 'vol', 'GP', 'material_weekly_store_count', 'cwd'])\n",
    "a = a.drop_duplicates()\n",
    "converted_df = pd.merge(converted_df, a, on='material_id', how='inner')\n",
    "\n",
    "w = spark.createDataFrame(converted_df)\n",
    "w.createOrReplaceTempView('weekly_data_horizontal_format')"
   ]
  },
  {
   "cell_type": "code",
   "execution_count": 0,
   "metadata": {
    "application/vnd.databricks.v1+cell": {
     "cellMetadata": {
      "byteLimit": 2048000,
      "rowLimit": 10000
     },
     "inputWidgets": {},
     "nuid": "95eeef93-7873-49b8-9c4d-a92f58f035aa",
     "showTitle": false,
     "title": ""
    }
   },
   "outputs": [],
   "source": [
    "# %sql\n",
    "# SELECT * FROM weekly_data_horizontal_format"
   ]
  },
  {
   "cell_type": "markdown",
   "metadata": {
    "application/vnd.databricks.v1+cell": {
     "cellMetadata": {
      "byteLimit": 2048000,
      "rowLimit": 10000
     },
     "inputWidgets": {},
     "nuid": "3b840fe8-7646-429a-9c54-e3dc85c756a7",
     "showTitle": false,
     "title": ""
    }
   },
   "source": [
    "###(Misc) Delist SKUs Store Listings and Region Distribution"
   ]
  },
  {
   "cell_type": "code",
   "execution_count": 0,
   "metadata": {
    "application/vnd.databricks.v1+cell": {
     "cellMetadata": {
      "byteLimit": 2048000,
      "rowLimit": 10000
     },
     "inputWidgets": {},
     "nuid": "4e0677e7-6d4b-4f33-93cd-3e293e792df4",
     "showTitle": false,
     "title": ""
    }
   },
   "outputs": [],
   "source": [
    "query = \"SELECT DISTINCT store_id, sub_segment FROM gold.store_master\"\n",
    "store_master = spark.sql(query).toPandas()\n",
    "\n",
    "p = pd.read_csv(\"/dbfs/FileStore/shared_uploads/prem@loyalytics.in/ao_material_store_data.csv\")\n",
    "p.drop(columns='total_sales', inplace=True)\n",
    "\n",
    "store_master = pd.merge(p, store_master, on='store_id', how='left')\n",
    "store_master = store_master.sort_values(by=['material_id', 'week_number'])"
   ]
  },
  {
   "cell_type": "code",
   "execution_count": 0,
   "metadata": {
    "application/vnd.databricks.v1+cell": {
     "cellMetadata": {
      "byteLimit": 2048000,
      "rowLimit": 10000
     },
     "inputWidgets": {},
     "nuid": "cb4cf6d1-892d-4655-b5b2-00eda941dd3b",
     "showTitle": false,
     "title": ""
    }
   },
   "outputs": [],
   "source": [
    "store_master['weekly_store_count'] = store_master.groupby(['material_id', 'week_number'])['store_id'].transform('nunique')\n",
    "\n",
    "store_master['weekly_sub_segment_count'] = store_master.groupby(['material_id', 'week_number', 'sub_segment'])['sub_segment'].transform('count')\n",
    "\n",
    "store_master.drop(columns='store_id', inplace=True)\n",
    "store_master = store_master.drop_duplicates().reset_index(drop=True)"
   ]
  },
  {
   "cell_type": "code",
   "execution_count": 0,
   "metadata": {
    "application/vnd.databricks.v1+cell": {
     "cellMetadata": {
      "byteLimit": 2048000,
      "rowLimit": 10000
     },
     "inputWidgets": {},
     "nuid": "e6bd17ad-a877-4378-9b62-a77e6cc95e90",
     "showTitle": false,
     "title": ""
    }
   },
   "outputs": [],
   "source": [
    "store_master['min_listing'] = store_master.groupby('material_id')['weekly_store_count'].transform('min')\n",
    "store_master['max_listing'] = store_master.groupby('material_id')['weekly_store_count'].transform('max')\n",
    "store_master['avg_listing'] = store_master.groupby('material_id')['weekly_store_count'].transform('mean')"
   ]
  },
  {
   "cell_type": "code",
   "execution_count": 0,
   "metadata": {
    "application/vnd.databricks.v1+cell": {
     "cellMetadata": {
      "byteLimit": 2048000,
      "rowLimit": 10000
     },
     "inputWidgets": {},
     "nuid": "5d2166d6-5691-4792-993f-85f9df9014b8",
     "showTitle": false,
     "title": ""
    }
   },
   "outputs": [],
   "source": [
    "store_format_df = pd.DataFrame()\n",
    "for material in store_master['material_id'].unique():\n",
    "    for week in store_master[store_master['material_id'] == material]['week_number'].unique():\n",
    "        \n",
    "        if store_master[(store_master['material_id'] == material) & (store_master['week_number'] == week)]['max_listing'].unique() == store_master[(store_master['material_id'] == material) & (store_master['week_number'] == week)]['weekly_store_count'].unique():\n",
    "\n",
    "            store_format_df = pd.concat([store_format_df, store_master[(store_master['material_id'] == material) & (store_master['week_number'] == week)]])"
   ]
  },
  {
   "cell_type": "code",
   "execution_count": 0,
   "metadata": {
    "application/vnd.databricks.v1+cell": {
     "cellMetadata": {
      "byteLimit": 2048000,
      "rowLimit": 10000
     },
     "inputWidgets": {},
     "nuid": "c5c271e4-c1af-4cc6-afbb-9488d7713fbc",
     "showTitle": false,
     "title": ""
    }
   },
   "outputs": [],
   "source": [
    "store_format_df = store_format_df[['material_id', 'sub_segment', 'min_listing', 'max_listing', 'avg_listing', 'weekly_sub_segment_count']].drop_duplicates().reset_index(drop=True)"
   ]
  },
  {
   "cell_type": "code",
   "execution_count": 0,
   "metadata": {
    "application/vnd.databricks.v1+cell": {
     "cellMetadata": {
      "byteLimit": 2048000,
      "rowLimit": 10000
     },
     "inputWidgets": {},
     "nuid": "c3e64608-6cc4-49cd-a5cc-5e71bcf754da",
     "showTitle": false,
     "title": ""
    }
   },
   "outputs": [],
   "source": [
    "t = df[['material_id', 'new_buckets']].drop_duplicates().reset_index(drop=True)\n",
    "store_format_df = pd.merge(store_format_df, t, on='material_id', how='left')\n",
    "\n",
    "store_format_df = store_format_df[store_format_df['new_buckets'] == 'Delist']\n",
    "store_format_df = store_format_df.reset_index(drop=True)\n",
    "\n",
    "store_format_df['store_sub_segment_dist'] = store_format_df['weekly_sub_segment_count']/store_format_df['max_listing']\n",
    "\n",
    "v = spark.createDataFrame(store_format_df[['material_id', 'min_listing', 'max_listing', 'avg_listing']].drop_duplicates())\n",
    "v.createOrReplaceTempView('min_max_avg_store_listings')\n",
    "\n",
    "u = spark.createDataFrame(store_format_df[['material_id', 'sub_segment', 'store_sub_segment_dist']])\n",
    "u.createOrReplaceTempView('store_sub_segment_dist')"
   ]
  },
  {
   "cell_type": "code",
   "execution_count": 0,
   "metadata": {
    "application/vnd.databricks.v1+cell": {
     "cellMetadata": {
      "byteLimit": 2048000,
      "implicitDf": true,
      "rowLimit": 10000
     },
     "inputWidgets": {},
     "nuid": "b383e73a-15a1-484b-9786-94f937034593",
     "showTitle": false,
     "title": ""
    }
   },
   "outputs": [],
   "source": [
    "%sql\n",
    "-- SELECT * FROM min_max_avg_store_listings\n",
    "-- SELECT * FROM store_sub_segment_dist"
   ]
  },
  {
   "cell_type": "code",
   "execution_count": 0,
   "metadata": {
    "application/vnd.databricks.v1+cell": {
     "cellMetadata": {
      "byteLimit": 2048000,
      "implicitDf": true,
      "rowLimit": 10000
     },
     "inputWidgets": {},
     "nuid": "20b39052-eb30-4ffb-bfb1-1855aff32c03",
     "showTitle": false,
     "title": ""
    }
   },
   "outputs": [],
   "source": [
    "# %sql\n",
    "# SELECT DISTINCT material_id,\n",
    "#         region_name,\n",
    "#         ROUND(SUM(amount),0) AS sales\n",
    "# FROM gold.pos_transactions AS t1\n",
    "# JOIN store_sub_segment_dist AS t2 ON t1.product_id = t2.material_id\n",
    "# JOIN gold.store_master AS t3 ON t1.store_id = t3.store_id\n",
    "# WHERE business_day BETWEEN \"2023-01-01\" AND \"2023-12-31\"\n",
    "# AND material_id NOT IN (1573921, 980147, 1012937, 1546450)\n",
    "# GROUP BY material_id, region_name\n",
    "# HAVING sales > 0\n",
    "# ORDER BY material_id, region_name"
   ]
  },
  {
   "cell_type": "markdown",
   "metadata": {
    "application/vnd.databricks.v1+cell": {
     "cellMetadata": {},
     "inputWidgets": {},
     "nuid": "fd3c5bed-5484-4748-90c8-cee5c191344e",
     "showTitle": false,
     "title": ""
    }
   },
   "source": [
    "###(Misc) Ramadan Specific SKUs"
   ]
  },
  {
   "cell_type": "code",
   "execution_count": 0,
   "metadata": {
    "application/vnd.databricks.v1+cell": {
     "cellMetadata": {
      "byteLimit": 2048000,
      "rowLimit": 10000
     },
     "inputWidgets": {},
     "nuid": "7ef02e25-f235-4b63-b442-6411cd4dc61c",
     "showTitle": false,
     "title": ""
    }
   },
   "outputs": [],
   "source": [
    "f = df[['material_id', 'week_number', 'sale', 'new_buckets']].reset_index(drop=True)\n",
    "f['ramadan_week_flag'] = np.where((f.week_number>=11) & (f.week_number<=16) , 1, 0)\n",
    "f = f.groupby(['material_id', 'new_buckets', 'ramadan_week_flag'])['sale'].sum().reset_index()\n",
    "f = spark.createDataFrame(f)\n",
    "f.createOrReplaceTempView('ramadan_specific_skus')"
   ]
  },
  {
   "cell_type": "code",
   "execution_count": 0,
   "metadata": {
    "application/vnd.databricks.v1+cell": {
     "cellMetadata": {
      "byteLimit": 2048000,
      "implicitDf": true,
      "rowLimit": 10000
     },
     "inputWidgets": {},
     "nuid": "6c41cb80-2914-41c2-93d6-9a849febca98",
     "showTitle": false,
     "title": ""
    }
   },
   "outputs": [],
   "source": [
    "%sql\n",
    "-- SELECT * FROM ramadan_specific_skus\n",
    "-- WHERE material_id NOT IN (1573921, 980147, 1012937, 1546450)"
   ]
  },
  {
   "cell_type": "markdown",
   "metadata": {
    "application/vnd.databricks.v1+cell": {
     "cellMetadata": {
      "byteLimit": 2048000,
      "rowLimit": 10000
     },
     "inputWidgets": {},
     "nuid": "4852046b-0ef3-470c-9683-ef5a4c7430ce",
     "showTitle": false,
     "title": ""
    }
   },
   "source": [
    "##Plots"
   ]
  },
  {
   "cell_type": "markdown",
   "metadata": {
    "application/vnd.databricks.v1+cell": {
     "cellMetadata": {
      "byteLimit": 2048000,
      "rowLimit": 10000
     },
     "inputWidgets": {},
     "nuid": "03ed5a46-6312-4a25-bc63-7b4caf940f7a",
     "showTitle": false,
     "title": ""
    }
   },
   "source": [
    "###Store pnt by Sales Deciles"
   ]
  },
  {
   "cell_type": "code",
   "execution_count": 0,
   "metadata": {
    "application/vnd.databricks.v1+cell": {
     "cellMetadata": {
      "byteLimit": 2048000,
      "rowLimit": 10000
     },
     "inputWidgets": {},
     "nuid": "269c75e7-cb80-476a-bbc8-c7c0a04b5102",
     "showTitle": false,
     "title": ""
    }
   },
   "outputs": [],
   "source": [
    "plot_data = material_store_df[['Deciles', 'decile_store_count', 'Decile_num_materials']].drop_duplicates().reset_index(drop = True)\n",
    "\n",
    "w = spark.createDataFrame(plot_data)\n",
    "w.createOrReplaceTempView('store_penetration_deciles')"
   ]
  },
  {
   "cell_type": "code",
   "execution_count": 0,
   "metadata": {
    "application/vnd.databricks.v1+cell": {
     "cellMetadata": {
      "byteLimit": 2048000,
      "rowLimit": 10000
     },
     "inputWidgets": {},
     "nuid": "38ad3df2-9f23-4e90-aa57-aab95f1ccc27",
     "showTitle": false,
     "title": ""
    }
   },
   "outputs": [],
   "source": [
    "# %sql\n",
    "# SELECT * FROM store_penetration_deciles"
   ]
  },
  {
   "cell_type": "code",
   "execution_count": 0,
   "metadata": {
    "application/vnd.databricks.v1+cell": {
     "cellMetadata": {
      "byteLimit": 2048000,
      "rowLimit": 10000
     },
     "inputWidgets": {},
     "nuid": "0b9c1bc8-912f-408f-850d-2523e7b3b04b",
     "showTitle": false,
     "title": ""
    }
   },
   "outputs": [],
   "source": [
    "# deciles = plot_data['Deciles']\n",
    "# decile_store_count = plot_data['decile_store_count']\n",
    "# decile_num_materials = plot_data['Decile_num_materials']\n",
    "\n",
    "# fig, ax = plt.subplots(figsize=(10, 10))\n",
    "# bars = ax.bar(deciles, decile_store_count, color='limegreen', width=0.8)\n",
    "\n",
    "# for bar, label in zip(bars, decile_num_materials):\n",
    "#     yval = bar.get_height()\n",
    "#     ax.text(bar.get_x() + bar.get_width() / 2, yval + 0.5, label, ha='center', va='bottom')\n",
    "\n",
    "# ax.set_xlabel('Deciles', fontsize=14)\n",
    "# ax.set_ylabel('Store Counts', fontsize=14)\n",
    "# ax.set_title('Store Penetration by Sales Deciles (with No. of SKUs)', fontsize=16)\n",
    "# ax.set_xticks(deciles)\n",
    "# plt.show()"
   ]
  },
  {
   "cell_type": "markdown",
   "metadata": {
    "application/vnd.databricks.v1+cell": {
     "cellMetadata": {
      "byteLimit": 2048000,
      "rowLimit": 10000
     },
     "inputWidgets": {},
     "nuid": "43835318-5019-4728-88fb-7ede0f22b516",
     "showTitle": false,
     "title": ""
    }
   },
   "source": [
    "###Grow view - where they are placed (SSW angle)"
   ]
  },
  {
   "cell_type": "code",
   "execution_count": 0,
   "metadata": {
    "application/vnd.databricks.v1+cell": {
     "cellMetadata": {
      "byteLimit": 2048000,
      "rowLimit": 10000
     },
     "inputWidgets": {},
     "nuid": "67b27e66-f13e-467c-b76d-770c11b9c665",
     "showTitle": false,
     "title": ""
    }
   },
   "outputs": [],
   "source": [
    "df['SSW'] = df.apply(lambda row: safe_division(row['sale'], row['material_store_count']), axis=1)\n",
    "\n",
    "pldf = pd.merge(df.groupby('material_id')['sale'].sum().reset_index(),\n",
    "                 df[['material_id', 'material_store_count', 'new_buckets']].drop_duplicates(),\n",
    "                 on='material_id',\n",
    "                 how='inner')\n",
    "pldf['SSW'] = pldf.apply(lambda row: safe_division(row['sale'], row['material_store_count']), axis=1)\n",
    "pldf = pldf[pldf['new_buckets'] == 'Grow']\n",
    "\n",
    "fig = px.scatter(pldf, x=\"SSW\", y=\"material_store_count\")\n",
    "\n",
    "fig.add_hline(y=pldf.material_store_count.mean())\n",
    "fig.add_vline(x=pldf.SSW.mean())\n",
    "fig.show()"
   ]
  },
  {
   "cell_type": "markdown",
   "metadata": {
    "application/vnd.databricks.v1+cell": {
     "cellMetadata": {
      "byteLimit": 2048000,
      "rowLimit": 10000
     },
     "inputWidgets": {},
     "nuid": "f9ed0cde-8fd9-490f-9927-a16efa454553",
     "showTitle": false,
     "title": ""
    }
   },
   "source": [
    "###Sales, GP and Customer penetration"
   ]
  },
  {
   "cell_type": "code",
   "execution_count": 0,
   "metadata": {
    "application/vnd.databricks.v1+cell": {
     "cellMetadata": {
      "byteLimit": 2048000,
      "rowLimit": 10000
     },
     "inputWidgets": {},
     "nuid": "1612862d-2260-44b5-b6a4-6acfc3751994",
     "showTitle": false,
     "title": ""
    }
   },
   "outputs": [],
   "source": [
    "temp = df.groupby('material_id')['sale'].sum().reset_index()\n",
    "\n",
    "temp = pd.merge(temp, gp[['material_id', 'GP', 'new_buckets']], on='material_id', how='inner')\n",
    "\n",
    "temp = pd.merge(temp,\n",
    "                attr[['material_id', 'material_name','Brand']],\n",
    "                left_on='material_id',\n",
    "                right_on='material_id',\n",
    "                how='inner')\n",
    "\n",
    "temp['GP_ABS']=np.abs(temp['GP'])\n",
    "\n",
    "temp['GP_FLAG']=np.where(temp.GP<0, \"Negative\", \"Positive\")\n",
    "\n",
    "temp = pd.merge(temp, cust[['material_id', 'tot_cust_perc', 'vip+freq_perc']], on='material_id', how='left')\n",
    "temp['tot_cust_perc'] = temp['tot_cust_perc'].fillna(0)\n",
    "temp.rename(columns={'tot_cust_perc': 'cust_pnt'}, inplace=True)\n",
    "temp.rename(columns={'vip+freq_perc': 'vip+freq_pnt'}, inplace=True)"
   ]
  },
  {
   "cell_type": "code",
   "execution_count": 0,
   "metadata": {
    "application/vnd.databricks.v1+cell": {
     "cellMetadata": {
      "byteLimit": 2048000,
      "rowLimit": 10000
     },
     "inputWidgets": {},
     "nuid": "66f7acc7-fdd8-4df9-85aa-cefa497f2452",
     "showTitle": false,
     "title": ""
    }
   },
   "outputs": [],
   "source": [
    "fig = px.scatter(temp, x=\"sale\", y=\"cust_pnt\", size=\"GP_ABS\", \n",
    "                 color=\"GP_FLAG\",\n",
    "                 hover_name=\"material_name\", log_x=False, size_max=40)\n",
    "\n",
    "fig.add_hline(y=temp.cust_pnt.mean())\n",
    "fig.add_vline(x=temp.sale.quantile(0.95))\n",
    "fig.show()"
   ]
  },
  {
   "cell_type": "markdown",
   "metadata": {
    "application/vnd.databricks.v1+cell": {
     "cellMetadata": {
      "byteLimit": 2048000,
      "rowLimit": 10000
     },
     "inputWidgets": {},
     "nuid": "a642f9a1-fdbe-42d0-8e6e-8913ea044f1d",
     "showTitle": false,
     "title": ""
    }
   },
   "source": [
    "###Delisted view - where they are placed"
   ]
  },
  {
   "cell_type": "code",
   "execution_count": 0,
   "metadata": {
    "application/vnd.databricks.v1+cell": {
     "cellMetadata": {
      "byteLimit": 2048000,
      "rowLimit": 10000
     },
     "inputWidgets": {},
     "nuid": "22b070f0-5cd5-46c8-bb03-fb6b44728737",
     "showTitle": false,
     "title": ""
    }
   },
   "outputs": [],
   "source": [
    "temp_delist = temp[temp['new_buckets'] == 'Delist']\n",
    "fig = px.scatter(temp_delist, x=\"sale\", y=\"vip+freq_pnt\", size=\"GP_ABS\", \n",
    "                 color=\"GP_FLAG\",\n",
    "                 hover_name=\"material_name\", log_x=False, size_max=40)\n",
    "\n",
    "fig.add_hline(y=temp_delist.cust_pnt.mean())\n",
    "fig.add_vline(x=temp_delist.sale.quantile(0.95))\n",
    "fig.show()"
   ]
  },
  {
   "cell_type": "markdown",
   "metadata": {
    "application/vnd.databricks.v1+cell": {
     "cellMetadata": {
      "byteLimit": 2048000,
      "rowLimit": 10000
     },
     "inputWidgets": {},
     "nuid": "c6324be2-d2de-43f6-9d88-c0a25437b9af",
     "showTitle": false,
     "title": ""
    }
   },
   "source": [
    "###Grow view - where they are placed (cust angle)"
   ]
  },
  {
   "cell_type": "code",
   "execution_count": 0,
   "metadata": {
    "application/vnd.databricks.v1+cell": {
     "cellMetadata": {
      "byteLimit": 2048000,
      "rowLimit": 10000
     },
     "inputWidgets": {},
     "nuid": "4385d275-ed00-47c6-bcca-37e00637ad33",
     "showTitle": false,
     "title": ""
    }
   },
   "outputs": [],
   "source": [
    "temp_grow = temp[temp['new_buckets'] == 'Grow']\n",
    "fig = px.scatter(temp_grow, x=\"sale\", y=\"vip+freq_pnt\", size=\"GP_ABS\", \n",
    "                 color=\"GP_FLAG\",\n",
    "                 hover_name=\"material_name\", log_x=False, size_max=40)\n",
    "\n",
    "fig.add_hline(y=temp_grow.cust_pnt.mean())\n",
    "fig.add_vline(x=temp_grow.sale.quantile(0.95))\n",
    "fig.show()"
   ]
  },
  {
   "cell_type": "code",
   "execution_count": 0,
   "metadata": {
    "application/vnd.databricks.v1+cell": {
     "cellMetadata": {
      "byteLimit": 2048000,
      "rowLimit": 10000
     },
     "inputWidgets": {},
     "nuid": "d87674be-5983-4992-baa2-47687aa7c23c",
     "showTitle": false,
     "title": ""
    }
   },
   "outputs": [],
   "source": [
    "def get_top_N_list(dataframe, start, end):\n",
    "    listname = \"list\" + \"_\" + str(end)\n",
    "#     print(listname)\n",
    "    listname = pd.DataFrame(dataframe.groupby(\n",
    "        'material_id').sum()['sale']).reset_index().sort_values(\n",
    "            by=dataframe.columns[2], ascending=False)['material_id'][start:end].tolist()\n",
    "    return listname"
   ]
  },
  {
   "cell_type": "code",
   "execution_count": 0,
   "metadata": {
    "application/vnd.databricks.v1+cell": {
     "cellMetadata": {
      "byteLimit": 2048000,
      "rowLimit": 10000
     },
     "inputWidgets": {},
     "nuid": "7b756a88-9bee-4d25-b7a5-a2a968cc9d68",
     "showTitle": false,
     "title": ""
    }
   },
   "outputs": [],
   "source": [
    "store = df[['material_id', 'week_number', 'material_store_count']]\n",
    "sale = df[['material_id', 'week_number', 'sale']]\n",
    "tbl=store[store['material_id'].isin(get_top_N_list(sale,0,16))]\n",
    "\n",
    "tbl = pd.merge(tbl,\n",
    "                attr[['material_id', 'material_name','Brand']],\n",
    "                left_on='material_id',\n",
    "                right_on='material_id',\n",
    "                how='inner')\n",
    "\n",
    "fig = px.line(tbl, x=\"week_number\", y=\"material_store_count\", color='material_name',width=900, height=600)\n",
    "fig.show()"
   ]
  },
  {
   "cell_type": "markdown",
   "metadata": {
    "application/vnd.databricks.v1+cell": {
     "cellMetadata": {
      "byteLimit": 2048000,
      "rowLimit": 10000
     },
     "inputWidgets": {},
     "nuid": "c8eb925e-387f-40ed-821a-585b75a9466a",
     "showTitle": false,
     "title": ""
    }
   },
   "source": [
    "###Delisted view - their distribution"
   ]
  },
  {
   "cell_type": "code",
   "execution_count": 0,
   "metadata": {
    "application/vnd.databricks.v1+cell": {
     "cellMetadata": {
      "byteLimit": 2048000,
      "rowLimit": 10000
     },
     "inputWidgets": {},
     "nuid": "550163df-cb2d-43fa-8929-a13c4bb0b17d",
     "showTitle": false,
     "title": ""
    }
   },
   "outputs": [],
   "source": [
    "sale = df[df['new_buckets'] == 'Delist'][['material_id', 'week_number', 'sale']]\n",
    "\n",
    "tbl=sale[sale['material_id'].isin(get_top_N_list(sale,0,16))]\n",
    "\n",
    "tbl = pd.merge(tbl,\n",
    "                attr[['material_id', 'material_name']],\n",
    "                left_on='material_id',\n",
    "                right_on='material_id',\n",
    "                how='inner')\n",
    "\n",
    "fig = px.line(tbl, x=\"week_number\", y=\"sale\", color='material_name',width=900, height=600)\n",
    "fig.show()"
   ]
  },
  {
   "cell_type": "code",
   "execution_count": 0,
   "metadata": {
    "application/vnd.databricks.v1+cell": {
     "cellMetadata": {
      "byteLimit": 2048000,
      "rowLimit": 10000
     },
     "inputWidgets": {},
     "nuid": "0b1990a6-db12-4ba9-a82f-ef7c3a1737af",
     "showTitle": false,
     "title": ""
    }
   },
   "outputs": [],
   "source": [
    "sale = df[df['new_buckets'] == 'Grow'][['material_id', 'week_number', 'sale', 'cwd']]\n",
    "\n",
    "tbl=sale[sale['material_id'].isin(get_top_N_list(sale,0,16))]\n",
    "\n",
    "tbl = pd.merge(tbl,\n",
    "                attr[['material_id', 'material_name']],\n",
    "                left_on='material_id',\n",
    "                right_on='material_id',\n",
    "                how='inner')\n",
    "\n",
    "fig = px.line(tbl, x=\"week_number\", y=\"cwd\", color='material_name',width=900, height=600)\n",
    "fig.show()"
   ]
  },
  {
   "cell_type": "markdown",
   "metadata": {
    "application/vnd.databricks.v1+cell": {
     "cellMetadata": {
      "byteLimit": 2048000,
      "rowLimit": 10000
     },
     "inputWidgets": {},
     "nuid": "f0120869-c6f2-49d4-a0bd-721efe00df33",
     "showTitle": false,
     "title": ""
    }
   },
   "source": [
    "### Brand level"
   ]
  },
  {
   "cell_type": "code",
   "execution_count": 0,
   "metadata": {
    "application/vnd.databricks.v1+cell": {
     "cellMetadata": {
      "byteLimit": 2048000,
      "rowLimit": 10000
     },
     "inputWidgets": {},
     "nuid": "40dd715f-aab2-4218-9f54-a13392dd1f07",
     "showTitle": false,
     "title": ""
    }
   },
   "outputs": [],
   "source": [
    "gp_bub2 = pd.merge(df,\n",
    "                attr[['material_id', 'material_name']],\n",
    "                left_on='material_id',\n",
    "                right_on='material_id',\n",
    "                how='inner',\n",
    "                suffixes=('', '2'))\n",
    "\n",
    "gp_bub=gp_bub2.groupby('Brand').sum()[['sale','vol']].reset_index()\n",
    "\n",
    "gp2 = pd.merge(gp,\n",
    "                attr[['material_id', 'material_name','Brand']],\n",
    "                left_on='material_id',\n",
    "                right_on='material_id',\n",
    "                how='inner',\n",
    "                suffixes=('', '2'))\n",
    "gp2 = gp2.drop(columns=['Brand2', 'material_name2'])\n",
    "\n",
    "gp3=gp2.groupby('Brand').sum()['GP']\n",
    "\n",
    "temp=pd.merge(gp_bub,gp3,on='Brand',how='inner')\n",
    "temp['GP_ABS']=np.abs(temp['GP'])\n",
    "temp['GP_FLAG']=np.where(temp.GP<0,\"Negative\",\"Positive\")"
   ]
  },
  {
   "cell_type": "code",
   "execution_count": 0,
   "metadata": {
    "application/vnd.databricks.v1+cell": {
     "cellMetadata": {
      "byteLimit": 2048000,
      "rowLimit": 10000
     },
     "inputWidgets": {},
     "nuid": "93c01846-6264-4461-b66b-f48d656eef8c",
     "showTitle": false,
     "title": ""
    }
   },
   "outputs": [],
   "source": [
    "fig = px.scatter(temp, x=\"sale\", y=\"vol\", size=\"GP_ABS\", \n",
    "                 color=\"GP_FLAG\",\n",
    "                 hover_name=\"Brand\", log_x=False, size_max=40)\n",
    "\n",
    "fig.add_hline(y=temp.vol.mean())\n",
    "fig.add_vline(x=temp.sale.quantile(0.95))\n",
    "fig.show()"
   ]
  },
  {
   "cell_type": "markdown",
   "metadata": {
    "application/vnd.databricks.v1+cell": {
     "cellMetadata": {
      "byteLimit": 2048000,
      "rowLimit": 10000
     },
     "inputWidgets": {},
     "nuid": "635542cf-b749-41e7-a138-4c9f9770abf6",
     "showTitle": false,
     "title": ""
    }
   },
   "source": [
    "##Regression"
   ]
  },
  {
   "cell_type": "code",
   "execution_count": 0,
   "metadata": {
    "application/vnd.databricks.v1+cell": {
     "cellMetadata": {
      "byteLimit": 2048000,
      "rowLimit": 10000
     },
     "inputWidgets": {},
     "nuid": "69b19a53-b1de-42a4-a17f-e074b79aa909",
     "showTitle": false,
     "title": ""
    }
   },
   "outputs": [],
   "source": [
    "import statsmodels.api as sm\n",
    "from sklearn.preprocessing import MinMaxScaler\n",
    "from scipy.stats import boxcox"
   ]
  },
  {
   "cell_type": "code",
   "execution_count": 0,
   "metadata": {
    "application/vnd.databricks.v1+cell": {
     "cellMetadata": {
      "byteLimit": 2048000,
      "rowLimit": 10000
     },
     "inputWidgets": {},
     "nuid": "773b08cc-8206-4cd2-babd-2addca13ab2d",
     "showTitle": false,
     "title": ""
    }
   },
   "outputs": [],
   "source": [
    "reg_df = df[df['new_buckets'] != 'Delist'][['material_id', 'week_number', 'cwd', 'material_weekly_store_count', 'SSW', 'new_buckets']].reset_index(drop=True)\n",
    "\n",
    "#Log-log Transformation\n",
    "reg_df['log_material_weekly_store_count'] = np.log(reg_df['material_weekly_store_count'])\n",
    "reg_df['log_cwd'] = np.log(reg_df['cwd']*100)\n",
    "reg_df['log_SSW'] = np.log(reg_df['SSW'])\n",
    "\n",
    "#Min-Max Scaling\n",
    "scaler = MinMaxScaler()\n",
    "reg_df['minmax_material_weekly_store_count'] = scaler.fit_transform(reg_df[['material_weekly_store_count']])\n",
    "reg_df['minmax_cwd'] = scaler.fit_transform(reg_df[['cwd']]*100)\n",
    "reg_df['minmax_SSW'] = scaler.fit_transform(reg_df[['SSW']])\n",
    "\n",
    "#BoxCox Transformation\n",
    "X1 = reg_df['material_weekly_store_count']\n",
    "X2 = reg_df['cwd']*100\n",
    "y = reg_df['SSW']\n",
    "\n",
    "X1 = X1 - X1.min() + 1e-10\n",
    "X2 = X2 - X2.min() + 1e-10\n",
    "y = y - y.min() + 1e-10\n",
    "\n",
    "X1, lambda_value_X = boxcox(X1)\n",
    "X2, lambda_value_2 = boxcox(X2)\n",
    "y, lambda_value_y = boxcox(y)\n",
    "\n",
    "reg_df['boxcox_material_weekly_store_count'] = X1\n",
    "reg_df['boxcox_cwd'] = X2\n",
    "reg_df['boxcox_SSW'] = y"
   ]
  },
  {
   "cell_type": "markdown",
   "metadata": {
    "application/vnd.databricks.v1+cell": {
     "cellMetadata": {
      "byteLimit": 2048000,
      "rowLimit": 10000
     },
     "inputWidgets": {},
     "nuid": "51bb0b1a-655a-4f7e-af9c-0e9d5fefc24b",
     "showTitle": false,
     "title": ""
    }
   },
   "source": [
    "###Log SKU Store Counts"
   ]
  },
  {
   "cell_type": "code",
   "execution_count": 0,
   "metadata": {
    "application/vnd.databricks.v1+cell": {
     "cellMetadata": {
      "byteLimit": 2048000,
      "rowLimit": 10000
     },
     "inputWidgets": {},
     "nuid": "002501b2-627c-4211-8aba-70fa7687a29d",
     "showTitle": false,
     "title": ""
    }
   },
   "outputs": [],
   "source": [
    "beta_values = []\n",
    "for material in reg_df['material_id'].unique():\n",
    "    y = reg_df[reg_df['material_id'] == material][['log_SSW']]\n",
    "    X = reg_df[reg_df['material_id'] == material][['log_material_weekly_store_count']]\n",
    "    # X = sm.add_constant(X)\n",
    "\n",
    "    model = sm.OLS(y, X).fit()\n",
    "    beta = model.params\n",
    "    for week in reg_df[reg_df['material_id'] == material]['week_number']:\n",
    "        beta_values.append(beta[0])\n",
    "\n",
    "reg_df['beta_log_store_count'] = beta_values"
   ]
  },
  {
   "cell_type": "markdown",
   "metadata": {
    "application/vnd.databricks.v1+cell": {
     "cellMetadata": {
      "byteLimit": 2048000,
      "rowLimit": 10000
     },
     "inputWidgets": {},
     "nuid": "777ac528-f425-4179-984f-7f7039055180",
     "showTitle": false,
     "title": ""
    }
   },
   "source": [
    "###Log SKU CWD"
   ]
  },
  {
   "cell_type": "code",
   "execution_count": 0,
   "metadata": {
    "application/vnd.databricks.v1+cell": {
     "cellMetadata": {
      "byteLimit": 2048000,
      "rowLimit": 10000
     },
     "inputWidgets": {},
     "nuid": "e002c7c0-b0c0-4e74-8638-b60775630b96",
     "showTitle": false,
     "title": ""
    }
   },
   "outputs": [],
   "source": [
    "beta_values = []\n",
    "for material in reg_df['material_id'].unique():\n",
    "    y = reg_df[reg_df['material_id'] == material][['log_SSW']]\n",
    "    X = reg_df[reg_df['material_id'] == material][['log_cwd']]\n",
    "    # X = sm.add_constant(X)\n",
    "\n",
    "    model = sm.OLS(y, X).fit()\n",
    "    beta = model.params\n",
    "    for week in reg_df[reg_df['material_id'] == material]['week_number']:\n",
    "        beta_values.append(beta[0])\n",
    "\n",
    "reg_df['beta_log_cwd'] = beta_values"
   ]
  },
  {
   "cell_type": "markdown",
   "metadata": {
    "application/vnd.databricks.v1+cell": {
     "cellMetadata": {
      "byteLimit": 2048000,
      "rowLimit": 10000
     },
     "inputWidgets": {},
     "nuid": "8a2174d7-e952-4b89-b087-b34ef50cad1f",
     "showTitle": false,
     "title": ""
    }
   },
   "source": [
    "###Min-Max Scaled Store Counts"
   ]
  },
  {
   "cell_type": "code",
   "execution_count": 0,
   "metadata": {
    "application/vnd.databricks.v1+cell": {
     "cellMetadata": {
      "byteLimit": 2048000,
      "rowLimit": 10000
     },
     "inputWidgets": {},
     "nuid": "eb6e14fe-1286-4170-a892-672b09c8ef5a",
     "showTitle": false,
     "title": ""
    }
   },
   "outputs": [],
   "source": [
    "beta_values = []\n",
    "for material in reg_df['material_id'].unique():\n",
    "    y = reg_df[reg_df['material_id'] == material][['minmax_SSW']]\n",
    "    X = reg_df[reg_df['material_id'] == material][['minmax_material_weekly_store_count']]\n",
    "    # X = sm.add_constant(X)\n",
    "\n",
    "    model = sm.OLS(y, X).fit()\n",
    "    beta = model.params\n",
    "    for week in reg_df[reg_df['material_id'] == material]['week_number']:\n",
    "        beta_values.append(beta[0])\n",
    "\n",
    "reg_df['beta_minmax_store_count'] = beta_values"
   ]
  },
  {
   "cell_type": "markdown",
   "metadata": {
    "application/vnd.databricks.v1+cell": {
     "cellMetadata": {
      "byteLimit": 2048000,
      "rowLimit": 10000
     },
     "inputWidgets": {},
     "nuid": "a056bb4e-23dc-4436-b155-0e7cb9354546",
     "showTitle": false,
     "title": ""
    }
   },
   "source": [
    "###Min-Max Scaled CWD"
   ]
  },
  {
   "cell_type": "code",
   "execution_count": 0,
   "metadata": {
    "application/vnd.databricks.v1+cell": {
     "cellMetadata": {
      "byteLimit": 2048000,
      "rowLimit": 10000
     },
     "inputWidgets": {},
     "nuid": "7537a40c-1bc9-4b87-a515-b0781fe3312c",
     "showTitle": false,
     "title": ""
    }
   },
   "outputs": [],
   "source": [
    "beta_values = []\n",
    "for material in reg_df['material_id'].unique():\n",
    "    y = reg_df[reg_df['material_id'] == material][['minmax_SSW']]\n",
    "    X = reg_df[reg_df['material_id'] == material][['minmax_cwd']]\n",
    "    # X = sm.add_constant(X)\n",
    "\n",
    "    model = sm.OLS(y, X).fit()\n",
    "    beta = model.params\n",
    "    for week in reg_df[reg_df['material_id'] == material]['week_number']:\n",
    "        beta_values.append(beta[0])\n",
    "\n",
    "reg_df['beta_minmax_cwd'] = beta_values"
   ]
  },
  {
   "cell_type": "markdown",
   "metadata": {
    "application/vnd.databricks.v1+cell": {
     "cellMetadata": {
      "byteLimit": 2048000,
      "rowLimit": 10000
     },
     "inputWidgets": {},
     "nuid": "45d0da36-dc08-4d2f-a8f4-aae4890b4377",
     "showTitle": false,
     "title": ""
    }
   },
   "source": [
    "###Box-Cox Store Counts"
   ]
  },
  {
   "cell_type": "code",
   "execution_count": 0,
   "metadata": {
    "application/vnd.databricks.v1+cell": {
     "cellMetadata": {
      "byteLimit": 2048000,
      "rowLimit": 10000
     },
     "inputWidgets": {},
     "nuid": "d107e00b-cfef-4ff8-989a-fbb5d4e85044",
     "showTitle": false,
     "title": ""
    }
   },
   "outputs": [],
   "source": [
    "beta_values = []\n",
    "for material in reg_df['material_id'].unique():\n",
    "    y = reg_df[reg_df['material_id'] == material][['boxcox_SSW']]\n",
    "    X = reg_df[reg_df['material_id'] == material][['boxcox_material_weekly_store_count']]\n",
    "    # X = sm.add_constant(X)\n",
    "\n",
    "    model = sm.OLS(y, X).fit()\n",
    "    beta = model.params\n",
    "    for week in reg_df[reg_df['material_id'] == material]['week_number']:\n",
    "        beta_values.append(beta[0])\n",
    "\n",
    "reg_df['beta_boxcox_store_count'] = beta_values"
   ]
  },
  {
   "cell_type": "markdown",
   "metadata": {
    "application/vnd.databricks.v1+cell": {
     "cellMetadata": {
      "byteLimit": 2048000,
      "rowLimit": 10000
     },
     "inputWidgets": {},
     "nuid": "246f87d2-c6ec-4a36-b099-12042dfdb07c",
     "showTitle": false,
     "title": ""
    }
   },
   "source": [
    "###Box-Cox CWD"
   ]
  },
  {
   "cell_type": "code",
   "execution_count": 0,
   "metadata": {
    "application/vnd.databricks.v1+cell": {
     "cellMetadata": {
      "byteLimit": 2048000,
      "rowLimit": 10000
     },
     "inputWidgets": {},
     "nuid": "27650514-d5d2-4a4e-b575-c800744cfaa8",
     "showTitle": false,
     "title": ""
    }
   },
   "outputs": [],
   "source": [
    "beta_values = []\n",
    "for material in reg_df['material_id'].unique():\n",
    "    y = reg_df[reg_df['material_id'] == material][['boxcox_SSW']]\n",
    "    X = reg_df[reg_df['material_id'] == material][['boxcox_cwd']]\n",
    "    # X = sm.add_constant(X)\n",
    "\n",
    "    model = sm.OLS(y, X).fit()\n",
    "    beta = model.params\n",
    "    for week in reg_df[reg_df['material_id'] == material]['week_number']:\n",
    "        beta_values.append(beta[0])\n",
    "\n",
    "reg_df['beta_boxcox_cwd'] = beta_values"
   ]
  },
  {
   "cell_type": "markdown",
   "metadata": {
    "application/vnd.databricks.v1+cell": {
     "cellMetadata": {
      "byteLimit": 2048000,
      "rowLimit": 10000
     },
     "inputWidgets": {},
     "nuid": "131f1dd1-fc0f-4547-8b67-233e2e7f1c4b",
     "showTitle": false,
     "title": ""
    }
   },
   "source": [
    "###Final Beta Values"
   ]
  },
  {
   "cell_type": "code",
   "execution_count": 0,
   "metadata": {
    "application/vnd.databricks.v1+cell": {
     "cellMetadata": {
      "byteLimit": 2048000,
      "rowLimit": 10000
     },
     "inputWidgets": {},
     "nuid": "b196d1d6-0b6e-4b59-8f08-eab256510f8f",
     "showTitle": false,
     "title": ""
    }
   },
   "outputs": [],
   "source": [
    "final_beta_df = reg_df[['material_id', 'new_buckets', 'beta_log_store_count', 'beta_log_cwd', 'beta_minmax_store_count', 'beta_minmax_cwd']].drop_duplicates().reset_index(drop=True)"
   ]
  },
  {
   "cell_type": "code",
   "execution_count": 0,
   "metadata": {
    "application/vnd.databricks.v1+cell": {
     "cellMetadata": {
      "byteLimit": 2048000,
      "rowLimit": 10000
     },
     "inputWidgets": {},
     "nuid": "978dcec7-0183-4017-8d63-6a22bd6d4370",
     "showTitle": false,
     "title": ""
    }
   },
   "outputs": [],
   "source": [
    "final_beta_df = spark.createDataFrame(final_beta_df)\n",
    "final_beta_df.createOrReplaceTempView('beta_values')"
   ]
  },
  {
   "cell_type": "code",
   "execution_count": 0,
   "metadata": {
    "application/vnd.databricks.v1+cell": {
     "cellMetadata": {
      "byteLimit": 2048000,
      "implicitDf": true,
      "rowLimit": 10000
     },
     "inputWidgets": {},
     "nuid": "5d00ca96-b442-4c1a-9490-c793a54c69e3",
     "showTitle": false,
     "title": ""
    }
   },
   "outputs": [],
   "source": [
    "%sql\n",
    "SELECT * FROM beta_values"
   ]
  },
  {
   "cell_type": "markdown",
   "metadata": {
    "application/vnd.databricks.v1+cell": {
     "cellMetadata": {
      "byteLimit": 2048000,
      "rowLimit": 10000
     },
     "inputWidgets": {},
     "nuid": "58fff3e9-9d28-44e0-97c3-e87cd4e4db7b",
     "showTitle": false,
     "title": ""
    }
   },
   "source": [
    "###Distribution Check"
   ]
  },
  {
   "cell_type": "code",
   "execution_count": 0,
   "metadata": {
    "application/vnd.databricks.v1+cell": {
     "cellMetadata": {
      "byteLimit": 2048000,
      "rowLimit": 10000
     },
     "inputWidgets": {},
     "nuid": "48dd9fd5-f870-46a6-9420-a4052b6b38dc",
     "showTitle": false,
     "title": ""
    }
   },
   "outputs": [],
   "source": [
    "fig = px.scatter(reg_df[reg_df['material_id'] == 3110], x=\"SSW\", y=\"material_weekly_store_count\")\n",
    "\n",
    "fig.add_hline(y=reg_df.material_weekly_store_count.mean())\n",
    "fig.add_vline(x=reg_df.SSW.mean())\n",
    "fig.show()"
   ]
  },
  {
   "cell_type": "code",
   "execution_count": 0,
   "metadata": {
    "application/vnd.databricks.v1+cell": {
     "cellMetadata": {
      "byteLimit": 2048000,
      "rowLimit": 10000
     },
     "inputWidgets": {},
     "nuid": "cd52aa22-cea4-4d6f-be21-6824945c324c",
     "showTitle": false,
     "title": ""
    }
   },
   "outputs": [],
   "source": [
    "fig = px.scatter(reg_df[reg_df['material_id'] == 3110], x=\"boxcox_SSW\", y=\"boxcox_material_weekly_store_count\")\n",
    "\n",
    "fig.add_hline(y=reg_df.minmax_material_weekly_store_count.mean())\n",
    "fig.add_vline(x=reg_df.minmax_SSW.mean())\n",
    "fig.show()"
   ]
  },
  {
   "cell_type": "markdown",
   "metadata": {
    "application/vnd.databricks.v1+cell": {
     "cellMetadata": {
      "byteLimit": 2048000,
      "rowLimit": 10000
     },
     "inputWidgets": {},
     "nuid": "48c2f492-4fb4-4957-b544-c1d14580f9ce",
     "showTitle": false,
     "title": ""
    }
   },
   "source": [
    "###Outlier Handling"
   ]
  },
  {
   "cell_type": "code",
   "execution_count": 0,
   "metadata": {
    "application/vnd.databricks.v1+cell": {
     "cellMetadata": {
      "byteLimit": 2048000,
      "rowLimit": 10000
     },
     "inputWidgets": {},
     "nuid": "e062738d-8487-4450-a809-a971c97e161a",
     "showTitle": false,
     "title": ""
    }
   },
   "outputs": [],
   "source": [
    "reg_df2 = pd.DataFrame()\n",
    "\n",
    "for material in reg_df['material_id'].unique():\n",
    "    q1 = reg_df[reg_df['material_id'] == material]['material_weekly_store_count'].quantile(0.25)\n",
    "    q3 = reg_df[reg_df['material_id'] == material]['material_weekly_store_count'].quantile(0.75)\n",
    "    iqr = q3 - q1\n",
    "    lower_bound = q1 - 1.5 * iqr\n",
    "    upper_bound = q3 + 1.5 * iqr\n",
    "    t = reg_df[(reg_df['material_id'] == material) &(reg_df['material_weekly_store_count'] >= lower_bound) & (reg_df['material_weekly_store_count'] <= upper_bound)]\n",
    "\n",
    "    q1 = reg_df[reg_df['material_id'] == material]['cwd'].quantile(0.25)\n",
    "    q3 = reg_df[reg_df['material_id'] == material]['cwd'].quantile(0.75)\n",
    "    iqr = q3 - q1\n",
    "    lower_bound = q1 - 1.5 * iqr\n",
    "    upper_bound = q3 + 1.5 * iqr\n",
    "    t = t[(t['cwd'] >= lower_bound) & (t['cwd'] <= upper_bound)]\n",
    "    \n",
    "    reg_df2 = pd.concat([reg_df2, t], ignore_index=True)"
   ]
  },
  {
   "cell_type": "markdown",
   "metadata": {
    "application/vnd.databricks.v1+cell": {
     "cellMetadata": {
      "byteLimit": 2048000,
      "rowLimit": 10000
     },
     "inputWidgets": {},
     "nuid": "d6417dcd-ae8a-47e2-a58e-66ea380edbb2",
     "showTitle": false,
     "title": ""
    }
   },
   "source": [
    "###OH Store Counts"
   ]
  },
  {
   "cell_type": "code",
   "execution_count": 0,
   "metadata": {
    "application/vnd.databricks.v1+cell": {
     "cellMetadata": {
      "byteLimit": 2048000,
      "rowLimit": 10000
     },
     "inputWidgets": {},
     "nuid": "ded03a26-0960-4786-9534-b5052fdafe4d",
     "showTitle": false,
     "title": ""
    }
   },
   "outputs": [],
   "source": [
    "beta_values = []\n",
    "for material in reg_df2['material_id'].unique():\n",
    "    y = reg_df2[reg_df2['material_id'] == material][['log_SSW']]\n",
    "    X = reg_df2[reg_df2['material_id'] == material][['log_material_weekly_store_count']]\n",
    "    # X = sm.add_constant(X)\n",
    "\n",
    "    model = sm.OLS(y, X).fit()\n",
    "    beta = model.params\n",
    "    for week in reg_df2[reg_df2['material_id'] == material]['week_number']:\n",
    "        beta_values.append(beta[0])\n",
    "\n",
    "reg_df2['beta_OH_log_store_count'] = beta_values"
   ]
  },
  {
   "cell_type": "markdown",
   "metadata": {
    "application/vnd.databricks.v1+cell": {
     "cellMetadata": {
      "byteLimit": 2048000,
      "rowLimit": 10000
     },
     "inputWidgets": {},
     "nuid": "db18f639-dc89-44f9-91ab-c351165987c6",
     "showTitle": false,
     "title": ""
    }
   },
   "source": [
    "###OH CWD"
   ]
  },
  {
   "cell_type": "code",
   "execution_count": 0,
   "metadata": {
    "application/vnd.databricks.v1+cell": {
     "cellMetadata": {
      "byteLimit": 2048000,
      "rowLimit": 10000
     },
     "inputWidgets": {},
     "nuid": "b1544492-6169-4f05-a89e-598d25789e13",
     "showTitle": false,
     "title": ""
    }
   },
   "outputs": [],
   "source": [
    "beta_values = []\n",
    "for material in reg_df2['material_id'].unique():\n",
    "    y = reg_df2[reg_df2['material_id'] == material][['log_SSW']]\n",
    "    X = reg_df2[reg_df2['material_id'] == material][['log_cwd']]\n",
    "    # X = sm.add_constant(X)\n",
    "\n",
    "    model = sm.OLS(y, X).fit()\n",
    "    beta = model.params\n",
    "    for week in reg_df2[reg_df2['material_id'] == material]['week_number']:\n",
    "        beta_values.append(beta[0])\n",
    "\n",
    "reg_df2['beta_OH_log_cwd'] = beta_values"
   ]
  },
  {
   "cell_type": "markdown",
   "metadata": {
    "application/vnd.databricks.v1+cell": {
     "cellMetadata": {
      "byteLimit": 2048000,
      "rowLimit": 10000
     },
     "inputWidgets": {},
     "nuid": "499198cd-c90c-41e8-b7fe-c1fe6dc01a78",
     "showTitle": false,
     "title": ""
    }
   },
   "source": [
    "###OH Beta Values"
   ]
  },
  {
   "cell_type": "code",
   "execution_count": 0,
   "metadata": {
    "application/vnd.databricks.v1+cell": {
     "cellMetadata": {
      "byteLimit": 2048000,
      "rowLimit": 10000
     },
     "inputWidgets": {},
     "nuid": "629b7fe7-6a32-44c9-836a-950bf96a21c9",
     "showTitle": false,
     "title": ""
    }
   },
   "outputs": [],
   "source": [
    "OH_beta_df = reg_df2[['material_id', 'new_buckets', 'beta_OH_log_store_count', 'beta_OH_log_cwd']].drop_duplicates().reset_index(drop=True)"
   ]
  },
  {
   "cell_type": "code",
   "execution_count": 0,
   "metadata": {
    "application/vnd.databricks.v1+cell": {
     "cellMetadata": {
      "byteLimit": 2048000,
      "rowLimit": 10000
     },
     "inputWidgets": {},
     "nuid": "6a28bce3-14ba-4061-8b4e-c5d6b5c32472",
     "showTitle": false,
     "title": ""
    }
   },
   "outputs": [],
   "source": [
    "OH_beta_df = spark.createDataFrame(OH_beta_df)\n",
    "OH_beta_df.createOrReplaceTempView('OH_beta_values')"
   ]
  },
  {
   "cell_type": "code",
   "execution_count": 0,
   "metadata": {
    "application/vnd.databricks.v1+cell": {
     "cellMetadata": {
      "byteLimit": 2048000,
      "implicitDf": true,
      "rowLimit": 10000
     },
     "inputWidgets": {},
     "nuid": "beac9661-de5b-4e56-bd57-075a54b2f757",
     "showTitle": false,
     "title": ""
    }
   },
   "outputs": [],
   "source": [
    "%sql\n",
    "SELECT * FROM OH_beta_values"
   ]
  },
  {
   "cell_type": "code",
   "execution_count": 0,
   "metadata": {
    "application/vnd.databricks.v1+cell": {
     "cellMetadata": {},
     "inputWidgets": {},
     "nuid": "50f976b2-46f4-4967-bb1b-fea8498ccc75",
     "showTitle": false,
     "title": ""
    }
   },
   "outputs": [],
   "source": []
  },
  {
   "cell_type": "code",
   "execution_count": 0,
   "metadata": {
    "application/vnd.databricks.v1+cell": {
     "cellMetadata": {},
     "inputWidgets": {},
     "nuid": "72ef18d8-0710-495f-a012-01554b847948",
     "showTitle": false,
     "title": ""
    }
   },
   "outputs": [],
   "source": []
  },
  {
   "cell_type": "code",
   "execution_count": 0,
   "metadata": {
    "application/vnd.databricks.v1+cell": {
     "cellMetadata": {},
     "inputWidgets": {},
     "nuid": "c0f009b0-ee57-44f3-8199-fc40d17de234",
     "showTitle": false,
     "title": ""
    }
   },
   "outputs": [],
   "source": []
  },
  {
   "cell_type": "code",
   "execution_count": 0,
   "metadata": {
    "application/vnd.databricks.v1+cell": {
     "cellMetadata": {},
     "inputWidgets": {},
     "nuid": "bdf79e60-97db-4503-9edb-eb9945089c48",
     "showTitle": false,
     "title": ""
    }
   },
   "outputs": [],
   "source": []
  }
 ],
 "metadata": {
  "application/vnd.databricks.v1+notebook": {
   "dashboards": [],
   "language": "python",
   "notebookMetadata": {
    "mostRecentlyExecutedCommandWithImplicitDF": {
     "commandId": -1,
     "dataframes": [
      "_sqldf"
     ]
    },
    "pythonIndentUnit": 4
   },
   "notebookName": "Assortment Optimization Deck & Regression",
   "widgets": {}
  },
  "kernelspec": {
   "display_name": "Python 3 (ipykernel)",
   "language": "python",
   "name": "python3"
  },
  "language_info": {
   "codemirror_mode": {
    "name": "ipython",
    "version": 3
   },
   "file_extension": ".py",
   "mimetype": "text/x-python",
   "name": "python",
   "nbconvert_exporter": "python",
   "pygments_lexer": "ipython3",
   "version": "3.10.9"
  },
  "toc": {
   "base_numbering": 1,
   "nav_menu": {},
   "number_sections": true,
   "sideBar": true,
   "skip_h1_title": false,
   "title_cell": "Table of Contents",
   "title_sidebar": "Contents",
   "toc_cell": false,
   "toc_position": {},
   "toc_section_display": true,
   "toc_window_display": false
  }
 },
 "nbformat": 4,
 "nbformat_minor": 0
}
