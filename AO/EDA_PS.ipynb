{
 "cells": [
  {
   "cell_type": "markdown",
   "metadata": {
    "application/vnd.databricks.v1+cell": {
     "cellMetadata": {
      "byteLimit": 2048000,
      "rowLimit": 10000
     },
     "inputWidgets": {},
     "nuid": "989f1f18-346a-4df8-ab3e-9490d86d10fd",
     "showTitle": false,
     "title": ""
    }
   },
   "source": [
    "# EDA for AO - Water"
   ]
  },
  {
   "cell_type": "code",
   "execution_count": 0,
   "metadata": {
    "application/vnd.databricks.v1+cell": {
     "cellMetadata": {
      "byteLimit": 2048000,
      "implicitDf": true,
      "rowLimit": 10000
     },
     "inputWidgets": {},
     "nuid": "dd8f69ce-b72d-4cc3-affc-4cefde33999e",
     "showTitle": false,
     "title": ""
    }
   },
   "outputs": [],
   "source": [
    "# YoY Sales\n",
    "\n",
    "# %sql\n",
    "# SELECT YEAR(business_day) AS year_info,\n",
    "#         ROUND(SUM(amount),0) AS sales\n",
    "# FROM gold.pos_transactions AS t1\n",
    "# JOIN gold.material_master AS t2\n",
    "# ON t1.product_id = t2.material_id\n",
    "# WHERE business_day BETWEEN '2022-01-01' AND '2023-12-31'\n",
    "# AND category_name = 'WATER'\n",
    "# GROUP BY year_info"
   ]
  },
  {
   "cell_type": "code",
   "execution_count": 0,
   "metadata": {
    "application/vnd.databricks.v1+cell": {
     "cellMetadata": {
      "byteLimit": 2048000,
      "implicitDf": true,
      "rowLimit": 10000
     },
     "inputWidgets": {},
     "nuid": "23f4ad4e-e45a-47da-8526-39c2c6e7839e",
     "showTitle": false,
     "title": ""
    }
   },
   "outputs": [],
   "source": [
    "# Brand-wise Sales Contribution\n",
    "\n",
    "# %sql\n",
    "# SELECT brand,\n",
    "#         ROUND(SUM(amount),0) AS sales,\n",
    "#         SUM(ROUND(SUM(amount), 0)) OVER () AS total_sales,\n",
    "#         (sales/total_sales) AS sales_contri\n",
    "# FROM gold.pos_transactions AS t1\n",
    "# JOIN gold.material_master AS t2\n",
    "# ON t1.product_id = t2.material_id\n",
    "# WHERE business_day BETWEEN '2023-01-01' AND '2023-12-31'\n",
    "# AND category_name = 'WATER'\n",
    "# GROUP BY brand"
   ]
  },
  {
   "cell_type": "markdown",
   "metadata": {
    "application/vnd.databricks.v1+cell": {
     "cellMetadata": {
      "byteLimit": 2048000,
      "rowLimit": 10000
     },
     "inputWidgets": {},
     "nuid": "63e7f9a0-db81-4aeb-8fc2-da05ce7115c9",
     "showTitle": false,
     "title": ""
    }
   },
   "source": [
    "## libs"
   ]
  },
  {
   "cell_type": "code",
   "execution_count": 0,
   "metadata": {
    "application/vnd.databricks.v1+cell": {
     "cellMetadata": {
      "byteLimit": 2048000,
      "rowLimit": 10000
     },
     "inputWidgets": {},
     "nuid": "acc7943e-0147-4967-9a4c-7aa24a9a908a",
     "showTitle": false,
     "title": ""
    }
   },
   "outputs": [],
   "source": [
    "import pandas as pd\n",
    "import numpy as np\n",
    "import plotly.express as px\n",
    "import matplotlib.pyplot as plt"
   ]
  },
  {
   "cell_type": "markdown",
   "metadata": {
    "application/vnd.databricks.v1+cell": {
     "cellMetadata": {
      "byteLimit": 2048000,
      "rowLimit": 10000
     },
     "inputWidgets": {},
     "nuid": "601833d7-0e58-4beb-a323-c883a3ed8da5",
     "showTitle": false,
     "title": ""
    }
   },
   "source": [
    "## Functions"
   ]
  },
  {
   "cell_type": "code",
   "execution_count": 0,
   "metadata": {
    "application/vnd.databricks.v1+cell": {
     "cellMetadata": {
      "byteLimit": 2048000,
      "rowLimit": 10000
     },
     "inputWidgets": {},
     "nuid": "811e942b-91d9-437a-8f80-2f57cbe88498",
     "showTitle": false,
     "title": ""
    }
   },
   "outputs": [],
   "source": [
    "# Function to handle division and replace with 0 in case of errors\n",
    "\n",
    "def safe_division(x, y):\n",
    "    try:\n",
    "        result = x / y\n",
    "    except ZeroDivisionError:\n",
    "        result = 0\n",
    "    except FloatingPointError:\n",
    "        result = 0\n",
    "    return result"
   ]
  },
  {
   "cell_type": "markdown",
   "metadata": {
    "application/vnd.databricks.v1+cell": {
     "cellMetadata": {
      "byteLimit": 2048000,
      "rowLimit": 10000
     },
     "inputWidgets": {},
     "nuid": "fad54dcd-62bd-40b7-865e-607fa2830f7e",
     "showTitle": false,
     "title": ""
    }
   },
   "source": [
    "## reading data"
   ]
  },
  {
   "cell_type": "code",
   "execution_count": 0,
   "metadata": {
    "application/vnd.databricks.v1+cell": {
     "cellMetadata": {
      "byteLimit": 2048000,
      "rowLimit": 10000
     },
     "inputWidgets": {},
     "nuid": "22430576-ba99-4405-b9b0-099286bcfd95",
     "showTitle": false,
     "title": ""
    }
   },
   "outputs": [],
   "source": [
    "cust=pd.read_csv(\"/dbfs/FileStore/shared_uploads/prem@loyalytics.in/ao_cust.csv\")\n",
    "attr=pd.read_csv(\"/dbfs/FileStore/shared_uploads/prem@loyalytics.in/ao_attributes.csv\")\n",
    "\n",
    "gp=pd.read_csv(\"/dbfs/FileStore/shared_uploads/prem@loyalytics.in/ao_gp.csv\")"
   ]
  },
  {
   "cell_type": "code",
   "execution_count": 0,
   "metadata": {
    "application/vnd.databricks.v1+cell": {
     "cellMetadata": {
      "byteLimit": 2048000,
      "rowLimit": 10000
     },
     "inputWidgets": {},
     "nuid": "f2e90c12-22b6-41fb-9e6e-ea353af5ce31",
     "showTitle": false,
     "title": ""
    }
   },
   "outputs": [],
   "source": [
    "df = pd.read_csv(\"/dbfs/FileStore/shared_uploads/prem@loyalytics.in/ao_products_weekly_data.csv\")\n",
    "df = pd.merge(df, gp[['material_id', 'new_buckets']], on='material_id', how='inner')"
   ]
  },
  {
   "cell_type": "markdown",
   "metadata": {
    "application/vnd.databricks.v1+cell": {
     "cellMetadata": {
      "byteLimit": 2048000,
      "rowLimit": 10000
     },
     "inputWidgets": {},
     "nuid": "0ecaead7-c6b2-4c7e-b214-3394c38109e9",
     "showTitle": false,
     "title": ""
    }
   },
   "source": [
    "##basic eda & data prep"
   ]
  },
  {
   "cell_type": "code",
   "execution_count": 0,
   "metadata": {
    "application/vnd.databricks.v1+cell": {
     "cellMetadata": {
      "byteLimit": 2048000,
      "rowLimit": 10000
     },
     "inputWidgets": {},
     "nuid": "3c859557-cd45-41b9-8136-611dfb082def",
     "showTitle": false,
     "title": ""
    }
   },
   "outputs": [],
   "source": [
    "# Calculate total sales for each material and their sales contribution\n",
    "\n",
    "material_total_sales = df.groupby('material_id')['sale'].sum().reset_index()\n",
    "df = pd.merge(df, material_total_sales, on='material_id', how='left', suffixes=('', '2'))\n",
    "df.rename(columns={'sale2': 'material_total_sales'}, inplace=True)\n",
    "\n",
    "total_sales = df['sale'].sum()\n",
    "df['sales_contri'] = (df['material_total_sales'] / total_sales)"
   ]
  },
  {
   "cell_type": "code",
   "execution_count": 0,
   "metadata": {
    "application/vnd.databricks.v1+cell": {
     "cellMetadata": {
      "byteLimit": 2048000,
      "rowLimit": 10000
     },
     "inputWidgets": {},
     "nuid": "33f74151-433a-4c5d-8f40-a1c69fab0e4f",
     "showTitle": false,
     "title": ""
    }
   },
   "outputs": [],
   "source": [
    "# Calculate average weekly sales\n",
    "\n",
    "df['num_weeks'] = df.groupby('material_id')['week_number'].transform('nunique')\n",
    "df['avg_weekly_sales'] = (df['material_total_sales'] / df['num_weeks']).round()\n",
    "avg_weekly_sales_df = df[['material_id', 'sales_contri', 'avg_weekly_sales']].drop_duplicates().reset_index(drop = True)"
   ]
  },
  {
   "cell_type": "code",
   "execution_count": 0,
   "metadata": {
    "application/vnd.databricks.v1+cell": {
     "cellMetadata": {
      "byteLimit": 2048000,
      "rowLimit": 10000
     },
     "inputWidgets": {},
     "nuid": "1d02eed5-d633-4434-9ea0-7b277aa41ec4",
     "showTitle": false,
     "title": ""
    }
   },
   "outputs": [],
   "source": [
    "query = \"\"\"\n",
    "SELECT store_id, store_name\n",
    "FROM gold.store_master\n",
    "\"\"\"\n",
    "\n",
    "store_names = spark.sql(query).toPandas()"
   ]
  },
  {
   "cell_type": "code",
   "execution_count": 0,
   "metadata": {
    "application/vnd.databricks.v1+cell": {
     "cellMetadata": {
      "byteLimit": 2048000,
      "rowLimit": 10000
     },
     "inputWidgets": {},
     "nuid": "ba4cc4b2-e792-4979-b786-152b76a14587",
     "showTitle": false,
     "title": ""
    }
   },
   "outputs": [],
   "source": [
    "material_store_df = pd.read_csv(\"/dbfs/FileStore/shared_uploads/prem@loyalytics.in/ao_material_store_data.csv\")\n",
    "material_store_df = material_store_df.groupby(['material_id', 'store_id'])['total_sales'].sum().reset_index()"
   ]
  },
  {
   "cell_type": "code",
   "execution_count": 0,
   "metadata": {
    "application/vnd.databricks.v1+cell": {
     "cellMetadata": {
      "byteLimit": 2048000,
      "rowLimit": 10000
     },
     "inputWidgets": {},
     "nuid": "88e23421-c062-407e-b7c9-6744d41b03ba",
     "showTitle": false,
     "title": ""
    }
   },
   "outputs": [],
   "source": [
    "material_store_df['num_materials'] = material_store_df.groupby('store_id')['material_id'].transform('nunique')\n",
    "material_store_df = material_store_df.groupby('store_id').agg({'total_sales': 'sum', 'num_materials': 'mean'}).reset_index()\n",
    "\n",
    "material_store_df = material_store_df.merge(store_names, on='store_id', how='left')\n",
    "material_store_df = material_store_df.sort_values(by = 'num_materials', ascending = False)\n",
    "\n",
    "material_store_df.to_csv('/dbfs/mnt/cdp-customers/gold-layer/adhoc/assortment_optimization/store_wise_material_listings.csv', index = False)"
   ]
  },
  {
   "cell_type": "code",
   "execution_count": 0,
   "metadata": {
    "application/vnd.databricks.v1+cell": {
     "cellMetadata": {
      "byteLimit": 2048000,
      "rowLimit": 10000
     },
     "inputWidgets": {},
     "nuid": "4f6dc628-526e-4e31-b591-d80ef552f808",
     "showTitle": false,
     "title": ""
    }
   },
   "outputs": [],
   "source": [
    "gp = pd.merge(gp, df[['material_id', 'num_weeks']].drop_duplicates(), on='material_id', how='inner')\n",
    "gp['avg_weekly_gp'] = gp['GP'] / gp['num_weeks']\n",
    "gp = pd.merge(gp, avg_weekly_sales_df, on='material_id', how='inner')\n",
    "gp = pd.merge(gp, attr[['material_id', 'material_name', 'Brand']], on='material_id', how='left')\n",
    "gp.to_csv('/dbfs/mnt/cdp-customers/gold-layer/adhoc/assortment_optimization/avg_weekly_sales_gp.csv', index = False)"
   ]
  },
  {
   "cell_type": "code",
   "execution_count": 0,
   "metadata": {
    "application/vnd.databricks.v1+cell": {
     "cellMetadata": {
      "byteLimit": 2048000,
      "rowLimit": 10000
     },
     "inputWidgets": {},
     "nuid": "b8b5c23c-e35f-4834-94ad-dad8fdddd379",
     "showTitle": false,
     "title": ""
    }
   },
   "outputs": [],
   "source": [
    "material_store_df.sort_index(inplace = True)\n",
    "min_total_sales = material_store_df['total_sales'].min()\n",
    "max_total_sales = material_store_df['total_sales'].max()"
   ]
  },
  {
   "cell_type": "code",
   "execution_count": 0,
   "metadata": {
    "application/vnd.databricks.v1+cell": {
     "cellMetadata": {
      "byteLimit": 2048000,
      "rowLimit": 10000
     },
     "inputWidgets": {},
     "nuid": "00c26de8-3220-46b2-8b47-d3db7639454d",
     "showTitle": false,
     "title": ""
    }
   },
   "outputs": [],
   "source": [
    "ranges = (max_total_sales - min_total_sales)//10\n",
    "bin_edges = [min_total_sales + ranges*i for i in range(10)]\n",
    "bin_edges.append(float('inf'))\n",
    "bin_labels = ['1', '2', '3', '4', '5', '6', '7', '8', '9', '10']\n",
    "material_store_df['sales_decile'] = pd.cut(material_store_df['total_sales'],\n",
    "                                           bins=bin_edges, labels=bin_labels, include_lowest=True)"
   ]
  },
  {
   "cell_type": "code",
   "execution_count": 0,
   "metadata": {
    "application/vnd.databricks.v1+cell": {
     "cellMetadata": {
      "byteLimit": 2048000,
      "rowLimit": 10000
     },
     "inputWidgets": {},
     "nuid": "5f88efd0-fc46-4c56-a543-066cf26c6d8f",
     "showTitle": false,
     "title": ""
    }
   },
   "outputs": [],
   "source": [
    "material_store_df"
   ]
  },
  {
   "cell_type": "code",
   "execution_count": 0,
   "metadata": {
    "application/vnd.databricks.v1+cell": {
     "cellMetadata": {
      "byteLimit": 2048000,
      "rowLimit": 10000
     },
     "inputWidgets": {},
     "nuid": "47bac4c7-52f8-4510-9884-82d77c8ad1a6",
     "showTitle": false,
     "title": ""
    }
   },
   "outputs": [],
   "source": [
    "df = pd.merge(df, attr[['material_id', 'material_name', 'Brand']], on='material_id', how='left')"
   ]
  },
  {
   "cell_type": "code",
   "execution_count": 0,
   "metadata": {
    "application/vnd.databricks.v1+cell": {
     "cellMetadata": {
      "byteLimit": 2048000,
      "rowLimit": 10000
     },
     "inputWidgets": {},
     "nuid": "c7c2ef00-d2da-4aeb-9ded-81772ca7b700",
     "showTitle": false,
     "title": ""
    }
   },
   "outputs": [],
   "source": [
    "brand_df = df.groupby(['Brand', 'week_number'])['sale'].sum().reset_index()\n",
    "\n",
    "brand_total_sales = brand_df.groupby('Brand')['sale'].sum().reset_index()\n",
    "brand_df = pd.merge(brand_df, brand_total_sales, on='Brand', how='left', suffixes=('', '2'))\n",
    "brand_df.rename(columns={'sale2': 'brand_total_sales'}, inplace=True)\n",
    "\n",
    "brand_df['num_weeks'] = brand_df.groupby('Brand')['week_number'].transform('nunique')\n",
    "brand_df['avg_weekly_sales'] = (brand_df['brand_total_sales'] / brand_df['num_weeks']).round()\n",
    "brand_avg_weekly_df = brand_df[['Brand', 'avg_weekly_sales']].drop_duplicates().reset_index(drop = True)"
   ]
  },
  {
   "cell_type": "code",
   "execution_count": 0,
   "metadata": {
    "application/vnd.databricks.v1+cell": {
     "cellMetadata": {
      "byteLimit": 2048000,
      "rowLimit": 10000
     },
     "inputWidgets": {},
     "nuid": "0bb9e41d-3705-4033-9d54-82e174c425e3",
     "showTitle": false,
     "title": ""
    }
   },
   "outputs": [],
   "source": [
    "brand_gp_df = gp[['Brand', 'GP']].groupby('Brand')['GP'].sum().reset_index()\n",
    "\n",
    "brand_gp_df = pd.merge(brand_gp_df, brand_df[['Brand', 'num_weeks']].drop_duplicates(), on='Brand', how='inner')\n",
    "brand_gp_df['avg_weekly_gp'] = brand_gp_df['GP'] / brand_gp_df['num_weeks']\n",
    "brand_gp_df = pd.merge(brand_gp_df, brand_avg_weekly_df, on='Brand', how='inner')\n",
    "\n",
    "brand_gp_df.to_csv('/dbfs/mnt/cdp-customers/gold-layer/adhoc/assortment_optimization/brand_avg_weekly_sales_gp.csv', index = False)"
   ]
  },
  {
   "cell_type": "code",
   "execution_count": 0,
   "metadata": {
    "application/vnd.databricks.v1+cell": {
     "cellMetadata": {
      "byteLimit": 2048000,
      "rowLimit": 10000
     },
     "inputWidgets": {},
     "nuid": "d4de16fb-340e-4003-9567-c96ffcabc24f",
     "showTitle": false,
     "title": ""
    }
   },
   "outputs": [],
   "source": [
    "cust['vip+freq_perc'] = (cust['vip_cust'] + cust['freq_cust']) / (cust['tot_vip'] + cust['tot_freq'])"
   ]
  },
  {
   "cell_type": "code",
   "execution_count": 0,
   "metadata": {
    "application/vnd.databricks.v1+cell": {
     "cellMetadata": {
      "byteLimit": 2048000,
      "rowLimit": 10000
     },
     "inputWidgets": {},
     "nuid": "ffb981d4-c945-42f8-812a-c2cf0bdc107a",
     "showTitle": false,
     "title": ""
    }
   },
   "outputs": [],
   "source": [
    "data = pd.merge(df, cust[['material_id', 'vip+freq_perc', 'vip_cust_perc', 'freq_cust_perc']], on='material_id', how='left')\n",
    "data = pd.merge(data, gp[['material_id', 'GP']], on='material_id', how='left')\n",
    "data = pd.merge(data, attr[['material_id', 'material_group']], on='material_id', how='left')\n",
    "data = data.drop(columns=['store', 'cwd', 'material_total_sales', 'sales_contri', 'num_weeks', 'avg_weekly_sales', 'Brand'])\n",
    "data = data[['material_id', 'material_name', 'material_group', 'new_buckets', 'vip+freq_perc', 'vip_cust_perc', 'freq_cust_perc', 'sale', 'vol', 'GP', 'week_number']]"
   ]
  },
  {
   "cell_type": "code",
   "execution_count": 0,
   "metadata": {
    "application/vnd.databricks.v1+cell": {
     "cellMetadata": {
      "byteLimit": 2048000,
      "rowLimit": 10000
     },
     "inputWidgets": {},
     "nuid": "f4d73469-ec33-4b50-b3ad-1c07e44d5a9d",
     "showTitle": false,
     "title": ""
    }
   },
   "outputs": [],
   "source": [
    "dct = {'Wk' + str(i): [] for i in range(1, 53)}\n",
    "\n",
    "materials = data['material_id'].unique()\n",
    "for material in materials:\n",
    "    weeks = data[data['material_id'] == material]['week_number'].values\n",
    "    sales = data[data['material_id'] == material]['sale'].values\n",
    "    vol = data[data['material_id'] == material]['vol'].values\n",
    "    GP = data[data['material_id'] == material]['GP'].values\n",
    "\n",
    "    for i, week in enumerate(weeks):\n",
    "        key = 'Wk' + str(week)\n",
    "        dct[key].extend([sales[i], vol[i], GP[i]])\n",
    "    \n",
    "    for key in dct.keys():\n",
    "        if int(key[2:]) not in weeks:\n",
    "            dct[key].extend([0, 0, 0])\n",
    "\n",
    "converted_df = pd.DataFrame(dct)\n",
    "\n",
    "materials = [item for item in materials for _ in range(3)]\n",
    "measures = ['Sales', 'Quantity', 'GP']*312\n",
    "converted_df['material_id'] = materials\n",
    "converted_df['measures'] = measures"
   ]
  },
  {
   "cell_type": "code",
   "execution_count": 0,
   "metadata": {
    "application/vnd.databricks.v1+cell": {
     "cellMetadata": {
      "byteLimit": 2048000,
      "rowLimit": 10000
     },
     "inputWidgets": {},
     "nuid": "77a15df6-2fdb-46bc-8d07-af0bfe254e6f",
     "showTitle": false,
     "title": ""
    }
   },
   "outputs": [],
   "source": [
    "a = data.drop(columns=['week_number', 'sale', 'vol', 'GP'])\n",
    "a = a.drop_duplicates()\n",
    "converted_df = pd.merge(converted_df, a, on='material_id', how='inner')\n",
    "converted_df.to_csv('/dbfs/mnt/cdp-customers/gold-layer/adhoc/assortment_optimization/data_requirement.csv', index = False)"
   ]
  },
  {
   "cell_type": "markdown",
   "metadata": {
    "application/vnd.databricks.v1+cell": {
     "cellMetadata": {
      "byteLimit": 2048000,
      "rowLimit": 10000
     },
     "inputWidgets": {},
     "nuid": "4d8f9cfc-5444-410a-9ce5-d0c791a34fab",
     "showTitle": false,
     "title": ""
    }
   },
   "source": [
    "## final DF"
   ]
  },
  {
   "cell_type": "code",
   "execution_count": 0,
   "metadata": {
    "application/vnd.databricks.v1+cell": {
     "cellMetadata": {
      "byteLimit": 2048000,
      "rowLimit": 10000
     },
     "inputWidgets": {},
     "nuid": "7371ceae-223a-483e-b507-d020da9a36d4",
     "showTitle": false,
     "title": ""
    }
   },
   "outputs": [],
   "source": [
    "fdf=df.copy()\n",
    "fdf.head()"
   ]
  },
  {
   "cell_type": "markdown",
   "metadata": {
    "application/vnd.databricks.v1+cell": {
     "cellMetadata": {
      "byteLimit": 2048000,
      "rowLimit": 10000
     },
     "inputWidgets": {},
     "nuid": "4852046b-0ef3-470c-9683-ef5a4c7430ce",
     "showTitle": false,
     "title": ""
    }
   },
   "source": [
    "## plots"
   ]
  },
  {
   "cell_type": "markdown",
   "metadata": {
    "application/vnd.databricks.v1+cell": {
     "cellMetadata": {
      "byteLimit": 2048000,
      "rowLimit": 10000
     },
     "inputWidgets": {},
     "nuid": "43835318-5019-4728-88fb-7ede0f22b516",
     "showTitle": false,
     "title": ""
    }
   },
   "source": [
    "### TLE and SSW"
   ]
  },
  {
   "cell_type": "code",
   "execution_count": 0,
   "metadata": {
    "application/vnd.databricks.v1+cell": {
     "cellMetadata": {
      "byteLimit": 2048000,
      "rowLimit": 10000
     },
     "inputWidgets": {},
     "nuid": "67b27e66-f13e-467c-b76d-770c11b9c665",
     "showTitle": false,
     "title": ""
    }
   },
   "outputs": [],
   "source": [
    "fdf['SSW'] = fdf.apply(lambda row: safe_division(row['sale'], row['store']), axis=1)\n",
    "\n",
    "pldf = pd.merge(fdf.groupby('material_id')['sale'].sum().reset_index(),\n",
    "                 fdf[['material_id', 'store', 'new_buckets']].drop_duplicates(),\n",
    "                 on='material_id',\n",
    "                 how='inner')\n",
    "pldf['SSW'] = pldf.apply(lambda row: safe_division(row['sale'], row['store']), axis=1)\n",
    "pldf = pldf[pldf['new_buckets'] == 'Grow']\n",
    "\n",
    "fig = px.scatter(pldf, x=\"SSW\", y=\"store\")\n",
    "\n",
    "fig.add_hline(y=pldf.store.mean())\n",
    "fig.add_vline(x=pldf.SSW.mean())\n",
    "fig.show()"
   ]
  },
  {
   "cell_type": "code",
   "execution_count": 0,
   "metadata": {
    "application/vnd.databricks.v1+cell": {
     "cellMetadata": {
      "byteLimit": 2048000,
      "rowLimit": 10000
     },
     "inputWidgets": {},
     "nuid": "1612862d-2260-44b5-b6a4-6acfc3751994",
     "showTitle": false,
     "title": ""
    }
   },
   "outputs": [],
   "source": [
    "temp = fdf.groupby('material_id')['sale'].sum().reset_index()\n",
    "\n",
    "temp = pd.merge(temp, gp[['material_id', 'GP', 'new_buckets']], on='material_id', how='inner')\n",
    "\n",
    "temp = pd.merge(temp,\n",
    "                attr[['material_id', 'material_name','Brand']],\n",
    "                left_on='material_id',\n",
    "                right_on='material_id',\n",
    "                how='inner')\n",
    "\n",
    "temp['GP_ABS']=np.abs(temp['GP'])\n",
    "\n",
    "temp['GP_FLAG']=np.where(temp.GP<0, \"Negative\", \"Positive\")\n",
    "\n",
    "temp = pd.merge(temp, cust[['material_id', 'tot_cust_perc']], on='material_id', how='left')\n",
    "temp['tot_cust_perc'] = temp['tot_cust_perc'].fillna(0)\n",
    "temp.rename(columns={'tot_cust_perc': 'cust_pnt'}, inplace=True)"
   ]
  },
  {
   "cell_type": "markdown",
   "metadata": {
    "application/vnd.databricks.v1+cell": {
     "cellMetadata": {
      "byteLimit": 2048000,
      "rowLimit": 10000
     },
     "inputWidgets": {},
     "nuid": "f9ed0cde-8fd9-490f-9927-a16efa454553",
     "showTitle": false,
     "title": ""
    }
   },
   "source": [
    "###Sales, GP and Customer penetration"
   ]
  },
  {
   "cell_type": "code",
   "execution_count": 0,
   "metadata": {
    "application/vnd.databricks.v1+cell": {
     "cellMetadata": {
      "byteLimit": 2048000,
      "rowLimit": 10000
     },
     "inputWidgets": {},
     "nuid": "66f7acc7-fdd8-4df9-85aa-cefa497f2452",
     "showTitle": false,
     "title": ""
    }
   },
   "outputs": [],
   "source": [
    "fig = px.scatter(temp, x=\"sale\", y=\"cust_pnt\", size=\"GP_ABS\", \n",
    "                 color=\"GP_FLAG\",\n",
    "                 hover_name=\"material_name\", log_x=False, size_max=40)\n",
    "\n",
    "fig.add_hline(y=temp.cust_pnt.mean())\n",
    "fig.add_vline(x=temp.sale.quantile(0.95))\n",
    "fig.show()"
   ]
  },
  {
   "cell_type": "markdown",
   "metadata": {
    "application/vnd.databricks.v1+cell": {
     "cellMetadata": {
      "byteLimit": 2048000,
      "rowLimit": 10000
     },
     "inputWidgets": {},
     "nuid": "a642f9a1-fdbe-42d0-8e6e-8913ea044f1d",
     "showTitle": false,
     "title": ""
    }
   },
   "source": [
    "###Delisted view - where they are placed"
   ]
  },
  {
   "cell_type": "code",
   "execution_count": 0,
   "metadata": {
    "application/vnd.databricks.v1+cell": {
     "cellMetadata": {
      "byteLimit": 2048000,
      "rowLimit": 10000
     },
     "inputWidgets": {},
     "nuid": "22b070f0-5cd5-46c8-bb03-fb6b44728737",
     "showTitle": false,
     "title": ""
    }
   },
   "outputs": [],
   "source": [
    "temp_delist = temp[temp['new_buckets'] == 'Delist']\n",
    "fig = px.scatter(temp_delist, x=\"sale\", y=\"cust_pnt\", size=\"GP_ABS\", \n",
    "                 color=\"GP_FLAG\",\n",
    "                 hover_name=\"material_name\", log_x=False, size_max=40)\n",
    "\n",
    "fig.add_hline(y=temp_delist.cust_pnt.mean())\n",
    "fig.add_vline(x=temp_delist.sale.quantile(0.95))\n",
    "fig.show()"
   ]
  },
  {
   "cell_type": "markdown",
   "metadata": {
    "application/vnd.databricks.v1+cell": {
     "cellMetadata": {
      "byteLimit": 2048000,
      "rowLimit": 10000
     },
     "inputWidgets": {},
     "nuid": "c6324be2-d2de-43f6-9d88-c0a25437b9af",
     "showTitle": false,
     "title": ""
    }
   },
   "source": [
    "###Grow view - where they are placed"
   ]
  },
  {
   "cell_type": "code",
   "execution_count": 0,
   "metadata": {
    "application/vnd.databricks.v1+cell": {
     "cellMetadata": {
      "byteLimit": 2048000,
      "rowLimit": 10000
     },
     "inputWidgets": {},
     "nuid": "4385d275-ed00-47c6-bcca-37e00637ad33",
     "showTitle": false,
     "title": ""
    }
   },
   "outputs": [],
   "source": [
    "temp_grow = temp[temp['new_buckets'] == 'Grow']\n",
    "fig = px.scatter(temp_grow, x=\"sale\", y=\"cust_pnt\", size=\"GP_ABS\", \n",
    "                 color=\"GP_FLAG\",\n",
    "                 hover_name=\"material_name\", log_x=False, size_max=40)\n",
    "\n",
    "fig.add_hline(y=temp_grow.cust_pnt.mean())\n",
    "fig.add_vline(x=temp_grow.sale.quantile(0.95))\n",
    "fig.show()"
   ]
  },
  {
   "cell_type": "code",
   "execution_count": 0,
   "metadata": {
    "application/vnd.databricks.v1+cell": {
     "cellMetadata": {
      "byteLimit": 2048000,
      "rowLimit": 10000
     },
     "inputWidgets": {},
     "nuid": "d87674be-5983-4992-baa2-47687aa7c23c",
     "showTitle": false,
     "title": ""
    }
   },
   "outputs": [],
   "source": [
    "def get_top_N_list(dataframe, start, end):\n",
    "    listname = \"list\" + \"_\" + str(end)\n",
    "#     print(listname)\n",
    "    listname = pd.DataFrame(dataframe.groupby(\n",
    "        'material_id').sum()['sale']).reset_index().sort_values(\n",
    "            by=dataframe.columns[2], ascending=False)['material_id'][start:end].tolist()\n",
    "    return listname"
   ]
  },
  {
   "cell_type": "code",
   "execution_count": 0,
   "metadata": {
    "application/vnd.databricks.v1+cell": {
     "cellMetadata": {
      "byteLimit": 2048000,
      "rowLimit": 10000
     },
     "inputWidgets": {},
     "nuid": "7b756a88-9bee-4d25-b7a5-a2a968cc9d68",
     "showTitle": false,
     "title": ""
    }
   },
   "outputs": [],
   "source": [
    "store = fdf[['material_id', 'week_number', 'store']]\n",
    "sale = fdf[['material_id', 'week_number', 'sale']]\n",
    "tbl=store[store['material_id'].isin(get_top_N_list(sale,0,16))]\n",
    "\n",
    "tbl = pd.merge(tbl,\n",
    "                attr[['material_id', 'material_name','Brand']],\n",
    "                left_on='material_id',\n",
    "                right_on='material_id',\n",
    "                how='inner')\n",
    "\n",
    "fig = px.line(tbl, x=\"week_number\", y=\"store\", color='material_name',width=900, height=600)\n",
    "fig.show()"
   ]
  },
  {
   "cell_type": "markdown",
   "metadata": {
    "application/vnd.databricks.v1+cell": {
     "cellMetadata": {
      "byteLimit": 2048000,
      "rowLimit": 10000
     },
     "inputWidgets": {},
     "nuid": "c8eb925e-387f-40ed-821a-585b75a9466a",
     "showTitle": false,
     "title": ""
    }
   },
   "source": [
    "###Delisted view - their distribution"
   ]
  },
  {
   "cell_type": "code",
   "execution_count": 0,
   "metadata": {
    "application/vnd.databricks.v1+cell": {
     "cellMetadata": {
      "byteLimit": 2048000,
      "rowLimit": 10000
     },
     "inputWidgets": {},
     "nuid": "550163df-cb2d-43fa-8929-a13c4bb0b17d",
     "showTitle": false,
     "title": ""
    }
   },
   "outputs": [],
   "source": [
    "sale = fdf[fdf['new_buckets'] == 'Delist'][['material_id', 'week_number', 'sale']]\n",
    "\n",
    "tbl=sale[sale['material_id'].isin(get_top_N_list(sale,0,16))]\n",
    "\n",
    "tbl = pd.merge(tbl,\n",
    "                attr[['material_id', 'material_name']],\n",
    "                left_on='material_id',\n",
    "                right_on='material_id',\n",
    "                how='inner')\n",
    "\n",
    "fig = px.line(tbl, x=\"week_number\", y=\"sale\", color='material_name',width=900, height=600)\n",
    "fig.show()"
   ]
  },
  {
   "cell_type": "code",
   "execution_count": 0,
   "metadata": {
    "application/vnd.databricks.v1+cell": {
     "cellMetadata": {
      "byteLimit": 2048000,
      "rowLimit": 10000
     },
     "inputWidgets": {},
     "nuid": "0b1990a6-db12-4ba9-a82f-ef7c3a1737af",
     "showTitle": false,
     "title": ""
    }
   },
   "outputs": [],
   "source": [
    "sale = fdf[fdf['new_buckets'] == 'Grow'][['material_id', 'week_number', 'sale', 'cwd']]\n",
    "\n",
    "# listname = \"list\" + \"_\" + str(16)\n",
    "# listname = pd.DataFrame(sale.groupby(\n",
    "#     'material_id').mean()['cwd']).reset_index().sort_values(\n",
    "#         by=sale.columns[2], ascending=False)['material_id'][0:16].tolist()\n",
    "\n",
    "# tbl=sale[sale['material_id'].isin(listname)]\n",
    "tbl=sale[sale['material_id'].isin(get_top_N_list(sale,0,16))]\n",
    "\n",
    "tbl = pd.merge(tbl,\n",
    "                attr[['material_id', 'material_name']],\n",
    "                left_on='material_id',\n",
    "                right_on='material_id',\n",
    "                how='inner')\n",
    "\n",
    "fig = px.line(tbl, x=\"week_number\", y=\"cwd\", color='material_name',width=900, height=600)\n",
    "fig.show()"
   ]
  },
  {
   "cell_type": "markdown",
   "metadata": {
    "application/vnd.databricks.v1+cell": {
     "cellMetadata": {
      "byteLimit": 2048000,
      "rowLimit": 10000
     },
     "inputWidgets": {},
     "nuid": "f0120869-c6f2-49d4-a0bd-721efe00df33",
     "showTitle": false,
     "title": ""
    }
   },
   "source": [
    "### Brand level"
   ]
  },
  {
   "cell_type": "code",
   "execution_count": 0,
   "metadata": {
    "application/vnd.databricks.v1+cell": {
     "cellMetadata": {
      "byteLimit": 2048000,
      "rowLimit": 10000
     },
     "inputWidgets": {},
     "nuid": "40dd715f-aab2-4218-9f54-a13392dd1f07",
     "showTitle": false,
     "title": ""
    }
   },
   "outputs": [],
   "source": [
    "gp_bub2 = pd.merge(fdf,\n",
    "                attr[['material_id', 'material_name']],\n",
    "                left_on='material_id',\n",
    "                right_on='material_id',\n",
    "                how='inner')\n",
    "\n",
    "\n",
    "gp_bub=gp_bub2.groupby('Brand').sum()[['sale','vol']].reset_index()\n",
    "\n",
    "gp2 = pd.merge(gp,\n",
    "                attr[['material_id', 'material_name','Brand']],\n",
    "                left_on='material_id',\n",
    "                right_on='material_id',\n",
    "                how='inner')\n",
    "\n",
    "gp3=gp2.groupby('Brand').sum()['GP']\n",
    "\n",
    "temp=pd.merge(gp_bub,gp3,on='Brand',how='inner')\n",
    "\n",
    "\n",
    "\n",
    "\n",
    "temp['GP_ABS']=np.abs(temp['GP'])\n",
    "\n",
    "\n",
    "temp['GP_FLAG']=np.where(temp.GP<0,\"Negative\",\"Positive\")"
   ]
  },
  {
   "cell_type": "code",
   "execution_count": 0,
   "metadata": {
    "application/vnd.databricks.v1+cell": {
     "cellMetadata": {
      "byteLimit": 2048000,
      "rowLimit": 10000
     },
     "inputWidgets": {},
     "nuid": "93c01846-6264-4461-b66b-f48d656eef8c",
     "showTitle": false,
     "title": ""
    }
   },
   "outputs": [],
   "source": [
    "fig = px.scatter(temp, x=\"sale\", y=\"vol\", size=\"GP_ABS\", \n",
    "                 color=\"GP_FLAG\",\n",
    "                 hover_name=\"Brand\", log_x=False, size_max=40)\n",
    "\n",
    "fig.add_hline(y=temp.vol.mean())\n",
    "fig.add_vline(x=temp.sale.quantile(0.95))\n",
    "\n",
    "\n",
    "fig.show()\n"
   ]
  },
  {
   "cell_type": "code",
   "execution_count": 0,
   "metadata": {
    "application/vnd.databricks.v1+cell": {
     "cellMetadata": {
      "byteLimit": 2048000,
      "rowLimit": 10000
     },
     "inputWidgets": {},
     "nuid": "635542cf-b749-41e7-a138-4c9f9770abf6",
     "showTitle": false,
     "title": ""
    }
   },
   "outputs": [],
   "source": []
  },
  {
   "cell_type": "code",
   "execution_count": 0,
   "metadata": {
    "application/vnd.databricks.v1+cell": {
     "cellMetadata": {
      "byteLimit": 2048000,
      "rowLimit": 10000
     },
     "inputWidgets": {},
     "nuid": "51bb0b1a-655a-4f7e-af9c-0e9d5fefc24b",
     "showTitle": false,
     "title": ""
    }
   },
   "outputs": [],
   "source": []
  },
  {
   "cell_type": "code",
   "execution_count": 0,
   "metadata": {
    "application/vnd.databricks.v1+cell": {
     "cellMetadata": {
      "byteLimit": 2048000,
      "rowLimit": 10000
     },
     "inputWidgets": {},
     "nuid": "002501b2-627c-4211-8aba-70fa7687a29d",
     "showTitle": false,
     "title": ""
    }
   },
   "outputs": [],
   "source": []
  }
 ],
 "metadata": {
  "application/vnd.databricks.v1+notebook": {
   "dashboards": [],
   "language": "python",
   "notebookMetadata": {
    "mostRecentlyExecutedCommandWithImplicitDF": {
     "commandId": 3234114834017649,
     "dataframes": [
      "_sqldf"
     ]
    },
    "pythonIndentUnit": 4
   },
   "notebookName": "EDA_PS",
   "widgets": {}
  },
  "kernelspec": {
   "display_name": "Python 3 (ipykernel)",
   "language": "python",
   "name": "python3"
  },
  "language_info": {
   "codemirror_mode": {
    "name": "ipython",
    "version": 3
   },
   "file_extension": ".py",
   "mimetype": "text/x-python",
   "name": "python",
   "nbconvert_exporter": "python",
   "pygments_lexer": "ipython3",
   "version": "3.10.9"
  },
  "toc": {
   "base_numbering": 1,
   "nav_menu": {},
   "number_sections": true,
   "sideBar": true,
   "skip_h1_title": false,
   "title_cell": "Table of Contents",
   "title_sidebar": "Contents",
   "toc_cell": false,
   "toc_position": {},
   "toc_section_display": true,
   "toc_window_display": false
  }
 },
 "nbformat": 4,
 "nbformat_minor": 0
}
