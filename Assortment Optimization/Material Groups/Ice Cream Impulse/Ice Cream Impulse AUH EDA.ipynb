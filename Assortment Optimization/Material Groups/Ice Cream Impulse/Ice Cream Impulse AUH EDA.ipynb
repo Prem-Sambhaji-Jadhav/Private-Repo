{
 "cells": [
  {
   "cell_type": "markdown",
   "metadata": {
    "application/vnd.databricks.v1+cell": {
     "cellMetadata": {
      "byteLimit": 2048000,
      "rowLimit": 10000
     },
     "inputWidgets": {},
     "nuid": "2a89ffa1-8789-427f-95a1-bd0b9cb8f16f",
     "showTitle": false,
     "tableResultSettingsMap": {},
     "title": ""
    }
   },
   "source": [
    "#Import Statements"
   ]
  },
  {
   "cell_type": "code",
   "execution_count": 0,
   "metadata": {
    "application/vnd.databricks.v1+cell": {
     "cellMetadata": {
      "byteLimit": 2048000,
      "rowLimit": 10000
     },
     "inputWidgets": {},
     "nuid": "30f680a1-3def-43f0-94c1-d525e49f1a26",
     "showTitle": false,
     "tableResultSettingsMap": {},
     "title": ""
    }
   },
   "outputs": [],
   "source": [
    "import pandas as pd\n",
    "import numpy as np\n",
    "from datetime import datetime, timedelta\n",
    "import matplotlib.pyplot as plt\n",
    "import plotly.express as px\n",
    "import plotly.graph_objects as go\n",
    "from plotly.subplots import make_subplots\n",
    "pd.set_option('display.max_columns', None)"
   ]
  },
  {
   "cell_type": "markdown",
   "metadata": {
    "application/vnd.databricks.v1+cell": {
     "cellMetadata": {
      "byteLimit": 2048000,
      "rowLimit": 10000
     },
     "inputWidgets": {},
     "nuid": "6c475f30-1e82-4268-aa07-098855459fb3",
     "showTitle": false,
     "tableResultSettingsMap": {},
     "title": ""
    }
   },
   "source": [
    "#Functions"
   ]
  },
  {
   "cell_type": "code",
   "execution_count": 0,
   "metadata": {
    "application/vnd.databricks.v1+cell": {
     "cellMetadata": {
      "byteLimit": 2048000,
      "rowLimit": 10000
     },
     "inputWidgets": {},
     "nuid": "78ace461-9735-4c67-af2c-14390f7c84fc",
     "showTitle": false,
     "tableResultSettingsMap": {},
     "title": ""
    }
   },
   "outputs": [],
   "source": [
    "# Function to handle division and replace with 0 in case of errors\n",
    "def safe_division(x, y):\n",
    "    try:\n",
    "        result = x / y\n",
    "    except ZeroDivisionError:\n",
    "        result = 0\n",
    "    except FloatingPointError:\n",
    "        result = 0\n",
    "    return result\n",
    "\n",
    "def plot_bar(dataframe,x,y):\n",
    "    xdd=pd.DataFrame(dataframe.groupby(x).sum()[y]).reset_index()\n",
    "    # print(xdd)\n",
    "    fig=px.bar(data_frame=xdd.sort_values(by=y, ascending=False),x=x,y=y)\n",
    "    return fig"
   ]
  },
  {
   "cell_type": "markdown",
   "metadata": {
    "application/vnd.databricks.v1+cell": {
     "cellMetadata": {
      "byteLimit": 2048000,
      "rowLimit": 10000
     },
     "inputWidgets": {},
     "nuid": "60e30d56-0ebb-4248-81e7-69fc9587f521",
     "showTitle": false,
     "tableResultSettingsMap": {},
     "title": ""
    }
   },
   "source": [
    "#User Inputs"
   ]
  },
  {
   "cell_type": "code",
   "execution_count": 0,
   "metadata": {
    "application/vnd.databricks.v1+cell": {
     "cellMetadata": {
      "byteLimit": 2048000,
      "rowLimit": 10000
     },
     "inputWidgets": {},
     "nuid": "b80786bd-43a8-4295-85b3-0c7b6a2a537e",
     "showTitle": false,
     "tableResultSettingsMap": {},
     "title": ""
    }
   },
   "outputs": [],
   "source": [
    "category_name = \"ICE CREAM & DESSERTS\" # Mandatory field\n",
    "material_group_name = \"ICE CREAM IMPULSE\" # Leave it blank if you want the recommendations on category level\n",
    "region = \"ABU DHABI\"  # ABU DHABI, AL AIN, DUBAI, SHARJAH\n",
    "\n",
    "catg_lower = material_group_name.lower() # 'material_group_name' OR 'category_name'\n",
    "\n",
    "analysis_start_date = \"2023-10-01\"\n",
    "analysis_end_date = \"2024-09-28\""
   ]
  },
  {
   "cell_type": "code",
   "execution_count": 0,
   "metadata": {
    "application/vnd.databricks.v1+cell": {
     "cellMetadata": {
      "byteLimit": 2048000,
      "rowLimit": 10000
     },
     "inputWidgets": {},
     "nuid": "40c6ebff-4a30-407c-be0c-899c07224901",
     "showTitle": false,
     "tableResultSettingsMap": {},
     "title": ""
    }
   },
   "outputs": [],
   "source": [
    "catg_lower = catg_lower.replace(' ', '_')\n",
    "directory = f'/dbfs/FileStore/shared_uploads/prem@loyalytics.in/assortment_optimization/{catg_lower}/'\n",
    "\n",
    "if region == \"ABU DHABI\":\n",
    "    region_abr = \"auh\"\n",
    "elif region == \"AL AIN\":\n",
    "    region_abr = \"aln\"\n",
    "elif region == \"DUBAI\":\n",
    "    region_abr = \"dxb\"\n",
    "else:\n",
    "    region_abr = \"shj\"\n",
    "\n",
    "if material_group_name == \"\":\n",
    "    material_group_condition = \"\"\n",
    "else:\n",
    "    material_group_condition = \"AND material_group_name = '\" + material_group_name + \"'\""
   ]
  },
  {
   "cell_type": "code",
   "execution_count": 0,
   "metadata": {
    "application/vnd.databricks.v1+cell": {
     "cellMetadata": {
      "byteLimit": 2048000,
      "rowLimit": 10000
     },
     "inputWidgets": {},
     "nuid": "1d1815c7-c1a5-44c8-8082-1312707e859d",
     "showTitle": false,
     "tableResultSettingsMap": {},
     "title": ""
    }
   },
   "outputs": [],
   "source": [
    "cust = spark.sql(f\"\"\"SELECT *\n",
    "                 FROM dev.sandbox.pj_ao_customer_data\n",
    "                 WHERE category_name = '{category_name}'\n",
    "                 {material_group_condition}\n",
    "                 AND region_name = '{region}'\"\"\").toPandas().sort_values(by = 'material_id').reset_index(drop = True)\n",
    "\n",
    "gp = spark.sql(f\"\"\"SELECT *\n",
    "                 FROM dev.sandbox.pj_ao_gp_12months\n",
    "                 WHERE category_name = '{category_name}'\n",
    "                 {material_group_condition}\n",
    "                 AND region_name = '{region}'\"\"\").toPandas().sort_values(by = 'material_id').reset_index(drop = True)\n",
    "\n",
    "gp_3m = spark.sql(f\"\"\"SELECT *\n",
    "                  FROM dev.sandbox.pj_ao_gp_3months\n",
    "                  WHERE category_name = '{category_name}'\n",
    "                  {material_group_condition}\n",
    "                  AND region_name = '{region}'\"\"\").toPandas().sort_values(by = 'material_id').reset_index(drop = True)\n",
    "\n",
    "df = spark.sql(f\"\"\"SELECT *\n",
    "               FROM dev.sandbox.pj_ao_weekly_data\n",
    "               WHERE category_name = '{category_name}'\n",
    "               {material_group_condition}\n",
    "               AND region_name = '{region}'\"\"\").toPandas().sort_values(by = ['week_number', 'material_id']).reset_index(drop = True)\n",
    "\n",
    "attr = spark.sql(f\"\"\"SELECT *\n",
    "                 FROM dev.sandbox.pj_ao_attributes\n",
    "                 WHERE category_name = '{category_name}'\n",
    "                 {material_group_condition}\"\"\").toPandas().sort_values(by = 'material_id').reset_index(drop = True)\n",
    "\n",
    "attr['volume'] = pd.to_numeric(attr['volume'], errors='coerce')\n",
    "# mean_value = attr['volume'].mean()\n",
    "# attr['volume'].fillna(mean_value, inplace=True)\n",
    "# attr['units'] = attr['units'].replace(\"Not Available\", \"G\")\n",
    "attr['new_volume'] = np.where(attr.units == 'L', attr.volume*1000, np.where(attr.units == 'KG', attr.volume*1, attr.volume))\n",
    "attr['new_volume'] = attr['new_volume'].astype('object')\n",
    "attr['new_volume'] = attr['new_volume'].astype(str) + 'ML'\n",
    "\n",
    "rationalized_flag = 0 # 1 = SKUs are rationalized already, 0 = SKUs are not rationalized yet\n",
    "if rationalized_flag != 0:\n",
    "    rationalized_df = pd.read_csv(f\"{directory}{catg_lower}_rationalized_\" + region_abr + \".csv\")"
   ]
  },
  {
   "cell_type": "code",
   "execution_count": 0,
   "metadata": {
    "application/vnd.databricks.v1+cell": {
     "cellMetadata": {
      "byteLimit": 2048000,
      "rowLimit": 10000
     },
     "inputWidgets": {},
     "nuid": "1269e1c5-15eb-4649-9f91-c26754439549",
     "showTitle": false,
     "tableResultSettingsMap": {},
     "title": ""
    }
   },
   "outputs": [],
   "source": [
    "date_obj = datetime.strptime(analysis_start_date, \"%Y-%m-%d\")\n",
    "lfl_start_date = date_obj - timedelta(days=364)\n",
    "lfl_end_date = date_obj - timedelta(days=1)\n",
    "lfl_start_date = lfl_start_date.strftime(\"%Y-%m-%d\")\n",
    "lfl_end_date = lfl_end_date.strftime(\"%Y-%m-%d\")"
   ]
  },
  {
   "cell_type": "markdown",
   "metadata": {
    "application/vnd.databricks.v1+cell": {
     "cellMetadata": {
      "byteLimit": 2048000,
      "rowLimit": 10000
     },
     "inputWidgets": {},
     "nuid": "89334366-bce0-44e5-bba7-1c93526c2e68",
     "showTitle": false,
     "tableResultSettingsMap": {},
     "title": ""
    }
   },
   "source": [
    "#Data Prep"
   ]
  },
  {
   "cell_type": "code",
   "execution_count": 0,
   "metadata": {
    "application/vnd.databricks.v1+cell": {
     "cellMetadata": {
      "byteLimit": 2048000,
      "rowLimit": 10000
     },
     "inputWidgets": {},
     "nuid": "e9acb210-6066-49e8-af02-c347ff621cfa",
     "showTitle": false,
     "tableResultSettingsMap": {},
     "title": ""
    }
   },
   "outputs": [],
   "source": [
    "if rationalized_flag != 0:\n",
    "    rationalized_materials = rationalized_df[~rationalized_df['delisted_date'].isna()]['material_id'].values\n",
    "    rationalized_materials_sql = str(set(rationalized_materials))\n",
    "    rationalized_materials_sql = '(' + rationalized_materials_sql[1:-1] + ')'"
   ]
  },
  {
   "cell_type": "code",
   "execution_count": 0,
   "metadata": {
    "application/vnd.databricks.v1+cell": {
     "cellMetadata": {
      "byteLimit": 2048000,
      "rowLimit": 10000
     },
     "inputWidgets": {},
     "nuid": "f2a048e4-11d8-4e9c-8888-dffa0d044ddb",
     "showTitle": false,
     "tableResultSettingsMap": {},
     "title": ""
    }
   },
   "outputs": [],
   "source": [
    "sale = df[['material_id', 'week_number', 'sale']]\n",
    "vol = df[['material_id', 'week_number', 'vol']]\n",
    "cwd = df[['material_id', 'week_number', 'cwd']]\n",
    "store = df[['material_id', 'week_number', 'material_weekly_store_count']]\n",
    "cust['vip_freq_pnt'] = (cust['vip_cust'] + cust['freq_cust']) / (cust['tot_vip'] + cust['tot_freq'])\n",
    "gp['gp_abs']=np.abs(gp['GP'])\n",
    "\n",
    "df['SSW'] = df.apply(lambda row: safe_division(row['sale'], row['material_weekly_store_count']), axis=1)"
   ]
  },
  {
   "cell_type": "code",
   "execution_count": 0,
   "metadata": {
    "application/vnd.databricks.v1+cell": {
     "cellMetadata": {
      "byteLimit": 2048000,
      "rowLimit": 10000
     },
     "inputWidgets": {},
     "nuid": "f35d93cd-a68e-43fe-8477-ec5cb4bca809",
     "showTitle": false,
     "tableResultSettingsMap": {},
     "title": ""
    }
   },
   "outputs": [],
   "source": [
    "gp['new_buckets'] = gp['new_buckets'].str.replace('Maintain','SUPPORT_MORE_DIST') # high beta\n",
    "gp['new_buckets'] = gp['new_buckets'].str.replace('Delist','DELIST')\n",
    "gp['new_buckets'] = gp['new_buckets'].str.replace('Grow','MAINTAIN_OR_GROW_BY_PROMO') # low beta\n",
    "gp['new_buckets'] = gp['new_buckets'].str.replace('Observe','OBSERVE')\n",
    "\n",
    "df = pd.merge(df, gp[['material_id', 'new_buckets']], on='material_id', how='inner')\n",
    "fdf=df.copy()\n",
    "fdf.head()"
   ]
  },
  {
   "cell_type": "code",
   "execution_count": 0,
   "metadata": {
    "application/vnd.databricks.v1+cell": {
     "cellMetadata": {
      "byteLimit": 2048000,
      "rowLimit": 10000
     },
     "inputWidgets": {},
     "nuid": "dce63097-c6bb-433c-9ebe-67b6c33d39a0",
     "showTitle": false,
     "tableResultSettingsMap": {},
     "title": ""
    }
   },
   "outputs": [],
   "source": [
    "############# FULL  dataframe ##############\n",
    "\n",
    "agg_table_full = pd.DataFrame(\n",
    "    fdf.groupby(\"material_id\").agg(\n",
    "        {\n",
    "            \"sale\": \"sum\",\n",
    "            \"vol\": \"sum\",\n",
    "            \"material_weekly_store_count\": \"mean\",\n",
    "            \"cwd\": \"mean\",'new_buckets':'max'\n",
    "        }\n",
    "    )\n",
    ").reset_index()\n",
    "\n",
    "agg_table_full.rename(columns={'material_weekly_store_count':'AVG_STORE_SELLING'},inplace=True)\n",
    "agg_table_full.rename(columns={'cwd':'AVG_CWD'},inplace=True)\n",
    "agg_table_full.columns = [x.lower() for x in agg_table_full.columns]\n",
    "\n",
    "############# L3M dataframe ##############\n",
    "\n",
    "agg_table_l3m = pd.DataFrame(\n",
    "    fdf[fdf['week_number']>40].groupby(\"material_id\").agg(\n",
    "        {\n",
    "            \"sale\": \"sum\",\n",
    "            \"vol\": \"sum\",\n",
    "            \"material_weekly_store_count\": \"mean\",\n",
    "            \"cwd\": \"mean\",'new_buckets':'max'\n",
    "        }\n",
    "    )\n",
    ").reset_index()\n",
    "\n",
    "agg_table_l3m.rename(columns={'material_weekly_store_count':'AVG_STORE_SELLING'},inplace=True)\n",
    "agg_table_l3m.rename(columns={'cwd':'AVG_CWD'},inplace=True)\n",
    "agg_table_l3m.columns = [x.lower() for x in agg_table_l3m.columns]"
   ]
  },
  {
   "cell_type": "code",
   "execution_count": 0,
   "metadata": {
    "application/vnd.databricks.v1+cell": {
     "cellMetadata": {
      "byteLimit": 2048000,
      "rowLimit": 10000
     },
     "inputWidgets": {},
     "nuid": "66fb10b4-799f-4196-a5da-8d66d6da5685",
     "showTitle": false,
     "tableResultSettingsMap": {},
     "title": ""
    }
   },
   "outputs": [],
   "source": [
    "agg_table_full.head(2)"
   ]
  },
  {
   "cell_type": "code",
   "execution_count": 0,
   "metadata": {
    "application/vnd.databricks.v1+cell": {
     "cellMetadata": {
      "byteLimit": 2048000,
      "rowLimit": 10000
     },
     "inputWidgets": {},
     "nuid": "6fa50088-1cb1-454e-b66f-d071770742a7",
     "showTitle": false,
     "tableResultSettingsMap": {},
     "title": ""
    }
   },
   "outputs": [],
   "source": [
    "############ merging GP data ########################\n",
    "\n",
    "eda_agg_table_full=pd.merge(agg_table_full,attr,on='material_id',how='inner')\n",
    "eda_agg_table_full=pd.merge(eda_agg_table_full,gp.drop(columns=['new_buckets'],axis=1),on='material_id',how='left')\n",
    "eda_agg_table_full=pd.merge(eda_agg_table_full,cust.drop(columns=['material_name'],axis=1),on='material_id',how='left')\n",
    "eda_agg_table_full['gp_flag']=np.where(eda_agg_table_full.GP<0,\"Negative\",\"Positive\")\n",
    "\n",
    "############ merging GP data L3m ########################\n",
    "\n",
    "eda_agg_table_l3m=pd.merge(agg_table_l3m,attr,on='material_id',how='inner')\n",
    "eda_agg_table_l3m=pd.merge(eda_agg_table_l3m,gp.drop(columns=['new_buckets'],axis=1),on='material_id',how='left') ### GP data is still full here\n",
    "eda_agg_table_l3m=pd.merge(eda_agg_table_l3m,cust.drop(columns=['material_name'],axis=1),on='material_id',how='left')\n",
    "\n",
    "eda_agg_table_l3m['gp_flag']=np.where(eda_agg_table_l3m.GP<0,\"Negative\",\"Positive\")"
   ]
  },
  {
   "cell_type": "code",
   "execution_count": 0,
   "metadata": {
    "application/vnd.databricks.v1+cell": {
     "cellMetadata": {
      "byteLimit": 2048000,
      "rowLimit": 10000
     },
     "inputWidgets": {},
     "nuid": "2c1db674-a63c-4f95-bea6-567059e9a3ba",
     "showTitle": false,
     "tableResultSettingsMap": {},
     "title": ""
    }
   },
   "outputs": [],
   "source": [
    "eda_agg_table_full.head(2)"
   ]
  },
  {
   "cell_type": "code",
   "execution_count": 0,
   "metadata": {
    "application/vnd.databricks.v1+cell": {
     "cellMetadata": {
      "byteLimit": 2048000,
      "rowLimit": 10000
     },
     "inputWidgets": {},
     "nuid": "d3e01421-6227-489d-a06a-a0987de276db",
     "showTitle": false,
     "tableResultSettingsMap": {},
     "title": ""
    }
   },
   "outputs": [],
   "source": [
    "eda_agg_table_full.display()"
   ]
  },
  {
   "cell_type": "markdown",
   "metadata": {
    "application/vnd.databricks.v1+cell": {
     "cellMetadata": {
      "byteLimit": 2048000,
      "rowLimit": 10000
     },
     "inputWidgets": {},
     "nuid": "cd951c36-cae8-445e-b830-b9789e219cf2",
     "showTitle": false,
     "tableResultSettingsMap": {},
     "title": ""
    }
   },
   "source": [
    "#Delist Reco Metrics (Deck)"
   ]
  },
  {
   "cell_type": "code",
   "execution_count": 0,
   "metadata": {
    "application/vnd.databricks.v1+cell": {
     "cellMetadata": {
      "byteLimit": 2048000,
      "rowLimit": 10000
     },
     "inputWidgets": {},
     "nuid": "966f092f-af4e-43be-b0cd-7e49193594a3",
     "showTitle": false,
     "tableResultSettingsMap": {},
     "title": ""
    }
   },
   "outputs": [],
   "source": [
    "drm = pd.merge(df[['material_id', 'week_number', 'sale', 'vol']],\n",
    "               gp[['material_id', 'new_buckets']],\n",
    "               on='material_id', how='inner')\n",
    "\n",
    "# Add PL flag to the materials\n",
    "drm = pd.merge(drm, attr[['material_id', 'material_name', 'brand']], on='material_id', how='left')\n",
    "def check_pl_flag(text):\n",
    "    words = text.split()\n",
    "    if 'IMP' in words or 'IMPORT' in words or text == 'LULU PRIVATE LABEL':\n",
    "        return 1\n",
    "    return 0\n",
    "drm['pl_flag'] = drm['brand'].apply(check_pl_flag)\n",
    "\n",
    "# Merge GP Data into the dataframe\n",
    "drm = pd.merge(drm, gp_3m[['material_id', 'gp_abs_Q4', 'gp_contri_Q4']],\n",
    "                  on = 'material_id', how = 'inner')\n",
    "\n",
    "# Calculate Q4 sales and vol\n",
    "sale_12weeks = drm[drm['week_number'] >= 40].groupby('material_id')['sale'].sum().reset_index()\n",
    "total_quantity_sold_12weeks = drm[drm['week_number'] >= 40].groupby('material_id')['vol'].sum().reset_index()\n",
    "drm = pd.merge(drm, sale_12weeks, on='material_id', how='left', suffixes=('', '2'))\n",
    "drm = pd.merge(drm, total_quantity_sold_12weeks, on='material_id', how='left', suffixes=('', '2'))\n",
    "drm['sale_Q4'] = drm['sale2'].fillna(0)\n",
    "drm['vol_Q4'] = drm['vol2'].fillna(0)\n",
    "drm = drm.drop(columns=['sale2', 'vol2'])\n",
    "\n",
    "# Calculate weighted contribution of sales and vol of Q4\n",
    "sale_12weeks_sum = drm.groupby('material_id')['sale_Q4'].head(1).sum()\n",
    "total_quantity_sold_12weeks_sum = drm.groupby('material_id')['vol_Q4'].head(1).sum()\n",
    "drm['sales_contri_Q4'] = (drm['sale_Q4'] / sale_12weeks_sum)\n",
    "drm['quantity_contri_Q4'] = (drm['vol_Q4'] / total_quantity_sold_12weeks_sum)\n",
    "drm['sale_vol_contri_Q4'] = (drm['sales_contri_Q4']*50/100 + drm['quantity_contri_Q4']*50/100)\n",
    "\n",
    "# Calculate the Q3 sales and vol\n",
    "sale_Q3 = drm[(drm['week_number'] >= 27) & (drm['week_number'] <= 40)].groupby('material_id')['sale'].sum().reset_index()\n",
    "total_quantity_sold_Q3 = drm[(drm['week_number'] >= 27) & (drm['week_number'] <= 40)].groupby('material_id')['vol'].sum().reset_index()\n",
    "drm = pd.merge(drm, sale_Q3, on='material_id', how='left', suffixes=('', '2'))\n",
    "drm = pd.merge(drm, total_quantity_sold_Q3, on='material_id', how='left', suffixes=('', '2'))\n",
    "drm['sale_Q3'] = drm['sale2'].fillna(0)\n",
    "drm['vol_Q3'] = drm['vol2'].fillna(0)\n",
    "drm = drm.drop(columns=['sale2', 'vol2'])\n",
    "\n",
    "# Calculate weighted contribution of sales and vol of Q3\n",
    "sale_12weeks_sum = drm.groupby('material_id')['sale_Q3'].head(1).sum()\n",
    "total_quantity_sold_12weeks_sum = drm.groupby('material_id')['vol_Q3'].head(1).sum()\n",
    "drm['sales_contri_Q3'] = (drm['sale_Q3'] / sale_12weeks_sum)\n",
    "drm['quantity_contri_Q3'] = (drm['vol_Q3'] / total_quantity_sold_12weeks_sum)\n",
    "drm['sale_vol_contri_Q3'] = (drm['sales_contri_Q3']*50/100 + drm['quantity_contri_Q3']*50/100)\n",
    "\n",
    "# Calculate growth from Q4 sales vs Q3 sales\n",
    "drm['sales_growth_Q4_vs_Q3'] = (drm['sale_Q4'] - drm['sale_Q3'])/drm['sale_Q3']\n",
    "drm['sales_growth_Q4_vs_Q3'] = drm['sales_growth_Q4_vs_Q3'].replace(float('inf'), 0)\n",
    "drm['sales_growth_Q4_vs_Q3'] = drm['sales_growth_Q4_vs_Q3'].fillna(0)\n",
    "\n",
    "# Calculate growth from Q4 sales contribution vs Q3 sales contribution\n",
    "drm['sales_contri_growth_Q4_vs_Q3'] = (drm['sales_contri_Q4'] - drm['sales_contri_Q3']) / drm['sales_contri_Q3']\n",
    "drm['sales_contri_growth_Q4_vs_Q3'] = drm['sales_contri_growth_Q4_vs_Q3'].replace(float('inf'), 0)\n",
    "drm['sales_contri_growth_Q4_vs_Q3'] = drm['sales_contri_growth_Q4_vs_Q3'].fillna(0)\n",
    "\n",
    "# Calculate growth from Q4 sales & vol contribution vs Q3 sales & vol contribution\n",
    "drm['sales_vol_contri_growth_Q4_vs_Q3'] = (drm['sale_vol_contri_Q4'] - drm['sale_vol_contri_Q3']) / drm['sale_vol_contri_Q3']\n",
    "drm['sales_vol_contri_growth_Q4_vs_Q3'] = drm['sales_vol_contri_growth_Q4_vs_Q3'].replace(float('inf'), 0)\n",
    "drm['sales_vol_contri_growth_Q4_vs_Q3'] = drm['sales_vol_contri_growth_Q4_vs_Q3'].fillna(0)\n",
    "\n",
    "# Calculate weekly sales growth\n",
    "temp = drm[drm['week_number'] >= 40].reset_index(drop = True)\n",
    "sales_growth = []\n",
    "for material in temp['material_id'].unique():\n",
    "    for week in temp[temp['material_id'] == material]['week_number'].unique():\n",
    "        if week == temp[temp['material_id'] == material]['week_number'].min():\n",
    "            sales_growth.append(0)\n",
    "            previous_week = week\n",
    "        else:\n",
    "            previous_sales = temp[(temp['material_id'] == material) & (temp['week_number'] == previous_week)]['sale'].iloc[0]\n",
    "            current_sales = temp[(temp['material_id'] == material) & (temp['week_number'] == week)]['sale'].iloc[0]\n",
    "            sales_change = (current_sales - previous_sales)/previous_sales\n",
    "            sales_growth.append(sales_change)\n",
    "            previous_week = week\n",
    "temp['sales_weekly_growth'] = sales_growth\n",
    "\n",
    "# Calculate the average sales weekly growth\n",
    "avg_weekly_sales_growth = []\n",
    "for material in temp['material_id'].unique():\n",
    "    mean = temp[temp['material_id'] == material]['sales_weekly_growth'].iloc[1:].mean()\n",
    "    if np.isnan(mean):\n",
    "        mean = 0.0\n",
    "    avg_weekly_sales_growth.append(mean)\n",
    "avg_weekly_sales_growth_df = pd.DataFrame({'material_id': temp['material_id'].unique(),\n",
    "                               'avg_weekly_sales_growth_Q4': avg_weekly_sales_growth})\n",
    "drm = pd.merge(drm, avg_weekly_sales_growth_df, on='material_id', how='left')\n",
    "drm['avg_weekly_sales_growth_Q4'] = drm['avg_weekly_sales_growth_Q4'].fillna(0)\n",
    "\n",
    "# Remove the weekly numbers\n",
    "drm = drm.drop(columns=['week_number', 'sale', 'vol']).drop_duplicates().reset_index(drop=True)\n",
    "\n",
    "# Assign ranks to GP, sales, and vol of Q4\n",
    "drm['gp_rank_Q4'] = drm['gp_abs_Q4'].rank(ascending=False)\n",
    "drm['sales_rank_Q4'] = drm['sale_Q4'].rank(ascending=False)\n",
    "drm['vol_rank_Q4'] = drm['vol_Q4'].rank(ascending=False)\n",
    "\n",
    "# Calculate contribution index for sales, and also for sales & vol combined\n",
    "drm['sales_contri_index_Q4'] = drm['sales_contri_Q4'] / drm['sales_contri_Q4'].mean()\n",
    "drm['sales_vol_contri_index_Q4'] = drm['sale_vol_contri_Q4'] / drm['sale_vol_contri_Q4'].mean()\n",
    "\n",
    "# Add the already delisted materials as a flag\n",
    "if rationalized_flag != 0:\n",
    "    drm['delist_complete'] = drm['material_id'].isin(rationalized_materials).astype(int)\n",
    "\n",
    "# Calculate the Q4 sales % coming from all Delist recommended SKUs\n",
    "delist_sales_contri_Q4 = drm[drm['new_buckets'] == 'DELIST']['sales_contri_Q4'].sum()\n",
    "delist_gp_contri_Q4 = drm[drm['new_buckets'] == 'DELIST']['gp_contri_Q4'].sum()\n",
    "print(f\"Delist SKUs ({len(drm[drm['new_buckets'] == 'DELIST'])}) contribute to {round(delist_sales_contri_Q4*100, 2)}% sales and {round(delist_gp_contri_Q4*100, 2)}% GP\")"
   ]
  },
  {
   "cell_type": "code",
   "execution_count": 0,
   "metadata": {
    "application/vnd.databricks.v1+cell": {
     "cellMetadata": {
      "byteLimit": 2048000,
      "rowLimit": 10000
     },
     "inputWidgets": {},
     "nuid": "bc464d1d-b6b9-4eec-9c2d-dbc94bbba1d0",
     "showTitle": false,
     "tableResultSettingsMap": {},
     "title": ""
    }
   },
   "outputs": [],
   "source": [
    "drm.display()"
   ]
  },
  {
   "cell_type": "markdown",
   "metadata": {
    "application/vnd.databricks.v1+cell": {
     "cellMetadata": {
      "byteLimit": 2048000,
      "rowLimit": 10000
     },
     "inputWidgets": {},
     "nuid": "7bf422c2-d902-45ad-8d25-e573acce91b1",
     "showTitle": false,
     "tableResultSettingsMap": {},
     "title": ""
    }
   },
   "source": [
    "#Delist Priority"
   ]
  },
  {
   "cell_type": "code",
   "execution_count": 0,
   "metadata": {
    "application/vnd.databricks.v1+cell": {
     "cellMetadata": {
      "byteLimit": 2048000,
      "rowLimit": 10000
     },
     "inputWidgets": {},
     "nuid": "5bf22892-cb37-413f-898b-abd8ecb1f048",
     "showTitle": false,
     "tableResultSettingsMap": {},
     "title": ""
    }
   },
   "outputs": [],
   "source": [
    "delist_priority = drm[drm['new_buckets'] == \"DELIST\"][['material_id', 'material_name', 'brand', 'sales_contri_Q4', 'sales_growth_Q4_vs_Q3']].reset_index(drop = True)\n",
    "\n",
    "delist_priority['wtd_avg'] = (delist_priority['sales_contri_Q4'] + delist_priority['sales_growth_Q4_vs_Q3'])/2\n",
    "\n",
    "df_wtd_avg_0 = delist_priority[delist_priority['wtd_avg'] == 0].sort_values(by=['sales_contri_Q4', 'sales_growth_Q4_vs_Q3']).reset_index(drop=True)\n",
    "df_wtd_avg_0['Delist Priority'] = range(1, len(df_wtd_avg_0) + 1)\n",
    "\n",
    "start_priority = len(df_wtd_avg_0) + 1\n",
    "df_sales_0_growth_neg1 = delist_priority[(delist_priority['sales_contri_Q4'] == 0) & (delist_priority['sales_growth_Q4_vs_Q3'] == -1)].sort_values(by=['sales_contri_Q4', 'sales_growth_Q4_vs_Q3']).reset_index(drop=True)\n",
    "df_sales_0_growth_neg1['Delist Priority'] = range(start_priority, start_priority + len(df_sales_0_growth_neg1))\n",
    "\n",
    "start_priority = len(df_wtd_avg_0) + len(df_sales_0_growth_neg1) + 1\n",
    "df_sales_non0_growth_0 = delist_priority[(delist_priority['sales_contri_Q4'] != 0) & (delist_priority['sales_growth_Q4_vs_Q3'] == 0)].sort_values(by=['sales_contri_Q4', 'sales_growth_Q4_vs_Q3']).reset_index(drop=True)\n",
    "df_sales_non0_growth_0['Delist Priority'] = range(start_priority, start_priority + len(df_sales_non0_growth_0))\n",
    "\n",
    "dataframes = [df_wtd_avg_0, df_sales_0_growth_neg1, df_sales_non0_growth_0]\n",
    "materials_to_remove = []\n",
    "for temp in dataframes:\n",
    "    materials_to_remove.extend(temp['material_id'].tolist())\n",
    "\n",
    "remaining_df = delist_priority[~delist_priority['material_id'].isin(materials_to_remove)]\n",
    "start_priority = len(df_wtd_avg_0) + len(df_sales_0_growth_neg1) + len(df_sales_non0_growth_0) + 1\n",
    "remaining_df = remaining_df.sort_values(by=['wtd_avg']).reset_index(drop=True)\n",
    "remaining_df['Delist Priority'] = range(start_priority, start_priority + len(remaining_df))\n",
    "\n",
    "delist_priority = pd.concat([df_wtd_avg_0, df_sales_0_growth_neg1, df_sales_non0_growth_0, remaining_df], ignore_index=True)\n",
    "delist_priority = delist_priority.sort_values(by='Delist Priority').reset_index(drop=True)\n",
    "delist_priority = delist_priority[['material_id', 'material_name', 'brand', 'Delist Priority', 'sales_contri_Q4', 'sales_growth_Q4_vs_Q3', 'wtd_avg']]"
   ]
  },
  {
   "cell_type": "code",
   "execution_count": 0,
   "metadata": {
    "application/vnd.databricks.v1+cell": {
     "cellMetadata": {
      "byteLimit": 2048000,
      "rowLimit": 10000
     },
     "inputWidgets": {},
     "nuid": "9ce468ad-6fbd-4a51-acc7-7ba804bdc784",
     "showTitle": false,
     "tableResultSettingsMap": {},
     "title": ""
    }
   },
   "outputs": [],
   "source": [
    "delist_priority.display()"
   ]
  },
  {
   "cell_type": "markdown",
   "metadata": {
    "application/vnd.databricks.v1+cell": {
     "cellMetadata": {
      "byteLimit": 2048000,
      "rowLimit": 10000
     },
     "inputWidgets": {},
     "nuid": "25e4583a-25f3-4afb-85ea-c344b4a88365",
     "showTitle": false,
     "tableResultSettingsMap": {},
     "title": ""
    }
   },
   "source": [
    "#Brand & Attribute Check"
   ]
  },
  {
   "cell_type": "code",
   "execution_count": 0,
   "metadata": {
    "application/vnd.databricks.v1+cell": {
     "cellMetadata": {
      "byteLimit": 2048000,
      "rowLimit": 10000
     },
     "inputWidgets": {},
     "nuid": "9f5dde73-c820-4944-bbc3-6def57170d7b",
     "showTitle": false,
     "tableResultSettingsMap": {},
     "title": ""
    }
   },
   "outputs": [],
   "source": [
    "attr_brand_df = drm[['material_id', 'new_buckets', 'brand', 'sale_Q4']]\n",
    "attr_brand_df = pd.merge(attr_brand_df, attr[['material_id', 'type_bin']], on = 'material_id', how = 'inner')\n",
    "attr_brand_df.rename(columns={'brand':'Brand', 'type_bin':'Attribute'}, inplace=True)\n",
    "\n",
    "brand_check_df = attr_brand_df.pivot_table(index='Brand', columns='new_buckets',\n",
    "                                     values='material_id', aggfunc='count',\n",
    "                                     fill_value=0).reset_index()\n",
    "brand_check_df.columns.name = None\n",
    "\n",
    "brand_check_df['Delist %'] = brand_check_df['DELIST'] / (brand_check_df['DELIST'] + brand_check_df['MAINTAIN_OR_GROW_BY_PROMO'] + brand_check_df['OBSERVE'] + brand_check_df['SUPPORT_MORE_DIST'])\n",
    "\n",
    "brand_share_df = attr_brand_df.groupby('Brand')['sale_Q4'].sum().reset_index()\n",
    "overall_brand_sales = brand_share_df['sale_Q4'].sum()\n",
    "brand_share_df['sale_Q4'] = brand_share_df['sale_Q4'] / overall_brand_sales\n",
    "brand_share_df.rename(columns={'sale_Q4':'Brand Share %'}, inplace=True)\n",
    "\n",
    "brand_check_df = pd.merge(brand_check_df, brand_share_df, on = 'Brand', how = 'inner')\n",
    "brand_check_df = brand_check_df.sort_values(by = 'Brand Share %', ascending = False).reset_index(drop = True)\n",
    "brand_check_df.display()"
   ]
  },
  {
   "cell_type": "code",
   "execution_count": 0,
   "metadata": {
    "application/vnd.databricks.v1+cell": {
     "cellMetadata": {
      "byteLimit": 2048000,
      "rowLimit": 10000
     },
     "inputWidgets": {},
     "nuid": "a5831a41-32ff-4663-9a68-3008dece4d03",
     "showTitle": false,
     "tableResultSettingsMap": {},
     "title": ""
    }
   },
   "outputs": [],
   "source": [
    "attr_check_df = attr_brand_df.pivot_table(index='Attribute', columns='new_buckets',\n",
    "                                     values='material_id', aggfunc='count',\n",
    "                                     fill_value=0).reset_index()\n",
    "attr_check_df.columns.name = None\n",
    "\n",
    "attr_check_df['Grand Total'] = attr_check_df['DELIST'] + attr_check_df['MAINTAIN_OR_GROW_BY_PROMO'] + attr_check_df['OBSERVE'] + attr_check_df['SUPPORT_MORE_DIST']\n",
    "\n",
    "sums = attr_check_df[['DELIST', 'MAINTAIN_OR_GROW_BY_PROMO', 'OBSERVE', 'SUPPORT_MORE_DIST', 'Grand Total']].sum()\n",
    "\n",
    "new_row = pd.DataFrame([['Grand Total', sums['DELIST'],\n",
    "                         sums['MAINTAIN_OR_GROW_BY_PROMO'], sums['OBSERVE'],\n",
    "                         sums['SUPPORT_MORE_DIST'], sums['Grand Total']]],\n",
    "                       columns=['Attribute', 'DELIST', 'MAINTAIN_OR_GROW_BY_PROMO',\n",
    "                                'OBSERVE', 'SUPPORT_MORE_DIST', 'Grand Total'])\n",
    "\n",
    "attr_check_df = pd.concat([attr_check_df, new_row], ignore_index=True)\n",
    "\n",
    "attr_check_df['Delist %'] = attr_check_df['DELIST'] / (attr_check_df['DELIST'] + attr_check_df['MAINTAIN_OR_GROW_BY_PROMO'] + attr_check_df['OBSERVE'] + attr_check_df['SUPPORT_MORE_DIST'])\n",
    "\n",
    "attr_share_df = attr_brand_df.groupby('Attribute')['sale_Q4'].sum().reset_index()\n",
    "overall_brand_sales = attr_share_df['sale_Q4'].sum()\n",
    "attr_share_df['sale_Q4'] = attr_share_df['sale_Q4'] / overall_brand_sales\n",
    "attr_share_df.rename(columns={'sale_Q4':'Sales Contri %'}, inplace=True)\n",
    "\n",
    "attr_check_df = pd.merge(attr_check_df, attr_share_df, on = 'Attribute', how = 'left')\n",
    "attr_check_df['Sales Contri %'] = attr_check_df['Sales Contri %'].fillna(1)\n",
    "attr_check_df = attr_check_df.sort_values(by = 'Sales Contri %', ascending = False).reset_index(drop = True)\n",
    "attr_check_df = pd.concat([attr_check_df, attr_check_df.iloc[[0]]], ignore_index=True)\n",
    "attr_check_df = attr_check_df.drop(attr_check_df.index[0]).reset_index(drop=True)\n",
    "attr_check_df.display()"
   ]
  },
  {
   "cell_type": "markdown",
   "metadata": {
    "application/vnd.databricks.v1+cell": {
     "cellMetadata": {
      "byteLimit": 2048000,
      "rowLimit": 10000
     },
     "inputWidgets": {},
     "nuid": "1b2334f0-a3dd-425a-abab-937d5b983a03",
     "showTitle": false,
     "tableResultSettingsMap": {},
     "title": ""
    }
   },
   "source": [
    "#Save Data For Dashboard"
   ]
  },
  {
   "cell_type": "code",
   "execution_count": 0,
   "metadata": {
    "application/vnd.databricks.v1+cell": {
     "cellMetadata": {
      "byteLimit": 2048000,
      "rowLimit": 10000
     },
     "inputWidgets": {},
     "nuid": "9eebb4e7-53ac-4ccc-9eaf-e90f967ccc56",
     "showTitle": false,
     "tableResultSettingsMap": {},
     "title": ""
    }
   },
   "outputs": [],
   "source": [
    "query = f\"\"\"\n",
    "SELECT *\n",
    "FROM dev.sandbox.pj_ao_dashboard_delist_reco_skus_analysis\n",
    "WHERE category_name = '{category_name}'\n",
    "AND material_group_name = '{material_group_name}'\n",
    "AND region_name = '{region}'\n",
    "\"\"\"\n",
    "\n",
    "data_empty = spark.sql(query).toPandas().empty\n",
    "\n",
    "if not data_empty:\n",
    "    query = f\"\"\"\n",
    "    DELETE\n",
    "    FROM dev.sandbox.pj_ao_dashboard_delist_reco_skus_analysis\n",
    "    WHERE\n",
    "        category_name = '{category_name}'\n",
    "        {material_group_condition}\n",
    "        AND region_name = '{region}'\n",
    "    \"\"\"\n",
    "\n",
    "    spark.sql(query)"
   ]
  },
  {
   "cell_type": "code",
   "execution_count": 0,
   "metadata": {
    "application/vnd.databricks.v1+cell": {
     "cellMetadata": {
      "byteLimit": 2048000,
      "rowLimit": 10000
     },
     "inputWidgets": {},
     "nuid": "57e11c83-61f2-4a42-9e0a-2705b15ec931",
     "showTitle": false,
     "tableResultSettingsMap": {},
     "title": ""
    }
   },
   "outputs": [],
   "source": [
    "query = f\"\"\"\n",
    "SELECT department_name\n",
    "FROM gold.material.material_master\n",
    "WHERE category_name = '{category_name}'\n",
    "AND material_group_name = '{material_group_name}'\n",
    "GROUP BY 1\n",
    "\"\"\"\n",
    "\n",
    "department_name = spark.sql(query).toPandas().values[0, 0]"
   ]
  },
  {
   "cell_type": "code",
   "execution_count": 0,
   "metadata": {
    "application/vnd.databricks.v1+cell": {
     "cellMetadata": {
      "byteLimit": 2048000,
      "rowLimit": 10000
     },
     "inputWidgets": {},
     "nuid": "b65aa3d5-76e4-4f3c-b0d9-b34ab5d53307",
     "showTitle": false,
     "tableResultSettingsMap": {},
     "title": ""
    }
   },
   "outputs": [],
   "source": [
    "dashboard_df = drm[['material_id', 'material_name', 'brand', 'sales_contri_Q4', 'gp_contri_Q4']].copy()\n",
    "dashboard_df['region_name'] = region\n",
    "dashboard_df['material_group_name'] = material_group_name\n",
    "dashboard_df['category_name'] = category_name\n",
    "dashboard_df['department_name'] = department_name\n",
    "\n",
    "dashboard_df = pd.merge(dashboard_df, delist_priority[['material_id', 'Delist Priority']], on='material_id', how='left')\n",
    "dashboard_df['Delist Priority'] = dashboard_df['Delist Priority'].fillna(0)\n",
    "dashboard_df = pd.merge(dashboard_df, attr[['material_id', 'type']], on='material_id', how='left')\n",
    "\n",
    "temp = brand_check_df[brand_check_df['Delist %'] == 1][['Brand']]\n",
    "temp['Brand_Delist_Flag'] = 1\n",
    "dashboard_df = pd.merge(dashboard_df, temp, left_on='brand', right_on='Brand', how='left')\n",
    "dashboard_df['Brand_Delist_Flag'] = dashboard_df['Brand_Delist_Flag'].fillna(0)\n",
    "\n",
    "temp = drm[['material_id', 'new_buckets']]\n",
    "temp = pd.merge(temp, attr[['material_id', 'type']], on = 'material_id', how = 'inner')\n",
    "temp.rename(columns={'type':'Attribute'}, inplace=True)\n",
    "temp = temp.pivot_table(index='Attribute', columns='new_buckets',\n",
    "                                    values='material_id', aggfunc='count',\n",
    "                                    fill_value=0).reset_index()\n",
    "temp.columns.name = None\n",
    "temp['Delist %'] = temp['DELIST'] / (temp['DELIST'] + temp['MAINTAIN_OR_GROW_BY_PROMO'] + temp['OBSERVE'] + temp['SUPPORT_MORE_DIST'])\n",
    "temp = temp.sort_values(by = 'Delist %', ascending = False).reset_index(drop = True)\n",
    "\n",
    "temp = temp[temp['Delist %'] == 1][['Attribute']]\n",
    "temp['Type_Delist_Flag'] = 1\n",
    "dashboard_df = pd.merge(dashboard_df, temp, left_on='type', right_on='Attribute', how='left')\n",
    "dashboard_df['Type_Delist_Flag'] = dashboard_df['Type_Delist_Flag'].fillna(0)\n",
    "\n",
    "dashboard_df = dashboard_df.drop(columns = ['Brand', 'Attribute'])\n",
    "dashboard_df.rename(columns={'Delist Priority':'Delist_Priority'}, inplace=True)"
   ]
  },
  {
   "cell_type": "code",
   "execution_count": 0,
   "metadata": {
    "application/vnd.databricks.v1+cell": {
     "cellMetadata": {
      "byteLimit": 2048000,
      "rowLimit": 10000
     },
     "inputWidgets": {},
     "nuid": "a96d7034-620a-4147-98d3-aa41460fd597",
     "showTitle": false,
     "tableResultSettingsMap": {},
     "title": ""
    }
   },
   "outputs": [],
   "source": [
    "spark_df = spark.createDataFrame(dashboard_df)\n",
    "spark_df.write.option(\"overwriteSchema\", \"true\").mode(\"append\").saveAsTable(\"dev.sandbox.pj_ao_dashboard_delist_reco_skus_analysis\")"
   ]
  },
  {
   "cell_type": "markdown",
   "metadata": {
    "application/vnd.databricks.v1+cell": {
     "cellMetadata": {
      "byteLimit": 2048000,
      "rowLimit": 10000
     },
     "inputWidgets": {},
     "nuid": "f952b4a3-f337-4e55-afdf-f5a681cdd2e8",
     "showTitle": false,
     "tableResultSettingsMap": {},
     "title": ""
    }
   },
   "source": [
    "#EDA"
   ]
  },
  {
   "cell_type": "markdown",
   "metadata": {
    "application/vnd.databricks.v1+cell": {
     "cellMetadata": {
      "byteLimit": 2048000,
      "rowLimit": 10000
     },
     "inputWidgets": {},
     "nuid": "5fd05489-b94a-4d80-bb03-3c7ae3e898db",
     "showTitle": false,
     "tableResultSettingsMap": {},
     "title": ""
    }
   },
   "source": [
    "##YoY Sales"
   ]
  },
  {
   "cell_type": "code",
   "execution_count": 0,
   "metadata": {
    "application/vnd.databricks.v1+cell": {
     "cellMetadata": {
      "byteLimit": 2048000,
      "rowLimit": 10000
     },
     "inputWidgets": {},
     "nuid": "1dd8744f-cc17-4b64-987a-522b5f392b95",
     "showTitle": false,
     "tableResultSettingsMap": {},
     "title": ""
    }
   },
   "outputs": [],
   "source": [
    "query = f\"\"\"\n",
    "WITH cte AS (\n",
    "    SELECT\n",
    "        (CASE WHEN business_day <= '{lfl_end_date}' THEN \"LFL\" ELSE \"Current\" END) AS year_info,\n",
    "        material_id,\n",
    "        ROUND(SUM(sales)) AS sales\n",
    "    FROM dev.sandbox.pj_ao_framework_data\n",
    "    WHERE\n",
    "        business_day >= '{lfl_start_date}'\n",
    "        AND region_name = '{region}'\n",
    "        AND category_name = '{category_name}'\n",
    "        {material_group_condition}\n",
    "    GROUP BY year_info, material_id\n",
    ")\n",
    "\n",
    "SELECT\n",
    "    material_id,\n",
    "    MAX(CASE WHEN year_info = \"LFL\" THEN sales ELSE 0 END) AS LFL_sales,\n",
    "    MAX(CASE WHEN year_info = \"Current\" THEN sales ELSE 0 END) AS Current_sales,\n",
    "    (Current_sales - LFL_sales)/LFL_sales AS growth\n",
    "FROM cte\n",
    "GROUP BY material_id\n",
    "ORDER BY material_id\n",
    "\"\"\"\n",
    "\n",
    "e = spark.sql(query).toPandas()\n",
    "e['growth'] = e['growth'].fillna(0)\n",
    "e['growth'] = e['growth'].replace(float('inf'), 0)"
   ]
  },
  {
   "cell_type": "code",
   "execution_count": 0,
   "metadata": {
    "application/vnd.databricks.v1+cell": {
     "cellMetadata": {
      "byteLimit": 2048000,
      "rowLimit": 10000
     },
     "inputWidgets": {},
     "nuid": "8590b43e-24f0-4074-b08f-588dd5521d7d",
     "showTitle": false,
     "tableResultSettingsMap": {},
     "title": ""
    }
   },
   "outputs": [],
   "source": [
    "cy_sales = e['Current_sales'].sum()\n",
    "py_sales = e['LFL_sales'].sum()\n",
    "yoy_df = pd.DataFrame({'year': ['PY', 'CY'], 'sales': [py_sales, cy_sales]})\n",
    "\n",
    "growth = round((cy_sales - py_sales)/py_sales*100,1)\n",
    "growth = str(growth)\n",
    "\n",
    "fig = px.bar(yoy_df, x='year', y='sales', title=f'Year Over Year Growth ({growth}%)')\n",
    "fig.show()"
   ]
  },
  {
   "cell_type": "markdown",
   "metadata": {
    "application/vnd.databricks.v1+cell": {
     "cellMetadata": {
      "byteLimit": 2048000,
      "rowLimit": 10000
     },
     "inputWidgets": {},
     "nuid": "ef18644a-1c74-422d-a6a4-85ec32cb7f40",
     "showTitle": false,
     "tableResultSettingsMap": {},
     "title": ""
    }
   },
   "source": [
    "##TLE and SSW"
   ]
  },
  {
   "cell_type": "code",
   "execution_count": 0,
   "metadata": {
    "application/vnd.databricks.v1+cell": {
     "cellMetadata": {
      "byteLimit": 2048000,
      "rowLimit": 10000
     },
     "inputWidgets": {},
     "nuid": "d2f88899-8654-4a40-b208-3159cc1cfdee",
     "showTitle": false,
     "tableResultSettingsMap": {},
     "title": ""
    }
   },
   "outputs": [],
   "source": [
    "# pldf=fdf[fdf['material_id']==1545241]\n",
    "# fig = px.scatter(pldf, x=\"SSW\", y=\"cwd\")\n",
    "# fig.add_hline(y=pldf.cwd.mean())\n",
    "# fig.add_vline(x=pldf.SSW.mean())\n",
    "# fig.show()"
   ]
  },
  {
   "cell_type": "code",
   "execution_count": 0,
   "metadata": {
    "application/vnd.databricks.v1+cell": {
     "cellMetadata": {
      "byteLimit": 2048000,
      "rowLimit": 10000
     },
     "inputWidgets": {},
     "nuid": "62ac1efe-6e48-440d-93f6-a9ffcd479894",
     "showTitle": false,
     "tableResultSettingsMap": {},
     "title": ""
    }
   },
   "outputs": [],
   "source": [
    "fdf['sale']=fdf['sale'].astype('float')\n",
    "fdf['vol']=fdf['vol'].astype('float')"
   ]
  },
  {
   "cell_type": "code",
   "execution_count": 0,
   "metadata": {
    "application/vnd.databricks.v1+cell": {
     "cellMetadata": {
      "byteLimit": 2048000,
      "rowLimit": 10000
     },
     "inputWidgets": {},
     "nuid": "1776eb6d-6407-4850-9caa-86c2c5307f5e",
     "showTitle": false,
     "tableResultSettingsMap": {},
     "title": ""
    }
   },
   "outputs": [],
   "source": [
    "gp_bub=fdf.groupby('material_id').sum()[['sale','vol']].reset_index()\n",
    "\n",
    "temp=pd.merge(gp_bub,gp,on='material_id',how='inner')\n",
    "temp = pd.merge(temp, attr[['material_id', 'material_name','brand']], on='material_id', how='inner')\n",
    "temp['GP_ABS']=np.abs(temp['GP'])\n",
    "temp['GP_FLAG']=np.where(temp.GP<0,\"Negative\",\"Positive\")"
   ]
  },
  {
   "cell_type": "code",
   "execution_count": 0,
   "metadata": {
    "application/vnd.databricks.v1+cell": {
     "cellMetadata": {
      "byteLimit": 2048000,
      "rowLimit": 10000
     },
     "inputWidgets": {},
     "nuid": "744a317b-24f2-4cd8-96f7-91d0c6b637e3",
     "showTitle": false,
     "tableResultSettingsMap": {},
     "title": ""
    }
   },
   "outputs": [],
   "source": [
    "temp.head(2)"
   ]
  },
  {
   "cell_type": "code",
   "execution_count": 0,
   "metadata": {
    "application/vnd.databricks.v1+cell": {
     "cellMetadata": {
      "byteLimit": 2048000,
      "rowLimit": 10000
     },
     "inputWidgets": {},
     "nuid": "653b336b-c79d-4311-bcca-d64ada11fd78",
     "showTitle": false,
     "tableResultSettingsMap": {},
     "title": ""
    }
   },
   "outputs": [],
   "source": [
    "xd=pd.DataFrame(temp.groupby('brand').sum()['sale']).reset_index()"
   ]
  },
  {
   "cell_type": "markdown",
   "metadata": {
    "application/vnd.databricks.v1+cell": {
     "cellMetadata": {
      "byteLimit": 2048000,
      "rowLimit": 10000
     },
     "inputWidgets": {},
     "nuid": "b03654bb-e8c9-4cb3-9af3-70170dab34d6",
     "showTitle": false,
     "tableResultSettingsMap": {},
     "title": ""
    }
   },
   "source": [
    "##Sale, vol and other Bar Charts"
   ]
  },
  {
   "cell_type": "code",
   "execution_count": 0,
   "metadata": {
    "application/vnd.databricks.v1+cell": {
     "cellMetadata": {
      "byteLimit": 2048000,
      "rowLimit": 10000
     },
     "inputWidgets": {},
     "nuid": "c0564630-75a3-440f-819d-ecd11dfdfcb5",
     "showTitle": false,
     "tableResultSettingsMap": {},
     "title": ""
    }
   },
   "outputs": [],
   "source": [
    "eda_agg_table_full.head(1)"
   ]
  },
  {
   "cell_type": "code",
   "execution_count": 0,
   "metadata": {
    "application/vnd.databricks.v1+cell": {
     "cellMetadata": {
      "byteLimit": 2048000,
      "rowLimit": 10000
     },
     "inputWidgets": {},
     "nuid": "68901332-8c9b-4fd8-b787-f16c337e6173",
     "showTitle": false,
     "tableResultSettingsMap": {},
     "title": ""
    }
   },
   "outputs": [],
   "source": [
    "plot_bar(eda_agg_table_full,'brand','sale')"
   ]
  },
  {
   "cell_type": "markdown",
   "metadata": {
    "application/vnd.databricks.v1+cell": {
     "cellMetadata": {
      "byteLimit": 2048000,
      "rowLimit": 10000
     },
     "inputWidgets": {},
     "nuid": "2d80d41a-b7ea-44e3-8341-007930f92de1",
     "showTitle": false,
     "tableResultSettingsMap": {},
     "title": ""
    }
   },
   "source": [
    "##SKU Level"
   ]
  },
  {
   "cell_type": "markdown",
   "metadata": {
    "application/vnd.databricks.v1+cell": {
     "cellMetadata": {
      "byteLimit": 2048000,
      "rowLimit": 10000
     },
     "inputWidgets": {},
     "nuid": "23a70e76-5d9f-4006-a01b-31b4f70d8455",
     "showTitle": false,
     "tableResultSettingsMap": {},
     "title": ""
    }
   },
   "source": [
    "###Bubble - GP Flag"
   ]
  },
  {
   "cell_type": "code",
   "execution_count": 0,
   "metadata": {
    "application/vnd.databricks.v1+cell": {
     "cellMetadata": {
      "byteLimit": 2048000,
      "rowLimit": 10000
     },
     "inputWidgets": {},
     "nuid": "93ad0a6b-4ba7-484d-82cb-c0fc71223f48",
     "showTitle": false,
     "tableResultSettingsMap": {},
     "title": ""
    }
   },
   "outputs": [],
   "source": [
    "pbldf=eda_agg_table_full.dropna(subset=['sale','vip_freq_pnt'])\n",
    "\n",
    "x_val='sale'\n",
    "y_val='vip_freq_pnt'\n",
    "color_val='gp_flag'\n",
    "hover_name_val='material_name'\n",
    "size_max_val=40\n",
    "size_val='gp_abs'\n",
    "\n",
    "fig = px.scatter(pbldf, x=x_val, y=y_val, size=np.abs(pbldf[size_val]), \n",
    "                 color=color_val,\n",
    "                 hover_name=hover_name_val, log_x=False, log_y=False, size_max=size_max_val,title=\"ALL SKUs\", color_discrete_map={\"Positive\": \"#8993f8\", \"Negative\": \"#ec8272\"})\n",
    "fig.add_hline(y=pbldf[y_val].mean())\n",
    "fig.add_vline(x=pbldf[x_val].quantile(0.95))\n",
    "fig.show()"
   ]
  },
  {
   "cell_type": "code",
   "execution_count": 0,
   "metadata": {
    "application/vnd.databricks.v1+cell": {
     "cellMetadata": {
      "byteLimit": 2048000,
      "rowLimit": 10000
     },
     "inputWidgets": {},
     "nuid": "76e367f7-8e5a-499a-a143-79eac0790d99",
     "showTitle": false,
     "tableResultSettingsMap": {},
     "title": ""
    }
   },
   "outputs": [],
   "source": [
    "if rationalized_flag != 0:\n",
    "    fig = px.scatter(pbldf[pbldf['material_id'].isin(rationalized_materials)], x=x_val, y=y_val, size=np.abs(pbldf[pbldf['material_id'].isin(rationalized_materials)][size_val]),\n",
    "                    color=color_val,\n",
    "                    hover_name=hover_name_val, log_x=False, log_y=False, size_max=size_max_val,title=\"Rationalized SKUs\", color_discrete_map={\"Positive\": \"#8993f8\", \"Negative\": \"#ec8272\"})\n",
    "    fig.add_hline(y=pbldf[y_val].mean())\n",
    "    fig.add_vline(x=pbldf[x_val].quantile(0.95))\n",
    "    fig.show()"
   ]
  },
  {
   "cell_type": "code",
   "execution_count": 0,
   "metadata": {
    "application/vnd.databricks.v1+cell": {
     "cellMetadata": {
      "byteLimit": 2048000,
      "rowLimit": 10000
     },
     "inputWidgets": {},
     "nuid": "ef745261-2993-4135-9fd1-dc7eb51de6f7",
     "showTitle": false,
     "tableResultSettingsMap": {},
     "title": ""
    }
   },
   "outputs": [],
   "source": [
    "pbldf[\"Quadrant\"] = np.where(\n",
    "    (pbldf[\"sale\"] >= pbldf[\"sale\"].quantile(0.95))\n",
    "    & (pbldf[\"vip_freq_pnt\"] >= pbldf[\"vip_freq_pnt\"].mean()), 1,\n",
    "    np.where(\n",
    "        (pbldf[\"sale\"] < pbldf[\"sale\"].quantile(0.95))\n",
    "        & (pbldf[\"vip_freq_pnt\"] < pbldf[\"vip_freq_pnt\"].mean()), 3,\n",
    "    np.where(\n",
    "        (pbldf[\"sale\"] >= pbldf[\"sale\"].quantile(0.95))\n",
    "        & (pbldf[\"vip_freq_pnt\"] < pbldf[\"vip_freq_pnt\"].mean()), 2,\n",
    "    np.where(\n",
    "        (pbldf[\"sale\"] < pbldf[\"sale\"].quantile(0.95))\n",
    "        & (pbldf[\"vip_freq_pnt\"] >= pbldf[\"vip_freq_pnt\"].mean()), 4,0\n",
    "    )\n",
    ")))\n",
    "\n",
    "pbldf['pl_flag'] = np.where(pbldf['brand'] == \"LULU PRIVATE LABEL\", 1, 0)"
   ]
  },
  {
   "cell_type": "markdown",
   "metadata": {
    "application/vnd.databricks.v1+cell": {
     "cellMetadata": {
      "byteLimit": 2048000,
      "rowLimit": 10000
     },
     "inputWidgets": {},
     "nuid": "ab31a43c-ff41-4ca4-9df1-68bf5bc007ac",
     "showTitle": false,
     "tableResultSettingsMap": {},
     "title": ""
    }
   },
   "source": [
    "###Bubble - Growth Flag"
   ]
  },
  {
   "cell_type": "code",
   "execution_count": 0,
   "metadata": {
    "application/vnd.databricks.v1+cell": {
     "cellMetadata": {
      "byteLimit": 2048000,
      "rowLimit": 10000
     },
     "inputWidgets": {},
     "nuid": "3f3e929d-4133-47b9-ad95-7f15bd13b947",
     "showTitle": false,
     "tableResultSettingsMap": {},
     "title": ""
    }
   },
   "outputs": [],
   "source": [
    "pbldf = pd.merge(pbldf, e[['material_id', 'growth']], on='material_id', how='inner')\n",
    "\n",
    "growth_positives = pbldf[pbldf['growth'] >= 0][['growth']].values\n",
    "medium = np.percentile(growth_positives, 33)\n",
    "high = np.percentile(growth_positives, 66)\n",
    "\n",
    "pbldf[\"Growth_Flag\"] = np.where(\n",
    "    (pbldf[\"growth\"] < 0), \"Negative\",\n",
    "    np.where((pbldf[\"growth\"] >= high), f\"High >{round(high*100,2)}%\",\n",
    "    np.where((pbldf[\"growth\"] >= medium), f\"Medium >{round(medium*100,2)}%\",\n",
    "             f\"Low <{round(medium*100,2)}%\")))"
   ]
  },
  {
   "cell_type": "code",
   "execution_count": 0,
   "metadata": {
    "application/vnd.databricks.v1+cell": {
     "cellMetadata": {
      "byteLimit": 2048000,
      "rowLimit": 10000
     },
     "inputWidgets": {},
     "nuid": "70cce632-1d57-4a6a-a444-388e53d677e3",
     "showTitle": false,
     "tableResultSettingsMap": {},
     "title": ""
    }
   },
   "outputs": [],
   "source": [
    "fig = px.scatter(pbldf, x=\"sale\", y=\"vip_freq_pnt\", size=\"gp_abs\", \n",
    "                 color=\"Growth_Flag\",\n",
    "                 hover_name=\"material_id\", log_x=False, size_max=40, title=\"ALL SKUs\", color_discrete_map={f\"High >{round(high*100,2)}%\": \"#00CC96\", f\"Medium >{round(medium*100,2)}%\": \"#636EFA\", f\"Low <{round(medium*100,2)}%\": \"#AB63FA\", \"Negative\": \"#EF553B\"})\n",
    "\n",
    "fig.add_hline(y=pbldf.vip_freq_pnt.mean())\n",
    "fig.add_vline(x=pbldf.sale.quantile(0.95))\n",
    "fig.show()"
   ]
  },
  {
   "cell_type": "code",
   "execution_count": 0,
   "metadata": {
    "application/vnd.databricks.v1+cell": {
     "cellMetadata": {
      "byteLimit": 2048000,
      "rowLimit": 10000
     },
     "inputWidgets": {},
     "nuid": "4a763936-5e5c-4dc3-b29b-17e3a732775f",
     "showTitle": false,
     "tableResultSettingsMap": {},
     "title": ""
    }
   },
   "outputs": [],
   "source": [
    "if rationalized_flag != 0:\n",
    "    fig = px.scatter(pbldf[pbldf['material_id'].isin(rationalized_materials)], x=\"sale\", y=\"vip_freq_pnt\", size=\"gp_abs\", \n",
    "                    color=\"Growth_Flag\",\n",
    "                    hover_name=\"material_id\", log_x=False, size_max=40, title=\"Rationalized SKUs\", color_discrete_map={f\"High >{round(high*100,2)}%\": \"#00CC96\", f\"Medium >{round(medium*100,2)}%\": \"#636EFA\", f\"Low <{round(medium*100,2)}%\": \"#AB63FA\", \"Negative\": \"#EF553B\"})\n",
    "\n",
    "    fig.add_hline(y=pbldf.vip_freq_pnt.mean())\n",
    "    fig.add_vline(x=pbldf.sale.quantile(0.95))\n",
    "    fig.show()"
   ]
  },
  {
   "cell_type": "code",
   "execution_count": 0,
   "metadata": {
    "application/vnd.databricks.v1+cell": {
     "cellMetadata": {
      "byteLimit": 2048000,
      "rowLimit": 10000
     },
     "inputWidgets": {},
     "nuid": "6f123135-bfd8-4380-9f75-140407218e36",
     "showTitle": false,
     "tableResultSettingsMap": {},
     "title": ""
    }
   },
   "outputs": [],
   "source": [
    "quadrants_df = pbldf.groupby(['Quadrant']).agg({'sale':'sum', 'tot_cust_perc':'sum', 'gp_abs':'sum', 'vip_freq_pnt':'mean', 'material_id':'count', 'pl_flag':'sum', 'growth':'mean'}).reset_index()\n",
    "\n",
    "quadrants_df['sales_share'] = quadrants_df['sale'] / quadrants_df['sale'].sum()\n",
    "quadrants_df['gp_share'] = quadrants_df['gp_abs'] / quadrants_df['gp_abs'].sum()\n",
    "\n",
    "quadrants_df.rename(columns={'material_id':'materials'},inplace=True)\n",
    "quadrants_df.rename(columns={'pl_flag':'pl_materials'},inplace=True)\n",
    "quadrants_df.rename(columns={'vip_freq_pnt':'avg_vip_freq_pnt'},inplace=True)\n",
    "quadrants_df.rename(columns={'growth':'avg_growth'},inplace=True)\n",
    "\n",
    "quadrants_df[['Quadrant', 'sales_share', 'avg_vip_freq_pnt', 'gp_share', 'materials', 'pl_materials', 'avg_growth']]"
   ]
  },
  {
   "cell_type": "markdown",
   "metadata": {
    "application/vnd.databricks.v1+cell": {
     "cellMetadata": {
      "byteLimit": 2048000,
      "rowLimit": 10000
     },
     "inputWidgets": {},
     "nuid": "209f089b-544d-4a61-a04b-240b3b9bf815",
     "showTitle": false,
     "tableResultSettingsMap": {},
     "title": ""
    }
   },
   "source": [
    "###Bubble - Reco Flags"
   ]
  },
  {
   "cell_type": "code",
   "execution_count": 0,
   "metadata": {
    "application/vnd.databricks.v1+cell": {
     "cellMetadata": {
      "byteLimit": 2048000,
      "rowLimit": 10000
     },
     "inputWidgets": {},
     "nuid": "d7547f21-8c19-4dce-a741-25c8967a57e3",
     "showTitle": false,
     "tableResultSettingsMap": {},
     "title": ""
    }
   },
   "outputs": [],
   "source": [
    "pbldf=eda_agg_table_full.dropna(subset=['sale','vip_freq_pnt'])\n",
    "# pbldf=pbldf[pbldf['new_buckets']=='DELIST']\n",
    "x_val='sale'\n",
    "y_val='vip_freq_pnt'\n",
    "color_val='new_buckets'\n",
    "hover_name_val='material_name'\n",
    "size_max_val=40\n",
    "size_val='gp_abs'\n",
    "\n",
    "fig = px.scatter(pbldf, x=x_val, y=y_val, size=np.abs(pbldf[size_val]), \n",
    "                 color=color_val,\n",
    "                 hover_name=hover_name_val, log_x=False, log_y=False, size_max=size_max_val,title=\"ALL SKUS BY BUCKETS\", color_discrete_map={\"MAINTAIN_OR_GROW_BY_PROMO\": \"#00CC96\", \"SUPPORT_MORE_DIST\": \"#636EFA\", \"OBSERVE\": \"#AB63FA\", \"DELIST\": \"#EF553B\"})\n",
    "fig.add_hline(y=pbldf[y_val].mean())\n",
    "fig.add_vline(x=pbldf[x_val].quantile(0.95))\n",
    "fig.show()"
   ]
  },
  {
   "cell_type": "code",
   "execution_count": 0,
   "metadata": {
    "application/vnd.databricks.v1+cell": {
     "cellMetadata": {
      "byteLimit": 2048000,
      "rowLimit": 10000
     },
     "inputWidgets": {},
     "nuid": "02b6c068-4415-4ef2-8a5d-c1fcde792ca9",
     "showTitle": false,
     "tableResultSettingsMap": {},
     "title": ""
    }
   },
   "outputs": [],
   "source": [
    "if rationalized_flag != 0:\n",
    "    fig = px.scatter(pbldf[pbldf['material_id'].isin(rationalized_materials)], x=x_val, y=y_val, size=np.abs(pbldf[pbldf['material_id'].isin(rationalized_materials)][size_val]), \n",
    "                    color=color_val,\n",
    "                    hover_name=hover_name_val, log_x=False, log_y=False, size_max=size_max_val,title=\"RATIONALIZED SKUS BY BUCKETS\", color_discrete_map={\"MAINTAIN_OR_GROW_BY_PROMO\": \"#00CC96\", \"SUPPORT_MORE_DIST\": \"#636EFA\", \"OBSERVE\": \"#AB63FA\", \"DELIST\": \"#EF553B\"})\n",
    "    fig.add_hline(y=pbldf[y_val].mean())\n",
    "    fig.add_vline(x=pbldf[x_val].quantile(0.95))\n",
    "    fig.show()"
   ]
  },
  {
   "cell_type": "code",
   "execution_count": 0,
   "metadata": {
    "application/vnd.databricks.v1+cell": {
     "cellMetadata": {
      "byteLimit": 2048000,
      "rowLimit": 10000
     },
     "inputWidgets": {},
     "nuid": "2a28fd4d-554c-4109-b115-cd1e4cbe3554",
     "showTitle": false,
     "tableResultSettingsMap": {},
     "title": ""
    }
   },
   "outputs": [],
   "source": [
    "# pbldf.groupby('brand').sum().reset_index()"
   ]
  },
  {
   "cell_type": "markdown",
   "metadata": {
    "application/vnd.databricks.v1+cell": {
     "cellMetadata": {
      "byteLimit": 2048000,
      "rowLimit": 10000
     },
     "inputWidgets": {},
     "nuid": "af73a703-7adc-4c81-96d0-bd3b0034c92c",
     "showTitle": false,
     "tableResultSettingsMap": {},
     "title": ""
    }
   },
   "source": [
    "###Reco Bubble - GP Flag"
   ]
  },
  {
   "cell_type": "code",
   "execution_count": 0,
   "metadata": {
    "application/vnd.databricks.v1+cell": {
     "cellMetadata": {
      "byteLimit": 2048000,
      "rowLimit": 10000
     },
     "inputWidgets": {},
     "nuid": "05592d62-3f20-4192-93e2-ed85a64bdeae",
     "showTitle": false,
     "tableResultSettingsMap": {},
     "title": ""
    }
   },
   "outputs": [],
   "source": [
    "pbldf=eda_agg_table_full.dropna(subset=['sale','vip_freq_pnt'])\n",
    "\n",
    "# new_buckets\n",
    "# new_volume\n",
    "groupby_val='new_buckets'\n",
    "x_val='sale'\n",
    "y_val='vol'\n",
    "color_val='gp_flag'\n",
    "hover_name_val=groupby_val\n",
    "size_max_val=40\n",
    "size_val='gp_abs'\n",
    "\n",
    "pbldf=pbldf.groupby(groupby_val).sum().reset_index()\n",
    "pbldf['gp_flag']=np.where(pbldf.GP<0,\"Negative\",\"Positive\")\n",
    "\n",
    "fig = px.scatter(pbldf, x=x_val, y=y_val, size=np.abs(pbldf[size_val]), \n",
    "                 color=color_val,\n",
    "                 hover_name=hover_name_val, log_x=False, log_y=False, size_max=size_max_val,title=\"BY {}\".format(groupby_val), color_discrete_map={\"Positive\": \"#8993f8\", \"Negative\": \"#ec8272\"})\n",
    "fig.add_hline(y=pbldf[y_val].quantile(0.95))\n",
    "fig.add_vline(x=pbldf[x_val].quantile(0.95))\n",
    "fig.show()"
   ]
  },
  {
   "cell_type": "code",
   "execution_count": 0,
   "metadata": {
    "application/vnd.databricks.v1+cell": {
     "cellMetadata": {
      "byteLimit": 2048000,
      "rowLimit": 10000
     },
     "inputWidgets": {},
     "nuid": "c9f517df-b84c-431a-b164-40564dca3a52",
     "showTitle": false,
     "tableResultSettingsMap": {},
     "title": ""
    }
   },
   "outputs": [],
   "source": [
    "eda_agg_table_full.groupby('new_buckets').sum()['gp_abs']"
   ]
  },
  {
   "cell_type": "code",
   "execution_count": 0,
   "metadata": {
    "application/vnd.databricks.v1+cell": {
     "cellMetadata": {
      "byteLimit": 2048000,
      "rowLimit": 10000
     },
     "inputWidgets": {},
     "nuid": "2326d1cd-144c-4414-9fb8-29e0135ad0b7",
     "showTitle": false,
     "tableResultSettingsMap": {},
     "title": ""
    }
   },
   "outputs": [],
   "source": [
    "def get_top_N_list(dataframe, start, end):\n",
    "    listname = \"list\" + \"_\" + str(end)\n",
    "#     print(listname)\n",
    "    listname = pd.DataFrame(dataframe.groupby(\n",
    "        'material_id').sum()['sale']).reset_index().sort_values(\n",
    "            by=dataframe.columns[2], ascending=False)['material_id'][start:end].tolist()\n",
    "    return listname"
   ]
  },
  {
   "cell_type": "markdown",
   "metadata": {
    "application/vnd.databricks.v1+cell": {
     "cellMetadata": {
      "byteLimit": 2048000,
      "rowLimit": 10000
     },
     "inputWidgets": {},
     "nuid": "6d81b1eb-39df-428b-be89-fe87e555f931",
     "showTitle": false,
     "tableResultSettingsMap": {},
     "title": ""
    }
   },
   "source": [
    "###Trend Chart - Maintain or Grow"
   ]
  },
  {
   "cell_type": "code",
   "execution_count": 0,
   "metadata": {
    "application/vnd.databricks.v1+cell": {
     "cellMetadata": {
      "byteLimit": 2048000,
      "rowLimit": 10000
     },
     "inputWidgets": {},
     "nuid": "dff0d535-972a-48db-ab60-84e92d004f50",
     "showTitle": false,
     "tableResultSettingsMap": {},
     "title": ""
    }
   },
   "outputs": [],
   "source": [
    "fdf.head(2)"
   ]
  },
  {
   "cell_type": "code",
   "execution_count": 0,
   "metadata": {
    "application/vnd.databricks.v1+cell": {
     "cellMetadata": {
      "byteLimit": 2048000,
      "rowLimit": 10000
     },
     "inputWidgets": {},
     "nuid": "61da0a80-43b1-4519-bf13-c42897414ea8",
     "showTitle": false,
     "tableResultSettingsMap": {},
     "title": ""
    }
   },
   "outputs": [],
   "source": [
    "# fdf.new_buckets.value_counts()\n",
    "tx=fdf[fdf['new_buckets']=='MAINTAIN_OR_GROW_BY_PROMO']\n",
    "tx=tx.groupby('material_id').sum()['sale'].reset_index().sort_values(by='sale',ascending=False)\n",
    "tx_list=tx['material_id'].tolist()[0:20]\n",
    "\n",
    "tbl=fdf[fdf['material_id'].isin(tx_list)]\n",
    "\n",
    "tbl = pd.merge(tbl,\n",
    "                attr[['material_id', 'material_name','brand']],\n",
    "                left_on='material_id',\n",
    "                right_on='material_id',\n",
    "                how='inner')\n",
    "\n",
    "fig = px.line(tbl, x=\"week_number\", y=\"sale\", color='material_name',width=900, height=600, title=\"SALES L52W\")\n",
    "fig.show()\n",
    "\n",
    "fig2= px.line(tbl, x=\"week_number\", y=\"cwd\", color='material_name',width=900, height=600, title=\"CWD L52W\")\n",
    "fig2.show()"
   ]
  },
  {
   "cell_type": "markdown",
   "metadata": {
    "application/vnd.databricks.v1+cell": {
     "cellMetadata": {
      "byteLimit": 2048000,
      "rowLimit": 10000
     },
     "inputWidgets": {},
     "nuid": "7034336a-6e16-4a2f-b097-c64bece9257d",
     "showTitle": false,
     "tableResultSettingsMap": {},
     "title": ""
    }
   },
   "source": [
    "###Trend Chart - Delist"
   ]
  },
  {
   "cell_type": "code",
   "execution_count": 0,
   "metadata": {
    "application/vnd.databricks.v1+cell": {
     "cellMetadata": {
      "byteLimit": 2048000,
      "rowLimit": 10000
     },
     "inputWidgets": {},
     "nuid": "a8289a9e-bc64-4996-a938-7c2c8c488b4f",
     "showTitle": false,
     "tableResultSettingsMap": {},
     "title": ""
    }
   },
   "outputs": [],
   "source": [
    "# fdf.new_buckets.value_counts()\n",
    "tx=fdf[fdf['new_buckets']=='DELIST']\n",
    "tx=tx.groupby('material_id').sum()['sale'].reset_index().sort_values(by='sale',ascending=False)\n",
    "tx_list=tx['material_id'].tolist()[0:20]\n",
    "\n",
    "tbl=fdf[fdf['material_id'].isin(tx_list)]\n",
    "\n",
    "tbl = pd.merge(tbl,\n",
    "                attr[['material_id', 'material_name','brand']],\n",
    "                left_on='material_id',\n",
    "                right_on='material_id',\n",
    "                how='inner')\n",
    "\n",
    "fig = px.line(tbl, x=\"week_number\", y=\"sale\", color='material_name',width=900, height=600)\n",
    "fig.show()\n",
    "\n",
    "fig2= px.line(tbl, x=\"week_number\", y=\"cwd\", color='material_name',width=900, height=600)\n",
    "fig2.show()"
   ]
  },
  {
   "cell_type": "markdown",
   "metadata": {
    "application/vnd.databricks.v1+cell": {
     "cellMetadata": {
      "byteLimit": 2048000,
      "rowLimit": 10000
     },
     "inputWidgets": {},
     "nuid": "3c2cbf22-c2b2-43cc-acdb-f78fb08f3530",
     "showTitle": false,
     "tableResultSettingsMap": {},
     "title": ""
    }
   },
   "source": [
    "##Misc"
   ]
  },
  {
   "cell_type": "code",
   "execution_count": 0,
   "metadata": {
    "application/vnd.databricks.v1+cell": {
     "cellMetadata": {
      "byteLimit": 2048000,
      "rowLimit": 10000
     },
     "inputWidgets": {},
     "nuid": "3402cbda-8e09-4902-9133-9a22c26ed907",
     "showTitle": false,
     "tableResultSettingsMap": {},
     "title": ""
    }
   },
   "outputs": [],
   "source": [
    "display(eda_agg_table_full.groupby('new_buckets').sum()['sale'].reset_index())"
   ]
  },
  {
   "cell_type": "code",
   "execution_count": 0,
   "metadata": {
    "application/vnd.databricks.v1+cell": {
     "cellMetadata": {
      "byteLimit": 2048000,
      "rowLimit": 10000
     },
     "inputWidgets": {},
     "nuid": "28e5f9eb-352a-4647-a268-f631ecd2dfec",
     "showTitle": false,
     "tableResultSettingsMap": {},
     "title": ""
    }
   },
   "outputs": [],
   "source": [
    "dl_br=pd.pivot_table(eda_agg_table_full,values='material_id',index='brand',columns='new_buckets',aggfunc='count')\n",
    "dl_br=dl_br.reset_index()\n",
    "dl_br['total_%_delist']=(dl_br['DELIST']/dl_br.sum(axis=1))*100\n",
    "dl_br"
   ]
  },
  {
   "cell_type": "code",
   "execution_count": 0,
   "metadata": {
    "application/vnd.databricks.v1+cell": {
     "cellMetadata": {
      "byteLimit": 2048000,
      "rowLimit": 10000
     },
     "inputWidgets": {},
     "nuid": "c44ff104-7b0b-4c22-9162-59071577611c",
     "showTitle": false,
     "tableResultSettingsMap": {},
     "title": ""
    }
   },
   "outputs": [],
   "source": [
    "tbl=store[store['material_id'].isin(get_top_N_list(sale,0,16))]\n",
    "\n",
    "tbl = pd.merge(tbl,\n",
    "                attr[['material_id', 'material_name','brand']],\n",
    "                left_on='material_id',\n",
    "                right_on='material_id',\n",
    "                how='inner')\n",
    "\n",
    "fig = px.line(tbl, x=\"week_number\", y=\"material_weekly_store_count\", color='material_name',width=900, height=600)\n",
    "fig.show()"
   ]
  },
  {
   "cell_type": "markdown",
   "metadata": {
    "application/vnd.databricks.v1+cell": {
     "cellMetadata": {
      "byteLimit": 2048000,
      "rowLimit": 10000
     },
     "inputWidgets": {},
     "nuid": "f237ae84-83e4-4f67-8126-b912d046beff",
     "showTitle": false,
     "tableResultSettingsMap": {},
     "title": ""
    }
   },
   "source": [
    "##Interactions"
   ]
  },
  {
   "cell_type": "code",
   "execution_count": 0,
   "metadata": {
    "application/vnd.databricks.v1+cell": {
     "cellMetadata": {
      "byteLimit": 2048000,
      "rowLimit": 10000
     },
     "inputWidgets": {},
     "nuid": "296da246-7ec7-4471-a3a1-5a695f5d1a64",
     "showTitle": false,
     "tableResultSettingsMap": {},
     "title": ""
    }
   },
   "outputs": [],
   "source": [
    "tbl=sale[sale['material_id'].isin(get_top_N_list(sale,0,16))]\n",
    "\n",
    "tbl = pd.merge(tbl,\n",
    "                attr[['material_id', 'material_name']],\n",
    "                left_on='material_id',\n",
    "                right_on='material_id',\n",
    "                how='inner')\n",
    "\n",
    "fig = px.line(tbl, x=\"week_number\", y=\"sale\", color='material_name',width=900, height=600)\n",
    "fig.show()"
   ]
  },
  {
   "cell_type": "markdown",
   "metadata": {
    "application/vnd.databricks.v1+cell": {
     "cellMetadata": {
      "byteLimit": 2048000,
      "rowLimit": 10000
     },
     "inputWidgets": {},
     "nuid": "f8d1947f-2594-4ea0-9290-70eebc06d4d6",
     "showTitle": false,
     "tableResultSettingsMap": {},
     "title": ""
    }
   },
   "source": [
    "##Brand level"
   ]
  },
  {
   "cell_type": "markdown",
   "metadata": {
    "application/vnd.databricks.v1+cell": {
     "cellMetadata": {
      "byteLimit": 2048000,
      "rowLimit": 10000
     },
     "inputWidgets": {},
     "nuid": "79497705-ab8a-40c1-b623-23f03856e1a8",
     "showTitle": false,
     "tableResultSettingsMap": {},
     "title": ""
    }
   },
   "source": [
    "###Bubble - GP Flag"
   ]
  },
  {
   "cell_type": "code",
   "execution_count": 0,
   "metadata": {
    "application/vnd.databricks.v1+cell": {
     "cellMetadata": {
      "byteLimit": 2048000,
      "rowLimit": 10000
     },
     "inputWidgets": {},
     "nuid": "e2bda1f6-c8c1-447b-961c-cd063b22622d",
     "showTitle": false,
     "tableResultSettingsMap": {},
     "title": ""
    }
   },
   "outputs": [],
   "source": [
    "query = f\"\"\"\n",
    "WITH total_cust AS (SELECT COUNT(DISTINCT customer_id) AS tot_cust,\n",
    "                            COUNT(DISTINCT CASE WHEN segment = 'VIP' THEN customer_id END) AS tot_vip,\n",
    "                            COUNT(DISTINCT CASE WHEN segment = 'Frequentist' THEN customer_id END) AS tot_freq\n",
    "                    FROM dev.sandbox.pj_ao_framework_data\n",
    "                    WHERE\n",
    "                        business_day >= '{analysis_start_date}'\n",
    "                        AND region_name = '{region}'\n",
    "                        AND category_name = '{category_name}'\n",
    "                        {material_group_condition}\n",
    ")\n",
    "\n",
    "SELECT brand,\n",
    "        COUNT(DISTINCT customer_id) AS cust,\n",
    "        COUNT(DISTINCT CASE WHEN segment = 'VIP' THEN customer_id END) AS vip_cust,\n",
    "        COUNT(DISTINCT CASE WHEN segment = 'Frequentist' THEN customer_id END) AS freq_cust,\n",
    "        tot_cust, tot_vip, tot_freq,\n",
    "        (cust/tot_cust) AS tot_cust_perc,\n",
    "        (vip_cust/tot_vip) AS vip_cust_perc,\n",
    "        (freq_cust/tot_freq) AS freq_cust_perc\n",
    "FROM total_cust, dev.sandbox.pj_ao_framework_data\n",
    "WHERE\n",
    "        business_day >= '{analysis_start_date}'\n",
    "        AND region_name = '{region}'\n",
    "        AND category_name = '{category_name}'\n",
    "        {material_group_condition}\n",
    "GROUP BY brand, tot_cust, tot_vip, tot_freq\n",
    "ORDER BY brand\n",
    "\"\"\"\n",
    "\n",
    "p = spark.sql(query).toPandas()\n",
    "p['vip_freq_pnt'] = (p['vip_cust'] + p['freq_cust']) / (p['tot_vip'] + p['tot_freq'])"
   ]
  },
  {
   "cell_type": "code",
   "execution_count": 0,
   "metadata": {
    "application/vnd.databricks.v1+cell": {
     "cellMetadata": {
      "byteLimit": 2048000,
      "rowLimit": 10000
     },
     "inputWidgets": {},
     "nuid": "09679e46-1647-4f3b-bc1d-cbc6e9dace10",
     "showTitle": false,
     "tableResultSettingsMap": {},
     "title": ""
    }
   },
   "outputs": [],
   "source": [
    "gp_bub2 = pd.merge(fdf, attr[['material_id', 'material_name','brand']], on='material_id', how='inner')\n",
    "gp_bub=gp_bub2.groupby('brand').sum()[['sale','vol']].reset_index()\n",
    "gp2 = pd.merge(gp, attr[['material_id', 'material_name','brand']], on='material_id', how='inner')\n",
    "gp3=gp2.groupby('brand').sum()['GP']\n",
    "\n",
    "temp = pd.merge(gp_bub, gp3, on='brand',how='inner')\n",
    "temp = pd.merge(temp, p[['brand', 'vip_freq_pnt']], on='brand',how='inner')\n",
    "temp['GP_ABS']=np.abs(temp['GP'])\n",
    "temp['GP_FLAG']=np.where(temp.GP<0,\"Negative\",\"Positive\")"
   ]
  },
  {
   "cell_type": "code",
   "execution_count": 0,
   "metadata": {
    "application/vnd.databricks.v1+cell": {
     "cellMetadata": {
      "byteLimit": 2048000,
      "rowLimit": 10000
     },
     "inputWidgets": {},
     "nuid": "cd0c7537-74d0-4806-b6a0-b5da411972a5",
     "showTitle": false,
     "tableResultSettingsMap": {},
     "title": ""
    }
   },
   "outputs": [],
   "source": [
    "fig = px.scatter(temp, x=\"sale\", y=\"vip_freq_pnt\", size=\"GP_ABS\", \n",
    "                 color=\"GP_FLAG\",\n",
    "                 hover_name=\"brand\", log_x=False, size_max=40, title=\"ALL BRANDS\", color_discrete_map={\"Positive\": \"#8993f8\", \"Negative\": \"#ec8272\"})\n",
    "fig.add_hline(y=temp.vip_freq_pnt.mean())\n",
    "fig.add_vline(x=temp.sale.quantile(0.95))\n",
    "fig.show()"
   ]
  },
  {
   "cell_type": "markdown",
   "metadata": {
    "application/vnd.databricks.v1+cell": {
     "cellMetadata": {
      "byteLimit": 2048000,
      "rowLimit": 10000
     },
     "inputWidgets": {},
     "nuid": "ce2ca120-10fd-431c-956c-84c44d177b8a",
     "showTitle": false,
     "tableResultSettingsMap": {},
     "title": ""
    }
   },
   "source": [
    "###Bubble - Growth Flag"
   ]
  },
  {
   "cell_type": "code",
   "execution_count": 0,
   "metadata": {
    "application/vnd.databricks.v1+cell": {
     "cellMetadata": {
      "byteLimit": 2048000,
      "rowLimit": 10000
     },
     "inputWidgets": {},
     "nuid": "ffceba2e-26ca-4eda-a5e8-ec7f937b626a",
     "showTitle": false,
     "tableResultSettingsMap": {},
     "title": ""
    }
   },
   "outputs": [],
   "source": [
    "r = pd.merge(e, attr[['material_id', 'brand']], on='material_id', how='inner')\n",
    "r = r.groupby('brand')[['LFL_sales', 'Current_sales']].sum().reset_index()\n",
    "r['growth'] = (r['Current_sales'] - r['LFL_sales'])/r['LFL_sales']\n",
    "r['growth'] = r['growth'].replace(float('inf'), 0)"
   ]
  },
  {
   "cell_type": "code",
   "execution_count": 0,
   "metadata": {
    "application/vnd.databricks.v1+cell": {
     "cellMetadata": {
      "byteLimit": 2048000,
      "rowLimit": 10000
     },
     "inputWidgets": {},
     "nuid": "31bc9a87-8ed7-4091-941b-f821b3f13ecd",
     "showTitle": false,
     "tableResultSettingsMap": {},
     "title": ""
    }
   },
   "outputs": [],
   "source": [
    "temp = pd.merge(temp, r[['brand', 'growth']], on='brand', how='inner')\n",
    "\n",
    "growth_positives = temp[temp['growth'] >= 0][['growth']].values\n",
    "medium = np.percentile(growth_positives, 33)\n",
    "high = np.percentile(growth_positives, 66)\n",
    "\n",
    "temp[\"Growth_Flag\"] = np.where(\n",
    "    (temp[\"growth\"] < 0), \"Negative\",\n",
    "    np.where(\n",
    "        (temp[\"growth\"] >= high), f\"High >{round(high*100,2)}%\",\n",
    "    np.where(\n",
    "        (temp[\"growth\"] >= medium), f\"Medium >{round(medium*100,2)}%\", f\"Low <{round(medium*100,2)}%\"\n",
    "    )\n",
    "))"
   ]
  },
  {
   "cell_type": "code",
   "execution_count": 0,
   "metadata": {
    "application/vnd.databricks.v1+cell": {
     "cellMetadata": {
      "byteLimit": 2048000,
      "rowLimit": 10000
     },
     "inputWidgets": {},
     "nuid": "cde57f85-d3f8-4f97-a8e5-49e74e3ac02c",
     "showTitle": false,
     "tableResultSettingsMap": {},
     "title": ""
    }
   },
   "outputs": [],
   "source": [
    "fig = px.scatter(temp, x=\"sale\", y=\"vip_freq_pnt\", size=\"GP_ABS\", \n",
    "                 color=\"Growth_Flag\",\n",
    "                 hover_name=\"brand\", log_x=False, size_max=40, title=\"ALL BRANDS\", color_discrete_map={f\"High >{round(high*100,2)}%\": \"#00CC96\", f\"Medium >{round(medium*100,2)}%\": \"#636EFA\", f\"Low <{round(medium*100,2)}%\": \"#AB63FA\", \"Negative\": \"#EF553B\"})\n",
    "\n",
    "fig.add_hline(y=temp.vip_freq_pnt.mean())\n",
    "fig.add_vline(x=temp.sale.quantile(0.95))\n",
    "\n",
    "fig.show()"
   ]
  },
  {
   "cell_type": "code",
   "execution_count": 0,
   "metadata": {
    "application/vnd.databricks.v1+cell": {
     "cellMetadata": {
      "byteLimit": 2048000,
      "rowLimit": 10000
     },
     "inputWidgets": {},
     "nuid": "ac1cab1f-be4b-4da4-8f35-4efa1301011b",
     "showTitle": false,
     "tableResultSettingsMap": {},
     "title": ""
    }
   },
   "outputs": [],
   "source": [
    "temp[\"Quadrant\"] = np.where(\n",
    "    (temp[\"sale\"] >= temp[\"sale\"].quantile(0.95))\n",
    "    & (temp[\"vip_freq_pnt\"] >= temp[\"vip_freq_pnt\"].mean()), 1,\n",
    "    np.where(\n",
    "        (temp[\"sale\"] < temp[\"sale\"].quantile(0.95))\n",
    "        & (temp[\"vip_freq_pnt\"] < temp[\"vip_freq_pnt\"].mean()), 3,\n",
    "    np.where(\n",
    "        (temp[\"sale\"] >= temp[\"sale\"].quantile(0.95))\n",
    "        & (temp[\"vip_freq_pnt\"] < temp[\"vip_freq_pnt\"].mean()), 2,\n",
    "    np.where(\n",
    "        (temp[\"sale\"] < temp[\"sale\"].quantile(0.95))\n",
    "        & (temp[\"vip_freq_pnt\"] >= temp[\"vip_freq_pnt\"].mean()), 4,0\n",
    "    )\n",
    ")))"
   ]
  },
  {
   "cell_type": "code",
   "execution_count": 0,
   "metadata": {
    "application/vnd.databricks.v1+cell": {
     "cellMetadata": {
      "byteLimit": 2048000,
      "rowLimit": 10000
     },
     "inputWidgets": {},
     "nuid": "da8dd73e-5c0d-4f52-8ecc-1a511695804f",
     "showTitle": false,
     "tableResultSettingsMap": {},
     "title": ""
    }
   },
   "outputs": [],
   "source": [
    "quadrants_df = temp.groupby(['Quadrant']).agg({'sale':'sum', 'GP_ABS':'sum', 'vip_freq_pnt':'mean', 'brand':'count', 'growth':'mean'}).reset_index()\n",
    "\n",
    "quadrants_df['sales_share'] = quadrants_df['sale'] / quadrants_df['sale'].sum()\n",
    "quadrants_df['gp_share'] = quadrants_df['GP_ABS'] / quadrants_df['GP_ABS'].sum()\n",
    "\n",
    "quadrants_df.rename(columns={'brand':'brands'},inplace=True)\n",
    "quadrants_df.rename(columns={'growth':'avg_growth'},inplace=True)\n",
    "quadrants_df.rename(columns={'vip_freq_pnt':'avg_vip_freq_pnt'},inplace=True)\n",
    "\n",
    "quadrants_df[['Quadrant', 'sales_share', 'avg_vip_freq_pnt', 'gp_share', 'brands', 'avg_growth']]"
   ]
  },
  {
   "cell_type": "code",
   "execution_count": 0,
   "metadata": {
    "application/vnd.databricks.v1+cell": {
     "cellMetadata": {
      "byteLimit": 2048000,
      "rowLimit": 10000
     },
     "inputWidgets": {},
     "nuid": "7874bd12-e09f-436e-9cc0-0f3f3d67a80a",
     "showTitle": false,
     "tableResultSettingsMap": {},
     "title": ""
    }
   },
   "outputs": [],
   "source": [
    "if rationalized_flag != 0:\n",
    "    query = f\"\"\"\n",
    "    WITH total_cust AS (SELECT COUNT(DISTINCT customer_id) AS tot_cust,\n",
    "                                COUNT(DISTINCT CASE WHEN segment = 'VIP' THEN customer_id END) AS tot_vip,\n",
    "                                COUNT(DISTINCT CASE WHEN segment = 'Frequentist' THEN customer_id END) AS tot_freq\n",
    "                        FROM dev.sandbox.pj_ao_framework_data\n",
    "                        WHERE business_day >= '{analysis_start_date}'\n",
    "                        AND material_id IN {rationalized_materials_sql}\n",
    "                        AND region_name = '{region}'\n",
    "    )\n",
    "\n",
    "    SELECT brand,\n",
    "            COUNT(DISTINCT customer_id) AS cust,\n",
    "            COUNT(DISTINCT CASE WHEN segment = 'VIP' THEN customer_id END) AS vip_cust,\n",
    "            COUNT(DISTINCT CASE WHEN segment = 'Frequentist' THEN customer_id END) AS freq_cust,\n",
    "            tot_cust, tot_vip, tot_freq,\n",
    "            (cust/tot_cust) AS tot_cust_perc,\n",
    "            (vip_cust/tot_vip) AS vip_cust_perc,\n",
    "            (freq_cust/tot_freq) AS freq_cust_perc\n",
    "    FROM total_cust, dev.sandbox.pj_ao_framework_data\n",
    "    WHERE business_day >= '{analysis_start_date}'\n",
    "    AND material_id IN {rationalized_materials_sql}\n",
    "    AND region_name = '{region}'\n",
    "    GROUP BY brand, tot_cust, tot_vip, tot_freq\n",
    "    ORDER BY brand\n",
    "    \"\"\"\n",
    "\n",
    "    s = spark.sql(query).toPandas()\n",
    "    s['vip_freq_pnt'] = (s['vip_cust'] + s['freq_cust']) / (s['tot_vip'] + s['tot_freq'])"
   ]
  },
  {
   "cell_type": "code",
   "execution_count": 0,
   "metadata": {
    "application/vnd.databricks.v1+cell": {
     "cellMetadata": {
      "byteLimit": 2048000,
      "rowLimit": 10000
     },
     "inputWidgets": {},
     "nuid": "ca830e73-381e-4b41-907f-1845e41ec52d",
     "showTitle": false,
     "tableResultSettingsMap": {},
     "title": ""
    }
   },
   "outputs": [],
   "source": [
    "if rationalized_flag != 0:\n",
    "    gp_bub2 = pd.merge(fdf[fdf['material_id'].isin(rationalized_materials)],\n",
    "                       attr[['material_id', 'material_name','brand']],\n",
    "                       on='material_id', how='inner')\n",
    "    gp_bub=gp_bub2.groupby('brand').sum()[['sale','vol']].reset_index()\n",
    "    gp2 = pd.merge(gp[gp['material_id'].isin(rationalized_materials)],\n",
    "                    attr[['material_id', 'material_name','brand']],\n",
    "                    on='material_id', how='inner')\n",
    "    gp3=gp2.groupby('brand').sum()['GP']\n",
    "\n",
    "    temp = pd.merge(gp_bub, gp3, on='brand',how='inner')\n",
    "    temp = pd.merge(temp, s[['brand', 'vip_freq_pnt']], on='brand',how='inner')\n",
    "    temp['GP_ABS']=np.abs(temp['GP'])\n",
    "    temp['GP_FLAG']=np.where(temp.GP<0,\"Negative\",\"Positive\")\n",
    "\n",
    "    fig = px.scatter(temp, x=\"sale\", y=\"vip_freq_pnt\", size=\"GP_ABS\",\n",
    "                 color=\"GP_FLAG\",\n",
    "                 hover_name=\"brand\", log_x=False, size_max=40, title=\"RATIONALIZED BRANDS\", color_discrete_map={\"Positive\": \"#8993f8\", \"Negative\": \"#ec8272\"})\n",
    "    fig.add_hline(y=temp.vip_freq_pnt.mean())\n",
    "    fig.add_vline(x=temp.sale.quantile(0.95))\n",
    "    fig.show()"
   ]
  },
  {
   "cell_type": "code",
   "execution_count": 0,
   "metadata": {
    "application/vnd.databricks.v1+cell": {
     "cellMetadata": {
      "byteLimit": 2048000,
      "rowLimit": 10000
     },
     "inputWidgets": {},
     "nuid": "c4dc270a-03a7-4c84-8aee-0b936e52a619",
     "showTitle": false,
     "tableResultSettingsMap": {},
     "title": ""
    }
   },
   "outputs": [],
   "source": [
    "if rationalized_flag != 0:\n",
    "    t = pd.merge(e[e['material_id'].isin(rationalized_materials)],\n",
    "                 attr[['material_id', 'brand']],\n",
    "                 on='material_id', how='inner')\n",
    "    t = t.groupby('brand')[['LFL_sales', 'Current_sales']].sum().reset_index()\n",
    "    t['growth'] = (t['Current_sales'] - t['LFL_sales'])/r['LFL_sales']\n",
    "    t['growth'] = t['growth'].replace(float('inf'), 0)\n",
    "\n",
    "    temp = pd.merge(temp, t[['brand', 'growth']], on='brand', how='inner')\n",
    "\n",
    "    temp[\"Growth_Flag\"] = np.where(\n",
    "        (temp[\"growth\"] < 0), \"Negative\",\n",
    "        np.where(\n",
    "            (temp[\"growth\"] >= high), f\"High >{round(high*100,2)}%\",\n",
    "        np.where(\n",
    "            (temp[\"growth\"] >= medium), f\"Medium >{round(medium*100,2)}%\", f\"Low <{round(medium*100,2)}%\"\n",
    "        )\n",
    "    ))\n",
    "\n",
    "    fig = px.scatter(temp, x=\"sale\", y=\"vip_freq_pnt\", size=\"GP_ABS\", \n",
    "                    color=\"Growth_Flag\",\n",
    "                    hover_name=\"brand\", log_x=False, size_max=40, title=\"RATIONALIZED BRANDS\", color_discrete_map={f\"High >{round(high*100,2)}%\": \"#00CC96\", f\"Medium >{round(medium*100,2)}%\": \"#636EFA\", f\"Low <{round(medium*100,2)}%\": \"#AB63FA\", \"Negative\": \"#EF553B\"})\n",
    "    fig.add_hline(y=temp.vip_freq_pnt.mean())\n",
    "    fig.add_vline(x=temp.sale.quantile(0.95))\n",
    "    fig.show()"
   ]
  },
  {
   "cell_type": "markdown",
   "metadata": {
    "application/vnd.databricks.v1+cell": {
     "cellMetadata": {
      "byteLimit": 2048000,
      "rowLimit": 10000
     },
     "inputWidgets": {},
     "nuid": "c28b3e7e-10a5-48ce-8f56-82712faca84d",
     "showTitle": false,
     "tableResultSettingsMap": {},
     "title": ""
    }
   },
   "source": [
    "###Price calculation"
   ]
  },
  {
   "cell_type": "code",
   "execution_count": 0,
   "metadata": {
    "application/vnd.databricks.v1+cell": {
     "cellMetadata": {
      "byteLimit": 2048000,
      "rowLimit": 10000
     },
     "inputWidgets": {},
     "nuid": "56d2c113-3a62-4c5a-ba2f-9956751b5b37",
     "showTitle": false,
     "tableResultSettingsMap": {},
     "title": ""
    }
   },
   "outputs": [],
   "source": [
    "df.head()"
   ]
  },
  {
   "cell_type": "code",
   "execution_count": 0,
   "metadata": {
    "application/vnd.databricks.v1+cell": {
     "cellMetadata": {
      "byteLimit": 2048000,
      "rowLimit": 10000
     },
     "inputWidgets": {},
     "nuid": "28ee2ed1-7189-4a62-94ce-0fb165a0c2ec",
     "showTitle": false,
     "tableResultSettingsMap": {},
     "title": ""
    }
   },
   "outputs": [],
   "source": [
    "price_df=df[df['week_number']>40].groupby('material_id').sum()[['sale','vol']].reset_index()\n",
    "price_df['price']=price_df.sale/price_df.vol"
   ]
  },
  {
   "cell_type": "code",
   "execution_count": 0,
   "metadata": {
    "application/vnd.databricks.v1+cell": {
     "cellMetadata": {
      "byteLimit": 2048000,
      "rowLimit": 10000
     },
     "inputWidgets": {},
     "nuid": "8256a596-23dd-45bc-ba4a-5e1b91f797d9",
     "showTitle": false,
     "tableResultSettingsMap": {},
     "title": ""
    }
   },
   "outputs": [],
   "source": [
    "px.histogram(price_df,y='price')"
   ]
  },
  {
   "cell_type": "code",
   "execution_count": 0,
   "metadata": {
    "application/vnd.databricks.v1+cell": {
     "cellMetadata": {
      "byteLimit": 2048000,
      "rowLimit": 10000
     },
     "inputWidgets": {},
     "nuid": "7b992e83-a70e-47aa-b011-6b2922df718e",
     "showTitle": false,
     "tableResultSettingsMap": {},
     "title": ""
    }
   },
   "outputs": [],
   "source": [
    "xd=pd.merge(price_df,attr, on='material_id',how='right')"
   ]
  },
  {
   "cell_type": "code",
   "execution_count": 0,
   "metadata": {
    "application/vnd.databricks.v1+cell": {
     "cellMetadata": {
      "byteLimit": 2048000,
      "rowLimit": 10000
     },
     "inputWidgets": {},
     "nuid": "e5975e31-1728-4207-ae13-4b79f8dc1410",
     "showTitle": false,
     "tableResultSettingsMap": {},
     "title": ""
    }
   },
   "outputs": [],
   "source": [
    "display(xd)"
   ]
  },
  {
   "cell_type": "code",
   "execution_count": 0,
   "metadata": {
    "application/vnd.databricks.v1+cell": {
     "cellMetadata": {
      "byteLimit": 2048000,
      "rowLimit": 10000
     },
     "inputWidgets": {},
     "nuid": "422db0b8-b7cf-43d4-85ae-2fc2de90af7c",
     "showTitle": false,
     "tableResultSettingsMap": {},
     "title": ""
    }
   },
   "outputs": [],
   "source": [
    "attr.head()"
   ]
  },
  {
   "cell_type": "code",
   "execution_count": 0,
   "metadata": {
    "application/vnd.databricks.v1+cell": {
     "cellMetadata": {
      "byteLimit": 2048000,
      "rowLimit": 10000
     },
     "inputWidgets": {},
     "nuid": "6eecd9ac-d6c1-41a0-a8dc-d04aed3693c1",
     "showTitle": false,
     "tableResultSettingsMap": {},
     "title": ""
    }
   },
   "outputs": [],
   "source": [
    "xd=sale.groupby('material_id').sum()['sale'].reset_index()\n",
    "xd=pd.merge(xd,attr, on='material_id',how='right')"
   ]
  },
  {
   "cell_type": "code",
   "execution_count": 0,
   "metadata": {
    "application/vnd.databricks.v1+cell": {
     "cellMetadata": {
      "byteLimit": 2048000,
      "rowLimit": 10000
     },
     "inputWidgets": {},
     "nuid": "c2bd9bac-622b-4534-903f-52a8164d9ea8",
     "showTitle": false,
     "tableResultSettingsMap": {},
     "title": ""
    }
   },
   "outputs": [],
   "source": [
    "display(xd)"
   ]
  },
  {
   "cell_type": "code",
   "execution_count": 0,
   "metadata": {
    "application/vnd.databricks.v1+cell": {
     "cellMetadata": {
      "byteLimit": 2048000,
      "rowLimit": 10000
     },
     "inputWidgets": {},
     "nuid": "bee9d8dd-2d51-4e2e-b212-4df56e187cf2",
     "showTitle": false,
     "tableResultSettingsMap": {},
     "title": ""
    }
   },
   "outputs": [],
   "source": [
    "# t=pd.DataFrame(xd.groupby('new_volume').sum()['sale']).reset_index()\n",
    "# t['new_volume']=t['new_volume'].astype('object')\n",
    "\n",
    "# t['new_volume'] = t['new_volume'].astype(str)+'ML'\n",
    "# t\n",
    "# # print(t.dtypes)\n",
    "# plot_bar(t,'new_volume','sale')"
   ]
  },
  {
   "cell_type": "markdown",
   "metadata": {
    "application/vnd.databricks.v1+cell": {
     "cellMetadata": {
      "byteLimit": 2048000,
      "rowLimit": 10000
     },
     "inputWidgets": {},
     "nuid": "3771babb-3765-46e0-9492-dad7ca2bf52f",
     "showTitle": false,
     "tableResultSettingsMap": {},
     "title": ""
    }
   },
   "source": [
    "###Quadrant Values and GP"
   ]
  },
  {
   "cell_type": "code",
   "execution_count": 0,
   "metadata": {
    "application/vnd.databricks.v1+cell": {
     "cellMetadata": {
      "byteLimit": 2048000,
      "rowLimit": 10000
     },
     "inputWidgets": {},
     "nuid": "d6704f97-9958-4600-9701-2ca397aa27fa",
     "showTitle": false,
     "tableResultSettingsMap": {},
     "title": ""
    }
   },
   "outputs": [],
   "source": [
    "eda_agg_table_full.head(1)"
   ]
  },
  {
   "cell_type": "code",
   "execution_count": 0,
   "metadata": {
    "application/vnd.databricks.v1+cell": {
     "cellMetadata": {
      "byteLimit": 2048000,
      "rowLimit": 10000
     },
     "inputWidgets": {},
     "nuid": "d26f7466-86d8-4970-b8a7-65330122329c",
     "showTitle": false,
     "tableResultSettingsMap": {},
     "title": ""
    }
   },
   "outputs": [],
   "source": [
    "eda_agg_table_full[\"Quadrant\"] = np.where(\n",
    "    (eda_agg_table_full[\"sale\"] > eda_agg_table_full[\"sale\"].quantile(0.95))\n",
    "    & (eda_agg_table_full[\"tot_cust_perc\"] > eda_agg_table_full[\"tot_cust_perc\"].mean()), 1,\n",
    "    np.where(\n",
    "        (eda_agg_table_full[\"sale\"] < eda_agg_table_full[\"sale\"].quantile(0.95))\n",
    "        & (eda_agg_table_full[\"tot_cust_perc\"] < eda_agg_table_full[\"tot_cust_perc\"].mean()), 3,\n",
    "    np.where(\n",
    "        (eda_agg_table_full[\"sale\"] > eda_agg_table_full[\"sale\"].quantile(0.95))\n",
    "        & (eda_agg_table_full[\"tot_cust_perc\"] < eda_agg_table_full[\"tot_cust_perc\"].mean()), 2,\n",
    "    np.where(\n",
    "        (eda_agg_table_full[\"sale\"] < eda_agg_table_full[\"sale\"].quantile(0.95))\n",
    "        & (eda_agg_table_full[\"tot_cust_perc\"] > eda_agg_table_full[\"tot_cust_perc\"].mean()), 4,0\n",
    "    )\n",
    ")))\n",
    "\n",
    "eda_agg_table_full['pl_flag'] = np.where(eda_agg_table_full['brand'] == \"LULU PRIVATE LABEL\", 1, 0)"
   ]
  },
  {
   "cell_type": "code",
   "execution_count": 0,
   "metadata": {
    "application/vnd.databricks.v1+cell": {
     "cellMetadata": {
      "byteLimit": 2048000,
      "rowLimit": 10000
     },
     "inputWidgets": {},
     "nuid": "c392cc6d-5aa1-4cfa-b140-ce7df65c1b4d",
     "showTitle": false,
     "tableResultSettingsMap": {},
     "title": ""
    }
   },
   "outputs": [],
   "source": [
    "display(eda_agg_table_full.groupby('Quadrant').agg({'sale':'sum','tot_cust_perc':'mean','gp_abs':'sum', 'material_id':'count', 'pl_flag':'sum'}).reset_index())"
   ]
  },
  {
   "cell_type": "code",
   "execution_count": 0,
   "metadata": {
    "application/vnd.databricks.v1+cell": {
     "cellMetadata": {
      "byteLimit": 2048000,
      "rowLimit": 10000
     },
     "inputWidgets": {},
     "nuid": "2e62ea1e-4f46-4399-9a4b-281b78338df3",
     "showTitle": false,
     "tableResultSettingsMap": {},
     "title": ""
    }
   },
   "outputs": [],
   "source": [
    "fdf.merge(eda_agg_table_full)"
   ]
  },
  {
   "cell_type": "code",
   "execution_count": 0,
   "metadata": {
    "application/vnd.databricks.v1+cell": {
     "cellMetadata": {
      "byteLimit": 2048000,
      "rowLimit": 10000
     },
     "inputWidgets": {},
     "nuid": "4b9d19f0-8e23-47cf-b3ed-6ce21ca47014",
     "showTitle": false,
     "tableResultSettingsMap": {},
     "title": ""
    }
   },
   "outputs": [],
   "source": [
    "display(eda_agg_table_full.groupby('new_buckets').sum()['sale'].reset_index())"
   ]
  },
  {
   "cell_type": "markdown",
   "metadata": {
    "application/vnd.databricks.v1+cell": {
     "cellMetadata": {
      "byteLimit": 2048000,
      "rowLimit": 10000
     },
     "inputWidgets": {},
     "nuid": "299e311d-3806-4748-9a6c-841ae3f3ee52",
     "showTitle": false,
     "tableResultSettingsMap": {},
     "title": ""
    }
   },
   "source": [
    "##Private Label View"
   ]
  },
  {
   "cell_type": "code",
   "execution_count": 0,
   "metadata": {
    "application/vnd.databricks.v1+cell": {
     "cellMetadata": {
      "byteLimit": 2048000,
      "rowLimit": 10000
     },
     "inputWidgets": {},
     "nuid": "a54265b3-430e-4b64-b36c-0a160018dd15",
     "showTitle": false,
     "tableResultSettingsMap": {},
     "title": ""
    }
   },
   "outputs": [],
   "source": [
    "pbldf=eda_agg_table_full.dropna(subset=['sale','vip_freq_pnt'])\n",
    "pbldf['pl_flag'] = np.where(pbldf['brand'] == \"LULU PRIVATE LABEL\", \"PL\", \"Other\")\n",
    "x_val='sale'\n",
    "y_val='vip_freq_pnt'\n",
    "color_val='pl_flag'\n",
    "hover_name_val='material_name'\n",
    "size_max_val=40\n",
    "size_val='gp_abs'\n",
    "\n",
    "fig = px.scatter(pbldf, x=x_val, y=y_val, size=np.abs(pbldf[size_val]), \n",
    "                 color=color_val,\n",
    "                 hover_name=hover_name_val, log_x=False, log_y=False, size_max=size_max_val,title=\"LULU PL SKUs AND OTHERS\", color_discrete_map={\"Other\": \"#8993f8\", \"PL\": \"#ec8272\"})\n",
    "\n",
    "fig.add_hline(y=pbldf[y_val].mean())\n",
    "fig.add_vline(x=pbldf[x_val].quantile(0.95))\n",
    "\n",
    "fig.show()"
   ]
  },
  {
   "cell_type": "code",
   "execution_count": 0,
   "metadata": {
    "application/vnd.databricks.v1+cell": {
     "cellMetadata": {
      "byteLimit": 2048000,
      "rowLimit": 10000
     },
     "inputWidgets": {},
     "nuid": "129ffe62-e48d-4e68-a251-23111aabda97",
     "showTitle": false,
     "tableResultSettingsMap": {},
     "title": ""
    }
   },
   "outputs": [],
   "source": [
    "if rationalized_flag != 0:\n",
    "    fig = px.scatter(pbldf[pbldf['material_id'].isin(rationalized_materials)], x=x_val, y=y_val, size=np.abs(pbldf[pbldf['material_id'].isin(rationalized_materials)][size_val]), \n",
    "                    color=color_val,\n",
    "                    hover_name=hover_name_val, log_x=False, log_y=False, size_max=size_max_val,title=\"RATIONALIZED LULU PL SKUs AND OTHERS\", color_discrete_map={\"Other\": \"#8993f8\", \"PL\": \"#ec8272\"})\n",
    "\n",
    "    fig.add_hline(y=pbldf[y_val].mean())\n",
    "    fig.add_vline(x=pbldf[x_val].quantile(0.95))\n",
    "\n",
    "    fig.show()"
   ]
  },
  {
   "cell_type": "code",
   "execution_count": 0,
   "metadata": {
    "application/vnd.databricks.v1+cell": {
     "cellMetadata": {
      "byteLimit": 2048000,
      "rowLimit": 10000
     },
     "inputWidgets": {},
     "nuid": "1bfac718-a368-4e2f-8a03-e15356490611",
     "showTitle": false,
     "tableResultSettingsMap": {},
     "title": ""
    }
   },
   "outputs": [],
   "source": [
    "pbldf=eda_agg_table_full.dropna(subset=['sale','vip_freq_pnt'])\n",
    "pbldf=pbldf[pbldf['brand']=='LULU PRIVATE LABEL']\n",
    "x_val='sale'\n",
    "y_val='vip_freq_pnt'\n",
    "color_val='new_buckets'\n",
    "hover_name_val='material_name'\n",
    "size_max_val=40\n",
    "size_val='gp_abs'\n",
    "\n",
    "fig = px.scatter(pbldf, x=x_val, y=y_val, size=np.abs(pbldf[size_val]), \n",
    "                 color=color_val,\n",
    "                 hover_name=hover_name_val, log_x=False, log_y=False, size_max=size_max_val,title=\"LULU PL SKUS BY BUCKETS\", color_discrete_map={\"MAINTAIN_OR_GROW_BY_PROMO\": \"#00CC96\", \"SUPPORT_MORE_DIST\": \"#636EFA\", \"OBSERVE\": \"#AB63FA\", \"DELIST\": \"#EF553B\"})\n",
    "\n",
    "fig.add_hline(y=pbldf[y_val].mean())\n",
    "fig.add_vline(x=pbldf[x_val].quantile(0.95))\n",
    "\n",
    "fig.show()"
   ]
  },
  {
   "cell_type": "code",
   "execution_count": 0,
   "metadata": {
    "application/vnd.databricks.v1+cell": {
     "cellMetadata": {
      "byteLimit": 2048000,
      "rowLimit": 10000
     },
     "inputWidgets": {},
     "nuid": "14b6a016-8cc4-451c-8f43-e312f186ce36",
     "showTitle": false,
     "tableResultSettingsMap": {},
     "title": ""
    }
   },
   "outputs": [],
   "source": [
    "if rationalized_flag != 0:\n",
    "    fig = px.scatter(pbldf[pbldf['material_id'].isin(rationalized_materials)], x=x_val, y=y_val, size=np.abs(pbldf[pbldf['material_id'].isin(rationalized_materials)][size_val]), \n",
    "                    color=color_val,\n",
    "                    hover_name=hover_name_val, log_x=False, log_y=False, size_max=size_max_val,title=\"RATIONALIZED LULU PL SKUS BY BUCKETS\", color_discrete_map={\"MAINTAIN_OR_GROW_BY_PROMO\": \"#00CC96\", \"SUPPORT_MORE_DIST\": \"#636EFA\", \"OBSERVE\": \"#AB63FA\", \"DELIST\": \"#EF553B\"})\n",
    "\n",
    "    fig.add_hline(y=pbldf[y_val].mean())\n",
    "    fig.add_vline(x=pbldf[x_val].quantile(0.95))\n",
    "\n",
    "    fig.show()"
   ]
  },
  {
   "cell_type": "markdown",
   "metadata": {
    "application/vnd.databricks.v1+cell": {
     "cellMetadata": {
      "byteLimit": 2048000,
      "rowLimit": 10000
     },
     "inputWidgets": {},
     "nuid": "4272dede-a88e-484c-b623-58cee3e54bcd",
     "showTitle": false,
     "tableResultSettingsMap": {},
     "title": ""
    }
   },
   "source": [
    "##Moving Avg"
   ]
  },
  {
   "cell_type": "code",
   "execution_count": 0,
   "metadata": {
    "application/vnd.databricks.v1+cell": {
     "cellMetadata": {
      "byteLimit": 2048000,
      "rowLimit": 10000
     },
     "inputWidgets": {},
     "nuid": "b458b8e9-79a1-444a-8f82-bc3c8839d42d",
     "showTitle": false,
     "tableResultSettingsMap": {},
     "title": ""
    }
   },
   "outputs": [],
   "source": [
    "\n",
    "df_ma = pd.DataFrame(columns=fdf.columns)\n",
    "\n",
    "for i in fdf.material_id.unique():\n",
    "    # print(tx_list)  # Instead of tx.columns\n",
    "    temp = fdf[fdf['material_id'] == i].sort_values(by='week_number')\n",
    "    temp['MA4W'] = temp['sale'].rolling(4).mean()\n",
    "    df_ma=pd.concat([temp,df_ma])\n",
    "    # print(i)"
   ]
  },
  {
   "cell_type": "code",
   "execution_count": 0,
   "metadata": {
    "application/vnd.databricks.v1+cell": {
     "cellMetadata": {
      "byteLimit": 2048000,
      "rowLimit": 10000
     },
     "inputWidgets": {},
     "nuid": "561b723a-f49e-4d97-8ece-7e2e3b7c7dba",
     "showTitle": false,
     "tableResultSettingsMap": {},
     "title": ""
    }
   },
   "outputs": [],
   "source": [
    "df_ma['sale']=df_ma['sale'].astype('float64')"
   ]
  },
  {
   "cell_type": "markdown",
   "metadata": {
    "application/vnd.databricks.v1+cell": {
     "cellMetadata": {
      "byteLimit": 2048000,
      "rowLimit": 10000
     },
     "inputWidgets": {},
     "nuid": "d2deb49f-b974-4f3d-9a02-a266270c2a09",
     "showTitle": false,
     "tableResultSettingsMap": {},
     "title": ""
    }
   },
   "source": [
    "##Trend Chart - Observe"
   ]
  },
  {
   "cell_type": "code",
   "execution_count": 0,
   "metadata": {
    "application/vnd.databricks.v1+cell": {
     "cellMetadata": {
      "byteLimit": 2048000,
      "rowLimit": 10000
     },
     "inputWidgets": {},
     "nuid": "ff200c3d-d125-4b72-accd-67abff4c82e4",
     "showTitle": false,
     "tableResultSettingsMap": {},
     "title": ""
    }
   },
   "outputs": [],
   "source": [
    "# fdf.new_buckets.value_counts()\n",
    "tx=df_ma[df_ma['new_buckets']=='OBSERVE']\n",
    "\n",
    "tx=tx.groupby('material_id').sum()['sale'].reset_index().sort_values(by='sale',ascending=False)\n",
    "tx_list=tx['material_id'].tolist()[0:20]\n",
    "print(tx_list)\n",
    "\n",
    "tbl=df_ma[df_ma['material_id'].isin(tx_list)]\n",
    "\n",
    "tbl = pd.merge(tbl,\n",
    "                attr[['material_id', 'material_name','brand']],\n",
    "                left_on='material_id',\n",
    "                right_on='material_id',\n",
    "                how='inner')\n",
    "\n",
    "fig = px.line(tbl, x=\"week_number\", y=\"MA4W\", color='material_name',width=900, height=600)\n",
    "fig.show()\n",
    "\n",
    "fig2= px.line(tbl, x=\"week_number\", y=\"cwd\", color='material_name',width=900, height=600)\n",
    "fig2.show()"
   ]
  },
  {
   "cell_type": "markdown",
   "metadata": {
    "application/vnd.databricks.v1+cell": {
     "cellMetadata": {
      "byteLimit": 2048000,
      "rowLimit": 10000
     },
     "inputWidgets": {},
     "nuid": "885e7d1f-cf25-4464-b12f-829e3704a1ad",
     "showTitle": false,
     "tableResultSettingsMap": {},
     "title": ""
    }
   },
   "source": [
    "##Delist by Attributes"
   ]
  },
  {
   "cell_type": "code",
   "execution_count": 0,
   "metadata": {
    "application/vnd.databricks.v1+cell": {
     "cellMetadata": {
      "byteLimit": 2048000,
      "rowLimit": 10000
     },
     "inputWidgets": {},
     "nuid": "716a8152-69bf-432e-93ea-5deee136d11b",
     "showTitle": false,
     "tableResultSettingsMap": {},
     "title": ""
    }
   },
   "outputs": [],
   "source": [
    "eda_agg_table_full.type.value_counts()"
   ]
  },
  {
   "cell_type": "code",
   "execution_count": 0,
   "metadata": {
    "application/vnd.databricks.v1+cell": {
     "cellMetadata": {
      "byteLimit": 2048000,
      "rowLimit": 10000
     },
     "inputWidgets": {},
     "nuid": "1698aaaf-03c6-401d-8a82-8e818ab88ae0",
     "showTitle": false,
     "tableResultSettingsMap": {},
     "title": ""
    }
   },
   "outputs": [],
   "source": [
    "pbldf=eda_agg_table_full.dropna(subset=['sale','vip_freq_pnt'])\n",
    "pbldf=pbldf[pbldf['new_buckets']=='DELIST']\n",
    "x_val='sale'\n",
    "y_val='vip_freq_pnt'\n",
    "color_val='type'\n",
    "hover_name_val='material_name'\n",
    "size_max_val=40\n",
    "size_val='gp_abs'\n",
    "\n",
    "fig = px.scatter(pbldf, x=x_val, y=y_val, size=np.abs(pbldf[size_val]), \n",
    "                 color=color_val,\n",
    "                 hover_name=hover_name_val, log_x=False, log_y=False, size_max=size_max_val,title=\"DELIST BY ATTRIBUTES-  SKUs\")\n",
    "\n",
    "fig.add_hline(y=pbldf[y_val].mean())\n",
    "fig.add_vline(x=pbldf[x_val].quantile(0.95))\n",
    "fig.show()"
   ]
  },
  {
   "cell_type": "code",
   "execution_count": 0,
   "metadata": {
    "application/vnd.databricks.v1+cell": {
     "cellMetadata": {
      "byteLimit": 2048000,
      "rowLimit": 10000
     },
     "inputWidgets": {},
     "nuid": "bf8db781-71e3-46a5-a2f9-551a2758aa46",
     "showTitle": false,
     "tableResultSettingsMap": {},
     "title": ""
    }
   },
   "outputs": [],
   "source": [
    "\n",
    "############# L3M Previous dataframe ##############\n",
    "\n",
    "agg_table_l3m_before = pd.DataFrame(\n",
    "    fdf[(fdf['week_number']>28)&(fdf['week_number']<41)].groupby(\"material_id\").agg(\n",
    "        {\n",
    "            \"sale\": \"sum\",\n",
    "            \"vol\": \"sum\",\n",
    "            \"material_weekly_store_count\": \"mean\",\n",
    "            \"cwd\": \"mean\",'new_buckets':'max'\n",
    "        }\n",
    "    )\n",
    ").reset_index()\n",
    "\n",
    "agg_table_l3m_before.rename(columns={'material_weekly_store_count':'AVG_STORE_SELLING'},inplace=True)\n",
    "agg_table_l3m_before.rename(columns={'cwd':'AVG_CWD'},inplace=True)\n",
    "agg_table_l3m_before.columns = [x.lower() for x in agg_table_l3m_before.columns]"
   ]
  },
  {
   "cell_type": "code",
   "execution_count": 0,
   "metadata": {
    "application/vnd.databricks.v1+cell": {
     "cellMetadata": {
      "byteLimit": 2048000,
      "rowLimit": 10000
     },
     "inputWidgets": {},
     "nuid": "df3f82c2-f8d8-4c74-adb9-03971039cf30",
     "showTitle": false,
     "tableResultSettingsMap": {},
     "title": ""
    }
   },
   "outputs": [],
   "source": [
    "display(eda_agg_table_full)"
   ]
  },
  {
   "cell_type": "markdown",
   "metadata": {
    "application/vnd.databricks.v1+cell": {
     "cellMetadata": {
      "byteLimit": 2048000,
      "rowLimit": 10000
     },
     "inputWidgets": {},
     "nuid": "322e93ee-c4c7-4d36-9a8b-df6ff59b7108",
     "showTitle": false,
     "tableResultSettingsMap": {},
     "title": ""
    }
   },
   "source": [
    "##Sales & GP Distribution"
   ]
  },
  {
   "cell_type": "code",
   "execution_count": 0,
   "metadata": {
    "application/vnd.databricks.v1+cell": {
     "cellMetadata": {
      "byteLimit": 2048000,
      "rowLimit": 10000
     },
     "inputWidgets": {},
     "nuid": "7748585d-d404-4d52-911b-eb78c9f8e747",
     "showTitle": false,
     "tableResultSettingsMap": {},
     "title": ""
    }
   },
   "outputs": [],
   "source": [
    "# Assuming eda_agg_table_full is your DataFrame\n",
    "\n",
    "tt = eda_agg_table_full.groupby('material_id').sum()[['gp_abs', 'sale']].reset_index()\n",
    "tt = pd.merge(tt, attr[['material_id', 'brand']], on='material_id', how='inner')\n",
    "tt['material_id']=tt['material_id'].astype('str')\n",
    "\n",
    "tt = tt.sort_values(by='gp_abs', ascending=False)\n",
    "tt['gp_cum_sum'] = np.round(100 * (tt.gp_abs.cumsum() / tt['gp_abs'].sum()), 2)\n",
    "cum_sum_80_gp_materials = tt[tt['gp_cum_sum'] < 80]['material_id'].count() + 1\n",
    "cum_sum_80_gp_brands = tt['brand'][:cum_sum_80_gp_materials].nunique()\n",
    "\n",
    "fig = go.Figure()\n",
    "fig = make_subplots(specs=[[{\"secondary_y\": True}]])\n",
    "fig.add_trace(go.Bar(y=tt['gp_abs'], x=tt['material_id'], name=\"material GP\"), secondary_y=False)\n",
    "fig.add_trace(go.Scatter(x=tt['material_id'], y=tt['gp_cum_sum'],\n",
    "                         mode='lines', name=\"GP Cumulative Contri\"), secondary_y=True)\n",
    "fig.update_layout(\n",
    "    title_text=\"gp_abs and gp_abs dist\"\n",
    ")\n",
    "fig.update_xaxes(title_text=\"xaxis title\")\n",
    "fig.update_yaxes(title_text=\"material_id gp_abs\", secondary_y=False)\n",
    "fig.update_yaxes(title_text=\"% Cumulative Contribution\", secondary_y=True)\n",
    "fig.update_layout(showlegend=False)\n",
    "fig.update_layout(autosize=False, width=900, height=400)\n",
    "# fig.add_hline(secondary_y=80)\n",
    "fig.show()\n",
    "\n",
    "tt = tt.sort_values(by='sale', ascending=False)\n",
    "tt['sale_cum_sum'] = np.round(100 * (tt.sale.cumsum() / tt['sale'].sum()), 2)\n",
    "cum_sum_80_sale_materials = tt[tt['sale_cum_sum'] < 80]['material_id'].count() + 1\n",
    "cum_sum_80_sale_brands = tt['brand'][:cum_sum_80_sale_materials].nunique()\n",
    "\n",
    "fig2 = go.Figure()\n",
    "fig2 = make_subplots(specs=[[{\"secondary_y\": True}]])\n",
    "fig2.add_trace(go.Bar(y=tt['sale'], x=tt['material_id'], name=\"material sales\"), secondary_y=False)\n",
    "fig2.add_trace(go.Scatter(x=tt['material_id'], y=tt['sale_cum_sum'],\n",
    "                         mode='lines', name=\"Sales Cumulative Contri\"), secondary_y=True)\n",
    "fig2.update_layout(\n",
    "    title_text=\"Sales dist\"\n",
    ")\n",
    "fig2.update_xaxes(title_text=\"xaxis title\")\n",
    "fig2.update_yaxes(title_text=\"material_id sale\", secondary_y=False)\n",
    "fig2.update_yaxes(title_text=\"% Cumulative Contribution\", secondary_y=True)\n",
    "fig2.update_layout(showlegend=False)\n",
    "fig2.update_layout(autosize=False, width=900, height=400)\n",
    "# fig2.add_hline(secondary_y=80)\n",
    "fig2.show()"
   ]
  },
  {
   "cell_type": "code",
   "execution_count": 0,
   "metadata": {
    "application/vnd.databricks.v1+cell": {
     "cellMetadata": {
      "byteLimit": 2048000,
      "rowLimit": 10000
     },
     "inputWidgets": {},
     "nuid": "d8c57de4-57ac-4ff9-8582-cb8bb1672b53",
     "showTitle": false,
     "tableResultSettingsMap": {},
     "title": ""
    }
   },
   "outputs": [],
   "source": [
    "top_80_sale_materials_perc = round(cum_sum_80_sale_materials/tt['material_id'].nunique()*100,2)\n",
    "top_80_gp_materials_perc = round(cum_sum_80_gp_materials/tt['material_id'].nunique()*100,2)\n",
    "print(f\"Only top {top_80_sale_materials_perc}% and {top_80_gp_materials_perc}% SKUs provide 80% of sales and GP respectively\")\n",
    "print(f\"\\nTop {cum_sum_80_sale_materials} SKUs coming from {cum_sum_80_sale_brands} brands contribute to 80% Sales\")\n",
    "print(f\"Top {cum_sum_80_gp_materials} SKUs coming from {cum_sum_80_gp_brands} brands contribute to 80% GP\")"
   ]
  },
  {
   "cell_type": "code",
   "execution_count": 0,
   "metadata": {
    "application/vnd.databricks.v1+cell": {
     "cellMetadata": {
      "byteLimit": 2048000,
      "rowLimit": 10000
     },
     "inputWidgets": {},
     "nuid": "40019692-91c7-421d-9b4c-8e6502587983",
     "showTitle": false,
     "tableResultSettingsMap": {},
     "title": ""
    }
   },
   "outputs": [],
   "source": []
  },
  {
   "cell_type": "code",
   "execution_count": 0,
   "metadata": {
    "application/vnd.databricks.v1+cell": {
     "cellMetadata": {
      "byteLimit": 2048000,
      "rowLimit": 10000
     },
     "inputWidgets": {},
     "nuid": "f467b35b-0689-425f-b2fa-4ed4e43a951a",
     "showTitle": false,
     "tableResultSettingsMap": {},
     "title": ""
    }
   },
   "outputs": [],
   "source": []
  },
  {
   "cell_type": "code",
   "execution_count": 0,
   "metadata": {
    "application/vnd.databricks.v1+cell": {
     "cellMetadata": {
      "byteLimit": 2048000,
      "rowLimit": 10000
     },
     "inputWidgets": {},
     "nuid": "7e725e92-cbbc-45f5-915d-a0cdd655e9e0",
     "showTitle": false,
     "tableResultSettingsMap": {},
     "title": ""
    }
   },
   "outputs": [],
   "source": []
  }
 ],
 "metadata": {
  "application/vnd.databricks.v1+notebook": {
   "computePreferences": null,
   "dashboards": [],
   "environmentMetadata": null,
   "language": "python",
   "notebookMetadata": {
    "mostRecentlyExecutedCommandWithImplicitDF": {
     "commandId": 4125034281956366,
     "dataframes": [
      "_sqldf"
     ]
    },
    "pythonIndentUnit": 4
   },
   "notebookName": "Ice Cream Impulse AUH EDA",
   "widgets": {}
  },
  "kernelspec": {
   "display_name": "Python 3 (ipykernel)",
   "language": "python",
   "name": "python3"
  },
  "language_info": {
   "name": "python"
  },
  "toc": {
   "base_numbering": 1,
   "nav_menu": {},
   "number_sections": true,
   "sideBar": true,
   "skip_h1_title": false,
   "title_cell": "Table of Contents",
   "title_sidebar": "Contents",
   "toc_cell": false,
   "toc_position": {},
   "toc_section_display": true,
   "toc_window_display": false
  }
 },
 "nbformat": 4,
 "nbformat_minor": 0
}
