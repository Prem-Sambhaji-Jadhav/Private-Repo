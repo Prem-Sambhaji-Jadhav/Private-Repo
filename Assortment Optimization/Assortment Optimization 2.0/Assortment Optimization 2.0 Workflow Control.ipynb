{
 "cells": [
  {
   "cell_type": "markdown",
   "metadata": {
    "application/vnd.databricks.v1+cell": {
     "cellMetadata": {},
     "inputWidgets": {},
     "nuid": "e2c991d9-1c77-41e2-9359-e0926f418ac3",
     "showTitle": false,
     "tableResultSettingsMap": {},
     "title": ""
    }
   },
   "source": [
    "# Driver Code"
   ]
  },
  {
   "cell_type": "code",
   "execution_count": 0,
   "metadata": {
    "application/vnd.databricks.v1+cell": {
     "cellMetadata": {
      "byteLimit": 2048000,
      "rowLimit": 10000
     },
     "inputWidgets": {},
     "nuid": "9745affa-ab0d-4f73-b431-7e74a1af8fbf",
     "showTitle": false,
     "tableResultSettingsMap": {},
     "title": ""
    }
   },
   "outputs": [],
   "source": [
    "# notebook_path = \"/Workspace/Repos/prem@loyalytics.in/Private-Repo/Assortment Optimization/Assortment Optimization 2.0/Assortment Optimization Framework 2.0\"\n",
    "\n",
    "\n",
    "# categories = ['PASTA & NOODLE', 'PASTA & NOODLE', 'PASTA & NOODLE', 'COOKING OILS & GHEE', 'COOKING OILS & GHEE', 'COOKING OILS & GHEE', 'COOKING OILS & GHEE', 'ICE CREAM & DESSERTS']\n",
    "\n",
    "# material_groups = ['PASTA', 'INSTANT NOODLE', 'CUP NOODLE', 'COCONUT OIL', 'OLIVE OIL', 'SUNFLOWER OIL', 'VEGETABLE OIL', 'FRUIT JUICES']\n",
    "\n",
    "# current_dates = ['2024-03-01', '2024-03-01', '2024-03-01', '2024-05-01', '2024-06-01', '2024-06-01', '2024-06-01', '2024-07-01']\n",
    "\n",
    "# regions = ['ABU DHABI', 'AL AIN', 'DUBAI', 'SHARJAH']\n",
    "\n",
    "# for i in range(len(categories)):\n",
    "#     for region in regions:\n",
    "#         result = dbutils.notebook.run(notebook_path, timeout_seconds = 0, arguments = {\n",
    "#             \"Category\": categories[i],\n",
    "#             \"Material Group\": material_groups[i],\n",
    "#             \"Region\": region,\n",
    "#             \"Current Date\": current_dates[i]\n",
    "#         })\n",
    "\n",
    "#         print(f\"Run Completed - {material_groups[i]}, {region}\")"
   ]
  },
  {
   "cell_type": "markdown",
   "metadata": {
    "application/vnd.databricks.v1+cell": {
     "cellMetadata": {},
     "inputWidgets": {},
     "nuid": "cef3719c-6554-465b-b63b-e1fa30176b7b",
     "showTitle": false,
     "tableResultSettingsMap": {},
     "title": ""
    }
   },
   "source": [
    "#1.0 VS 2.0 Results"
   ]
  },
  {
   "cell_type": "code",
   "execution_count": 0,
   "metadata": {
    "application/vnd.databricks.v1+cell": {
     "cellMetadata": {
      "byteLimit": 2048000,
      "rowLimit": 10000
     },
     "inputWidgets": {},
     "nuid": "7ccb4017-8f3b-4220-ae9d-2a9769244146",
     "showTitle": false,
     "tableResultSettingsMap": {},
     "title": ""
    }
   },
   "outputs": [],
   "source": [
    "%py\n",
    "query = \"\"\"\n",
    "SELECT\n",
    "    material_group_name,\n",
    "    region_name,\n",
    "    material_id\n",
    "FROM dev.sandbox.pj_ao_reco\n",
    "WHERE\n",
    "    recommendation = 'Delist'\n",
    "    AND material_group_name IN ('PASTA', 'INSTANT NOODLE', 'CUP NOODLE', 'COCONUT OIL', 'OLIVE OIL', 'SUNFLOWER OIL', 'VEGETABLE OIL', 'FRUIT JUICES')\n",
    "ORDER BY 1, 2, 3\n",
    "\"\"\"\n",
    "df_v1 = spark.sql(query).toPandas()\n",
    "\n",
    "query = \"\"\"\n",
    "SELECT\n",
    "    material_group_name,\n",
    "    region_name,\n",
    "    EXPLODE(delist_skus_lst) AS material_id\n",
    "FROM dev.sandbox.pj_ao_v2_results_master\n",
    "ORDER BY 1, 2, 3\n",
    "\"\"\"\n",
    "df_v2 = spark.sql(query).toPandas()\n",
    "\n",
    "merged = df_v1.merge(df_v2, on = ['material_group_name', 'region_name', 'material_id'], how = 'outer', indicator = True)\n",
    "summary = merged.groupby(['material_group_name', 'region_name'])['_merge'].value_counts().unstack(fill_value = 0).reset_index()\n",
    "summary = summary.rename(columns = {'both': 'common', 'left_only': 'only_in_1.0', 'right_only': 'only_in_2.0'})\n",
    "summary"
   ]
  },
  {
   "cell_type": "code",
   "execution_count": 0,
   "metadata": {
    "application/vnd.databricks.v1+cell": {
     "cellMetadata": {
      "byteLimit": 2048000,
      "implicitDf": true,
      "rowLimit": 10000
     },
     "inputWidgets": {},
     "nuid": "41056530-57fd-4200-8208-75ea5a48016e",
     "showTitle": false,
     "tableResultSettingsMap": {},
     "title": ""
    }
   },
   "outputs": [],
   "source": [
    "%sql\n",
    "SELECT\n",
    "    material_group_name,\n",
    "    region_name,\n",
    "    total_skus,\n",
    "    delist_skus,\n",
    "    ROUND(sales_perc_delist * 100, 2) AS sales_perc,\n",
    "    ROUND(profit_perc_delist * 100, 2) AS gp_perc,\n",
    "    ROUND(current_value) AS current_value,\n",
    "    ROUND(expected_value) AS expected_value,\n",
    "    ROUND(predicted_current_margin * 100, 2) AS predicted_current_margin,\n",
    "    ROUND(predicted_expected_margin * 100, 2) AS predicted_expected_margin,\n",
    "    ROUND(current_margin * 100, 2) AS current_margin,\n",
    "    ROUND(expected_margin * 100, 2) AS expected_margin\n",
    "FROM dev.sandbox.pj_ao_v2_results_master\n",
    "ORDER BY 1, 2"
   ]
  }
 ],
 "metadata": {
  "application/vnd.databricks.v1+notebook": {
   "computePreferences": null,
   "dashboards": [],
   "environmentMetadata": {
    "base_environment": "",
    "environment_version": "2"
   },
   "language": "python",
   "notebookMetadata": {
    "mostRecentlyExecutedCommandWithImplicitDF": {
     "commandId": 5023641949952082,
     "dataframes": [
      "_sqldf"
     ]
    },
    "pythonIndentUnit": 4
   },
   "notebookName": "Assortment Optimization 2.0 Workflow Control",
   "widgets": {}
  },
  "language_info": {
   "name": "python"
  }
 },
 "nbformat": 4,
 "nbformat_minor": 0
}
