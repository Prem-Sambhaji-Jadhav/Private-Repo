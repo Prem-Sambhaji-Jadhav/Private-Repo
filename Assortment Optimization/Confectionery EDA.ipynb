{
 "cells": [
  {
   "cell_type": "markdown",
   "metadata": {
    "application/vnd.databricks.v1+cell": {
     "cellMetadata": {
      "byteLimit": 2048000,
      "rowLimit": 10000
     },
     "inputWidgets": {},
     "nuid": "8c62a192-2fe1-4efc-bece-81a6b5336d51",
     "showTitle": false,
     "title": ""
    }
   },
   "source": [
    "# EDA for AO - Water"
   ]
  },
  {
   "cell_type": "markdown",
   "metadata": {
    "application/vnd.databricks.v1+cell": {
     "cellMetadata": {
      "byteLimit": 2048000,
      "rowLimit": 10000
     },
     "inputWidgets": {},
     "nuid": "2a89ffa1-8789-427f-95a1-bd0b9cb8f16f",
     "showTitle": false,
     "title": ""
    }
   },
   "source": [
    "## LIBS"
   ]
  },
  {
   "cell_type": "code",
   "execution_count": 0,
   "metadata": {
    "application/vnd.databricks.v1+cell": {
     "cellMetadata": {
      "byteLimit": 2048000,
      "rowLimit": 10000
     },
     "inputWidgets": {},
     "nuid": "30f680a1-3def-43f0-94c1-d525e49f1a26",
     "showTitle": false,
     "title": ""
    }
   },
   "outputs": [],
   "source": [
    "import pandas as pd\n",
    "import numpy as np\n",
    "import matplotlib.pyplot as plt\n",
    "\n",
    "# import os\n",
    "\n",
    "import plotly.express as px\n",
    "pd.set_option('display.max_columns', None)"
   ]
  },
  {
   "cell_type": "markdown",
   "metadata": {
    "application/vnd.databricks.v1+cell": {
     "cellMetadata": {
      "byteLimit": 2048000,
      "rowLimit": 10000
     },
     "inputWidgets": {},
     "nuid": "6c475f30-1e82-4268-aa07-098855459fb3",
     "showTitle": false,
     "title": ""
    }
   },
   "source": [
    "## FUNCTIONS"
   ]
  },
  {
   "cell_type": "code",
   "execution_count": 0,
   "metadata": {
    "application/vnd.databricks.v1+cell": {
     "cellMetadata": {
      "byteLimit": 2048000,
      "rowLimit": 10000
     },
     "inputWidgets": {},
     "nuid": "78ace461-9735-4c67-af2c-14390f7c84fc",
     "showTitle": false,
     "title": ""
    }
   },
   "outputs": [],
   "source": [
    "# Function to handle division and replace with 0 in case of errors\n",
    "def safe_division(x, y):\n",
    "    try:\n",
    "        result = x / y\n",
    "    except ZeroDivisionError:\n",
    "        result = 0\n",
    "    except FloatingPointError:\n",
    "        result = 0\n",
    "    return result\n",
    "\n",
    "\n",
    "def plot_bar(dataframe,x,y):\n",
    "    xdd=pd.DataFrame(dataframe.groupby(x).sum()[y]).reset_index()\n",
    "    # print(xdd)\n",
    "    fig=px.bar(data_frame=xdd.sort_values(by=y, ascending=False),x=x,y=y)\n",
    "    return fig\n",
    "\n"
   ]
  },
  {
   "cell_type": "code",
   "execution_count": 0,
   "metadata": {
    "application/vnd.databricks.v1+cell": {
     "cellMetadata": {
      "byteLimit": 2048000,
      "rowLimit": 10000
     },
     "inputWidgets": {},
     "nuid": "63999f06-deb2-4f67-95c0-9877dd2fdb77",
     "showTitle": false,
     "title": ""
    }
   },
   "outputs": [],
   "source": [
    "# os.listdir()"
   ]
  },
  {
   "cell_type": "markdown",
   "metadata": {
    "application/vnd.databricks.v1+cell": {
     "cellMetadata": {
      "byteLimit": 2048000,
      "rowLimit": 10000
     },
     "inputWidgets": {},
     "nuid": "60e30d56-0ebb-4248-81e7-69fc9587f521",
     "showTitle": false,
     "title": ""
    }
   },
   "source": [
    "## READING ALL DATA FROM SOURCE"
   ]
  },
  {
   "cell_type": "code",
   "execution_count": 0,
   "metadata": {
    "application/vnd.databricks.v1+cell": {
     "cellMetadata": {
      "byteLimit": 2048000,
      "rowLimit": 10000
     },
     "inputWidgets": {},
     "nuid": "1d1815c7-c1a5-44c8-8082-1312707e859d",
     "showTitle": false,
     "title": ""
    }
   },
   "outputs": [],
   "source": [
    "cust=pd.read_csv(\"/dbfs/FileStore/shared_uploads/prem@loyalytics.in/ao_cust_confectionery.csv\")\n",
    "attr=pd.read_csv(\"/dbfs/FileStore/shared_uploads/prem@loyalytics.in/ao_attributes_confectionery.csv\")\n",
    "# attr['new_volume']=np.where(attr.units=='KG',attr.volume*1000,np.where(attr.units=='OZ',attr.volume*28.3495,np.where(attr.units=='LB',attr.volume*453.592,attr.volume*1)))\n",
    "\n",
    "# attr['new_volume']=attr['new_volume'].astypeLB('object')\n",
    "\n",
    "# attr['new_volume'] = attr['new_volume'].astype(str)+'G'\n",
    "\n",
    "gp=pd.read_csv(\"/dbfs/FileStore/shared_uploads/prem@loyalytics.in/ao_gp_confectionery.csv\")\n",
    "gp['gp_abs']=np.abs(gp['GP'])\n",
    "\n",
    "df = pd.read_csv(\"/dbfs/FileStore/shared_uploads/prem@loyalytics.in/ao_products_weekly_data_confectionery.csv\")\n",
    "df = pd.merge(df, gp[['material_id', 'new_buckets']], on='material_id', how='inner')"
   ]
  },
  {
   "cell_type": "code",
   "execution_count": 0,
   "metadata": {
    "application/vnd.databricks.v1+cell": {
     "cellMetadata": {
      "byteLimit": 2048000,
      "rowLimit": 10000
     },
     "inputWidgets": {},
     "nuid": "332953c0-5431-480e-8fb0-df03e9ea5608",
     "showTitle": false,
     "title": ""
    }
   },
   "outputs": [],
   "source": [
    "gp.head()"
   ]
  },
  {
   "cell_type": "code",
   "execution_count": 0,
   "metadata": {
    "application/vnd.databricks.v1+cell": {
     "cellMetadata": {
      "byteLimit": 2048000,
      "rowLimit": 10000
     },
     "inputWidgets": {},
     "nuid": "f2a048e4-11d8-4e9c-8888-dffa0d044ddb",
     "showTitle": false,
     "title": ""
    }
   },
   "outputs": [],
   "source": [
    "sale = df[['material_id', 'week_number', 'sale']]\n",
    "vol = df[['material_id', 'week_number', 'vol']]\n",
    "cwd = df[['material_id', 'week_number', 'cwd']]\n",
    "store = df[['material_id', 'week_number', 'material_weekly_store_count']]"
   ]
  },
  {
   "cell_type": "code",
   "execution_count": 0,
   "metadata": {
    "application/vnd.databricks.v1+cell": {
     "cellMetadata": {
      "byteLimit": 2048000,
      "rowLimit": 10000
     },
     "inputWidgets": {},
     "nuid": "02371199-2404-4815-af3d-575a4af704e5",
     "showTitle": false,
     "title": ""
    }
   },
   "outputs": [],
   "source": [
    "cust['vip_freq_pnt'] = (cust['vip_cust'] + cust['freq_cust']) / (cust['tot_vip'] + cust['tot_freq'])\n",
    "cust"
   ]
  },
  {
   "cell_type": "markdown",
   "metadata": {
    "application/vnd.databricks.v1+cell": {
     "cellMetadata": {
      "byteLimit": 2048000,
      "rowLimit": 10000
     },
     "inputWidgets": {},
     "nuid": "e0b2760a-e0bf-4c94-8bbd-736109c52ebd",
     "showTitle": false,
     "title": ""
    }
   },
   "source": [
    "## FEATURE CREATION"
   ]
  },
  {
   "cell_type": "code",
   "execution_count": 0,
   "metadata": {
    "application/vnd.databricks.v1+cell": {
     "cellMetadata": {
      "byteLimit": 2048000,
      "rowLimit": 10000
     },
     "inputWidgets": {},
     "nuid": "7890cb20-6c59-47b9-8a84-02255e7e2200",
     "showTitle": false,
     "title": ""
    }
   },
   "outputs": [],
   "source": [
    "df['SSW'] = df.apply(lambda row: safe_division(row['sale'], row['material_weekly_store_count']), axis=1)"
   ]
  },
  {
   "cell_type": "code",
   "execution_count": 0,
   "metadata": {
    "application/vnd.databricks.v1+cell": {
     "cellMetadata": {
      "byteLimit": 2048000,
      "rowLimit": 10000
     },
     "inputWidgets": {},
     "nuid": "e36dc039-36fd-4d10-b624-54f90ab318c7",
     "showTitle": false,
     "title": ""
    }
   },
   "outputs": [],
   "source": [
    "fdf=df.copy()"
   ]
  },
  {
   "cell_type": "markdown",
   "metadata": {
    "application/vnd.databricks.v1+cell": {
     "cellMetadata": {
      "byteLimit": 2048000,
      "rowLimit": 10000
     },
     "inputWidgets": {},
     "nuid": "7353711b-aa71-4745-92e7-a3aedb314a09",
     "showTitle": false,
     "title": ""
    }
   },
   "source": [
    "## FINAL DATAFRAME"
   ]
  },
  {
   "cell_type": "code",
   "execution_count": 0,
   "metadata": {
    "application/vnd.databricks.v1+cell": {
     "cellMetadata": {
      "byteLimit": 2048000,
      "rowLimit": 10000
     },
     "inputWidgets": {},
     "nuid": "eb452a25-922e-4a26-b2ac-d73f0761f6b2",
     "showTitle": false,
     "title": ""
    }
   },
   "outputs": [],
   "source": [
    "fdf.head()"
   ]
  },
  {
   "cell_type": "markdown",
   "metadata": {
    "application/vnd.databricks.v1+cell": {
     "cellMetadata": {
      "byteLimit": 2048000,
      "rowLimit": 10000
     },
     "inputWidgets": {},
     "nuid": "020d2778-42fd-4da7-a6ef-769ffe6dee5d",
     "showTitle": false,
     "title": ""
    }
   },
   "source": [
    "#### UPDATING RECO NAMES"
   ]
  },
  {
   "cell_type": "code",
   "execution_count": 0,
   "metadata": {
    "application/vnd.databricks.v1+cell": {
     "cellMetadata": {
      "byteLimit": 2048000,
      "rowLimit": 10000
     },
     "inputWidgets": {},
     "nuid": "4a51ac73-01d1-47e1-9373-06fc7d5cf070",
     "showTitle": false,
     "title": ""
    }
   },
   "outputs": [],
   "source": [
    "fdf['new_buckets'] = fdf['new_buckets'].str.replace('Maintain','SUPPORT_MORE_DIST') # high beta\n",
    "fdf['new_buckets'] = fdf['new_buckets'].str.replace('Delist','DELIST')\n",
    "fdf['new_buckets'] = fdf['new_buckets'].str.replace('Grow','MAINTAIN_OR_GROW_BY_PROMO') # low beta\n",
    "fdf['new_buckets'] = fdf['new_buckets'].str.replace('Observe','OBSERVE')\n",
    "\n",
    "gp['new_buckets'] = gp['new_buckets'].str.replace('Maintain','SUPPORT_MORE_DIST')\n",
    "gp['new_buckets'] = gp['new_buckets'].str.replace('Delist','DELIST')\n",
    "gp['new_buckets'] = gp['new_buckets'].str.replace('Grow','MAINTAIN_OR_GROW_BY_PROMO')\n",
    "gp['new_buckets'] = gp['new_buckets'].str.replace('Observe','OBSERVE')"
   ]
  },
  {
   "cell_type": "code",
   "execution_count": 0,
   "metadata": {
    "application/vnd.databricks.v1+cell": {
     "cellMetadata": {
      "byteLimit": 2048000,
      "rowLimit": 10000
     },
     "inputWidgets": {},
     "nuid": "48273868-36f7-4cfa-a9a1-b079a0265d98",
     "showTitle": false,
     "title": ""
    }
   },
   "outputs": [],
   "source": [
    "gp.new_buckets.value_counts()"
   ]
  },
  {
   "cell_type": "markdown",
   "metadata": {
    "application/vnd.databricks.v1+cell": {
     "cellMetadata": {
      "byteLimit": 2048000,
      "rowLimit": 10000
     },
     "inputWidgets": {},
     "nuid": "9221f914-f52e-4c02-bc02-b71ec281f8b7",
     "showTitle": false,
     "title": ""
    }
   },
   "source": [
    "### FINAL EDA DF FOR L12 AND L3M"
   ]
  },
  {
   "cell_type": "code",
   "execution_count": 0,
   "metadata": {
    "application/vnd.databricks.v1+cell": {
     "cellMetadata": {
      "byteLimit": 2048000,
      "rowLimit": 10000
     },
     "inputWidgets": {},
     "nuid": "dce63097-c6bb-433c-9ebe-67b6c33d39a0",
     "showTitle": false,
     "title": ""
    }
   },
   "outputs": [],
   "source": [
    "\n",
    "############# FULL  dataframe ##############\n",
    "\n",
    "agg_table_full = pd.DataFrame(\n",
    "    fdf.groupby(\"material_id\").agg(\n",
    "        {\n",
    "            \"sale\": \"sum\",\n",
    "            \"vol\": \"sum\",\n",
    "            \"material_weekly_store_count\": \"mean\",\n",
    "            \"cwd\": \"mean\",'new_buckets':'max'\n",
    "        }\n",
    "    )\n",
    ").reset_index()\n",
    "\n",
    "agg_table_full.rename(columns={'material_weekly_store_count':'AVG_STORE_SELLING'},inplace=True)\n",
    "agg_table_full.rename(columns={'cwd':'AVG_CWD'},inplace=True)\n",
    "agg_table_full.columns = [x.lower() for x in agg_table_full.columns]\n",
    "\n",
    "\n",
    "\n",
    "############# L3M dataframe ##############\n",
    "\n",
    "agg_table_l3m = pd.DataFrame(\n",
    "    fdf[fdf['week_number']>40].groupby(\"material_id\").agg(\n",
    "        {\n",
    "            \"sale\": \"sum\",\n",
    "            \"vol\": \"sum\",\n",
    "            \"material_weekly_store_count\": \"mean\",\n",
    "            \"cwd\": \"mean\",'new_buckets':'max'\n",
    "        }\n",
    "    )\n",
    ").reset_index()\n",
    "\n",
    "agg_table_l3m.rename(columns={'material_weekly_store_count':'AVG_STORE_SELLING'},inplace=True)\n",
    "agg_table_l3m.rename(columns={'cwd':'AVG_CWD'},inplace=True)\n",
    "agg_table_l3m.columns = [x.lower() for x in agg_table_l3m.columns]\n"
   ]
  },
  {
   "cell_type": "code",
   "execution_count": 0,
   "metadata": {
    "application/vnd.databricks.v1+cell": {
     "cellMetadata": {
      "byteLimit": 2048000,
      "rowLimit": 10000
     },
     "inputWidgets": {},
     "nuid": "66fb10b4-799f-4196-a5da-8d66d6da5685",
     "showTitle": false,
     "title": ""
    }
   },
   "outputs": [],
   "source": [
    "agg_table_full"
   ]
  },
  {
   "cell_type": "code",
   "execution_count": 0,
   "metadata": {
    "application/vnd.databricks.v1+cell": {
     "cellMetadata": {
      "byteLimit": 2048000,
      "rowLimit": 10000
     },
     "inputWidgets": {},
     "nuid": "6fa50088-1cb1-454e-b66f-d071770742a7",
     "showTitle": false,
     "title": ""
    }
   },
   "outputs": [],
   "source": [
    "############ merging GP data ########################\n",
    "\n",
    "# eda_agg_table_full=pd.merge(agg_table_full,attr,on='material_id',how='right')\n",
    "eda_agg_table_full=pd.merge(agg_table_full,gp.drop(columns=['new_buckets'],axis=1),on='material_id',how='left')\n",
    "eda_agg_table_full=pd.merge(eda_agg_table_full,cust.drop(columns=['material_name'],axis=1),on='material_id',how='left')\n",
    "eda_agg_table_full['gp_flag']=np.where(eda_agg_table_full.GP<0,\"Negative\",\"Positive\")\n",
    "\n",
    "############ merging GP data L3m ########################\n",
    "\n",
    "# eda_agg_table_l3m=pd.merge(agg_table_l3m,attr,on='material_id',how='right')\n",
    "eda_agg_table_l3m=pd.merge(agg_table_full,gp.drop(columns=['new_buckets'],axis=1),on='material_id',how='left') ### GP data is still full here\n",
    "eda_agg_table_l3m=pd.merge(eda_agg_table_l3m,cust.drop(columns=['material_name'],axis=1),on='material_id',how='left')\n",
    "\n",
    "eda_agg_table_l3m['gp_flag']=np.where(eda_agg_table_l3m.GP<0,\"Negative\",\"Positive\")"
   ]
  },
  {
   "cell_type": "code",
   "execution_count": 0,
   "metadata": {
    "application/vnd.databricks.v1+cell": {
     "cellMetadata": {
      "byteLimit": 2048000,
      "rowLimit": 10000
     },
     "inputWidgets": {},
     "nuid": "2c1db674-a63c-4f95-bea6-567059e9a3ba",
     "showTitle": false,
     "title": ""
    }
   },
   "outputs": [],
   "source": [
    "eda_agg_table_full.head(2)"
   ]
  },
  {
   "cell_type": "markdown",
   "metadata": {
    "application/vnd.databricks.v1+cell": {
     "cellMetadata": {
      "byteLimit": 2048000,
      "rowLimit": 10000
     },
     "inputWidgets": {},
     "nuid": "f952b4a3-f337-4e55-afdf-f5a681cdd2e8",
     "showTitle": false,
     "title": ""
    }
   },
   "source": [
    "## ALL PLOTS"
   ]
  },
  {
   "cell_type": "markdown",
   "metadata": {
    "application/vnd.databricks.v1+cell": {
     "cellMetadata": {
      "byteLimit": 2048000,
      "rowLimit": 10000
     },
     "inputWidgets": {},
     "nuid": "ef18644a-1c74-422d-a6a4-85ec32cb7f40",
     "showTitle": false,
     "title": ""
    }
   },
   "source": [
    "### TLE and SSW"
   ]
  },
  {
   "cell_type": "code",
   "execution_count": 0,
   "metadata": {
    "application/vnd.databricks.v1+cell": {
     "cellMetadata": {
      "byteLimit": 2048000,
      "rowLimit": 10000
     },
     "inputWidgets": {},
     "nuid": "96415586-2964-499e-bd37-ed8f6009d4a1",
     "showTitle": false,
     "title": ""
    }
   },
   "outputs": [],
   "source": [
    "# pldf=fdf[fdf['material_id']==1545241]\n",
    "# fig = px.scatter(pldf, x=\"SSW\", y=\"cwd\")\n",
    "# fig.add_hline(y=pldf.cwd.mean())\n",
    "# fig.add_vline(x=pldf.SSW.mean())\n",
    "\n",
    "# fig.show()"
   ]
  },
  {
   "cell_type": "code",
   "execution_count": 0,
   "metadata": {
    "application/vnd.databricks.v1+cell": {
     "cellMetadata": {
      "byteLimit": 2048000,
      "rowLimit": 10000
     },
     "inputWidgets": {},
     "nuid": "62ac1efe-6e48-440d-93f6-a9ffcd479894",
     "showTitle": false,
     "title": ""
    }
   },
   "outputs": [],
   "source": [
    "fdf['sale']=fdf['sale'].astype('float')\n",
    "fdf['vol']=fdf['vol'].astype('float')"
   ]
  },
  {
   "cell_type": "code",
   "execution_count": 0,
   "metadata": {
    "application/vnd.databricks.v1+cell": {
     "cellMetadata": {
      "byteLimit": 2048000,
      "rowLimit": 10000
     },
     "inputWidgets": {},
     "nuid": "1776eb6d-6407-4850-9caa-86c2c5307f5e",
     "showTitle": false,
     "title": ""
    }
   },
   "outputs": [],
   "source": [
    "gp_bub=fdf.groupby('material_id').sum()[['sale','vol']].reset_index()\n",
    "\n",
    "temp=pd.merge(gp_bub,gp,on='material_id',how='inner')\n",
    "\n",
    "\n",
    "# temp = pd.merge(temp,\n",
    "#                 attr[['material_id', 'material_name','Brand']],\n",
    "#                 left_on='material_id',\n",
    "#                 right_on='material_id',\n",
    "#                 how='inner')\n",
    "\n",
    "\n",
    "temp['GP_ABS']=np.abs(temp['GP'])\n",
    "\n",
    "\n",
    "temp['GP_FLAG']=np.where(temp.GP<0,\"Negative\",\"Positive\")"
   ]
  },
  {
   "cell_type": "code",
   "execution_count": 0,
   "metadata": {
    "application/vnd.databricks.v1+cell": {
     "cellMetadata": {
      "byteLimit": 2048000,
      "rowLimit": 10000
     },
     "inputWidgets": {},
     "nuid": "744a317b-24f2-4cd8-96f7-91d0c6b637e3",
     "showTitle": false,
     "title": ""
    }
   },
   "outputs": [],
   "source": [
    "temp.head()"
   ]
  },
  {
   "cell_type": "code",
   "execution_count": 0,
   "metadata": {
    "application/vnd.databricks.v1+cell": {
     "cellMetadata": {
      "byteLimit": 2048000,
      "rowLimit": 10000
     },
     "inputWidgets": {},
     "nuid": "653b336b-c79d-4311-bcca-d64ada11fd78",
     "showTitle": false,
     "title": ""
    }
   },
   "outputs": [],
   "source": [
    "# xd=pd.DataFrame(temp.groupby('Brand').sum()['sale']).reset_index()"
   ]
  },
  {
   "cell_type": "markdown",
   "metadata": {
    "application/vnd.databricks.v1+cell": {
     "cellMetadata": {
      "byteLimit": 2048000,
      "rowLimit": 10000
     },
     "inputWidgets": {},
     "nuid": "b03654bb-e8c9-4cb3-9af3-70170dab34d6",
     "showTitle": false,
     "title": ""
    }
   },
   "source": [
    "### Sale, vol and other Bar Charts"
   ]
  },
  {
   "cell_type": "code",
   "execution_count": 0,
   "metadata": {
    "application/vnd.databricks.v1+cell": {
     "cellMetadata": {
      "byteLimit": 2048000,
      "rowLimit": 10000
     },
     "inputWidgets": {},
     "nuid": "c0564630-75a3-440f-819d-ecd11dfdfcb5",
     "showTitle": false,
     "title": ""
    }
   },
   "outputs": [],
   "source": [
    "eda_agg_table_full.head(1)"
   ]
  },
  {
   "cell_type": "code",
   "execution_count": 0,
   "metadata": {
    "application/vnd.databricks.v1+cell": {
     "cellMetadata": {
      "byteLimit": 2048000,
      "rowLimit": 10000
     },
     "inputWidgets": {},
     "nuid": "68901332-8c9b-4fd8-b787-f16c337e6173",
     "showTitle": false,
     "title": ""
    }
   },
   "outputs": [],
   "source": [
    "# plot_bar(eda_agg_table_full,'Brand','sale')"
   ]
  },
  {
   "cell_type": "markdown",
   "metadata": {
    "application/vnd.databricks.v1+cell": {
     "cellMetadata": {
      "byteLimit": 2048000,
      "rowLimit": 10000
     },
     "inputWidgets": {},
     "nuid": "f0be7316-b963-4d25-be7a-f230d0b6fbdd",
     "showTitle": false,
     "title": ""
    }
   },
   "source": [
    "### BUBBLE CHARTS ALL"
   ]
  },
  {
   "cell_type": "code",
   "execution_count": 0,
   "metadata": {
    "application/vnd.databricks.v1+cell": {
     "cellMetadata": {
      "byteLimit": 2048000,
      "rowLimit": 10000
     },
     "inputWidgets": {},
     "nuid": "b7cf33cf-ff03-4be8-b20e-0cfc41397500",
     "showTitle": false,
     "title": ""
    }
   },
   "outputs": [],
   "source": [
    "eda_agg_table_full.head(1)"
   ]
  },
  {
   "cell_type": "markdown",
   "metadata": {
    "application/vnd.databricks.v1+cell": {
     "cellMetadata": {
      "byteLimit": 2048000,
      "rowLimit": 10000
     },
     "inputWidgets": {},
     "nuid": "23a70e76-5d9f-4006-a01b-31b4f70d8455",
     "showTitle": false,
     "title": ""
    }
   },
   "source": [
    "#### SKU LEVEL BUBBLE\n"
   ]
  },
  {
   "cell_type": "code",
   "execution_count": 0,
   "metadata": {
    "application/vnd.databricks.v1+cell": {
     "cellMetadata": {
      "byteLimit": 2048000,
      "rowLimit": 10000
     },
     "inputWidgets": {},
     "nuid": "14479084-69f3-45c8-ac72-ae7aec7dc31b",
     "showTitle": false,
     "title": ""
    }
   },
   "outputs": [],
   "source": [
    "# pbldf=eda_agg_table_full.dropna(subset=['sale','vip_freq_pnt'])\n",
    "\n",
    "# pbldf = pd.merge(pbldf, attr[['material_id', 'material_name']], on = 'material_id', how='inner')\n",
    "\n",
    "# x_val='sale'\n",
    "# y_val='vip_freq_pnt'\n",
    "# color_val='gp_flag'\n",
    "# hover_name_val='material_name'\n",
    "# size_max_val=40\n",
    "# size_val='gp_abs'\n",
    "\n",
    "# fig = px.scatter(pbldf, x=x_val, y=y_val, size=np.abs(pbldf[size_val]), \n",
    "#                  color=color_val,\n",
    "#                  hover_name=hover_name_val, log_x=False, log_y=False, size_max=size_max_val,title=\"ALL SKUs\")\n",
    "\n",
    "# fig.add_hline(y=pbldf[y_val].quantile(0.95))\n",
    "# fig.add_vline(x=pbldf[x_val].quantile(0.95))\n",
    "\n",
    "# fig.show()"
   ]
  },
  {
   "cell_type": "code",
   "execution_count": 0,
   "metadata": {
    "application/vnd.databricks.v1+cell": {
     "cellMetadata": {
      "byteLimit": 2048000,
      "rowLimit": 10000
     },
     "inputWidgets": {},
     "nuid": "7101798a-8e57-41ac-b1fc-071dda8b3c92",
     "showTitle": false,
     "title": ""
    }
   },
   "outputs": [],
   "source": [
    "temp = df.groupby('material_id')['sale'].sum().reset_index()\n",
    "\n",
    "temp = pd.merge(temp, gp[['material_id', 'GP', 'new_buckets']], on='material_id', how='inner')\n",
    "\n",
    "temp = pd.merge(temp,\n",
    "                attr[['material_id', 'material_name','brand']],\n",
    "                left_on='material_id',\n",
    "                right_on='material_id',\n",
    "                how='inner')\n",
    "\n",
    "temp['GP_ABS']=np.abs(temp['GP'])\n",
    "\n",
    "temp['GP_FLAG']=np.where(temp.GP<0, \"Negative\", \"Positive\")\n",
    "\n",
    "temp = pd.merge(temp, cust[['material_id', 'tot_cust_perc', 'vip_freq_pnt']], on='material_id', how='left')\n",
    "temp['tot_cust_perc'] = temp['tot_cust_perc'].fillna(0)\n",
    "temp['vip_freq_pnt'] = temp['vip_freq_pnt'].fillna(0)\n",
    "temp.rename(columns={'tot_cust_perc': 'cust_pnt'}, inplace=True)"
   ]
  },
  {
   "cell_type": "code",
   "execution_count": 0,
   "metadata": {
    "application/vnd.databricks.v1+cell": {
     "cellMetadata": {
      "byteLimit": 2048000,
      "rowLimit": 10000
     },
     "inputWidgets": {},
     "nuid": "b6e06cee-5a86-4245-858a-a18e3592873f",
     "showTitle": false,
     "title": ""
    }
   },
   "outputs": [],
   "source": [
    "fig = px.scatter(temp, x=\"sale\", y=\"vip_freq_pnt\", size=\"GP_ABS\", \n",
    "                 color=\"GP_FLAG\",\n",
    "                 hover_name=\"material_name\", log_x=False, size_max=40, color_discrete_map={\"Positive\": \"#8993f8\", \"Negative\": \"#ec8272\"})\n",
    "\n",
    "fig.add_hline(y=temp.vip_freq_pnt.mean())\n",
    "fig.add_vline(x=temp.sale.quantile(0.95))\n",
    "\n",
    "fig.show()"
   ]
  },
  {
   "cell_type": "code",
   "execution_count": 0,
   "metadata": {
    "application/vnd.databricks.v1+cell": {
     "cellMetadata": {
      "byteLimit": 2048000,
      "rowLimit": 10000
     },
     "inputWidgets": {},
     "nuid": "ef745261-2993-4135-9fd1-dc7eb51de6f7",
     "showTitle": false,
     "title": ""
    }
   },
   "outputs": [],
   "source": [
    "temp[\"Quadrant\"] = np.where(\n",
    "    (temp[\"sale\"] > temp[\"sale\"].quantile(0.95))\n",
    "    & (temp[\"vip_freq_pnt\"] > temp[\"vip_freq_pnt\"].mean()), 1,\n",
    "    np.where(\n",
    "        (temp[\"sale\"] < temp[\"sale\"].quantile(0.95))\n",
    "        & (temp[\"vip_freq_pnt\"] < temp[\"vip_freq_pnt\"].mean()), 3,\n",
    "    np.where(\n",
    "        (temp[\"sale\"] > temp[\"sale\"].quantile(0.95))\n",
    "        & (temp[\"vip_freq_pnt\"] < temp[\"vip_freq_pnt\"].mean()), 2,\n",
    "    np.where(\n",
    "        (temp[\"sale\"] < temp[\"sale\"].quantile(0.95))\n",
    "        & (temp[\"vip_freq_pnt\"] > temp[\"vip_freq_pnt\"].mean()), 4,0\n",
    "    )\n",
    ")))\n",
    "\n",
    "temp['pl_flag'] = np.where(temp['brand'] == \"LULU PRIVATE LABEL\", 1, 0)"
   ]
  },
  {
   "cell_type": "code",
   "execution_count": 0,
   "metadata": {
    "application/vnd.databricks.v1+cell": {
     "cellMetadata": {
      "byteLimit": 2048000,
      "rowLimit": 10000
     },
     "inputWidgets": {},
     "nuid": "60585ca7-951f-464d-a89c-405157485b7c",
     "showTitle": false,
     "title": ""
    }
   },
   "outputs": [],
   "source": [
    "display(temp.groupby(['Quadrant', 'material_id']).agg({'sale':'sum','cust_pnt':'sum','GP_ABS':'sum', 'vip_freq_pnt':'sum', 'pl_flag':'sum', 'GP':'sum'}).reset_index())"
   ]
  },
  {
   "cell_type": "code",
   "execution_count": 0,
   "metadata": {
    "application/vnd.databricks.v1+cell": {
     "cellMetadata": {
      "byteLimit": 2048000,
      "rowLimit": 10000
     },
     "inputWidgets": {},
     "nuid": "0b0f0ca6-5572-49dd-9781-3d87ca18d38d",
     "showTitle": false,
     "title": ""
    }
   },
   "outputs": [],
   "source": [
    "query = \"\"\"\n",
    "WITH cte AS (\n",
    "    SELECT\n",
    "        (CASE WHEN business_day BETWEEN \"2022-02-01\" AND \"2023-01-31\" THEN \"LFL\" ELSE \"Current\" END) AS year_info,\n",
    "        material_id,\n",
    "        ROUND(SUM(amount),0) AS sales\n",
    "    FROM gold.pos_transactions AS t1\n",
    "    JOIN gold.material_master AS t2 ON t1.product_id = t2.material_id\n",
    "    WHERE business_day BETWEEN \"2022-02-01\" AND \"2024-01-31\"\n",
    "    AND amount > 0\n",
    "    AND quantity > 0\n",
    "    AND category_name = \"CONFECTIONERY\"\n",
    "    GROUP BY year_info, material_id\n",
    ")\n",
    "\n",
    "SELECT\n",
    "    material_id,\n",
    "    MAX(CASE WHEN year_info = \"LFL\" THEN sales ELSE 0 END) AS LFL_sales,\n",
    "    MAX(CASE WHEN year_info = \"Current\" THEN sales ELSE 0 END) AS Current_sales,\n",
    "    (Current_sales - LFL_sales)/LFL_sales AS growth\n",
    "FROM cte\n",
    "GROUP BY material_id\n",
    "ORDER BY material_id\n",
    "\"\"\"\n",
    "\n",
    "e = spark.sql(query).toPandas()\n",
    "e['growth'] = e['growth'].fillna(0)"
   ]
  },
  {
   "cell_type": "code",
   "execution_count": 0,
   "metadata": {
    "application/vnd.databricks.v1+cell": {
     "cellMetadata": {
      "byteLimit": 2048000,
      "rowLimit": 10000
     },
     "inputWidgets": {},
     "nuid": "3f3e929d-4133-47b9-ad95-7f15bd13b947",
     "showTitle": false,
     "title": ""
    }
   },
   "outputs": [],
   "source": [
    "temp = pd.merge(temp, e[['material_id', 'growth']], on='material_id', how='inner')\n",
    "\n",
    "growth_positives = temp[temp['growth'] >= 0][['growth']].values\n",
    "medium = np.percentile(growth_positives, 33)\n",
    "high = np.percentile(growth_positives, 66)\n",
    "\n",
    "temp[\"Growth_Flag\"] = np.where(\n",
    "    (temp[\"growth\"] < 0), \"Negative\",\n",
    "    np.where(\n",
    "        (temp[\"growth\"] > high), \"High\",\n",
    "    np.where(\n",
    "        (temp[\"growth\"] > medium), \"Medium\", \"New Launch\"\n",
    "    )\n",
    "))"
   ]
  },
  {
   "cell_type": "code",
   "execution_count": 0,
   "metadata": {
    "application/vnd.databricks.v1+cell": {
     "cellMetadata": {
      "byteLimit": 2048000,
      "rowLimit": 10000
     },
     "inputWidgets": {},
     "nuid": "51ed068b-cfcf-4463-a0a7-728f2b74c374",
     "showTitle": false,
     "title": ""
    }
   },
   "outputs": [],
   "source": [
    "filtered_temp = temp[temp['brand'].str.contains('FERRERO')].reset_index()\n",
    "fig = px.scatter(filtered_temp, x=\"sale\", y=\"vip_freq_pnt\", size=\"GP_ABS\", \n",
    "                 color=\"Growth_Flag\",\n",
    "                 hover_name=\"material_name\", log_x=False, size_max=40, color_discrete_map={\"High\": \"#00CC96\", \"Medium\": \"#636EFA\", \"New Launch\": \"#AB63FA\", \"Negative\": \"#EF553B\"})\n",
    "\n",
    "fig.add_hline(y=temp.vip_freq_pnt.mean())\n",
    "fig.add_vline(x=temp.sale.quantile(0.95))\n",
    "\n",
    "fig.show()"
   ]
  },
  {
   "cell_type": "code",
   "execution_count": 0,
   "metadata": {
    "application/vnd.databricks.v1+cell": {
     "cellMetadata": {
      "byteLimit": 2048000,
      "rowLimit": 10000
     },
     "inputWidgets": {},
     "nuid": "aeee24fd-7c28-4722-af33-fb27654687fe",
     "showTitle": false,
     "title": ""
    }
   },
   "outputs": [],
   "source": [
    "filtered_temp[\"Quadrant\"] = np.where(\n",
    "    (filtered_temp[\"sale\"] > filtered_temp[\"sale\"].quantile(0.95))\n",
    "    & (filtered_temp[\"vip_freq_pnt\"] > filtered_temp[\"vip_freq_pnt\"].mean()), 1,\n",
    "    np.where(\n",
    "        (filtered_temp[\"sale\"] < filtered_temp[\"sale\"].quantile(0.95))\n",
    "        & (filtered_temp[\"vip_freq_pnt\"] < filtered_temp[\"vip_freq_pnt\"].mean()), 3,\n",
    "    np.where(\n",
    "        (filtered_temp[\"sale\"] > filtered_temp[\"sale\"].quantile(0.95))\n",
    "        & (filtered_temp[\"vip_freq_pnt\"] < filtered_temp[\"vip_freq_pnt\"].mean()), 2,\n",
    "    np.where(\n",
    "        (filtered_temp[\"sale\"] < filtered_temp[\"sale\"].quantile(0.95))\n",
    "        & (filtered_temp[\"vip_freq_pnt\"] > filtered_temp[\"vip_freq_pnt\"].mean()), 4,0\n",
    "    )\n",
    ")))\n",
    "\n",
    "filtered_temp['pl_flag'] = np.where(filtered_temp['brand'] == \"LULU PRIVATE LABEL\", 1, 0)"
   ]
  },
  {
   "cell_type": "code",
   "execution_count": 0,
   "metadata": {
    "application/vnd.databricks.v1+cell": {
     "cellMetadata": {
      "byteLimit": 2048000,
      "rowLimit": 10000
     },
     "inputWidgets": {},
     "nuid": "fe39b01f-4006-40f8-a1e9-412438ad4f8d",
     "showTitle": false,
     "title": ""
    }
   },
   "outputs": [],
   "source": [
    "display(filtered_temp.groupby(['Quadrant']).agg({'sale':'sum','cust_pnt':'sum','GP_ABS':'sum', 'vip_freq_pnt':'sum', 'pl_flag':'sum', 'GP':'sum', 'material_id':'nunique'}).reset_index())"
   ]
  },
  {
   "cell_type": "markdown",
   "metadata": {
    "application/vnd.databricks.v1+cell": {
     "cellMetadata": {
      "byteLimit": 2048000,
      "rowLimit": 10000
     },
     "inputWidgets": {},
     "nuid": "209f089b-544d-4a61-a04b-240b3b9bf815",
     "showTitle": false,
     "title": ""
    }
   },
   "source": [
    "#### SKU LEVEL BUBBLE - DELIST\n"
   ]
  },
  {
   "cell_type": "code",
   "execution_count": 0,
   "metadata": {
    "application/vnd.databricks.v1+cell": {
     "cellMetadata": {
      "byteLimit": 2048000,
      "rowLimit": 10000
     },
     "inputWidgets": {},
     "nuid": "d7547f21-8c19-4dce-a741-25c8967a57e3",
     "showTitle": false,
     "title": ""
    }
   },
   "outputs": [],
   "source": [
    "# pbldf=eda_agg_table_full.dropna(subset=['sale','vip_freq_pnt'])\n",
    "# # pbldf=pbldf[pbldf['new_buckets']=='Delist']\n",
    "# x_val='sale'\n",
    "# y_val='vip_freq_pntvip_freq_pnt'\n",
    "# color_val='new_buckets'\n",
    "# hover_name_val='material_name'\n",
    "# size_max_val=40\n",
    "# size_val='gp_abs'\n",
    "\n",
    "# fig = px.scatter(pbldf, x=x_val, y=y_val, size=np.abs(pbldf[size_val]), \n",
    "#                  color=color_val,\n",
    "#                  hover_name=hover_name_val, log_x=False, log_y=False, size_max=size_max_val,title=\"ALL SKUS BY BUCKETS\")\n",
    "\n",
    "# fig.add_hline(y=pbldf[y_val].quantile(0.95))\n",
    "# fig.add_vline(x=pbldf[x_val].quantile(0.95))\n",
    "\n",
    "# fig.show()"
   ]
  },
  {
   "cell_type": "code",
   "execution_count": 0,
   "metadata": {
    "application/vnd.databricks.v1+cell": {
     "cellMetadata": {
      "byteLimit": 2048000,
      "rowLimit": 10000
     },
     "inputWidgets": {},
     "nuid": "2a28fd4d-554c-4109-b115-cd1e4cbe3554",
     "showTitle": false,
     "title": ""
    }
   },
   "outputs": [],
   "source": [
    "# pbldf.groupby('Brand').sum().reset_index()"
   ]
  },
  {
   "cell_type": "markdown",
   "metadata": {
    "application/vnd.databricks.v1+cell": {
     "cellMetadata": {
      "byteLimit": 2048000,
      "rowLimit": 10000
     },
     "inputWidgets": {},
     "nuid": "af73a703-7adc-4c81-96d0-bd3b0034c92c",
     "showTitle": false,
     "title": ""
    }
   },
   "source": [
    "#### AGG LEVEL BUBBLE - BY RECOMENDATIONS\n"
   ]
  },
  {
   "cell_type": "code",
   "execution_count": 0,
   "metadata": {
    "application/vnd.databricks.v1+cell": {
     "cellMetadata": {
      "byteLimit": 2048000,
      "rowLimit": 10000
     },
     "inputWidgets": {},
     "nuid": "05592d62-3f20-4192-93e2-ed85a64bdeae",
     "showTitle": false,
     "title": ""
    }
   },
   "outputs": [],
   "source": [
    "# pbldf=eda_agg_table_full.dropna(subset=['sale','vip_freq_pnt'])\n",
    "\n",
    "# # new_buckets\n",
    "# # new_volume\n",
    "# groupby_val='new_buckets'\n",
    "# x_val='sale'\n",
    "# y_val='vol'\n",
    "# color_val='gp_flag'\n",
    "# hover_name_val=groupby_val\n",
    "# size_max_val=40\n",
    "# size_val='gp_abs'\n",
    "\n",
    "# pbldf=pbldf.groupby(groupby_val).sum().reset_index()\n",
    "# pbldf['gp_flag']=np.where(pbldf.GP<0,\"Negative\",\"Positive\")\n",
    "\n",
    "# fig = px.scatter(pbldf, x=x_val, y=y_val, size=np.abs(pbldf[size_val]), \n",
    "#                  color=color_val,\n",
    "#                  hover_name=hover_name_val, log_x=False, log_y=False, size_max=size_max_val,title=\"BY {}\".format(groupby_val))\n",
    "\n",
    "# fig.add_hline(y=pbldf[y_val].quantile(0.95))\n",
    "# fig.add_vline(x=pbldf[x_val].quantile(0.95))\n",
    "\n",
    "# fig.show()"
   ]
  },
  {
   "cell_type": "code",
   "execution_count": 0,
   "metadata": {
    "application/vnd.databricks.v1+cell": {
     "cellMetadata": {
      "byteLimit": 2048000,
      "rowLimit": 10000
     },
     "inputWidgets": {},
     "nuid": "c9f517df-b84c-431a-b164-40564dca3a52",
     "showTitle": false,
     "title": ""
    }
   },
   "outputs": [],
   "source": [
    "# eda_agg_table_full.groupby('new_buckets').sum()['gp_abs']"
   ]
  },
  {
   "cell_type": "code",
   "execution_count": 0,
   "metadata": {
    "application/vnd.databricks.v1+cell": {
     "cellMetadata": {
      "byteLimit": 2048000,
      "rowLimit": 10000
     },
     "inputWidgets": {},
     "nuid": "2326d1cd-144c-4414-9fb8-29e0135ad0b7",
     "showTitle": false,
     "title": ""
    }
   },
   "outputs": [],
   "source": [
    "def get_top_N_list(dataframe, start, end):\n",
    "    listname = \"list\" + \"_\" + str(end)\n",
    "#     print(listname)\n",
    "    listname = pd.DataFrame(dataframe.groupby(\n",
    "        'material_id').sum()['sale']).reset_index().sort_values(\n",
    "            by=dataframe.columns[2], ascending=False)['material_id'][start:end].tolist()\n",
    "    return listname"
   ]
  },
  {
   "cell_type": "markdown",
   "metadata": {
    "application/vnd.databricks.v1+cell": {
     "cellMetadata": {
      "byteLimit": 2048000,
      "rowLimit": 10000
     },
     "inputWidgets": {},
     "nuid": "3f3202d6-b45e-42bc-a6f4-7cbdd69247fb",
     "showTitle": false,
     "title": ""
    }
   },
   "source": [
    "### TREND CHART DISTRIBUTIONS"
   ]
  },
  {
   "cell_type": "markdown",
   "metadata": {
    "application/vnd.databricks.v1+cell": {
     "cellMetadata": {
      "byteLimit": 2048000,
      "rowLimit": 10000
     },
     "inputWidgets": {},
     "nuid": "6d81b1eb-39df-428b-be89-fe87e555f931",
     "showTitle": false,
     "title": ""
    }
   },
   "source": [
    "#### TREND CHART MAINTAIN OR GROW"
   ]
  },
  {
   "cell_type": "code",
   "execution_count": 0,
   "metadata": {
    "application/vnd.databricks.v1+cell": {
     "cellMetadata": {
      "byteLimit": 2048000,
      "rowLimit": 10000
     },
     "inputWidgets": {},
     "nuid": "dff0d535-972a-48db-ab60-84e92d004f50",
     "showTitle": false,
     "title": ""
    }
   },
   "outputs": [],
   "source": [
    "fdf.head(2)"
   ]
  },
  {
   "cell_type": "code",
   "execution_count": 0,
   "metadata": {
    "application/vnd.databricks.v1+cell": {
     "cellMetadata": {
      "byteLimit": 2048000,
      "rowLimit": 10000
     },
     "inputWidgets": {},
     "nuid": "61da0a80-43b1-4519-bf13-c42897414ea8",
     "showTitle": false,
     "title": ""
    }
   },
   "outputs": [],
   "source": [
    "# fdf.new_buckets.value_counts()\n",
    "tx=fdf[fdf['new_buckets']=='MAINTAIN_OR_GROW_BY_PROMO']\n",
    "tx=tx.groupby('material_id').sum()['sale'].reset_index().sort_values(by='sale',ascending=False)\n",
    "tx_list=tx['material_id'].tolist()[0:20]\n",
    "\n",
    "tbl=fdf[fdf['material_id'].isin(tx_list)]\n",
    "\n",
    "tbl = pd.merge(tbl,\n",
    "                attr[['material_id', 'material_name','brand']],\n",
    "                left_on='material_id',\n",
    "                right_on='material_id',\n",
    "                how='inner')\n",
    "\n",
    "fig = px.line(tbl, x=\"week_number\", y=\"sale\", color='material_name',width=900, height=600, title=\"SALES L52W\")\n",
    "fig.show()\n",
    "\n",
    "fig2= px.line(tbl, x=\"week_number\", y=\"cwd\", color='material_name',width=900, height=600, title=\"CWD L52W\")\n",
    "fig2.show()"
   ]
  },
  {
   "cell_type": "markdown",
   "metadata": {
    "application/vnd.databricks.v1+cell": {
     "cellMetadata": {
      "byteLimit": 2048000,
      "rowLimit": 10000
     },
     "inputWidgets": {},
     "nuid": "7034336a-6e16-4a2f-b097-c64bece9257d",
     "showTitle": false,
     "title": ""
    }
   },
   "source": [
    "#### TREND CHART DELISTS"
   ]
  },
  {
   "cell_type": "code",
   "execution_count": 0,
   "metadata": {
    "application/vnd.databricks.v1+cell": {
     "cellMetadata": {
      "byteLimit": 2048000,
      "rowLimit": 10000
     },
     "inputWidgets": {},
     "nuid": "a8289a9e-bc64-4996-a938-7c2c8c488b4f",
     "showTitle": false,
     "title": ""
    }
   },
   "outputs": [],
   "source": [
    "# # fdf.new_buckets.value_counts()\n",
    "# tx=fdf[fdf['new_buckets']=='DELIST']\n",
    "# tx=tx.groupby('material_id').sum()['sale'].reset_index().sort_values(by='sale',ascending=False)\n",
    "# tx_list=tx['material_id'].tolist()[0:20]\n",
    "\n",
    "# tbl=fdf[fdf['material_id'].isin(tx_list)]\n",
    "\n",
    "# tbl = pd.merge(tbl,\n",
    "#                 attr[['material_id', 'material_name','Brand']],\n",
    "#                 left_on='material_id',\n",
    "#                 right_on='material_id',\n",
    "#                 how='inner')\n",
    "\n",
    "# fig = px.line(tbl, x=\"week_number\", y=\"sale\", color='material_name',width=900, height=600)\n",
    "# fig.show()\n",
    "\n",
    "# fig2= px.line(tbl, x=\"week_number\", y=\"cwd\", color='material_name',width=900, height=600)\n",
    "# fig2.show()"
   ]
  },
  {
   "cell_type": "markdown",
   "metadata": {
    "application/vnd.databricks.v1+cell": {
     "cellMetadata": {
      "byteLimit": 2048000,
      "rowLimit": 10000
     },
     "inputWidgets": {},
     "nuid": "277fadc0-98f9-449d-b846-ad078a306b22",
     "showTitle": false,
     "title": ""
    }
   },
   "source": [
    "## END OF NOTEBOOK"
   ]
  },
  {
   "cell_type": "code",
   "execution_count": 0,
   "metadata": {
    "application/vnd.databricks.v1+cell": {
     "cellMetadata": {
      "byteLimit": 2048000,
      "rowLimit": 10000
     },
     "inputWidgets": {},
     "nuid": "57b93866-09c9-4487-a08d-d59ff40af6a8",
     "showTitle": false,
     "title": ""
    }
   },
   "outputs": [],
   "source": [
    "fdf.head(1)"
   ]
  },
  {
   "cell_type": "code",
   "execution_count": 0,
   "metadata": {
    "application/vnd.databricks.v1+cell": {
     "cellMetadata": {
      "byteLimit": 2048000,
      "rowLimit": 10000
     },
     "inputWidgets": {},
     "nuid": "6072e2f3-ed3d-4c62-a2c0-63cf49fb9c73",
     "showTitle": false,
     "title": ""
    }
   },
   "outputs": [],
   "source": [
    "# # fdf.new_buckets.value_counts()\n",
    "# tx=pd.merge(fdf,eda_agg_table_full[['brand','material_id']],on='material_id',how='left')\n",
    "# # tx.head()\n",
    "# tx=tx[tx['brand']=='AL AIN']\n",
    "# tx=tx.groupby('material_id').sum()['sale'].reset_index().sort_values(by='sale',ascending=False)\n",
    "# tx_list=tx['material_id'].tolist()[0:30]\n",
    "\n",
    "# tbl=fdf[fdf['material_id'].isin(tx_list)]\n",
    "\n",
    "# tbl = pd.merge(tbl,\n",
    "#                 attr[['material_id', 'material_name','brand']],\n",
    "#                 left_on='material_id',\n",
    "#                 right_on='material_id',\n",
    "#                 how='inner')\n",
    "\n",
    "# fig = px.line(tbl, x=\"week_number\", y=\"sale\", color='material_name',width=900, height=600)\n",
    "# fig.show()\n",
    "\n",
    "# fig2= px.line(tbl, x=\"week_number\", y=\"cwd\", color='material_name',width=900, height=600)\n",
    "# fig2.show()"
   ]
  },
  {
   "cell_type": "code",
   "execution_count": 0,
   "metadata": {
    "application/vnd.databricks.v1+cell": {
     "cellMetadata": {
      "byteLimit": 2048000,
      "rowLimit": 10000
     },
     "inputWidgets": {},
     "nuid": "3402cbda-8e09-4902-9133-9a22c26ed907",
     "showTitle": false,
     "title": ""
    }
   },
   "outputs": [],
   "source": [
    "display(eda_agg_table_full.groupby('new_buckets').sum()['sale'].reset_index())"
   ]
  },
  {
   "cell_type": "code",
   "execution_count": 0,
   "metadata": {
    "application/vnd.databricks.v1+cell": {
     "cellMetadata": {
      "byteLimit": 2048000,
      "rowLimit": 10000
     },
     "inputWidgets": {},
     "nuid": "28e5f9eb-352a-4647-a268-f631ecd2dfec",
     "showTitle": false,
     "title": ""
    }
   },
   "outputs": [],
   "source": [
    "# dl_br=pd.pivot_table(eda_agg_table_full,values='material_id',index='brand',columns='new_buckets',aggfunc='count')\n",
    "# dl_br=dl_br.reset_index()\n",
    "# dl_br['total_%_delist']=(dl_br['DELIST']/dl_br.sum(axis=1))*100\n",
    "# dl_br"
   ]
  },
  {
   "cell_type": "code",
   "execution_count": 0,
   "metadata": {
    "application/vnd.databricks.v1+cell": {
     "cellMetadata": {
      "byteLimit": 2048000,
      "rowLimit": 10000
     },
     "inputWidgets": {},
     "nuid": "c44ff104-7b0b-4c22-9162-59071577611c",
     "showTitle": false,
     "title": ""
    }
   },
   "outputs": [],
   "source": [
    "# tbl=store[store['material_id'].isin(get_top_N_list(sale,0,16))]\n",
    "\n",
    "# tbl = pd.merge(tbl,\n",
    "#                 attr[['material_id', 'material_name','Brand']],\n",
    "#                 left_on='material_id',\n",
    "#                 right_on='material_id',\n",
    "#                 how='inner')\n",
    "\n",
    "# fig = px.line(tbl, x=\"week_number\", y=\"store\", color='material_name',width=900, height=600)\n",
    "# fig.show()"
   ]
  },
  {
   "cell_type": "markdown",
   "metadata": {
    "application/vnd.databricks.v1+cell": {
     "cellMetadata": {
      "byteLimit": 2048000,
      "rowLimit": 10000
     },
     "inputWidgets": {},
     "nuid": "f237ae84-83e4-4f67-8126-b912d046beff",
     "showTitle": false,
     "title": ""
    }
   },
   "source": [
    "### interactions"
   ]
  },
  {
   "cell_type": "code",
   "execution_count": 0,
   "metadata": {
    "application/vnd.databricks.v1+cell": {
     "cellMetadata": {
      "byteLimit": 2048000,
      "rowLimit": 10000
     },
     "inputWidgets": {},
     "nuid": "296da246-7ec7-4471-a3a1-5a695f5d1a64",
     "showTitle": false,
     "title": ""
    }
   },
   "outputs": [],
   "source": [
    "tbl=sale[sale['material_id'].isin(get_top_N_list(sale,0,16))]\n",
    "\n",
    "tbl = pd.merge(tbl,\n",
    "                attr[['material_id', 'material_name']],\n",
    "                left_on='material_id',\n",
    "                right_on='material_id',\n",
    "                how='inner')\n",
    "\n",
    "fig = px.line(tbl, x=\"week_number\", y=\"sale\", color='material_name',width=900, height=600)\n",
    "fig.show()"
   ]
  },
  {
   "cell_type": "markdown",
   "metadata": {
    "application/vnd.databricks.v1+cell": {
     "cellMetadata": {
      "byteLimit": 2048000,
      "rowLimit": 10000
     },
     "inputWidgets": {},
     "nuid": "f8d1947f-2594-4ea0-9290-70eebc06d4d6",
     "showTitle": false,
     "title": ""
    }
   },
   "source": [
    "### Brand level"
   ]
  },
  {
   "cell_type": "code",
   "execution_count": 0,
   "metadata": {
    "application/vnd.databricks.v1+cell": {
     "cellMetadata": {
      "byteLimit": 2048000,
      "rowLimit": 10000
     },
     "inputWidgets": {},
     "nuid": "e2bda1f6-c8c1-447b-961c-cd063b22622d",
     "showTitle": false,
     "title": ""
    }
   },
   "outputs": [],
   "source": [
    "query = \"\"\"\n",
    "WITH total_cust AS (SELECT COUNT(DISTINCT t3.customer_id) AS tot_cust,\n",
    "                            COUNT(DISTINCT CASE WHEN segment = 'VIP' THEN t3.customer_id END) AS tot_vip,\n",
    "                            COUNT(DISTINCT CASE WHEN segment = 'Frequentist' THEN t3.customer_id END) AS tot_freq\n",
    "                    FROM gold.pos_transactions AS t1\n",
    "                    JOIN gold.material_master AS t2\n",
    "                    ON t1.product_id = t2.material_id\n",
    "                    JOIN analytics.customer_segments AS t3\n",
    "                    ON t1.customer_id = t3.customer_id\n",
    "                    WHERE business_day BETWEEN '2023-02-01' AND '2024-01-30'\n",
    "                    AND category_name = 'CONFECTIONERY'\n",
    "                    AND ROUND(amount,0) > 0\n",
    "                    AND quantity > 0\n",
    "                    AND month_year = '202401'\n",
    "                    AND t3.country = 'uae'\n",
    "                    AND key = 'rfm'\n",
    "                    AND channel = 'pos'\n",
    ")\n",
    "\n",
    "SELECT brand,\n",
    "        COUNT(DISTINCT t3.customer_id) AS cust,\n",
    "        COUNT(DISTINCT CASE WHEN segment = 'VIP' THEN t3.customer_id END) AS vip_cust,\n",
    "        COUNT(DISTINCT CASE WHEN segment = 'Frequentist' THEN t3.customer_id END) AS freq_cust,\n",
    "        tot_cust, tot_vip, tot_freq,\n",
    "        (cust/tot_cust) AS tot_cust_perc,\n",
    "        (vip_cust/tot_vip) AS vip_cust_perc,\n",
    "        (freq_cust/tot_freq) AS freq_cust_perc\n",
    "FROM total_cust, gold.pos_transactions AS t1\n",
    "JOIN gold.material_master AS t2\n",
    "ON t1.product_id = t2.material_id\n",
    "JOIN analytics.customer_segments AS t3\n",
    "ON t1.customer_id = t3.customer_id\n",
    "WHERE business_day BETWEEN '2023-02-01' AND '2024-01-30'\n",
    "AND category_name = 'CONFECTIONERY'\n",
    "AND ROUND(amount,0) > 0\n",
    "AND quantity > 0\n",
    "AND month_year = '202401'\n",
    "AND t3.country = 'uae'\n",
    "AND key = 'rfm'\n",
    "AND channel = 'pos'\n",
    "GROUP BY brand, tot_cust, tot_vip, tot_freq\n",
    "ORDER BY brand\n",
    "\"\"\"\n",
    "\n",
    "p = spark.sql(query).toPandas()\n",
    "p['vip_freq_pnt'] = (p['vip_cust'] + p['freq_cust']) / (p['tot_vip'] + p['tot_freq'])"
   ]
  },
  {
   "cell_type": "code",
   "execution_count": 0,
   "metadata": {
    "application/vnd.databricks.v1+cell": {
     "cellMetadata": {
      "byteLimit": 2048000,
      "rowLimit": 10000
     },
     "inputWidgets": {},
     "nuid": "09679e46-1647-4f3b-bc1d-cbc6e9dace10",
     "showTitle": false,
     "title": ""
    }
   },
   "outputs": [],
   "source": [
    "gp_bub2 = pd.merge(fdf,\n",
    "                attr[['material_id', 'material_name','brand']],\n",
    "                left_on='material_id',\n",
    "                right_on='material_id',\n",
    "                how='inner')\n",
    "\n",
    "gp_bub=gp_bub2.groupby('brand').sum()[['sale','vol']].reset_index()\n",
    "\n",
    "gp2 = pd.merge(gp,\n",
    "                attr[['material_id', 'material_name','brand']],\n",
    "                left_on='material_id',\n",
    "                right_on='material_id',\n",
    "                how='inner')\n",
    "\n",
    "gp3=gp2.groupby('brand').sum()['GP']\n",
    "\n",
    "temp = pd.merge(gp_bub, gp3, on='brand',how='inner')\n",
    "temp = pd.merge(temp, p[['brand', 'vip_freq_pnt']], on='brand',how='inner')\n",
    "\n",
    "temp['GP_ABS']=np.abs(temp['GP'])\n",
    "\n",
    "temp['GP_FLAG']=np.where(temp.GP<0,\"Negative\",\"Positive\")"
   ]
  },
  {
   "cell_type": "code",
   "execution_count": 0,
   "metadata": {
    "application/vnd.databricks.v1+cell": {
     "cellMetadata": {
      "byteLimit": 2048000,
      "rowLimit": 10000
     },
     "inputWidgets": {},
     "nuid": "cd0c7537-74d0-4806-b6a0-b5da411972a5",
     "showTitle": false,
     "title": ""
    }
   },
   "outputs": [],
   "source": [
    "fig = px.scatter(temp, x=\"sale\", y=\"vip_freq_pnt\", size=\"GP_ABS\", \n",
    "                 color=\"GP_FLAG\",\n",
    "                 hover_name=\"brand\", log_x=False, size_max=40)\n",
    "\n",
    "fig.add_hline(y=temp.vip_freq_pnt.mean())\n",
    "fig.add_vline(x=temp.sale.quantile(0.95))\n",
    "\n",
    "fig.show()"
   ]
  },
  {
   "cell_type": "code",
   "execution_count": 0,
   "metadata": {
    "application/vnd.databricks.v1+cell": {
     "cellMetadata": {
      "byteLimit": 2048000,
      "rowLimit": 10000
     },
     "inputWidgets": {},
     "nuid": "77b603c5-bea8-4b18-9118-35ee7450bfd1",
     "showTitle": false,
     "title": ""
    }
   },
   "outputs": [],
   "source": [
    "query = \"\"\"\n",
    "WITH cte AS (\n",
    "    SELECT\n",
    "        (CASE WHEN business_day BETWEEN \"2022-02-01\" AND \"2023-01-31\" THEN \"LFL\" ELSE \"Current\" END) AS year_info,\n",
    "        brand,\n",
    "        ROUND(SUM(amount),0) AS sales\n",
    "    FROM gold.pos_transactions AS t1\n",
    "    JOIN gold.material_master AS t2 ON t1.product_id = t2.material_id\n",
    "    WHERE business_day BETWEEN \"2022-02-01\" AND \"2024-01-31\"\n",
    "    AND amount > 0\n",
    "    AND quantity > 0\n",
    "    AND category_name = \"CONFECTIONERY\"\n",
    "    GROUP BY year_info, brand\n",
    ")\n",
    "\n",
    "SELECT\n",
    "    brand,\n",
    "    MAX(CASE WHEN year_info = \"LFL\" THEN sales ELSE 0 END) AS LFL_sales,\n",
    "    MAX(CASE WHEN year_info = \"Current\" THEN sales ELSE 0 END) AS Current_sales,\n",
    "    (Current_sales - LFL_sales)/LFL_sales AS growth\n",
    "FROM cte\n",
    "GROUP BY brand\n",
    "ORDER BY brand\n",
    "\"\"\"\n",
    "\n",
    "r = spark.sql(query).toPandas()\n",
    "r['growth'] = r['growth'].fillna(0)"
   ]
  },
  {
   "cell_type": "code",
   "execution_count": 0,
   "metadata": {
    "application/vnd.databricks.v1+cell": {
     "cellMetadata": {
      "byteLimit": 2048000,
      "rowLimit": 10000
     },
     "inputWidgets": {},
     "nuid": "31bc9a87-8ed7-4091-941b-f821b3f13ecd",
     "showTitle": false,
     "title": ""
    }
   },
   "outputs": [],
   "source": [
    "temp = pd.merge(temp, r[['brand', 'growth']], on='brand', how='inner')\n",
    "\n",
    "growth_positives = temp[temp['growth'] >= 0][['growth']].values\n",
    "medium = np.percentile(growth_positives, 33)\n",
    "high = np.percentile(growth_positives, 66)\n",
    "\n",
    "temp[\"Growth_Flag\"] = np.where(\n",
    "    (temp[\"growth\"] < 0), \"Negative\",\n",
    "    np.where(\n",
    "        (temp[\"growth\"] > high), \"High\",\n",
    "    np.where(\n",
    "        (temp[\"growth\"] > medium), \"Medium\", \"Low\"\n",
    "    )\n",
    "))"
   ]
  },
  {
   "cell_type": "code",
   "execution_count": 0,
   "metadata": {
    "application/vnd.databricks.v1+cell": {
     "cellMetadata": {
      "byteLimit": 2048000,
      "rowLimit": 10000
     },
     "inputWidgets": {},
     "nuid": "6ba8035b-7776-48e4-a466-dcafacc24179",
     "showTitle": false,
     "title": ""
    }
   },
   "outputs": [],
   "source": [
    "filtered_temp = temp[temp['brand'].str.contains('FERRERO')]\n",
    "fig = px.scatter(filtered_temp, x=\"sale\", y=\"vip_freq_pnt\", size=\"GP_ABS\", \n",
    "                 color=\"Growth_Flag\",\n",
    "                 hover_name=\"brand\", log_x=False, size_max=40, color_discrete_map={\"High\": \"#00CC96\", \"Medium\": \"#636EFA\", \"Low\": \"#AB63FA\", \"Negative\": \"#EF553B\"})\n",
    "\n",
    "fig.add_hline(y=temp.vip_freq_pnt.mean())\n",
    "fig.add_vline(x=temp.sale.quantile(0.95))\n",
    "\n",
    "fig.show()"
   ]
  },
  {
   "cell_type": "code",
   "execution_count": 0,
   "metadata": {
    "application/vnd.databricks.v1+cell": {
     "cellMetadata": {
      "byteLimit": 2048000,
      "rowLimit": 10000
     },
     "inputWidgets": {},
     "nuid": "cb81f6dd-fdb7-4cef-8274-95dba7ba9ebf",
     "showTitle": false,
     "title": ""
    }
   },
   "outputs": [],
   "source": [
    "temp[\"Manufacturer\"] = np.where(\n",
    "    (temp[\"brand\"].str.contains(\"MARS\")), \"MARS\",\n",
    "    np.where(\n",
    "        (temp[\"brand\"].str.contains(\"FERRERO\")), \"FERRERO\",\n",
    "    np.where(\n",
    "        (temp[\"brand\"].str.contains(\"NESTLE\")), \"NESTLE\", \"OTHERS\"\n",
    "    )\n",
    "))"
   ]
  },
  {
   "cell_type": "code",
   "execution_count": 0,
   "metadata": {
    "application/vnd.databricks.v1+cell": {
     "cellMetadata": {
      "byteLimit": 2048000,
      "rowLimit": 10000
     },
     "inputWidgets": {},
     "nuid": "90471693-774e-4938-b700-ce57df9c63d5",
     "showTitle": false,
     "title": ""
    }
   },
   "outputs": [],
   "source": [
    "fig = px.scatter(temp, x=\"sale\", y=\"vip_freq_pnt\", size=\"GP_ABS\", \n",
    "                 color=\"Manufacturer\",\n",
    "                 hover_name=\"brand\", log_x=False, size_max=40)\n",
    "\n",
    "fig.add_hline(y=temp.vip_freq_pnt.mean())\n",
    "fig.add_vline(x=temp.sale.quantile(0.95))\n",
    "\n",
    "fig.show()"
   ]
  },
  {
   "cell_type": "code",
   "execution_count": 0,
   "metadata": {
    "application/vnd.databricks.v1+cell": {
     "cellMetadata": {
      "byteLimit": 2048000,
      "rowLimit": 10000
     },
     "inputWidgets": {},
     "nuid": "ac1cab1f-be4b-4da4-8f35-4efa1301011b",
     "showTitle": false,
     "title": ""
    }
   },
   "outputs": [],
   "source": [
    "temp[\"Quadrant\"] = np.where(\n",
    "    (temp[\"sale\"] > temp[\"sale\"].quantile(0.95))\n",
    "    & (temp[\"vip_freq_pnt\"] > temp[\"vip_freq_pnt\"].mean()), 1,\n",
    "    np.where(\n",
    "        (temp[\"sale\"] < temp[\"sale\"].quantile(0.95))\n",
    "        & (temp[\"vip_freq_pnt\"] < temp[\"vip_freq_pnt\"].mean()), 3,\n",
    "    np.where(\n",
    "        (temp[\"sale\"] > temp[\"sale\"].quantile(0.95))\n",
    "        & (temp[\"vip_freq_pnt\"] < temp[\"vip_freq_pnt\"].mean()), 2,\n",
    "    np.where(\n",
    "        (temp[\"sale\"] < temp[\"sale\"].quantile(0.95))\n",
    "        & (temp[\"vip_freq_pnt\"] > temp[\"vip_freq_pnt\"].mean()), 4,0\n",
    "    )\n",
    ")))"
   ]
  },
  {
   "cell_type": "code",
   "execution_count": 0,
   "metadata": {
    "application/vnd.databricks.v1+cell": {
     "cellMetadata": {
      "byteLimit": 2048000,
      "rowLimit": 10000
     },
     "inputWidgets": {},
     "nuid": "da8dd73e-5c0d-4f52-8ecc-1a511695804f",
     "showTitle": false,
     "title": ""
    }
   },
   "outputs": [],
   "source": [
    "display(temp.groupby(['Quadrant', 'brand', 'Manufacturer', 'Growth_Flag']).agg({'sale':'sum', 'GP_ABS':'sum', 'growth':'sum', 'vip_freq_pnt':'sum'}).reset_index())"
   ]
  },
  {
   "cell_type": "markdown",
   "metadata": {
    "application/vnd.databricks.v1+cell": {
     "cellMetadata": {
      "byteLimit": 2048000,
      "rowLimit": 10000
     },
     "inputWidgets": {},
     "nuid": "c28b3e7e-10a5-48ce-8f56-82712faca84d",
     "showTitle": false,
     "title": ""
    }
   },
   "source": [
    "#### Price calculation"
   ]
  },
  {
   "cell_type": "code",
   "execution_count": 0,
   "metadata": {
    "application/vnd.databricks.v1+cell": {
     "cellMetadata": {
      "byteLimit": 2048000,
      "rowLimit": 10000
     },
     "inputWidgets": {},
     "nuid": "56d2c113-3a62-4c5a-ba2f-9956751b5b37",
     "showTitle": false,
     "title": ""
    }
   },
   "outputs": [],
   "source": [
    "df.head()"
   ]
  },
  {
   "cell_type": "code",
   "execution_count": 0,
   "metadata": {
    "application/vnd.databricks.v1+cell": {
     "cellMetadata": {
      "byteLimit": 2048000,
      "rowLimit": 10000
     },
     "inputWidgets": {},
     "nuid": "28ee2ed1-7189-4a62-94ce-0fb165a0c2ec",
     "showTitle": false,
     "title": ""
    }
   },
   "outputs": [],
   "source": [
    "price_df=df[df['week_number']>40].groupby('material_id').sum()[['sale','vol']].reset_index()\n",
    "price_df['price']=price_df.sale/price_df.vol"
   ]
  },
  {
   "cell_type": "code",
   "execution_count": 0,
   "metadata": {
    "application/vnd.databricks.v1+cell": {
     "cellMetadata": {
      "byteLimit": 2048000,
      "rowLimit": 10000
     },
     "inputWidgets": {},
     "nuid": "8256a596-23dd-45bc-ba4a-5e1b91f797d9",
     "showTitle": false,
     "title": ""
    }
   },
   "outputs": [],
   "source": [
    "px.histogram(price_df,y='price')"
   ]
  },
  {
   "cell_type": "code",
   "execution_count": 0,
   "metadata": {
    "application/vnd.databricks.v1+cell": {
     "cellMetadata": {
      "byteLimit": 2048000,
      "rowLimit": 10000
     },
     "inputWidgets": {},
     "nuid": "7b992e83-a70e-47aa-b011-6b2922df718e",
     "showTitle": false,
     "title": ""
    }
   },
   "outputs": [],
   "source": [
    "xd=pd.merge(price_df,attr, on='material_id',how='right')"
   ]
  },
  {
   "cell_type": "code",
   "execution_count": 0,
   "metadata": {
    "application/vnd.databricks.v1+cell": {
     "cellMetadata": {
      "byteLimit": 2048000,
      "rowLimit": 10000
     },
     "inputWidgets": {},
     "nuid": "e5975e31-1728-4207-ae13-4b79f8dc1410",
     "showTitle": false,
     "title": ""
    }
   },
   "outputs": [],
   "source": [
    "display(xd)"
   ]
  },
  {
   "cell_type": "code",
   "execution_count": 0,
   "metadata": {
    "application/vnd.databricks.v1+cell": {
     "cellMetadata": {
      "byteLimit": 2048000,
      "rowLimit": 10000
     },
     "inputWidgets": {},
     "nuid": "422db0b8-b7cf-43d4-85ae-2fc2de90af7c",
     "showTitle": false,
     "title": ""
    }
   },
   "outputs": [],
   "source": [
    "attr.head()"
   ]
  },
  {
   "cell_type": "code",
   "execution_count": 0,
   "metadata": {
    "application/vnd.databricks.v1+cell": {
     "cellMetadata": {
      "byteLimit": 2048000,
      "rowLimit": 10000
     },
     "inputWidgets": {},
     "nuid": "6eecd9ac-d6c1-41a0-a8dc-d04aed3693c1",
     "showTitle": false,
     "title": ""
    }
   },
   "outputs": [],
   "source": [
    "xd=sale.groupby('material_id').sum()['sale'].reset_index()\n",
    "xd=pd.merge(xd,attr, on='material_id',how='right')"
   ]
  },
  {
   "cell_type": "code",
   "execution_count": 0,
   "metadata": {
    "application/vnd.databricks.v1+cell": {
     "cellMetadata": {
      "byteLimit": 2048000,
      "rowLimit": 10000
     },
     "inputWidgets": {},
     "nuid": "c2bd9bac-622b-4534-903f-52a8164d9ea8",
     "showTitle": false,
     "title": ""
    }
   },
   "outputs": [],
   "source": [
    "display(xd)"
   ]
  },
  {
   "cell_type": "code",
   "execution_count": 0,
   "metadata": {
    "application/vnd.databricks.v1+cell": {
     "cellMetadata": {
      "byteLimit": 2048000,
      "rowLimit": 10000
     },
     "inputWidgets": {},
     "nuid": "bee9d8dd-2d51-4e2e-b212-4df56e187cf2",
     "showTitle": false,
     "title": ""
    }
   },
   "outputs": [],
   "source": [
    "# t=pd.DataFrame(xd.groupby('new_volume').sum()['sale']).reset_index()\n",
    "# t['new_volume']=t['new_volume'].astype('object')\n",
    "\n",
    "# t['new_volume'] = t['new_volume'].astype(str)+'ML'\n",
    "# t\n",
    "# # print(t.dtypes)\n",
    "# plot_bar(t,'new_volume','sale')"
   ]
  },
  {
   "cell_type": "markdown",
   "metadata": {
    "application/vnd.databricks.v1+cell": {
     "cellMetadata": {
      "byteLimit": 2048000,
      "rowLimit": 10000
     },
     "inputWidgets": {},
     "nuid": "3771babb-3765-46e0-9492-dad7ca2bf52f",
     "showTitle": false,
     "title": ""
    }
   },
   "source": [
    "\n",
    "#### quadrant values and GP"
   ]
  },
  {
   "cell_type": "code",
   "execution_count": 0,
   "metadata": {
    "application/vnd.databricks.v1+cell": {
     "cellMetadata": {
      "byteLimit": 2048000,
      "rowLimit": 10000
     },
     "inputWidgets": {},
     "nuid": "d6704f97-9958-4600-9701-2ca397aa27fa",
     "showTitle": false,
     "title": ""
    }
   },
   "outputs": [],
   "source": [
    "eda_agg_table_full.head(1)"
   ]
  },
  {
   "cell_type": "code",
   "execution_count": 0,
   "metadata": {
    "application/vnd.databricks.v1+cell": {
     "cellMetadata": {
      "byteLimit": 2048000,
      "rowLimit": 10000
     },
     "inputWidgets": {},
     "nuid": "d26f7466-86d8-4970-b8a7-65330122329c",
     "showTitle": false,
     "title": ""
    }
   },
   "outputs": [],
   "source": [
    "eda_agg_table_full[\"Quadrant\"] = np.where(\n",
    "    (eda_agg_table_full[\"sale\"] > eda_agg_table_full[\"sale\"].quantile(0.95))\n",
    "    & (eda_agg_table_full[\"tot_cust_perc\"] > eda_agg_table_full[\"tot_cust_perc\"].mean()), 1,\n",
    "    np.where(\n",
    "        (eda_agg_table_full[\"sale\"] < eda_agg_table_full[\"sale\"].quantile(0.95))\n",
    "        & (eda_agg_table_full[\"tot_cust_perc\"] < eda_agg_table_full[\"tot_cust_perc\"].mean()), 3,\n",
    "    np.where(\n",
    "        (eda_agg_table_full[\"sale\"] > eda_agg_table_full[\"sale\"].quantile(0.95))\n",
    "        & (eda_agg_table_full[\"tot_cust_perc\"] < eda_agg_table_full[\"tot_cust_perc\"].mean()), 2,\n",
    "    np.where(\n",
    "        (eda_agg_table_full[\"sale\"] < eda_agg_table_full[\"sale\"].quantile(0.95))\n",
    "        & (eda_agg_table_full[\"tot_cust_perc\"] > eda_agg_table_full[\"tot_cust_perc\"].mean()), 4,0\n",
    "    )\n",
    ")))\n",
    "\n",
    "eda_agg_table_full = pd.merge(eda_agg_table_full, attr[['material_id', 'brand']], on='material_id', how='inner')\n",
    "\n",
    "eda_agg_table_full['pl_flag'] = np.where(eda_agg_table_full['brand'] == \"LULU PRIVATE LABEL\", 1, 0)"
   ]
  },
  {
   "cell_type": "code",
   "execution_count": 0,
   "metadata": {
    "application/vnd.databricks.v1+cell": {
     "cellMetadata": {
      "byteLimit": 2048000,
      "rowLimit": 10000
     },
     "inputWidgets": {},
     "nuid": "c392cc6d-5aa1-4cfa-b140-ce7df65c1b4d",
     "showTitle": false,
     "title": ""
    }
   },
   "outputs": [],
   "source": [
    "display(eda_agg_table_full.groupby('Quadrant').agg({'sale':'sum','tot_cust_perc':'mean','gp_abs':'sum', 'material_id':'count', 'pl_flag':'sum'}).reset_index())"
   ]
  },
  {
   "cell_type": "code",
   "execution_count": 0,
   "metadata": {
    "application/vnd.databricks.v1+cell": {
     "cellMetadata": {
      "byteLimit": 2048000,
      "rowLimit": 10000
     },
     "inputWidgets": {},
     "nuid": "2e62ea1e-4f46-4399-9a4b-281b78338df3",
     "showTitle": false,
     "title": ""
    }
   },
   "outputs": [],
   "source": [
    "fdf.merge(eda_agg_table_full)"
   ]
  },
  {
   "cell_type": "code",
   "execution_count": 0,
   "metadata": {
    "application/vnd.databricks.v1+cell": {
     "cellMetadata": {
      "byteLimit": 2048000,
      "rowLimit": 10000
     },
     "inputWidgets": {},
     "nuid": "4b9d19f0-8e23-47cf-b3ed-6ce21ca47014",
     "showTitle": false,
     "title": ""
    }
   },
   "outputs": [],
   "source": [
    "display(eda_agg_table_full.groupby('new_buckets').sum()['sale'].reset_index())"
   ]
  },
  {
   "cell_type": "markdown",
   "metadata": {
    "application/vnd.databricks.v1+cell": {
     "cellMetadata": {
      "byteLimit": 2048000,
      "rowLimit": 10000
     },
     "inputWidgets": {},
     "nuid": "299e311d-3806-4748-9a6c-841ae3f3ee52",
     "showTitle": false,
     "title": ""
    }
   },
   "source": [
    "\n",
    "### Private label view"
   ]
  },
  {
   "cell_type": "code",
   "execution_count": 0,
   "metadata": {
    "application/vnd.databricks.v1+cell": {
     "cellMetadata": {
      "byteLimit": 2048000,
      "rowLimit": 10000
     },
     "inputWidgets": {},
     "nuid": "a54265b3-430e-4b64-b36c-0a160018dd15",
     "showTitle": false,
     "title": ""
    }
   },
   "outputs": [],
   "source": [
    "pbldf=eda_agg_table_full.dropna(subset=['sale','vip_freq_pnt'])\n",
    "pbldf = pd.merge(pbldf, attr[['material_id', 'material_name', 'brand']], on='material_id', how='inner')\n",
    "pbldf['pl_flag'] = np.where(pbldf['brand'] == \"LULU PRIVATE LABEL\", \"PL\", \"Other\")\n",
    "x_val='sale'\n",
    "y_val='vip_freq_pnt'\n",
    "color_val='pl_flag'\n",
    "hover_name_val='material_name'\n",
    "size_max_val=40\n",
    "size_val='gp_abs'\n",
    "\n",
    "fig = px.scatter(pbldf, x=x_val, y=y_val, size=np.abs(pbldf[size_val]), \n",
    "                 color=color_val,\n",
    "                 hover_name=hover_name_val, log_x=False, log_y=False, size_max=size_max_val,title=\"LULU PL SKUs AND OTHERS\")\n",
    "\n",
    "fig.add_hline(y=pbldf[y_val].quantile(0.95))\n",
    "fig.add_vline(x=pbldf[x_val].quantile(0.95))\n",
    "\n",
    "fig.show()"
   ]
  },
  {
   "cell_type": "code",
   "execution_count": 0,
   "metadata": {
    "application/vnd.databricks.v1+cell": {
     "cellMetadata": {
      "byteLimit": 2048000,
      "rowLimit": 10000
     },
     "inputWidgets": {},
     "nuid": "1bfac718-a368-4e2f-8a03-e15356490611",
     "showTitle": false,
     "title": ""
    }
   },
   "outputs": [],
   "source": [
    "pbldf=eda_agg_table_full.dropna(subset=['sale','vip_freq_pnt'])\n",
    "pbldf = pd.merge(pbldf, attr[['material_id', 'material_name', 'brand']], on='material_id', how='inner')\n",
    "pbldf=pbldf[pbldf['brand']=='LULU PRIVATE LABEL']\n",
    "x_val='sale'\n",
    "y_val='vip_freq_pnt'\n",
    "color_val='new_buckets'\n",
    "hover_name_val='material_name'\n",
    "size_max_val=40\n",
    "size_val='gp_abs'\n",
    "\n",
    "fig = px.scatter(pbldf, x=x_val, y=y_val, size=np.abs(pbldf[size_val]), \n",
    "                 color=color_val,\n",
    "                 hover_name=hover_name_val, log_x=False, log_y=False, size_max=size_max_val,title=\"LULU PL SKUS BY BUCKETS\")\n",
    "\n",
    "fig.add_hline(y=pbldf[y_val].quantile(0.95))\n",
    "fig.add_vline(x=pbldf[x_val].quantile(0.95))\n",
    "\n",
    "fig.show()"
   ]
  },
  {
   "cell_type": "markdown",
   "metadata": {
    "application/vnd.databricks.v1+cell": {
     "cellMetadata": {
      "byteLimit": 2048000,
      "rowLimit": 10000
     },
     "inputWidgets": {},
     "nuid": "4272dede-a88e-484c-b623-58cee3e54bcd",
     "showTitle": false,
     "title": ""
    }
   },
   "source": [
    "### moving avg"
   ]
  },
  {
   "cell_type": "code",
   "execution_count": 0,
   "metadata": {
    "application/vnd.databricks.v1+cell": {
     "cellMetadata": {
      "byteLimit": 2048000,
      "rowLimit": 10000
     },
     "inputWidgets": {},
     "nuid": "b458b8e9-79a1-444a-8f82-bc3c8839d42d",
     "showTitle": false,
     "title": ""
    }
   },
   "outputs": [],
   "source": [
    "\n",
    "df_ma = pd.DataFrame(columns=fdf.columns)\n",
    "\n",
    "for i in fdf.material_id.unique():\n",
    "    # print(tx_list)  # Instead of tx.columns\n",
    "    temp = fdf[fdf['material_id'] == i].sort_values(by='week_number')\n",
    "    temp['MA4W'] = temp['sale'].rolling(4).mean()\n",
    "    df_ma=pd.concat([temp,df_ma])\n",
    "    # print(i)"
   ]
  },
  {
   "cell_type": "code",
   "execution_count": 0,
   "metadata": {
    "application/vnd.databricks.v1+cell": {
     "cellMetadata": {
      "byteLimit": 2048000,
      "rowLimit": 10000
     },
     "inputWidgets": {},
     "nuid": "561b723a-f49e-4d97-8ece-7e2e3b7c7dba",
     "showTitle": false,
     "title": ""
    }
   },
   "outputs": [],
   "source": [
    "df_ma['sale']=df_ma['sale'].astype('float64')"
   ]
  },
  {
   "cell_type": "code",
   "execution_count": 0,
   "metadata": {
    "application/vnd.databricks.v1+cell": {
     "cellMetadata": {
      "byteLimit": 2048000,
      "rowLimit": 10000
     },
     "inputWidgets": {},
     "nuid": "ff200c3d-d125-4b72-accd-67abff4c82e4",
     "showTitle": false,
     "title": ""
    }
   },
   "outputs": [],
   "source": [
    "# fdf.new_buckets.value_counts()\n",
    "tx=df_ma[df_ma['new_buckets']=='OBSERVE']\n",
    "\n",
    "tx=tx.groupby('material_id').sum()['sale'].reset_index().sort_values(by='sale',ascending=False)\n",
    "tx_list=tx['material_id'].tolist()[0:20]\n",
    "print(tx_list)\n",
    "\n",
    "tbl=df_ma[df_ma['material_id'].isin(tx_list)]\n",
    "\n",
    "\n",
    "tbl = pd.merge(tbl,\n",
    "                attr[['material_id', 'material_name','Brand']],\n",
    "                left_on='material_id',\n",
    "                right_on='material_id',\n",
    "                how='inner')\n",
    "\n",
    "fig = px.line(tbl, x=\"week_number\", y=\"MA4W\", color='material_name',width=900, height=600)\n",
    "fig.show()\n",
    "\n",
    "\n",
    "# fig2= px.line(tbl, x=\"week_number\", y=\"cwd\", color='material_name',width=900, height=600)\n",
    "# fig2.show()\n",
    "\n"
   ]
  },
  {
   "cell_type": "markdown",
   "metadata": {
    "application/vnd.databricks.v1+cell": {
     "cellMetadata": {
      "byteLimit": 2048000,
      "rowLimit": 10000
     },
     "inputWidgets": {},
     "nuid": "885e7d1f-cf25-4464-b12f-829e3704a1ad",
     "showTitle": false,
     "title": ""
    }
   },
   "source": [
    "### Delist by Attributes"
   ]
  },
  {
   "cell_type": "code",
   "execution_count": 0,
   "metadata": {
    "application/vnd.databricks.v1+cell": {
     "cellMetadata": {
      "byteLimit": 2048000,
      "rowLimit": 10000
     },
     "inputWidgets": {},
     "nuid": "716a8152-69bf-432e-93ea-5deee136d11b",
     "showTitle": false,
     "title": ""
    }
   },
   "outputs": [],
   "source": [
    "# eda_agg_table_full.Type.value_counts()"
   ]
  },
  {
   "cell_type": "code",
   "execution_count": 0,
   "metadata": {
    "application/vnd.databricks.v1+cell": {
     "cellMetadata": {
      "byteLimit": 2048000,
      "rowLimit": 10000
     },
     "inputWidgets": {},
     "nuid": "1698aaaf-03c6-401d-8a82-8e818ab88ae0",
     "showTitle": false,
     "title": ""
    }
   },
   "outputs": [],
   "source": [
    "pbldf=eda_agg_table_full.dropna(subset=['sale','vip_freq_pnt'])\n",
    "pbldf=pbldf[pbldf['new_buckets']=='DELIST']\n",
    "x_val='sale'\n",
    "y_val='vip_freq_pnt'\n",
    "color_val='Type'\n",
    "hover_name_val='material_name'\n",
    "size_max_val=40\n",
    "size_val='gp_abs'\n",
    "\n",
    "fig = px.scatter(pbldf, x=x_val, y=y_val, size=np.abs(pbldf[size_val]), \n",
    "                 color=color_val,\n",
    "                 hover_name=hover_name_val, log_x=False, log_y=False, size_max=size_max_val,title=\"DELIST BY ATTRIBUTES-  SKUs\")\n",
    "\n",
    "\n",
    "\n",
    "fig.add_hline(y=pbldf[y_val].quantile(0.95))\n",
    "fig.add_vline(x=pbldf[x_val].quantile(0.95))\n",
    "\n",
    "\n",
    "fig.show()\n"
   ]
  },
  {
   "cell_type": "code",
   "execution_count": 0,
   "metadata": {
    "application/vnd.databricks.v1+cell": {
     "cellMetadata": {
      "byteLimit": 2048000,
      "rowLimit": 10000
     },
     "inputWidgets": {},
     "nuid": "bf8db781-71e3-46a5-a2f9-551a2758aa46",
     "showTitle": false,
     "title": ""
    }
   },
   "outputs": [],
   "source": [
    "\n",
    "############# L3M Previous dataframe ##############\n",
    "\n",
    "agg_table_l3m_before = pd.DataFrame(\n",
    "    fdf[(fdf['week_number']>28)&(fdf['week_number']<41)].groupby(\"material_id\").agg(\n",
    "        {\n",
    "            \"sale\": \"sum\",\n",
    "            \"vol\": \"sum\",\n",
    "            \"material_weekly_store_count\": \"mean\",\n",
    "            \"cwd\": \"mean\",'new_buckets':'max'\n",
    "        }\n",
    "    )\n",
    ").reset_index()\n",
    "\n",
    "agg_table_l3m_before.rename(columns={'material_weekly_store_count':'AVG_STORE_SELLING'},inplace=True)\n",
    "agg_table_l3m_before.rename(columns={'cwd':'AVG_CWD'},inplace=True)\n",
    "agg_table_l3m_before.columns = [x.lower() for x in agg_table_l3m_before.columns]"
   ]
  },
  {
   "cell_type": "code",
   "execution_count": 0,
   "metadata": {
    "application/vnd.databricks.v1+cell": {
     "cellMetadata": {
      "byteLimit": 2048000,
      "rowLimit": 10000
     },
     "inputWidgets": {},
     "nuid": "df3f82c2-f8d8-4c74-adb9-03971039cf30",
     "showTitle": false,
     "title": ""
    }
   },
   "outputs": [],
   "source": [
    "display(eda_agg_table_full)"
   ]
  },
  {
   "cell_type": "markdown",
   "metadata": {
    "application/vnd.databricks.v1+cell": {
     "cellMetadata": {
      "byteLimit": 2048000,
      "rowLimit": 10000
     },
     "inputWidgets": {},
     "nuid": "322e93ee-c4c7-4d36-9a8b-df6ff59b7108",
     "showTitle": false,
     "title": ""
    }
   },
   "source": [
    "## SLIDES CHARTS"
   ]
  },
  {
   "cell_type": "markdown",
   "metadata": {
    "application/vnd.databricks.v1+cell": {
     "cellMetadata": {
      "byteLimit": 2048000,
      "rowLimit": 10000
     },
     "inputWidgets": {},
     "nuid": "29e127f6-cdc6-47b5-b4ae-11cacc3dfa36",
     "showTitle": false,
     "title": ""
    }
   },
   "source": [
    "### SLIDE - 6"
   ]
  },
  {
   "cell_type": "code",
   "execution_count": 0,
   "metadata": {
    "application/vnd.databricks.v1+cell": {
     "cellMetadata": {
      "byteLimit": 2048000,
      "rowLimit": 10000
     },
     "inputWidgets": {},
     "nuid": "ba417b6e-4328-460f-b5c8-63fd5b4bd87a",
     "showTitle": false,
     "title": ""
    }
   },
   "outputs": [],
   "source": [
    "\n",
    "tt = eda_agg_table_full.groupby('material_id').sum()['sale'].reset_index().sort_values(by='sale', ascending=False)\n",
    "tt['cum_sum'] = np.round(100 * (tt.sale.cumsum() / tt['sale'].sum()), 2)\n",
    "tt"
   ]
  },
  {
   "cell_type": "code",
   "execution_count": 0,
   "metadata": {
    "application/vnd.databricks.v1+cell": {
     "cellMetadata": {
      "byteLimit": 2048000,
      "rowLimit": 10000
     },
     "inputWidgets": {},
     "nuid": "7748585d-d404-4d52-911b-eb78c9f8e747",
     "showTitle": false,
     "title": ""
    }
   },
   "outputs": [],
   "source": [
    "import plotly.graph_objects as go\n",
    "from plotly.subplots import make_subplots\n",
    "\n",
    "import numpy as np\n",
    "\n",
    "# Assuming eda_agg_table_full is your DataFrame\n",
    "\n",
    "tt = eda_agg_table_full.groupby('material_id').sum()['gp_abs'].reset_index().sort_values(by='gp_abs', ascending=False)\n",
    "tt['cum_sum'] = np.round(100 * (tt.gp_abs.cumsum() / tt['gp_abs'].sum()), 2)\n",
    "tt['material_id']=tt['material_id'].astype('str')\n",
    "fig = go.Figure()\n",
    "fig = make_subplots(specs=[[{\"secondary_y\": True}]])\n",
    "\n",
    "fig.add_trace(go.Bar(y=tt['gp_abs'], x=tt['material_id'], name=\"Brand GP\"), secondary_y=False)\n",
    "\n",
    "fig.add_trace(go.Scatter(x=tt['material_id'], y=tt['cum_sum'],\n",
    "                         mode='lines', name=\"GP Cumulative Contri\"), secondary_y=True)\n",
    "\n",
    "# Add figure title\n",
    "fig.update_layout(\n",
    "    title_text=\"gp_abs dist\"\n",
    ")\n",
    "\n",
    "# Set x-axis title\n",
    "fig.update_xaxes(title_text=\"xaxis title\")\n",
    "\n",
    "# Set y-axes titles\n",
    "fig.update_yaxes(title_text=\"material_id gp_abs\", secondary_y=False)\n",
    "fig.update_yaxes(title_text=\"% Cumulative Contribution\", secondary_y=True)\n",
    "fig.update_layout(showlegend=False)\n",
    "fig.update_layout(autosize=False, width=900, height=400)\n",
    "# fig.add_hline(secondary_y=80)\n",
    "fig.show()"
   ]
  },
  {
   "cell_type": "code",
   "execution_count": 0,
   "metadata": {
    "application/vnd.databricks.v1+cell": {
     "cellMetadata": {
      "byteLimit": 2048000,
      "rowLimit": 10000
     },
     "inputWidgets": {},
     "nuid": "a4f4678b-4cca-4e55-a85b-21fb2565ae97",
     "showTitle": false,
     "title": ""
    }
   },
   "outputs": [],
   "source": [
    "gp.display()"
   ]
  },
  {
   "cell_type": "markdown",
   "metadata": {
    "application/vnd.databricks.v1+cell": {
     "cellMetadata": {},
     "inputWidgets": {},
     "nuid": "13f83f6c-7460-4b7c-b45a-d6a26beabf15",
     "showTitle": false,
     "title": ""
    }
   },
   "source": [
    "###Data Tables"
   ]
  },
  {
   "cell_type": "code",
   "execution_count": 0,
   "metadata": {
    "application/vnd.databricks.v1+cell": {
     "cellMetadata": {
      "byteLimit": 2048000,
      "implicitDf": true,
      "rowLimit": 10000
     },
     "inputWidgets": {},
     "nuid": "dedfc04d-efbb-4a3e-a538-35da1211e4ac",
     "showTitle": false,
     "title": ""
    }
   },
   "outputs": [],
   "source": [
    "%sql\n",
    "-- Manufacturer-Material Group Level - Monthly RPC\n",
    "WITH cte AS (\n",
    "  SELECT\n",
    "      CASE WHEN brand LIKE \"%MARS%\" THEN \"MARS\"\n",
    "      WHEN brand LIKE \"%FERRERO%\" THEN \"FERRERO\"\n",
    "      WHEN brand LIKE \"%NESTLE%\" THEN \"NESTLE\"\n",
    "      ELSE \"OTHERS\" END AS manufacturer,\n",
    "      segment,\n",
    "      material_group_name,\n",
    "      ROUND(SUM(amount),0)/12 AS spend_per_month,\n",
    "      COUNT(DISTINCT mobile) AS customers,\n",
    "      ROUND(spend_per_month/customers,2) AS RPC_monthly\n",
    "  FROM gold.pos_transactions AS t1\n",
    "  JOIN gold.material_master AS t2 ON t1.product_id = t2.material_id\n",
    "  JOIN analytics.customer_segments AS t3 ON t1.customer_id = t3.customer_id\n",
    "  WHERE business_day BETWEEN \"2023-02-01\" AND \"2024-01-30\"\n",
    "  AND category_name = \"CONFECTIONERY\"\n",
    "  AND amount > 0\n",
    "  AND quantity > 0\n",
    "  AND key = 'rfm'\n",
    "  AND channel = 'pos'\n",
    "  AND t3.country = 'uae'\n",
    "  AND month_year = '202401'\n",
    "  GROUP BY manufacturer, segment, material_group_name\n",
    ")\n",
    "\n",
    "SELECT\n",
    "    manufacturer,\n",
    "    material_group_name,\n",
    "    MAX(CASE WHEN segment = \"Frequentist\" THEN RPC_monthly END) AS Frequentist,\n",
    "    MAX(CASE WHEN segment = \"VIP\" THEN RPC_monthly END) AS VIP,\n",
    "    MAX(CASE WHEN segment = \"Moderate\" THEN RPC_monthly END) AS Moderate,\n",
    "    MAX(CASE WHEN segment = \"Splurger\" THEN RPC_monthly END) AS Splurger,\n",
    "    MAX(CASE WHEN segment = \"Lapser\" THEN RPC_monthly END) AS Lapser,\n",
    "    MAX(CASE WHEN segment = \"Slipping Loyalist\" THEN RPC_monthly END) AS Slipping_Loyalist\n",
    "FROM cte\n",
    "GROUP BY manufacturer, material_group_name"
   ]
  },
  {
   "cell_type": "code",
   "execution_count": 0,
   "metadata": {
    "application/vnd.databricks.v1+cell": {
     "cellMetadata": {
      "byteLimit": 2048000,
      "implicitDf": true,
      "rowLimit": 10000
     },
     "inputWidgets": {},
     "nuid": "671430c3-3666-4521-a493-6fe03ce3be1c",
     "showTitle": false,
     "title": ""
    }
   },
   "outputs": [],
   "source": [
    "%sql\n",
    "-- Manufacturer-Overall Level - Monthly RPC\n",
    "WITH cte AS (\n",
    "  SELECT\n",
    "      CASE WHEN brand LIKE \"%MARS%\" THEN \"MARS\"\n",
    "      WHEN brand LIKE \"%FERRERO%\" THEN \"FERRERO\"\n",
    "      WHEN brand LIKE \"%NESTLE%\" THEN \"NESTLE\"\n",
    "      ELSE \"OTHERS\" END AS manufacturer,\n",
    "      segment,\n",
    "      ROUND(SUM(amount),0)/12 AS spend_per_month,\n",
    "      COUNT(DISTINCT mobile) AS customers,\n",
    "      ROUND(spend_per_month/customers,2) AS RPC_monthly\n",
    "  FROM gold.pos_transactions AS t1\n",
    "  JOIN gold.material_master AS t2 ON t1.product_id = t2.material_id\n",
    "  JOIN analytics.customer_segments AS t3 ON t1.customer_id = t3.customer_id\n",
    "  WHERE business_day BETWEEN \"2023-02-01\" AND \"2024-01-30\"\n",
    "  AND category_name = \"CONFECTIONERY\"\n",
    "  AND amount > 0\n",
    "  AND quantity > 0\n",
    "  AND key = 'rfm'\n",
    "  AND channel = 'pos'\n",
    "  AND t3.country = 'uae'\n",
    "  AND month_year = '202401'\n",
    "  GROUP BY manufacturer, segment\n",
    ")\n",
    "\n",
    "SELECT\n",
    "    manufacturer,\n",
    "    \"OVERALL\" AS material_group_name,\n",
    "    MAX(CASE WHEN segment = \"Frequentist\" THEN RPC_monthly END) AS Frequentist,\n",
    "    MAX(CASE WHEN segment = \"VIP\" THEN RPC_monthly END) AS VIP,\n",
    "    MAX(CASE WHEN segment = \"Moderate\" THEN RPC_monthly END) AS Moderate,\n",
    "    MAX(CASE WHEN segment = \"Splurger\" THEN RPC_monthly END) AS Splurger,\n",
    "    MAX(CASE WHEN segment = \"Lapser\" THEN RPC_monthly END) AS Lapser,\n",
    "    MAX(CASE WHEN segment = \"Slipping Loyalist\" THEN RPC_monthly END) AS Slipping_Loyalist\n",
    "FROM cte\n",
    "GROUP BY manufacturer"
   ]
  },
  {
   "cell_type": "code",
   "execution_count": 0,
   "metadata": {
    "application/vnd.databricks.v1+cell": {
     "cellMetadata": {
      "byteLimit": 2048000,
      "implicitDf": true,
      "rowLimit": 10000
     },
     "inputWidgets": {},
     "nuid": "1b71e763-ec67-4e47-ad6a-093a29af9da2",
     "showTitle": false,
     "title": ""
    }
   },
   "outputs": [],
   "source": [
    "%sql\n",
    "-- All Brands-Material Group Level - Sales Contribution\n",
    "WITH cte AS (\n",
    "  SELECT\n",
    "      segment,\n",
    "      material_group_name,\n",
    "      ROUND(SUM(amount),0) AS sales\n",
    "  FROM gold.pos_transactions AS t1\n",
    "  JOIN gold.material_master AS t2 ON t1.product_id = t2.material_id\n",
    "  JOIN analytics.customer_segments AS t3 ON t1.customer_id = t3.customer_id\n",
    "  WHERE business_day BETWEEN \"2023-02-01\" AND \"2024-01-30\"\n",
    "  AND category_name = \"CONFECTIONERY\"\n",
    "  AND amount > 0\n",
    "  AND quantity > 0\n",
    "  AND key = 'rfm'\n",
    "  AND channel = 'pos'\n",
    "  AND t3.country = 'uae'\n",
    "  AND month_year = '202401'\n",
    "  GROUP BY segment, material_group_name\n",
    ")\n",
    "\n",
    "SELECT\n",
    "    material_group_name,\n",
    "    MAX(CASE WHEN segment = \"Frequentist\" THEN sales END) AS Frequentist,\n",
    "    MAX(CASE WHEN segment = \"VIP\" THEN sales END) AS VIP,\n",
    "    MAX(CASE WHEN segment = \"Moderate\" THEN sales END) AS Moderate,\n",
    "    MAX(CASE WHEN segment = \"Splurger\" THEN sales END) AS Splurger,\n",
    "    MAX(CASE WHEN segment = \"Lapser\" THEN sales END) AS Lapser,\n",
    "    MAX(CASE WHEN segment = \"Slipping Loyalist\" THEN sales END) AS Slipping_Loyalist\n",
    "FROM cte\n",
    "GROUP BY material_group_name"
   ]
  },
  {
   "cell_type": "code",
   "execution_count": 0,
   "metadata": {
    "application/vnd.databricks.v1+cell": {
     "cellMetadata": {
      "byteLimit": 2048000,
      "implicitDf": true,
      "rowLimit": 10000
     },
     "inputWidgets": {},
     "nuid": "fdbe5224-8d95-408f-81eb-54d2712fab3e",
     "showTitle": false,
     "title": ""
    }
   },
   "outputs": [],
   "source": [
    "%sql\n",
    "-- Segment Level Overview Metrics\n",
    "SELECT\n",
    "    segment,\n",
    "    COUNT(DISTINCT mobile) AS total_customers,\n",
    "    COUNT(DISTINCT CASE WHEN category_name = \"CONFECTIONERY\" THEN mobile END) AS total_confectionery_customers,\n",
    "    COUNT(DISTINCT CASE WHEN category_name = \"CONFECTIONERY\" AND brand LIKE \"%FERRERO%\" THEN mobile END) AS total_confectionery_ferrero_customers,\n",
    "    ROUND(SUM(amount),0) AS sales,\n",
    "    ROUND(SUM(DISTINCT CASE WHEN category_name = \"CONFECTIONERY\" THEN amount END),0) AS total_confectionery_sales,\n",
    "    ROUND(SUM(DISTINCT CASE WHEN category_name = \"CONFECTIONERY\" AND brand LIKE \"%FERRERO%\" THEN amount END),0) AS total_confectionery_ferrero_sales\n",
    "FROM gold.pos_transactions AS t1\n",
    "JOIN gold.material_master AS t2 ON t1.product_id = t2.material_id\n",
    "JOIN analytics.customer_segments AS t3 ON t1.customer_id = t3.customer_id\n",
    "WHERE business_day BETWEEN \"2023-02-01\" AND \"2024-01-30\"\n",
    "AND amount > 0\n",
    "AND quantity > 0\n",
    "AND key = 'rfm'\n",
    "AND channel = 'pos'\n",
    "AND t3.country = 'uae'\n",
    "AND month_year = '202401'\n",
    "GROUP BY segment"
   ]
  },
  {
   "cell_type": "code",
   "execution_count": 0,
   "metadata": {
    "application/vnd.databricks.v1+cell": {
     "cellMetadata": {
      "byteLimit": 2048000,
      "implicitDf": true,
      "rowLimit": 10000
     },
     "inputWidgets": {},
     "nuid": "dd1aeedf-b02f-49eb-8abc-133c646d009a",
     "showTitle": false,
     "title": ""
    }
   },
   "outputs": [],
   "source": [
    "%sql\n",
    "-- Manufacturer-Material Group Level - Total Sales\n",
    "WITH cte AS (\n",
    "  SELECT\n",
    "      CASE WHEN brand LIKE \"%MARS%\" THEN \"MARS\"\n",
    "      WHEN brand LIKE \"%FERRERO%\" THEN \"FERRERO\"\n",
    "      WHEN brand LIKE \"%NESTLE%\" THEN \"NESTLE\"\n",
    "      ELSE \"OTHERS\" END AS manufacturer,\n",
    "      segment,\n",
    "      material_group_name,\n",
    "      ROUND(SUM(amount),0) AS sales\n",
    "  FROM gold.pos_transactions AS t1\n",
    "  JOIN gold.material_master AS t2 ON t1.product_id = t2.material_id\n",
    "  JOIN analytics.customer_segments AS t3 ON t1.customer_id = t3.customer_id\n",
    "  WHERE business_day BETWEEN \"2023-02-01\" AND \"2024-01-30\"\n",
    "  AND category_name = \"CONFECTIONERY\"\n",
    "  AND amount > 0\n",
    "  AND quantity > 0\n",
    "  AND key = 'rfm'\n",
    "  AND channel = 'pos'\n",
    "  AND t3.country = 'uae'\n",
    "  AND month_year = '202401'\n",
    "  GROUP BY manufacturer, segment, material_group_name\n",
    ")\n",
    "\n",
    "SELECT\n",
    "    manufacturer,\n",
    "    material_group_name,\n",
    "    MAX(CASE WHEN segment = \"VIP\" THEN sales END) AS VIP,\n",
    "    MAX(CASE WHEN segment = \"Frequentist\" THEN sales END) AS Frequentist,\n",
    "    MAX(CASE WHEN segment = \"Splurger\" THEN sales END) AS Splurger,\n",
    "    MAX(CASE WHEN segment = \"Slipping Loyalist\" THEN sales END) AS Slipping_Loyalist,\n",
    "    MAX(CASE WHEN segment = \"Moderate\" THEN sales END) AS Moderate,\n",
    "    MAX(CASE WHEN segment = \"Lapser\" THEN sales END) AS Lapser\n",
    "FROM cte\n",
    "GROUP BY manufacturer, material_group_name"
   ]
  },
  {
   "cell_type": "code",
   "execution_count": 0,
   "metadata": {
    "application/vnd.databricks.v1+cell": {
     "cellMetadata": {},
     "inputWidgets": {},
     "nuid": "f269dadd-3773-4ca4-b33e-618dd3b32909",
     "showTitle": false,
     "title": ""
    }
   },
   "outputs": [],
   "source": []
  },
  {
   "cell_type": "code",
   "execution_count": 0,
   "metadata": {
    "application/vnd.databricks.v1+cell": {
     "cellMetadata": {},
     "inputWidgets": {},
     "nuid": "87bf7441-4f72-46b3-9488-8398d25039b2",
     "showTitle": false,
     "title": ""
    }
   },
   "outputs": [],
   "source": []
  },
  {
   "cell_type": "code",
   "execution_count": 0,
   "metadata": {
    "application/vnd.databricks.v1+cell": {
     "cellMetadata": {},
     "inputWidgets": {},
     "nuid": "2e36a2a3-5799-4e34-b4c3-d511e8fe367f",
     "showTitle": false,
     "title": ""
    }
   },
   "outputs": [],
   "source": []
  },
  {
   "cell_type": "code",
   "execution_count": 0,
   "metadata": {
    "application/vnd.databricks.v1+cell": {
     "cellMetadata": {},
     "inputWidgets": {},
     "nuid": "40019692-91c7-421d-9b4c-8e6502587983",
     "showTitle": false,
     "title": ""
    }
   },
   "outputs": [],
   "source": []
  },
  {
   "cell_type": "code",
   "execution_count": 0,
   "metadata": {
    "application/vnd.databricks.v1+cell": {
     "cellMetadata": {},
     "inputWidgets": {},
     "nuid": "f467b35b-0689-425f-b2fa-4ed4e43a951a",
     "showTitle": false,
     "title": ""
    }
   },
   "outputs": [],
   "source": []
  },
  {
   "cell_type": "code",
   "execution_count": 0,
   "metadata": {
    "application/vnd.databricks.v1+cell": {
     "cellMetadata": {
      "byteLimit": 2048000,
      "implicitDf": true,
      "rowLimit": 10000
     },
     "inputWidgets": {},
     "nuid": "6f92215a-9944-465c-b98e-9c76d7857d50",
     "showTitle": false,
     "title": ""
    }
   },
   "outputs": [],
   "source": [
    "%sql\n",
    "SELECT brand, ROUND(SUM(amount),0) AS sales\n",
    "FROM gold.pos_transactions AS t1\n",
    "JOIN gold.material_master AS t2 ON t1.product_id = t2.material_id\n",
    "WHERE business_day BETWEEN \"2023-02-01\" AND \"2024-01-30\"\n",
    "-- AND category_name = \"CONFECTIONERY\"\n",
    "AND amount > 0\n",
    "AND quantity > 0\n",
    "AND brand LIKE \"%FERRERO%\"\n",
    "GROUP BY brand"
   ]
  }
 ],
 "metadata": {
  "application/vnd.databricks.v1+notebook": {
   "dashboards": [],
   "language": "python",
   "notebookMetadata": {
    "mostRecentlyExecutedCommandWithImplicitDF": {
     "commandId": 777212966797381,
     "dataframes": [
      "_sqldf"
     ]
    },
    "pythonIndentUnit": 4
   },
   "notebookName": "Confectionery EDA",
   "widgets": {}
  },
  "kernelspec": {
   "display_name": "Python 3 (ipykernel)",
   "language": "python",
   "name": "python3"
  },
  "language_info": {
   "codemirror_mode": {
    "name": "ipython",
    "version": 3
   },
   "file_extension": ".py",
   "mimetype": "text/x-python",
   "name": "python",
   "nbconvert_exporter": "python",
   "pygments_lexer": "ipython3",
   "version": "3.10.9"
  },
  "toc": {
   "base_numbering": 1,
   "nav_menu": {},
   "number_sections": true,
   "sideBar": true,
   "skip_h1_title": false,
   "title_cell": "Table of Contents",
   "title_sidebar": "Contents",
   "toc_cell": false,
   "toc_position": {},
   "toc_section_display": true,
   "toc_window_display": false
  }
 },
 "nbformat": 4,
 "nbformat_minor": 0
}
